{
 "cells": [
  {
   "cell_type": "code",
   "execution_count": 1,
   "id": "surface-citation",
   "metadata": {},
   "outputs": [],
   "source": [
    "#include <iostream>\n",
    "\n",
    "/*a workaround to solve cling issue*/\n",
    "#include \"../inc/macos_cling_workaround.hpp\"\n",
    "/*set libtorch path, load libs*/\n",
    "#include \"../inc/load_libtorch.hpp\"\n",
    "/*import custom defined macros*/\n",
    "#include \"../inc/custom_def.hpp\"\n",
    "/*import matplotlibcpp*/\n",
    "#include \"../inc/load_matplotlibcpp.hpp\"\n",
    "/*import opencv*/\n",
    "#include \"../inc/load_opencv.hpp\"\n",
    "\n",
    "/*import libtorch header file*/\n",
    "#include <torch/torch.h>\n",
    "#include <opencv2/opencv.hpp>\n",
    "#include <cmath>\n",
    "\n",
    "// Use (void) to silent unused warnings.\n",
    "#define assertm(exp, msg) assert(((void)msg, exp))"
   ]
  },
  {
   "cell_type": "code",
   "execution_count": 2,
   "id": "apart-culture",
   "metadata": {},
   "outputs": [],
   "source": [
    "#define VAR_NAME(Variable) (#Variable)\n",
    "\n",
    "void print_tensor_size(std::string name, torch::Tensor t)\n",
    "{\n",
    "    int dims = t.dim();\n",
    "    std::cout << name << \" dims is (\";\n",
    "    for (int i = 0; i < dims; i++) {\n",
    "        std::cout << t.size(i);\n",
    "        if (i < (dims - 1)) std::cout << \" x \";\n",
    "    }\n",
    "    std::cout << \")\" << std::endl;\n",
    "}"
   ]
  },
  {
   "cell_type": "markdown",
   "id": "cardiovascular-rotation",
   "metadata": {},
   "source": [
    "# 自定义层\n",
    "\n",
    "构造一个没有任何参数的自定义层"
   ]
  },
  {
   "cell_type": "code",
   "execution_count": 3,
   "id": "decent-remark",
   "metadata": {},
   "outputs": [],
   "source": [
    "/*design a net*/\n",
    "struct CenteredLayer : torch::nn::Module {\n",
    "  CenteredLayer() {\n",
    "  }\n",
    "\n",
    "  // Implement the Net's algorithm.\n",
    "  torch::Tensor forward(torch::Tensor x) {    \n",
    "    return x - x.mean();\n",
    "  }\n",
    "};"
   ]
  },
  {
   "cell_type": "code",
   "execution_count": 4,
   "id": "national-police",
   "metadata": {},
   "outputs": [],
   "source": [
    "// instantiated the layer (as a NN network).\n",
    "auto layer = std::make_shared<CenteredLayer>();\n",
    "\n",
    "auto t = torch::tensor(at::ArrayRef<float>({1, 2, 3, 4, 5}));"
   ]
  },
  {
   "cell_type": "code",
   "execution_count": 5,
   "id": "respected-curve",
   "metadata": {},
   "outputs": [
    {
     "name": "stdout",
     "output_type": "stream",
     "text": [
      "layer->forward(t) = \n",
      "-2\n",
      "-1\n",
      " 0\n",
      " 1\n",
      " 2\n",
      "[ CPUFloatType{5} ]\n",
      "<<--->>\n",
      "\n"
     ]
    }
   ],
   "source": [
    "printT(layer->forward(t));"
   ]
  },
  {
   "cell_type": "code",
   "execution_count": null,
   "id": "loved-perth",
   "metadata": {},
   "outputs": [],
   "source": []
  }
 ],
 "metadata": {
  "kernelspec": {
   "display_name": "C++17",
   "language": "C++17",
   "name": "xcpp17"
  },
  "language_info": {
   "codemirror_mode": "text/x-c++src",
   "file_extension": ".cpp",
   "mimetype": "text/x-c++src",
   "name": "c++",
   "version": "17"
  }
 },
 "nbformat": 4,
 "nbformat_minor": 5
}
