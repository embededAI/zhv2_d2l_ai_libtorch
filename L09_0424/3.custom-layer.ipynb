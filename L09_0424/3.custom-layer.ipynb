{
 "cells": [
  {
   "cell_type": "code",
   "execution_count": 1,
   "id": "surface-citation",
   "metadata": {},
   "outputs": [
    {
     "data": {
      "text/plain": [
       "@0x7f79e83b1b60"
      ]
     },
     "execution_count": 1,
     "metadata": {},
     "output_type": "execute_result"
    }
   ],
   "source": [
    "#include <iostream>\n",
    "\n",
    "/*a workaround to solve cling issue*/\n",
    "#include \"../inc/macos_cling_workaround.hpp\"\n",
    "/*set libtorch path, load libs*/\n",
    "#include \"../inc/load_libtorch.hpp\"\n",
    "/*import custom defined macros*/\n",
    "#include \"../inc/custom_def.hpp\"\n",
    "/*import matplotlibcpp*/\n",
    "#include \"../inc/load_matplotlibcpp.hpp\"\n",
    "/*import opencv*/\n",
    "#include \"../inc/load_opencv.hpp\"\n",
    "\n",
    "/*import libtorch header file*/\n",
    "#include <torch/torch.h>\n",
    "#include <opencv2/opencv.hpp>\n",
    "#include <cmath>\n",
    "\n",
    "std::cout << std::boolalpha;\n",
    "// Use (void) to silent unused warnings.\n",
    "#define assertm(exp, msg) assert(((void)msg, exp))"
   ]
  },
  {
   "cell_type": "code",
   "execution_count": 2,
   "id": "apart-culture",
   "metadata": {},
   "outputs": [],
   "source": [
    "#define VAR_NAME(Variable) (#Variable)\n",
    "\n",
    "void print_tensor_size(std::string name, torch::Tensor t)\n",
    "{\n",
    "    int dims = t.dim();\n",
    "    std::cout << name << \" dims is (\";\n",
    "    for (int i = 0; i < dims; i++) {\n",
    "        std::cout << t.size(i);\n",
    "        if (i < (dims - 1)) std::cout << \" x \";\n",
    "    }\n",
    "    std::cout << \")\" << std::endl;\n",
    "}"
   ]
  },
  {
   "cell_type": "markdown",
   "id": "cardiovascular-rotation",
   "metadata": {},
   "source": [
    "# 自定义层\n",
    "\n",
    "构造一个没有任何参数的自定义层"
   ]
  },
  {
   "cell_type": "code",
   "execution_count": 3,
   "id": "decent-remark",
   "metadata": {},
   "outputs": [],
   "source": [
    "/*design a net*/\n",
    "struct CenteredLayer : torch::nn::Module {\n",
    "  CenteredLayer() {\n",
    "  }\n",
    "\n",
    "  // Implement the Net's algorithm.\n",
    "  torch::Tensor forward(torch::Tensor x) {    \n",
    "    return x - x.mean();\n",
    "  }\n",
    "};"
   ]
  },
  {
   "cell_type": "code",
   "execution_count": 4,
   "id": "national-police",
   "metadata": {},
   "outputs": [],
   "source": [
    "// instantiated the layer (as a NN network).\n",
    "auto layer = std::make_shared<CenteredLayer>();\n",
    "\n",
    "auto t = torch::tensor(at::ArrayRef<float>({1, 2, 3, 4, 5}));"
   ]
  },
  {
   "cell_type": "code",
   "execution_count": 5,
   "id": "respected-curve",
   "metadata": {},
   "outputs": [
    {
     "name": "stdout",
     "output_type": "stream",
     "text": [
      "layer->forward(t) = \n",
      "-2\n",
      "-1\n",
      " 0\n",
      " 1\n",
      " 2\n",
      "[ CPUFloatType{5} ]\n",
      "<<--->>\n",
      "\n"
     ]
    }
   ],
   "source": [
    "printT(layer->forward(t));"
   ]
  },
  {
   "cell_type": "markdown",
   "id": "colonial-enhancement",
   "metadata": {},
   "source": [
    "将层作为组件合并到构建更复杂的模型中"
   ]
  },
  {
   "cell_type": "code",
   "execution_count": 6,
   "id": "preceding-membership",
   "metadata": {},
   "outputs": [
    {
     "name": "stdout",
     "output_type": "stream",
     "text": [
      "net->forward(X).mean() = \n",
      "-3.72529e-09\n",
      "[ CPUFloatType{} ]\n",
      "<<--->>\n",
      "\n"
     ]
    }
   ],
   "source": [
    "torch::nn::Sequential net(torch::nn::Linear(8, 128),\n",
    "                          CenteredLayer()\n",
    "                         );\n",
    "\n",
    "auto X = torch::rand({4, 8});\n",
    "printT(net->forward(X).mean());"
   ]
  },
  {
   "cell_type": "markdown",
   "id": "earlier-petersburg",
   "metadata": {},
   "source": [
    "带参数的图层"
   ]
  },
  {
   "cell_type": "code",
   "execution_count": 7,
   "id": "american-adolescent",
   "metadata": {},
   "outputs": [],
   "source": [
    "///In Python, we wrap the tensors with the torch.nn.Parameter class, while in C++ \n",
    "///we have to pass the tensor through the register_parameter method instead. \n",
    "///The reason for this is that the Python API can detect that an attribute is of type \n",
    "///torch.nn.Parameter and automatically registers such tensors.\n",
    "///  https://pytorch.org/tutorials/advanced/cpp_frontend.html#using-the-pytorch-c-frontend\n",
    "\n",
    "namespace F = torch::nn::functional;\n",
    "\n",
    "struct MyLinear : torch::nn::Module {\n",
    "  MyLinear(int64_t in_units, int64_t units) {\n",
    "    weight = register_parameter(\"weight\", torch::randn({in_units, units}));\n",
    "    bias   = register_parameter(\"bias\", torch::randn(units));\n",
    "  }\n",
    "  torch::Tensor forward(torch::Tensor X) {\n",
    "    linear = torch::addmm(bias, X, weight);\n",
    "    return F::relu(linear);\n",
    "  }\n",
    "  torch::Tensor weight, bias;\n",
    "  torch::Tensor linear;\n",
    "};"
   ]
  },
  {
   "cell_type": "code",
   "execution_count": 8,
   "id": "magnetic-haiti",
   "metadata": {},
   "outputs": [
    {
     "name": "stdout",
     "output_type": "stream",
     "text": [
      "dense.weight = \n",
      " 0.2861 -1.0340 -1.0330\n",
      "-0.3161  0.0017 -0.1590\n",
      "-0.8564  0.1962 -0.0161\n",
      "-0.5919  0.7363 -1.3165\n",
      " 0.5231 -0.3125 -0.7212\n",
      "[ CPUFloatType{5,3} ]\n",
      "<<--->>\n",
      "\n",
      "dense.weight.requires_grad() = \n",
      "true\n",
      "<<--->>\n",
      "\n"
     ]
    }
   ],
   "source": [
    "MyLinear dense(5,3);\n",
    "printT(dense.weight);\n",
    "printT(dense.weight.requires_grad());"
   ]
  },
  {
   "cell_type": "markdown",
   "id": "coupled-turkey",
   "metadata": {},
   "source": [
    "使用自定义层直接执行正向传播计算"
   ]
  },
  {
   "cell_type": "code",
   "execution_count": 9,
   "id": "seven-enemy",
   "metadata": {
    "scrolled": true
   },
   "outputs": [
    {
     "name": "stdout",
     "output_type": "stream",
     "text": [
      "dense.forward(torch::rand({2, 5})) = \n",
      " 0.0000  0.0000  0.8640\n",
      " 0.0000  0.0000  0.0000\n",
      "[ CPUFloatType{2,3} ]\n",
      "<<--->>\n",
      "\n"
     ]
    }
   ],
   "source": [
    "printT(dense.forward(torch::rand({2, 5})));"
   ]
  },
  {
   "cell_type": "markdown",
   "id": "independent-ranking",
   "metadata": {},
   "source": [
    "使用自定义层构建模型"
   ]
  },
  {
   "cell_type": "code",
   "execution_count": 10,
   "id": "medieval-happening",
   "metadata": {},
   "outputs": [
    {
     "name": "stdout",
     "output_type": "stream",
     "text": [
      "net2->forward(torch::rand({2, 64})) = \n",
      " 0\n",
      " 0\n",
      "[ CPUFloatType{2,1} ]\n",
      "<<--->>\n",
      "\n"
     ]
    }
   ],
   "source": [
    "torch::nn::Sequential net2(MyLinear(64, 8), MyLinear(8, 1));\n",
    "printT(net2->forward(torch::rand({2, 64})));"
   ]
  },
  {
   "cell_type": "code",
   "execution_count": null,
   "id": "approximate-design",
   "metadata": {},
   "outputs": [],
   "source": []
  }
 ],
 "metadata": {
  "kernelspec": {
   "display_name": "C++17",
   "language": "C++17",
   "name": "xcpp17"
  },
  "language_info": {
   "codemirror_mode": "text/x-c++src",
   "file_extension": ".cpp",
   "mimetype": "text/x-c++src",
   "name": "c++",
   "version": "17"
  }
 },
 "nbformat": 4,
 "nbformat_minor": 5
}
