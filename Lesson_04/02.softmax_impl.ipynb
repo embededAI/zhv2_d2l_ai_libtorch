{
 "cells": [
  {
   "cell_type": "code",
   "execution_count": 1,
   "id": "under-investigator",
   "metadata": {},
   "outputs": [],
   "source": [
    "#include <iostream>\n",
    "\n",
    "/*a workaround to solve cling issue*/\n",
    "#include \"../inc/macos_cling_workaround.hpp\"\n",
    "/*set libtorch path, load libs*/\n",
    "#include \"../inc/load_libtorch.hpp\"\n",
    "/*import custom defined macros*/\n",
    "#include \"../inc/custom_def.hpp\"\n",
    "/*import matplotlibcpp*/\n",
    "#include \"../inc/load_matplotlibcpp.hpp\"\n",
    "/*import opencv*/\n",
    "#include \"../inc/load_opencv.hpp\"\n",
    "\n",
    "/*import libtorch header file*/\n",
    "#include <torch/torch.h>\n",
    "#include <opencv2/opencv.hpp>"
   ]
  },
  {
   "cell_type": "markdown",
   "id": "sound-storm",
   "metadata": {},
   "source": [
    "# softmax回归的从零开始实现"
   ]
  },
  {
   "cell_type": "markdown",
   "id": "worldwide-fabric",
   "metadata": {},
   "source": [
    "实现softmax\n",
    "$$\\mathrm{softmax}(\\mathbf{X})_{ij} = \\frac{\\exp(\\mathbf{X}_{ij})}{\\sum_k \\exp(\\mathbf{X}_{ik})}$$"
   ]
  },
  {
   "cell_type": "code",
   "execution_count": 3,
   "id": "organic-adrian",
   "metadata": {},
   "outputs": [],
   "source": [
    "torch::Tensor softmax(torch::Tensor X)\n",
    "{\n",
    "    torch::Tensor X_exp = torch::exp(X);\n",
    "    auto partition = X_exp.sum(1, true);\n",
    "    return X_exp / partition;\n",
    "}"
   ]
  },
  {
   "cell_type": "code",
   "execution_count": 5,
   "id": "stylish-quest",
   "metadata": {},
   "outputs": [
    {
     "name": "stdout",
     "output_type": "stream",
     "text": [
      "X_prob = \n",
      " 0.4024  0.1639  0.1562  0.2227  0.0548\n",
      " 0.0090  0.1674  0.3356  0.3749  0.1131\n",
      "[ CPUFloatType{2,5} ]\n",
      "<<--->>\n",
      "\n",
      "X_prob.sum(1) = \n",
      " 1\n",
      " 1\n",
      "[ CPUFloatType{2} ]\n",
      "<<--->>\n",
      "\n"
     ]
    }
   ],
   "source": [
    "torch::Tensor X = torch::normal(0, 1, {2, 5});\n",
    "torch::Tensor X_prob = softmax(X);\n",
    "printT(X_prob);\n",
    "printT(X_prob.sum(1));"
   ]
  },
  {
   "cell_type": "markdown",
   "id": "checked-packet",
   "metadata": {},
   "source": [
    "实现softmax回归模型"
   ]
  },
  {
   "cell_type": "code",
   "execution_count": 15,
   "id": "banner-encyclopedia",
   "metadata": {},
   "outputs": [],
   "source": [
    "torch::Tensor net(torch::Tensor X, torch::Tensor W, float b)\n",
    "{   \n",
    "    return softmax(torch::mm(X.reshape({-1, W.size(0)}), W) + b);\n",
    "}"
   ]
  },
  {
   "cell_type": "code",
   "execution_count": null,
   "id": "dominant-greeting",
   "metadata": {},
   "outputs": [],
   "source": [
    "y = torch.tensor([0, 2])\n",
    "y_hat = torch.tensor([[0.1, 0.3, 0.6], [0.3, 0.2, 0.5]])"
   ]
  },
  {
   "cell_type": "code",
   "execution_count": null,
   "id": "green-begin",
   "metadata": {},
   "outputs": [],
   "source": []
  },
  {
   "cell_type": "code",
   "execution_count": null,
   "id": "automatic-elements",
   "metadata": {},
   "outputs": [],
   "source": []
  },
  {
   "cell_type": "code",
   "execution_count": null,
   "id": "exclusive-audio",
   "metadata": {},
   "outputs": [],
   "source": []
  }
 ],
 "metadata": {
  "kernelspec": {
   "display_name": "C++17",
   "language": "C++17",
   "name": "xcpp17"
  },
  "language_info": {
   "codemirror_mode": "text/x-c++src",
   "file_extension": ".cpp",
   "mimetype": "text/x-c++src",
   "name": "c++",
   "version": "17"
  }
 },
 "nbformat": 4,
 "nbformat_minor": 5
}
