{
 "cells": [
  {
   "cell_type": "code",
   "execution_count": 5,
   "id": "radical-compound",
   "metadata": {},
   "outputs": [],
   "source": [
    "#include <iostream>\n",
    "\n",
    "/*a workaround to solve cling issue*/\n",
    "#include \"../inc/macos_cling_workaround.hpp\"\n",
    "/*set libtorch path, load libs*/\n",
    "#include \"../inc/load_libtorch.hpp\"\n",
    "/*import custom defined macros*/\n",
    "#include \"../inc/custom_def.hpp\"\n",
    "/*import matplotlibcpp*/\n",
    "#include \"../inc/load_matplotlibcpp.hpp\"\n",
    "/*import opencv*/\n",
    "#include \"../inc/load_opencv.hpp\"\n",
    "\n",
    "/*import libtorch header file*/\n",
    "#include <torch/torch.h>\n",
    "#include <opencv2/opencv.hpp>"
   ]
  },
  {
   "cell_type": "markdown",
   "id": "southeast-experience",
   "metadata": {},
   "source": [
    "### softmax简洁版本实现，与公开课稍微有些不同"
   ]
  },
  {
   "cell_type": "markdown",
   "id": "described-width",
   "metadata": {},
   "source": [
    "常规的CPU实现，一个全连接层再加一个softmax完成多分类；"
   ]
  },
  {
   "cell_type": "code",
   "execution_count": 6,
   "id": "unauthorized-search",
   "metadata": {},
   "outputs": [],
   "source": [
    "/*design a net*/\n",
    "struct Net : torch::nn::Module {\n",
    "  Net() {\n",
    "    // Construct and register two Linear submodules.\n",
    "    fc = register_module(\"fc\", torch::nn::Linear(784, 10));\n",
    "  }\n",
    "\n",
    "  // Implement the Net's algorithm.\n",
    "  torch::Tensor forward(torch::Tensor x) {\n",
    "    // Use one of many tensor manipulation functions.\n",
    "    x = torch::log_softmax(fc->forward(x.reshape({x.size(0), 784})), /*dim=*/1);\n",
    "    return x;\n",
    "  }\n",
    "\n",
    "  // Use one of many \"standard library\" modules.\n",
    "  torch::nn::Linear fc{nullptr};\n",
    "};"
   ]
  },
  {
   "cell_type": "code",
   "execution_count": 8,
   "id": "virtual-mixer",
   "metadata": {},
   "outputs": [
    {
     "name": "stdout",
     "output_type": "stream",
     "text": [
      "Epoch: 1 | Batch: 500 | Loss: 0.824684\n",
      "Epoch: 2 | Batch: 500 | Loss: 0.722425\n",
      "Epoch: 3 | Batch: 500 | Loss: 0.731193\n",
      "Epoch: 4 | Batch: 500 | Loss: 0.581636\n",
      "Epoch: 5 | Batch: 500 | Loss: 0.661941\n",
      "Epoch: 6 | Batch: 500 | Loss: 0.4241\n",
      "Epoch: 7 | Batch: 500 | Loss: 0.505224\n",
      "Epoch: 8 | Batch: 500 | Loss: 0.462436\n",
      "Epoch: 9 | Batch: 500 | Loss: 0.439719\n",
      "Epoch: 10 | Batch: 500 | Loss: 0.466451\n",
      "Epoch: 11 | Batch: 500 | Loss: 0.523327\n",
      "Epoch: 12 | Batch: 500 | Loss: 0.403232\n",
      "Epoch: 13 | Batch: 500 | Loss: 0.506222\n",
      "Epoch: 14 | Batch: 500 | Loss: 0.441393\n",
      "Epoch: 15 | Batch: 500 | Loss: 0.519449\n",
      "Epoch: 16 | Batch: 500 | Loss: 0.488209\n",
      "Epoch: 17 | Batch: 500 | Loss: 0.513735\n",
      "Epoch: 18 | Batch: 500 | Loss: 0.396346\n",
      "Epoch: 19 | Batch: 500 | Loss: 0.516452\n",
      "Epoch: 20 | Batch: 500 | Loss: 0.724814\n",
      "\n",
      "\n",
      "Training finished!\n",
      "\n"
     ]
    }
   ],
   "source": [
    "// Create a new Net.\n",
    "auto net = std::make_shared<Net>();\n",
    "\n",
    "// Create a multi-threaded data loader for the MNIST dataset.\n",
    "auto data_loader = torch::data::make_data_loader(\n",
    "  torch::data::datasets::MNIST(\"../dataset/fashion_mnist\").map(\n",
    "      torch::data::transforms::Stack<>()),\n",
    "  /*batch_size=*/100);\n",
    "\n",
    "// Instantiate an SGD optimization algorithm to update our Net's parameters.\n",
    "torch::optim::SGD optimizer(net->parameters(), /*lr=*/0.01);\n",
    "\n",
    "for (size_t epoch = 1; epoch <= 20; ++epoch) {\n",
    "    size_t batch_index = 0;\n",
    "    // Iterate the data loader to yield batches from the dataset.\n",
    "    for (auto& batch : *data_loader) {\n",
    "        // Reset gradients.\n",
    "        optimizer.zero_grad();\n",
    "        // Execute the model on the input data.\n",
    "        torch::Tensor prediction = net->forward(batch.data);\n",
    "        // Compute a loss value to judge the prediction of our model.\n",
    "        torch::Tensor loss = torch::nll_loss(prediction, batch.target);\n",
    "        // Compute gradients of the loss w.r.t. the parameters of our model.\n",
    "        loss.backward();\n",
    "        // Update the parameters based on the calculated gradients.\n",
    "        optimizer.step();\n",
    "        // Output the loss and checkpoint every 100 batches.\n",
    "        if (++batch_index % 500 == 0) {\n",
    "        std::cout << \"Epoch: \" << epoch << \" | Batch: \" << batch_index\n",
    "                  << \" | Loss: \" << loss.item<float>() << std::endl;\n",
    "        // Serialize your model periodically as a checkpoint.\n",
    "        torch::save(net, \"net.pt\");\n",
    "        }\n",
    "    }    \n",
    "}\n",
    "\n",
    "std::cout << std::endl << \"\\r\\nTraining finished!\\r\\n\" << std::endl;"
   ]
  },
  {
   "cell_type": "markdown",
   "id": "absolute-organic",
   "metadata": {},
   "source": [
    "备注：后续加上图形化训练结果以及处理时间"
   ]
  },
  {
   "cell_type": "code",
   "execution_count": null,
   "id": "strange-magnet",
   "metadata": {},
   "outputs": [],
   "source": []
  },
  {
   "cell_type": "code",
   "execution_count": null,
   "id": "selective-indonesian",
   "metadata": {},
   "outputs": [],
   "source": []
  },
  {
   "cell_type": "code",
   "execution_count": null,
   "id": "choice-temperature",
   "metadata": {},
   "outputs": [],
   "source": []
  }
 ],
 "metadata": {
  "kernelspec": {
   "display_name": "C++17",
   "language": "C++17",
   "name": "xcpp17"
  },
  "language_info": {
   "codemirror_mode": "text/x-c++src",
   "file_extension": ".cpp",
   "mimetype": "text/x-c++src",
   "name": "c++",
   "version": "17"
  }
 },
 "nbformat": 4,
 "nbformat_minor": 5
}
