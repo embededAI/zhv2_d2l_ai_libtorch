{
 "cells": [
  {
   "cell_type": "markdown",
   "id": "round-dinner",
   "metadata": {},
   "source": [
    "# 使用前，需要先导入需要的头文件"
   ]
  },
  {
   "cell_type": "code",
   "execution_count": 1,
   "id": "cheap-algorithm",
   "metadata": {},
   "outputs": [],
   "source": [
    "#include <iostream>\n",
    "\n",
    "/*a workaround to solve cling issue*/\n",
    "#include \"../inc/macos_cling_workaround.hpp\"\n",
    "/*set libtorch path, load libs*/\n",
    "#include \"../inc/load_libtorch.hpp\"\n",
    "/*import custom defined macros*/\n",
    "#include \"../inc/custom_def.hpp\"\n",
    "/*import matplotlibcpp*/\n",
    "#include \"../inc/load_matplotlibcpp.hpp\"\n",
    "/*import opencv*/\n",
    "#include \"../inc/load_opencv.hpp\"\n",
    "\n",
    "/*import libtorch header file*/\n",
    "#include <torch/torch.h>\n",
    "#include <opencv2/opencv.hpp>\n",
    "#include <cmath>\n",
    "\n",
    "// Use (void) to silent unused warnings.\n",
    "#define assertm(exp, msg) assert(((void)msg, exp))"
   ]
  },
  {
   "cell_type": "code",
   "execution_count": 2,
   "id": "desirable-society",
   "metadata": {},
   "outputs": [],
   "source": [
    "#define VAR_NAME(Variable) (#Variable)\n",
    "\n",
    "void print_tensor_size(std::string name, torch::Tensor t)\n",
    "{\n",
    "    int dims = t.dim();\n",
    "    std::cout << name << \" dims is (\";\n",
    "    for (int i = 0; i < dims; i++) {\n",
    "        std::cout << t.size(i);\n",
    "        if (i < (dims - 1)) std::cout << \" x \";\n",
    "    }\n",
    "    std::cout << \")\" << std::endl;\n",
    "}"
   ]
  },
  {
   "cell_type": "code",
   "execution_count": 3,
   "id": "suited-perfume",
   "metadata": {},
   "outputs": [],
   "source": [
    "class MyDataset : public torch::data::Dataset<MyDataset>\n",
    "{\n",
    "    private:\n",
    "        torch::Tensor states_, labels_;\n",
    "\n",
    "    public:\n",
    "        explicit MyDataset(torch::Tensor states, torch::Tensor labels) \n",
    "            : states_(states),\n",
    "              labels_(labels) {   };\n",
    "\n",
    "        torch::data::Example<> get(size_t index) override {\n",
    "            return {states_[index], labels_[index]};\n",
    "        };\n",
    "\n",
    "        torch::optional<size_t> size() const override {\n",
    "            return states_.size(0);\n",
    "        };\n",
    "};"
   ]
  },
  {
   "cell_type": "markdown",
   "id": "environmental-cursor",
   "metadata": {},
   "source": [
    "# 权重衰减（L2正则化）"
   ]
  },
  {
   "cell_type": "markdown",
   "id": "persistent-semiconductor",
   "metadata": {},
   "source": [
    "### 使用以下多项式来生成训练和测试数据\n",
    "\n",
    "$y = 0.05 + \\sum\\limits_{i=1}^{d}0.01 x_i + \\epsilon \\quad where \\quad\\epsilon \\sim \\mathcal{N} (0,0.01^2)$"
   ]
  },
  {
   "cell_type": "code",
   "execution_count": 4,
   "id": "civil-singer",
   "metadata": {},
   "outputs": [
    {
     "name": "stdout",
     "output_type": "stream",
     "text": [
      "train_features dims is (20 x 200)\n",
      "train_labels dims is (20 x 1)\n",
      "test_features dims is (80 x 200)\n",
      "test_labels dims is (80 x 1)\n"
     ]
    }
   ],
   "source": [
    "constexpr int n_train = 20;\n",
    "constexpr int n_test = 80;\n",
    "constexpr int num_inputs = 200;\n",
    "constexpr int batch_size = 5;\n",
    "\n",
    "//多项式系数\n",
    "torch::Tensor true_w = torch::ones({num_inputs, 1}) * 0.01;\n",
    "float true_b = 0.05;\n",
    "\n",
    "torch::Tensor train_features = torch::randn({n_train, true_w.size(0)});\n",
    "torch::Tensor train_labels   = train_features.mm(true_w) + true_b;\n",
    "auto t = torch::randn({train_labels.size(0), train_labels.size(1)});\n",
    "t = t * 0.01;\n",
    "train_labels += t.reshape({t.size(0) ,1});\n",
    "\n",
    "torch::Tensor test_features = torch::randn({n_test, true_w.size(0)});\n",
    "torch::Tensor test_labels   = test_features.mm(true_w) + true_b;\n",
    "auto u = torch::randn_like(test_labels) * 0.01;\n",
    "test_labels += u.reshape({u.size(0) ,1});\n",
    "\n",
    "print_tensor_size(VAR_NAME(train_features), train_features);\n",
    "print_tensor_size(VAR_NAME(train_labels), train_labels);\n",
    "print_tensor_size(VAR_NAME(test_features), test_features);\n",
    "print_tensor_size(VAR_NAME(test_labels), test_labels);"
   ]
  },
  {
   "cell_type": "code",
   "execution_count": 5,
   "id": "unknown-kelly",
   "metadata": {},
   "outputs": [
    {
     "name": "stdout",
     "output_type": "stream",
     "text": [
      "train_features.index({torch::indexing::Slice(torch::indexing::None, 1, torch::indexing::None), torch::indexing::Slice(torch::indexing::None, 10, torch::indexing::None) }) = \n",
      "-0.3818  0.3528 -1.0666  0.5157 -1.4544  0.8776 -0.6146 -1.0009  2.1348  0.7969\n",
      "[ CPUFloatType{1,10} ]\n",
      "<<--->>\n",
      "\n",
      "train_labels.index({torch::indexing::Slice(torch::indexing::None, 2, torch::indexing::None)}) = \n",
      " 0.1897\n",
      "-0.0424\n",
      "[ CPUFloatType{2,1} ]\n",
      "<<--->>\n",
      "\n"
     ]
    }
   ],
   "source": [
    "printT(train_features.index({torch::indexing::Slice(torch::indexing::None, 1, torch::indexing::None),\n",
    "                             torch::indexing::Slice(torch::indexing::None, 10, torch::indexing::None)\n",
    "                             }));    \n",
    "\n",
    "printT(train_labels.index({torch::indexing::Slice(torch::indexing::None, 2, torch::indexing::None)}));    "
   ]
  },
  {
   "cell_type": "markdown",
   "id": "cubic-equivalent",
   "metadata": {},
   "source": [
    "### 初始化模型参数"
   ]
  },
  {
   "cell_type": "code",
   "execution_count": 6,
   "id": "yellow-industry",
   "metadata": {},
   "outputs": [],
   "source": [
    "std::tuple<torch::Tensor, torch::Tensor> init_params(void)\n",
    "{\n",
    "    torch::Tensor w = torch::randn({num_inputs, 1}, torch::requires_grad(true));\n",
    "    torch::Tensor b = torch::zeros(1, torch::requires_grad(true));\n",
    "    return std::make_tuple(w, b);\n",
    "}"
   ]
  },
  {
   "cell_type": "markdown",
   "id": "seven-village",
   "metadata": {},
   "source": [
    "### 定义L2范数惩罚"
   ]
  },
  {
   "cell_type": "code",
   "execution_count": 7,
   "id": "bulgarian-world",
   "metadata": {},
   "outputs": [],
   "source": [
    "torch::Tensor l2_penalty(torch::Tensor w)\n",
    "{\n",
    "    return torch::sum(w.pow(2))/2;\n",
    "}"
   ]
  },
  {
   "cell_type": "markdown",
   "id": "united-morris",
   "metadata": {},
   "source": [
    "### 定义训练代码实现"
   ]
  },
  {
   "cell_type": "code",
   "execution_count": 8,
   "id": "considerable-retreat",
   "metadata": {},
   "outputs": [],
   "source": [
    "std::vector<int> x;\n",
    "std::vector<double> y;\n",
    "std::vector<double> y_hat;"
   ]
  },
  {
   "cell_type": "code",
   "execution_count": 9,
   "id": "hairy-offering",
   "metadata": {},
   "outputs": [],
   "source": [
    "torch::Tensor train(torch::Tensor train_features, \n",
    "           torch::Tensor test_features, \n",
    "           torch::Tensor train_labels, \n",
    "           torch::Tensor test_labels,\n",
    "           float lambd,\n",
    "           int num_epochs = 200,\n",
    "           int batch_size = 10)\n",
    "{\n",
    "    assertm(train_features.dim() == 2, \"train_features should have 2 dims\");\n",
    "    assertm(test_features.dim() == 2, \"test_features should have 2 dims\");\n",
    "    \n",
    "    auto train_data_set = MyDataset(train_features, train_labels)\n",
    "                                    .map(torch::data::transforms::Stack<>());\n",
    "    auto test_data_set = MyDataset(test_features, test_labels)\n",
    "                                    .map(torch::data::transforms::Stack<>());\n",
    "\n",
    "    auto train_data_loader = torch::data::make_data_loader<torch::data::samplers::RandomSampler>(\n",
    "                                    std::move(train_data_set), \n",
    "                                    batch_size);\n",
    "\n",
    "    auto test_data_loader = torch::data::make_data_loader<torch::data::samplers::RandomSampler>(\n",
    "                                    std::move(test_data_set), \n",
    "                                    batch_size);\n",
    "\n",
    "    int input_shape = train_features.size(1);\n",
    "    torch::nn::Sequential net({{\"fc\", torch::nn::Linear(torch::nn::LinearOptions(input_shape, 1).bias(false))}});\n",
    "    auto p = net->named_parameters(false);\n",
    "    auto w = p.find(\"weight\");\n",
    "    auto b = p.find(\"bias\");\n",
    "    if (w != nullptr) torch::nn::init::normal_(*w);\n",
    "    if (b != nullptr) torch::nn::init::constant_(*b, 0.01);\n",
    "    \n",
    "    auto optimizer = torch::optim::SGD(net->parameters(), /*lr*/0.01);\n",
    "    \n",
    "        \n",
    "    for (int epoch = 0; epoch < num_epochs; epoch++) \n",
    "    {\n",
    "        torch::Tensor loss_values;\n",
    "        if (epoch % 10 == 0) x.push_back(epoch);\n",
    "        \n",
    "        for (auto& batch : *train_data_loader) {\n",
    "            auto data = batch.data;\n",
    "            auto labels = batch.target;\n",
    "\n",
    "            net->zero_grad();\n",
    "            auto training_prediction = net->forward(data);\n",
    "            loss_values = torch::mse_loss(training_prediction, labels);\n",
    "            //add L2 penalty\n",
    "            loss_values = (loss_values.sum() + lambd * l2_penalty(net->parameters()[0])) / training_prediction.size(0);\n",
    "            loss_values.backward(); \n",
    "            optimizer.step();\n",
    "        }\n",
    "        \n",
    "        \n",
    "        auto ntrain_prediction = net->forward(train_features);\n",
    "        auto ntrain_loss_values = torch::mse_loss(ntrain_prediction, train_labels);        \n",
    "        if (epoch % 10 == 0) \n",
    "            y.push_back(ntrain_loss_values.sum().item<double>() / ntrain_prediction.size(0));\n",
    "        \n",
    "        auto test_prediction = net->forward(test_features);\n",
    "        auto test_loss_values = torch::mse_loss(test_prediction, test_labels);\n",
    "        if (epoch % 10 == 0) \n",
    "            y_hat.push_back(torch::sum(test_loss_values).item<double>() / test_prediction.size(0));        \n",
    "        \n",
    "        if (epoch % (num_epochs/10) == 0) {\n",
    "        // Report the error with respect to y_training. \n",
    "        double sum_loss = loss_values.sum().item<double>();\n",
    "        std::cout << \"Epoch \" << epoch \n",
    "            << \", sum(loss_values) = \" << sum_loss << std::endl;\n",
    "        }\n",
    "    }\n",
    "    \n",
    "//     std::cout << net->parameters() << std::endl;\n",
    "    return net->parameters()[0];\n",
    "}"
   ]
  },
  {
   "cell_type": "markdown",
   "id": "understanding-attraction",
   "metadata": {},
   "source": [
    "#### 忽略正则化直接训练"
   ]
  },
  {
   "cell_type": "code",
   "execution_count": 10,
   "id": "english-scientist",
   "metadata": {},
   "outputs": [
    {
     "name": "stdout",
     "output_type": "stream",
     "text": [
      "Epoch 0, sum(loss_values) = 0.0169549\n",
      "Epoch 20, sum(loss_values) = 0.00504245\n",
      "Epoch 40, sum(loss_values) = 0.00190872\n",
      "Epoch 60, sum(loss_values) = 0.000500984\n",
      "Epoch 80, sum(loss_values) = 9.51884e-05\n",
      "Epoch 100, sum(loss_values) = 2.66099e-05\n",
      "Epoch 120, sum(loss_values) = 2.02669e-05\n",
      "Epoch 140, sum(loss_values) = 7.2299e-06\n",
      "Epoch 160, sum(loss_values) = 1.93532e-06\n",
      "Epoch 180, sum(loss_values) = 7.22983e-07\n"
     ]
    }
   ],
   "source": [
    "if(!x.empty()) std::vector <int>().swap(x);\n",
    "if(!y.empty()) std::vector <double>().swap(y);\n",
    "if(!y_hat.empty()) std::vector <double>().swap(y_hat);\n",
    "\n",
    "auto w = train(train_features, test_features, train_labels, test_labels, 0.0);"
   ]
  },
  {
   "cell_type": "markdown",
   "id": "czech-hours",
   "metadata": {},
   "source": [
    "### 训练结果可视化"
   ]
  },
  {
   "cell_type": "code",
   "execution_count": 11,
   "id": "mounted-julian",
   "metadata": {},
   "outputs": [],
   "source": [
    "plt::semilogy(x, y, \"b\");\n",
    "plt::semilogy(x, y_hat, \"r\");\n",
    "\n",
    "plt::title(\"loss(r:test  b:train)\");\n",
    "plt::legend();\n",
    "plt::save(\"./loss_2.png\"); \n",
    "plt::show();"
   ]
  },
  {
   "cell_type": "code",
   "execution_count": 12,
   "id": "exclusive-fault",
   "metadata": {},
   "outputs": [
    {
     "data": {
      "image/png": "[encoded data removed]"
     },
     "execution_count": 12,
     "metadata": {},
     "output_type": "execute_result"
    }
   ],
   "source": [
    "auto img1 = im::image(\"./loss_2.png\");\n",
    "img1  "
   ]
  },
  {
   "cell_type": "markdown",
   "id": "dirty-accountability",
   "metadata": {},
   "source": [
    "### 使用权重衰减"
   ]
  },
  {
   "cell_type": "code",
   "execution_count": 13,
   "id": "accredited-backing",
   "metadata": {},
   "outputs": [
    {
     "name": "stdout",
     "output_type": "stream",
     "text": [
      "Epoch 0, sum(loss_values) = 0.10043\n",
      "Epoch 20, sum(loss_values) = 0.0449347\n",
      "Epoch 40, sum(loss_values) = 0.0281176\n",
      "Epoch 60, sum(loss_values) = 0.0215696\n",
      "Epoch 80, sum(loss_values) = 0.0167711\n",
      "Epoch 100, sum(loss_values) = 0.0131779\n",
      "Epoch 120, sum(loss_values) = 0.0104048\n",
      "Epoch 140, sum(loss_values) = 0.008218\n",
      "Epoch 160, sum(loss_values) = 0.00651241\n",
      "Epoch 180, sum(loss_values) = 0.00515297\n"
     ]
    }
   ],
   "source": [
    "if(!x.empty()) std::vector <int>().swap(x);\n",
    "if(!y.empty()) std::vector <double>().swap(y);\n",
    "if(!y_hat.empty()) std::vector <double>().swap(y_hat);\n",
    "\n",
    "auto w = train(train_features, test_features, train_labels, test_labels, 3.0);"
   ]
  },
  {
   "cell_type": "code",
   "execution_count": 14,
   "id": "ahead-hybrid",
   "metadata": {},
   "outputs": [],
   "source": [
    "plt::semilogy(x, y, \"b\");\n",
    "plt::semilogy(x, y_hat, \"r\");\n",
    "\n",
    "plt::title(\"loss_underfit(r:test  b:train)\");\n",
    "plt::legend();\n",
    "plt::save(\"./loss_2_underfit.png\"); \n",
    "plt::show();"
   ]
  },
  {
   "cell_type": "code",
   "execution_count": 15,
   "id": "communist-material",
   "metadata": {},
   "outputs": [
    {
     "data": {
      "image/png": "[encoded data removed]"
     },
     "execution_count": 15,
     "metadata": {},
     "output_type": "execute_result"
    }
   ],
   "source": [
    "auto img2 = im::image(\"./loss_2_underfit.png\");\n",
    "img2"
   ]
  },
  {
   "cell_type": "markdown",
   "id": "sustained-north",
   "metadata": {},
   "source": [
    "#### 因为上面已经使用了libtorch相关api，因此原教程中的简洁实现此处不再赘述，感兴趣的同学可以尝试不用api而是自己写损失函数以及优化器。"
   ]
  },
  {
   "cell_type": "code",
   "execution_count": null,
   "id": "neural-swing",
   "metadata": {},
   "outputs": [],
   "source": []
  }
 ],
 "metadata": {
  "kernelspec": {
   "display_name": "C++17",
   "language": "C++17",
   "name": "xcpp17"
  },
  "language_info": {
   "codemirror_mode": "text/x-c++src",
   "file_extension": ".cpp",
   "mimetype": "text/x-c++src",
   "name": "c++",
   "version": "17"
  }
 },
 "nbformat": 4,
 "nbformat_minor": 5
}
