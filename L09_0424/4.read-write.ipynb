{
 "cells": [
  {
   "cell_type": "code",
   "execution_count": 1,
   "id": "surface-citation",
   "metadata": {},
   "outputs": [],
   "source": [
    "#include <iostream>\n",
    "\n",
    "/*a workaround to solve cling issue*/\n",
    "#include \"../inc/macos_cling_workaround.hpp\"\n",
    "/*set libtorch path, load libs*/\n",
    "#include \"../inc/load_libtorch.hpp\"\n",
    "/*import custom defined macros*/\n",
    "#include \"../inc/custom_def.hpp\"\n",
    "/*import matplotlibcpp*/\n",
    "#include \"../inc/load_matplotlibcpp.hpp\"\n",
    "/*import opencv*/\n",
    "#include \"../inc/load_opencv.hpp\"\n",
    "\n",
    "/*import libtorch header file*/\n",
    "#include <torch/torch.h>\n",
    "#include <opencv2/opencv.hpp>\n",
    "#include <cmath>\n",
    "\n",
    "// Use (void) to silent unused warnings.\n",
    "#define assertm(exp, msg) assert(((void)msg, exp))"
   ]
  },
  {
   "cell_type": "code",
   "execution_count": 2,
   "id": "apart-culture",
   "metadata": {},
   "outputs": [],
   "source": [
    "#define VAR_NAME(Variable) (#Variable)\n",
    "\n",
    "void print_tensor_size(std::string name, torch::Tensor t)\n",
    "{\n",
    "    int dims = t.dim();\n",
    "    std::cout << name << \" dims is (\";\n",
    "    for (int i = 0; i < dims; i++) {\n",
    "        std::cout << t.size(i);\n",
    "        if (i < (dims - 1)) std::cout << \" x \";\n",
    "    }\n",
    "    std::cout << \")\" << std::endl;\n",
    "}"
   ]
  },
  {
   "cell_type": "markdown",
   "id": "illegal-defensive",
   "metadata": {},
   "source": [
    "# 读写文件"
   ]
  },
  {
   "cell_type": "markdown",
   "id": "conditional-rwanda",
   "metadata": {},
   "source": [
    "具体可以参考下面API调用说明：\n",
    "\n",
    "> https://pytorch.org/cppdocs/api/function_namespacetorch_1ac9e56fddb5d7312193bb49ca525ec55e.html?highlight=torch%20save\n",
    "> https://pytorch.org/cppdocs/api/function_namespacetorch_1a4b369494adfb10b9a005aeb0bb6207cb.html?highlight=torch%20load\n",
    "\n",
    "<img style=\"float: left;\" src=\"./img/save1.png\" width=\"75%\">\n",
    "\n",
    "<img style=\"float: left;\" src=\"./img/save2.png\" width=\"75%\">\n",
    "\n",
    "<img style=\"float: left;\" src=\"./img/load1.png\" width=\"75%\">\n",
    "\n",
    "<img style=\"float: left;\" src=\"./img/load2.png\" width=\"75%\">"
   ]
  },
  {
   "cell_type": "markdown",
   "id": "particular-floating",
   "metadata": {},
   "source": [
    "**加载和保存张量**"
   ]
  },
  {
   "cell_type": "code",
   "execution_count": 3,
   "id": "realistic-exhibition",
   "metadata": {},
   "outputs": [
    {
     "name": "stdout",
     "output_type": "stream",
     "text": [
      "x2 = \n",
      " 0\n",
      " 1\n",
      " 2\n",
      " 3\n",
      "[ CPULongType{4} ]\n",
      "<<--->>\n",
      "\n"
     ]
    }
   ],
   "source": [
    "auto x = torch::arange(0, 4);\n",
    "torch::save(x, \"x.tensor\");\n",
    "\n",
    "torch::Tensor x2; \n",
    "torch::load(x2, \"x.tensor\");\n",
    "printT(x2);"
   ]
  },
  {
   "cell_type": "markdown",
   "id": "super-memorabilia",
   "metadata": {},
   "source": [
    "**存储一个张量列表，然后把它们读回内存**"
   ]
  },
  {
   "cell_type": "code",
   "execution_count": 4,
   "id": "olive-shower",
   "metadata": {},
   "outputs": [],
   "source": [
    "auto y = torch::zeros(4);\n",
    "torch::save({x, y}, \"x1.tensor\");"
   ]
  },
  {
   "cell_type": "code",
   "execution_count": 5,
   "id": "developed-festival",
   "metadata": {},
   "outputs": [
    {
     "name": "stdout",
     "output_type": "stream",
     "text": [
      "tv[0] = \n",
      " 0\n",
      " 1\n",
      " 2\n",
      " 3\n",
      "[ CPULongType{4} ]\n",
      "<<--->>\n",
      "\n",
      "tv[1] = \n",
      " 0\n",
      " 0\n",
      " 0\n",
      " 0\n",
      "[ CPUFloatType{4} ]\n",
      "<<--->>\n",
      "\n"
     ]
    }
   ],
   "source": [
    "std::vector<torch::Tensor> tv;\n",
    "torch::load(tv, \"x1.tensor\");\n",
    "printT(tv[0]);\n",
    "printT(tv[1]);"
   ]
  },
  {
   "cell_type": "markdown",
   "id": "controlled-comfort",
   "metadata": {},
   "source": [
    "**写入或读取从字符串映射到张量的字典**\n",
    "\n",
    "[注意]目前该功能仅存在于python对应的API中，因此libtorch暂时不支持；也有网友给出了解决方案，但是较为繁琐，此处不再深究；\n",
    "https://github.com/pytorch/pytorch/issues/36568"
   ]
  },
  {
   "cell_type": "code",
   "execution_count": 6,
   "id": "imperial-monitor",
   "metadata": {},
   "outputs": [],
   "source": [
    "// mydict = {'x': x, 'y': y}\n",
    "// torch.save(mydict, 'mydict')\n",
    "// mydict2 = torch.load('mydict')\n",
    "// mydict2"
   ]
  },
  {
   "cell_type": "markdown",
   "id": "ranking-undergraduate",
   "metadata": {},
   "source": [
    "**加载和保存模型参数**"
   ]
  },
  {
   "cell_type": "code",
   "execution_count": 7,
   "id": "atomic-canal",
   "metadata": {},
   "outputs": [],
   "source": [
    "/*design a net*/\n",
    "struct MLP : torch::nn::Module {\n",
    "  MLP() {\n",
    "    // Construct and register two Linear submodules.\n",
    "    hidden = register_module(\"hidden\", torch::nn::Linear(20, 256));\n",
    "    output = register_module(\"output\", torch::nn::Linear(256, 10));\n",
    "  }\n",
    "\n",
    "  // Implement the Net's algorithm.\n",
    "  torch::Tensor forward(torch::Tensor x) {\n",
    "    // Use one of many tensor manipulation functions.\n",
    "    x = hidden->forward(x);\n",
    "    x = torch::relu(x);\n",
    "    x = output->forward(x);\n",
    "    return x;\n",
    "  }\n",
    "\n",
    "  // Use one of many \"standard library\" modules.\n",
    "  torch::nn::Linear hidden{nullptr}, output{nullptr};\n",
    "};"
   ]
  },
  {
   "cell_type": "code",
   "execution_count": 8,
   "id": "collaborative-niger",
   "metadata": {},
   "outputs": [
    {
     "name": "stdout",
     "output_type": "stream",
     "text": [
      "Y = \n",
      " 0.3339  0.1653 -0.3950 -0.1112 -0.2380 -0.0449  0.1673 -0.0204  0.2040 -0.1157\n",
      " 0.2091  0.0271 -0.2066  0.3571  0.2958  0.2024  0.1747 -0.1816 -0.2225 -0.1623\n",
      "[ CPUFloatType{2,10} ]\n",
      "<<--->>\n",
      "\n"
     ]
    }
   ],
   "source": [
    "// Create a new Net.\n",
    "auto net = std::make_shared<MLP>();\n",
    "auto X = torch::randn({2, 20});\n",
    "auto Y = net->forward(X);\n",
    "printT(Y);"
   ]
  },
  {
   "cell_type": "markdown",
   "id": "diverse-newspaper",
   "metadata": {},
   "source": [
    "**将模型的参数存储为一个叫做“mlp.params”的文件**"
   ]
  },
  {
   "cell_type": "code",
   "execution_count": 9,
   "id": "little-alexandria",
   "metadata": {},
   "outputs": [],
   "source": [
    "torch::save(net, \"mlp.params\");"
   ]
  },
  {
   "cell_type": "markdown",
   "id": "final-adaptation",
   "metadata": {},
   "source": [
    "**实例化了原始多层感知机模型的一个备份。 直接读取文件中存储的参数**"
   ]
  },
  {
   "cell_type": "code",
   "execution_count": 10,
   "id": "quiet-yahoo",
   "metadata": {},
   "outputs": [],
   "source": [
    "// clone = MLP()\n",
    "// clone.load_state_dict(torch.load(\"mlp.params\"))\n",
    "// clone.eval()\n",
    "    \n",
    "auto clone = std::make_shared<MLP>();\n",
    "torch::load(clone, \"mlp.params\");\n",
    "clone->eval();"
   ]
  },
  {
   "cell_type": "code",
   "execution_count": 11,
   "id": "outstanding-detail",
   "metadata": {},
   "outputs": [
    {
     "name": "stdout",
     "output_type": "stream",
     "text": [
      "Y_clone == Y\n"
     ]
    }
   ],
   "source": [
    "// Y_clone = clone(X)\n",
    "// Y_clone == Y\n",
    "\n",
    "auto Y_clone = clone->forward(X);\n",
    "if (Y_clone.equal(Y)) {\n",
    "    std::cout << \"Y_clone == Y\" << std::endl;\n",
    "}"
   ]
  },
  {
   "cell_type": "code",
   "execution_count": null,
   "id": "million-silence",
   "metadata": {},
   "outputs": [],
   "source": []
  },
  {
   "cell_type": "code",
   "execution_count": null,
   "id": "fossil-lyric",
   "metadata": {},
   "outputs": [],
   "source": []
  },
  {
   "cell_type": "code",
   "execution_count": null,
   "id": "formal-jordan",
   "metadata": {},
   "outputs": [],
   "source": []
  },
  {
   "cell_type": "code",
   "execution_count": null,
   "id": "israeli-mistake",
   "metadata": {},
   "outputs": [],
   "source": []
  },
  {
   "cell_type": "code",
   "execution_count": null,
   "id": "broken-threat",
   "metadata": {},
   "outputs": [],
   "source": []
  },
  {
   "cell_type": "code",
   "execution_count": null,
   "id": "figured-anthony",
   "metadata": {},
   "outputs": [],
   "source": []
  },
  {
   "cell_type": "code",
   "execution_count": null,
   "id": "standard-words",
   "metadata": {},
   "outputs": [],
   "source": []
  },
  {
   "cell_type": "code",
   "execution_count": null,
   "id": "excited-metadata",
   "metadata": {},
   "outputs": [],
   "source": []
  },
  {
   "cell_type": "code",
   "execution_count": null,
   "id": "liable-headquarters",
   "metadata": {},
   "outputs": [],
   "source": []
  },
  {
   "cell_type": "code",
   "execution_count": null,
   "id": "spanish-above",
   "metadata": {},
   "outputs": [],
   "source": []
  }
 ],
 "metadata": {
  "kernelspec": {
   "display_name": "C++17",
   "language": "C++17",
   "name": "xcpp17"
  },
  "language_info": {
   "codemirror_mode": "text/x-c++src",
   "file_extension": ".cpp",
   "mimetype": "text/x-c++src",
   "name": "c++",
   "version": "17"
  }
 },
 "nbformat": 4,
 "nbformat_minor": 5
}
