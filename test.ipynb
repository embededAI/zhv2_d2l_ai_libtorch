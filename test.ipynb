{
 "cells": [
  {
   "cell_type": "markdown",
   "id": "round-dinner",
   "metadata": {},
   "source": [
    "# 使用前，需要先导入需要的头文件"
   ]
  },
  {
   "cell_type": "code",
   "execution_count": 1,
   "id": "cheap-algorithm",
   "metadata": {},
   "outputs": [],
   "source": [
    "#include <iostream>\n",
    "\n",
    "/*a workaround to solve cling issue*/\n",
    "#include \"./inc/macos_cling_workaround.hpp\"\n",
    "/*set libtorch path, load libs*/\n",
    "#include \"./inc/load_libtorch.hpp\"\n",
    "/*import custom defined macros*/\n",
    "#include \"./inc/custom_def.hpp\"\n",
    "/*import matplotlibcpp*/\n",
    "#include \"./inc/load_matplotlibcpp.hpp\"\n",
    "/*import opencv*/\n",
    "#include \"./inc/load_opencv.hpp\"\n",
    "\n",
    "/*import libtorch header file*/\n",
    "#include <torch/torch.h>\n",
    "#include <opencv2/opencv.hpp>\n",
    "#include <cmath>\n",
    "\n",
    "// Use (void) to silent unused warnings.\n",
    "#define assertm(exp, msg) assert(((void)msg, exp))"
   ]
  },
  {
   "cell_type": "code",
   "execution_count": 2,
   "id": "available-brazilian",
   "metadata": {},
   "outputs": [
    {
     "name": "stdout",
     "output_type": "stream",
     "text": [
      "t0 = \n",
      " 0.1659 -0.3105  2.3242  0.8579\n",
      "-0.6440 -0.6431 -0.0497  0.4224\n",
      "-0.3955 -0.9824  0.1588 -1.2744\n",
      "[ CPUHalfType{3,4} ]\n",
      "<<--->>\n",
      "\n"
     ]
    }
   ],
   "source": [
    "//简单测试一下效果\n",
    "\n",
    "torch::Tensor t0 = torch::randn({3,4}, torch::kFloat16);\n",
    "\n",
    "printT(t0);"
   ]
  },
  {
   "cell_type": "code",
   "execution_count": 3,
   "id": "tropical-marina",
   "metadata": {},
   "outputs": [
    {
     "name": "stderr",
     "output_type": "stream",
     "text": [
      "\u001b[1minput_line_22:4:14: \u001b[0m\u001b[0;1;35mwarning: \u001b[0m\u001b[1mnull passed to a callee that requires a non-null argument [-Wnonnull]\u001b[0m\n",
      "std::cout << t1.grad_fn()->name() << std::endl;\n",
      "\u001b[0;1;32m             ^~~~~~~~~~~~\n",
      "\u001b[0m"
     ]
    },
    {
     "ename": "Interpreter Exception",
     "evalue": "",
     "output_type": "error",
     "traceback": [
      "Interpreter Exception: "
     ]
    }
   ],
   "source": [
    "//一个错误调用grad_fn()的例子\n",
    "\n",
    "torch::Tensor t1 = torch::randn({3, 4}, torch::requires_grad(true));\n",
    "\n",
    "std::cout << t1.grad_fn()->name() << std::endl;"
   ]
  },
  {
   "cell_type": "code",
   "execution_count": 5,
   "id": "regulated-surprise",
   "metadata": {},
   "outputs": [
    {
     "name": "stdout",
     "output_type": "stream",
     "text": [
      "y.grad_fn()->name() = \n",
      "PowBackward0\n",
      "<<--->>\n",
      "\n",
      "t2.grad() = \n",
      " 5  5  5  5\n",
      " 5  5  5  5\n",
      " 5  5  5  5\n",
      "[ CPUFloatType{3,4} ]\n",
      "<<--->>\n",
      "\n"
     ]
    }
   ],
   "source": [
    "torch::Tensor t2 = torch::ones({3, 4}, torch::requires_grad(true));\n",
    "\n",
    "auto y = torch::pow(t2, 5);\n",
    "\n",
    "auto z = y.sum();\n",
    "\n",
    "printT(y.grad_fn()->name());\n",
    "\n",
    "// y.backward(torch::ones({3, 4}));\n",
    "// printT(t2.grad());\n",
    "\n",
    "z.backward();\n",
    "printT(t2.grad());"
   ]
  },
  {
   "cell_type": "markdown",
   "id": "representative-headquarters",
   "metadata": {},
   "source": [
    "### 左值，右值，左值引用，右值引用\n",
    "\n",
    "[理解 C/C++ 中的左值和右值](https://nettee.github.io/posts/2018/Understanding-lvalues-and-rvalues-in-C-and-C/)    \n",
    "[c++ 左值引用与右值引用](https://zhuanlan.zhihu.com/p/97128024)"
   ]
  },
  {
   "cell_type": "code",
   "execution_count": 31,
   "id": "great-associate",
   "metadata": {},
   "outputs": [],
   "source": [
    "struct st_test {};"
   ]
  },
  {
   "cell_type": "code",
   "execution_count": 40,
   "id": "younger-chancellor",
   "metadata": {},
   "outputs": [
    {
     "name": "stdout",
     "output_type": "stream",
     "text": [
      "*b = \n",
      "10\n",
      "<<--->>\n",
      "\n",
      "*c = \n",
      "11\n",
      "<<--->>\n",
      "\n",
      "d = \n",
      "10\n",
      "<<--->>\n",
      "\n",
      "a = \n",
      "20\n",
      "<<--->>\n",
      "\n",
      "d = \n",
      "20\n",
      "<<--->>\n",
      "\n",
      "e = \n",
      "30\n",
      "<<--->>\n",
      "\n",
      "e = \n",
      "31\n",
      "<<--->>\n",
      "\n"
     ]
    }
   ],
   "source": [
    "int a = 10;\n",
    "int *b;\n",
    "b = &a;\n",
    "printT(*b);\n",
    "\n",
    "int *c;\n",
    "c = (int *)malloc(sizeof(int));\n",
    "*c = 11;\n",
    "printT(*c);\n",
    "free(c);\n",
    "\n",
    "int& d = a;\n",
    "printT(d);\n",
    "// printT(&a);\n",
    "// printT(&d);\n",
    "\n",
    "d = 20;\n",
    "printT(a);\n",
    "printT(d);\n",
    "\n",
    "\n",
    "int&& e = 30;\n",
    "printT(e);\n",
    "e = 31;\n",
    "printT(e);\n",
    "\n",
    "\n",
    "// \"struct st_test& f_ref1 = st_test();\" will cause error\n",
    "struct st_test&& f_ref1 = st_test();\n",
    "\n"
   ]
  },
  {
   "cell_type": "code",
   "execution_count": null,
   "id": "useful-spouse",
   "metadata": {},
   "outputs": [],
   "source": []
  }
 ],
 "metadata": {
  "kernelspec": {
   "display_name": "C++17",
   "language": "C++17",
   "name": "xcpp17"
  },
  "language_info": {
   "codemirror_mode": "text/x-c++src",
   "file_extension": ".cpp",
   "mimetype": "text/x-c++src",
   "name": "c++",
   "version": "17"
  }
 },
 "nbformat": 4,
 "nbformat_minor": 5
}
