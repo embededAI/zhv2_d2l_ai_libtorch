{
 "cells": [
  {
   "cell_type": "code",
   "execution_count": 1,
   "id": "interracial-import",
   "metadata": {},
   "outputs": [],
   "source": [
    "#include <iostream>\n",
    "\n",
    "/*a workaround to solve cling issue*/\n",
    "#include \"../inc/macos_cling_workaround.hpp\"\n",
    "/*set libtorch path, load libs*/\n",
    "#include \"../inc/load_libtorch.hpp\"\n",
    "/*import custom defined macros*/\n",
    "#include \"../inc/custom_def.hpp\"\n",
    "/*import matplotlibcpp*/\n",
    "#include \"../inc/load_matplotlibcpp.hpp\"\n",
    "/*import opencv*/\n",
    "#include \"../inc/load_opencv.hpp\"\n",
    "\n",
    "/*import libtorch header file*/\n",
    "#include <torch/torch.h>\n",
    "#include <opencv2/opencv.hpp>"
   ]
  },
  {
   "cell_type": "markdown",
   "id": "diverse-roberts",
   "metadata": {},
   "source": [
    "# 加载图像分类数据集：Fasion-MNIST"
   ]
  },
  {
   "cell_type": "markdown",
   "id": "floral-breast",
   "metadata": {},
   "source": [
    "libtorch中没有类似公开课上使用的torchvision的c++ API，不过可以使用原生的mnist API来代替："
   ]
  },
  {
   "cell_type": "markdown",
   "id": "cleared-feeding",
   "metadata": {},
   "source": [
    "### 构造datasets"
   ]
  },
  {
   "cell_type": "code",
   "execution_count": 16,
   "id": "convertible-school",
   "metadata": {},
   "outputs": [
    {
     "name": "stdout",
     "output_type": "stream",
     "text": [
      "images.sizes() = \n",
      "[60000, 1, 28, 28]\n",
      "<<--->>\n",
      "\n",
      "images.dtype() = \n",
      "float\n",
      "<<--->>\n",
      "\n",
      "targets.sizes() = \n",
      "[60000]\n",
      "<<--->>\n",
      "\n",
      "targets.dtype() = \n",
      "long int\n",
      "<<--->>\n",
      "\n"
     ]
    }
   ],
   "source": [
    "// Create a multi-threaded data loader for the Fashion-MNIST dataset.\n",
    "auto data_set = torch::data::datasets::MNIST(\"../dataset/fashion_mnist\");\n",
    "\n",
    "torch::Tensor images  = data_set.images();\n",
    "torch::Tensor targets = data_set.targets();\n",
    "\n",
    "/*打印一下数据集的大小，共60000个图像样本，每个图像均是1通道灰度图，大小是28 x 28像素*/\n",
    "printT(images.sizes());\n",
    "/*图像数据的数据类型是float！*/\n",
    "printT(images.dtype());\n",
    "/*对应数据集的，共有60000个标注*/\n",
    "printT(targets.sizes());\n",
    "/*label的数据类型是long int*/\n",
    "printT(targets.dtype());"
   ]
  },
  {
   "cell_type": "markdown",
   "id": "engaged-player",
   "metadata": {},
   "source": [
    "### 构造 data_loader，用于数据采样 "
   ]
  },
  {
   "cell_type": "code",
   "execution_count": 17,
   "id": "recovered-wireless",
   "metadata": {
    "scrolled": true
   },
   "outputs": [
    {
     "name": "stdout",
     "output_type": "stream",
     "text": [
      "images0.sizes() = \n",
      "[16, 1, 28, 28]\n",
      "<<--->>\n",
      "\n",
      "labels0.sizes() = \n",
      "[16]\n",
      "<<--->>\n",
      "\n"
     ]
    }
   ],
   "source": [
    "auto data_loader = torch::data::make_data_loader(data_set.map(\n",
    "      torch::data::transforms::Stack<>()), /*batch_size=*/16);\n",
    "\n",
    "// auto batch_0 = (*data_loader)[0]; \n",
    "auto batch_iter = data_loader->begin();\n",
    "auto images0 = (*batch_iter).data;\n",
    "auto labels0 = (*batch_iter).target;\n",
    "\n",
    "/*看一下每个batch的大小*/\n",
    "printT(images0.sizes());\n",
    "printT(labels0.sizes());"
   ]
  },
  {
   "cell_type": "markdown",
   "id": "opposed-tournament",
   "metadata": {},
   "source": [
    "# Show 图"
   ]
  },
  {
   "cell_type": "code",
   "execution_count": 18,
   "id": "suited-breed",
   "metadata": {},
   "outputs": [],
   "source": [
    "std::string text_labels[10] = { \"t-shirt\", \"trouser\", \n",
    "                                \"pullover\", \"dress\", \n",
    "                                \"coat\", \"sandal\", \n",
    "                                \"shirt\", \"sneaker\", \n",
    "                                \"bag\", \"ankle boot\"\n",
    "                               };"
   ]
  },
  {
   "cell_type": "code",
   "execution_count": 22,
   "id": "lined-montana",
   "metadata": {},
   "outputs": [],
   "source": [
    "/****************************************\n",
    " * 显示图片的程序\n",
    " * 受到xeus-cling的限制，无法使用像 ‘matplotlib’ 这样\n",
    " * 的包在notebook中嵌入式显示，因此此处借助 opencv 先将\n",
    " * 图片保存，然后借助xeus-cling的rich display机制来\n",
    " * 将图片嵌入显示在notebook中，后续会考虑使用其它插件\n",
    " * 来完善图片显示功能。\n",
    " *****************************************/\n",
    "\n",
    "\n",
    "void show_images(torch::Tensor image, torch::Tensor label, std::string labeltxt[])\n",
    "{\n",
    "    int idx = label[0].item<int>();\n",
    "    std::string label_name = labeltxt[idx];\n",
    "    cv::Mat img(28, 28, CV_8UC1);\n",
    "    std::memcpy((void*)img.data, image.data_ptr(), sizeof(torch::kU8)*image.numel());\n",
    "    cv::imwrite(\"test.png\", img);\n",
    "}"
   ]
  },
  {
   "cell_type": "code",
   "execution_count": 23,
   "id": "atomic-drawing",
   "metadata": {},
   "outputs": [],
   "source": [
    "/* **\n",
    " * images0是batch tensor，是一个四维tensor，其大小为batch_size x channel x height x width\n",
    " * 使用chunk()将其拆散为batch_size个独立tensor，每个tensor是一幅独立图片，然后将这些tensor再组合\n",
    " * 成一个vector<torch::Tensor>;\n",
    " */\n",
    "auto a = torch::chunk(images0, images0.size(0));\n",
    "auto b = torch::chunk(labels0, labels0.size(0));\n",
    "\n",
    "// 取出其中第一幅图像，其大小为 1 x 28 x 28，其中1是通道数\n",
    "auto image = a[0].clone();\n",
    "auto label = b[0].clone();\n",
    "\n",
    "// printT(image.sizes());\n",
    "// 使用squeeze()去除那些大小为1的维度，这里，会把图片的通道维度消除掉，仅剩下长、宽；\n",
    "// permute()函数用于交换不同维度的顺序，这里用不到，如果是3通道图像，tensor的格式为\n",
    "// C X H X W，此时需要借助permute()将其变为 H X W X C;\n",
    "image = image.squeeze();//.permute({1,2,0});\n",
    "// 因为在处理前对cvmat中的值做了归一化，所以现在要*255恢复，同时对于不在0-255范围内的数据，需要做限制\n",
    "image *= 255;\n",
    "image = torch::clamp(image, 0, 255);\n",
    "// 原数据类型为float，为适应cv Mat的数据类型（CV_8UC1），需要转换为unsigned char;\n",
    "image = image.to(torch::kU8);\n",
    "\n",
    "// printT(image);"
   ]
  },
  {
   "cell_type": "code",
   "execution_count": 24,
   "id": "early-publication",
   "metadata": {},
   "outputs": [
    {
     "data": {
      "image/png": "[encoded data removed]"
     },
     "execution_count": 24,
     "metadata": {},
     "output_type": "execute_result"
    }
   ],
   "source": [
    "// 调用函数show图\n",
    "show_images(image, label, text_labels);\n",
    "\n",
    "auto simg = im::image(\"test.png\");\n",
    "simg"
   ]
  },
  {
   "cell_type": "code",
   "execution_count": null,
   "id": "regulated-clause",
   "metadata": {},
   "outputs": [],
   "source": []
  }
 ],
 "metadata": {
  "kernelspec": {
   "display_name": "C++17",
   "language": "C++17",
   "name": "xcpp17"
  },
  "language_info": {
   "codemirror_mode": "text/x-c++src",
   "file_extension": ".cpp",
   "mimetype": "text/x-c++src",
   "name": "c++",
   "version": "17"
  }
 },
 "nbformat": 4,
 "nbformat_minor": 5
}
