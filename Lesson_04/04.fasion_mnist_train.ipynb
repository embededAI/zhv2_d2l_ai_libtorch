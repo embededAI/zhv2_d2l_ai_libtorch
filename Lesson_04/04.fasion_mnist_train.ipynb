{
 "cells": [
  {
   "cell_type": "code",
   "execution_count": 6,
   "id": "ready-shadow",
   "metadata": {},
   "outputs": [],
   "source": [
    "#include <iostream>\n",
    "\n",
    "/*a workaround to solve cling issue*/\n",
    "#include \"../inc/macos_cling_workaround.hpp\"\n",
    "/*set libtorch path, load libs*/\n",
    "#include \"../inc/load_libtorch.hpp\"\n",
    "/*import custom defined macros*/\n",
    "#include \"../inc/custom_def.hpp\"\n",
    "/*import matplotlibcpp*/\n",
    "#include \"../inc/load_matplotlibcpp.hpp\"\n",
    "\n",
    "/*import libtorch header file*/\n",
    "#include <torch/torch.h>"
   ]
  },
  {
   "cell_type": "markdown",
   "id": "selective-redhead",
   "metadata": {},
   "source": [
    "# 图像分类数据集：Fasion-MNIST\n",
    "\n",
    "***注意：libtorch官方有MNIST数据集分类[例程](https://pytorch.org/cppdocs/frontend.html)，需要的可以自行参考；***    \n",
    "fashion-mnist数据集与mnist数据集的文件类型、数据格式一样，因此可以考虑搬用MNIST的处理代码；"
   ]
  },
  {
   "cell_type": "code",
   "execution_count": 7,
   "id": "instrumental-transport",
   "metadata": {},
   "outputs": [],
   "source": [
    "/*design a net*/\n",
    "/**\n",
    " * 同官方例子，骨干网络为三个全连接层，但是每层外加relu和dropout，\n",
    " * 最后再跟一个softmax进行分类；\n",
    " *\n",
    " */\n",
    "struct Net : torch::nn::Module {\n",
    "  Net() {\n",
    "    // Construct and register two Linear submodules.\n",
    "    fc1 = register_module(\"fc1\", torch::nn::Linear(784, 64));\n",
    "    fc2 = register_module(\"fc2\", torch::nn::Linear(64, 32));\n",
    "    fc3 = register_module(\"fc3\", torch::nn::Linear(32, 10));\n",
    "  }\n",
    "\n",
    "  // Implement the Net's algorithm.\n",
    "  torch::Tensor forward(torch::Tensor x) {\n",
    "    // Use one of many tensor manipulation functions.\n",
    "    x = torch::relu(fc1->forward(x.reshape({x.size(0), 784})));\n",
    "    x = torch::dropout(x, /*p=*/0.5, /*train=*/is_training());\n",
    "    x = torch::relu(fc2->forward(x));\n",
    "    x = torch::log_softmax(fc3->forward(x), /*dim=*/1);\n",
    "    return x;\n",
    "  }\n",
    "\n",
    "  // Use one of many \"standard library\" modules.\n",
    "  torch::nn::Linear fc1{nullptr}, fc2{nullptr}, fc3{nullptr};\n",
    "};"
   ]
  },
  {
   "cell_type": "code",
   "execution_count": 9,
   "id": "grand-manor",
   "metadata": {},
   "outputs": [
    {
     "name": "stdout",
     "output_type": "stream",
     "text": [
      "Epoch: 1 | Batch: 500 | Loss: 1.8686\n",
      "Epoch: 2 | Batch: 500 | Loss: 1.09727\n",
      "Epoch: 3 | Batch: 500 | Loss: 0.933681\n",
      "Epoch: 4 | Batch: 500 | Loss: 0.837059\n",
      "Epoch: 5 | Batch: 500 | Loss: 0.757047\n",
      "\n",
      "\n",
      "Training finished!\n",
      "\n"
     ]
    }
   ],
   "source": [
    "// Create a new Net.\n",
    "auto net = std::make_shared<Net>();\n",
    "\n",
    "// Create a multi-threaded data loader for the MNIST dataset.\n",
    "auto data_loader = torch::data::make_data_loader(\n",
    "  torch::data::datasets::MNIST(\"../dataset/fashion_mnist\").map(\n",
    "      torch::data::transforms::Stack<>()),\n",
    "  /*batch_size=*/100);\n",
    "\n",
    "// Instantiate an SGD optimization algorithm to update our Net's parameters.\n",
    "torch::optim::SGD optimizer(net->parameters(), /*lr=*/0.01);\n",
    "\n",
    "for (size_t epoch = 1; epoch <= 5; ++epoch) {\n",
    "    size_t batch_index = 0;\n",
    "    // Iterate the data loader to yield batches from the dataset.\n",
    "    for (auto& batch : *data_loader) {\n",
    "        // Reset gradients.\n",
    "        optimizer.zero_grad();\n",
    "        // Execute the model on the input data.\n",
    "        torch::Tensor prediction = net->forward(batch.data);\n",
    "        // Compute a loss value to judge the prediction of our model.\n",
    "        torch::Tensor loss = torch::nll_loss(prediction, batch.target);\n",
    "        // Compute gradients of the loss w.r.t. the parameters of our model.\n",
    "        loss.backward();\n",
    "        // Update the parameters based on the calculated gradients.\n",
    "        optimizer.step();\n",
    "        // Output the loss and checkpoint every 100 batches.\n",
    "        if (++batch_index % 500 == 0) {\n",
    "        std::cout << \"Epoch: \" << epoch << \" | Batch: \" << batch_index\n",
    "                  << \" | Loss: \" << loss.item<float>() << std::endl;\n",
    "        // Serialize your model periodically as a checkpoint.\n",
    "        torch::save(net, \"net.pt\");\n",
    "        }\n",
    "    }    \n",
    "}\n",
    "\n",
    "std::cout << std::endl << \"\\r\\nTraining finished!\\r\\n\" << std::endl;"
   ]
  },
  {
   "cell_type": "code",
   "execution_count": null,
   "id": "ordered-monster",
   "metadata": {},
   "outputs": [],
   "source": []
  }
 ],
 "metadata": {
  "kernelspec": {
   "display_name": "C++17",
   "language": "C++17",
   "name": "xcpp17"
  },
  "language_info": {
   "codemirror_mode": "text/x-c++src",
   "file_extension": ".cpp",
   "mimetype": "text/x-c++src",
   "name": "c++",
   "version": "17"
  }
 },
 "nbformat": 4,
 "nbformat_minor": 5
}
