{
 "cells": [
  {
   "cell_type": "markdown",
   "id": "round-dinner",
   "metadata": {},
   "source": [
    "# 使用前，需要先导入需要的头文件"
   ]
  },
  {
   "cell_type": "code",
   "execution_count": 1,
   "id": "cheap-algorithm",
   "metadata": {},
   "outputs": [],
   "source": [
    "#include <iostream>\n",
    "\n",
    "/*a workaround to solve cling issue*/\n",
    "#include \"./inc/macos_cling_workaround.hpp\"\n",
    "/*set libtorch path, load libs*/\n",
    "#include \"./inc/load_libtorch.hpp\"\n",
    "/*import custom defined macros*/\n",
    "#include \"./inc/custom_def.hpp\"\n",
    "/*import libtorch header file*/\n",
    "#include <torch/torch.h>"
   ]
  },
  {
   "cell_type": "code",
   "execution_count": 2,
   "id": "available-brazilian",
   "metadata": {},
   "outputs": [
    {
     "name": "stdout",
     "output_type": "stream",
     "text": [
      "t = \n",
      "-1.2041  0.5039 -0.7119  1.1807\n",
      "-0.5464  0.0736 -0.6650  0.3013\n",
      " 1.4414  0.3064  0.2050 -0.0916\n",
      "[ CPUHalfType{3,4} ]\n",
      "<<--->>\n",
      "\n"
     ]
    }
   ],
   "source": [
    "//简单测试一下效果\n",
    "\n",
    "torch::Tensor t = torch::randn({3,4}, torch::kFloat16);\n",
    "\n",
    "printT(t);"
   ]
  },
  {
   "cell_type": "code",
   "execution_count": 3,
   "id": "tropical-marina",
   "metadata": {},
   "outputs": [
    {
     "name": "stderr",
     "output_type": "stream",
     "text": [
      "\u001b[1minput_line_17:4:14: \u001b[0m\u001b[0;1;31merror: \u001b[0m\u001b[1mno matching function for call to 'to_string'\u001b[0m\n",
      "std::cout << std::to_string(test) << std::endl;\n",
      "\u001b[0;1;32m             ^~~~~~~~~~~~~~\n",
      "\u001b[0m\u001b[1m/home/lh/anaconda3/envs/cpp/bin/../lib/gcc/x86_64-conda-linux-gnu/9.3.0/../../../../x86_64-conda-linux-gnu/include/c++/9.3.0/bits/basic_string.h:6546:3: \u001b[0m\u001b[0;1;30mnote: \u001b[0mcandidate function not viable: no known conversion from 'Test' to 'int' for 1st argument\u001b[0m\n",
      "  to_string(int __val)\n",
      "\u001b[0;1;32m  ^\n",
      "\u001b[0m\u001b[1m/home/lh/anaconda3/envs/cpp/bin/../lib/gcc/x86_64-conda-linux-gnu/9.3.0/../../../../x86_64-conda-linux-gnu/include/c++/9.3.0/bits/basic_string.h:6551:3: \u001b[0m\u001b[0;1;30mnote: \u001b[0mcandidate function not viable: no known conversion from 'Test' to 'unsigned int' for 1st\n",
      "      argument\u001b[0m\n",
      "  to_string(unsigned __val)\n",
      "\u001b[0;1;32m  ^\n",
      "\u001b[0m\u001b[1m/home/lh/anaconda3/envs/cpp/bin/../lib/gcc/x86_64-conda-linux-gnu/9.3.0/../../../../x86_64-conda-linux-gnu/include/c++/9.3.0/bits/basic_string.h:6557:3: \u001b[0m\u001b[0;1;30mnote: \u001b[0mcandidate function not viable: no known conversion from 'Test' to 'long' for 1st argument\u001b[0m\n",
      "  to_string(long __val)\n",
      "\u001b[0;1;32m  ^\n",
      "\u001b[0m\u001b[1m/home/lh/anaconda3/envs/cpp/bin/../lib/gcc/x86_64-conda-linux-gnu/9.3.0/../../../../x86_64-conda-linux-gnu/include/c++/9.3.0/bits/basic_string.h:6562:3: \u001b[0m\u001b[0;1;30mnote: \u001b[0mcandidate function not viable: no known conversion from 'Test' to 'unsigned long' for 1st\n",
      "      argument\u001b[0m\n",
      "  to_string(unsigned long __val)\n",
      "\u001b[0;1;32m  ^\n",
      "\u001b[0m\u001b[1m/home/lh/anaconda3/envs/cpp/bin/../lib/gcc/x86_64-conda-linux-gnu/9.3.0/../../../../x86_64-conda-linux-gnu/include/c++/9.3.0/bits/basic_string.h:6568:3: \u001b[0m\u001b[0;1;30mnote: \u001b[0mcandidate function not viable: no known conversion from 'Test' to 'long long' for 1st\n",
      "      argument\u001b[0m\n",
      "  to_string(long long __val)\n",
      "\u001b[0;1;32m  ^\n",
      "\u001b[0m\u001b[1m/home/lh/anaconda3/envs/cpp/bin/../lib/gcc/x86_64-conda-linux-gnu/9.3.0/../../../../x86_64-conda-linux-gnu/include/c++/9.3.0/bits/basic_string.h:6574:3: \u001b[0m\u001b[0;1;30mnote: \u001b[0mcandidate function not viable: no known conversion from 'Test' to 'unsigned long long' for\n",
      "      1st argument\u001b[0m\n",
      "  to_string(unsigned long long __val)\n",
      "\u001b[0;1;32m  ^\n",
      "\u001b[0m\u001b[1m/home/lh/anaconda3/envs/cpp/bin/../lib/gcc/x86_64-conda-linux-gnu/9.3.0/../../../../x86_64-conda-linux-gnu/include/c++/9.3.0/bits/basic_string.h:6580:3: \u001b[0m\u001b[0;1;30mnote: \u001b[0mcandidate function not viable: no known conversion from 'Test' to 'float' for 1st argument\u001b[0m\n",
      "  to_string(float __val)\n",
      "\u001b[0;1;32m  ^\n",
      "\u001b[0m\u001b[1m/home/lh/anaconda3/envs/cpp/bin/../lib/gcc/x86_64-conda-linux-gnu/9.3.0/../../../../x86_64-conda-linux-gnu/include/c++/9.3.0/bits/basic_string.h:6589:3: \u001b[0m\u001b[0;1;30mnote: \u001b[0mcandidate function not viable: no known conversion from 'Test' to 'double' for 1st argument\u001b[0m\n",
      "  to_string(double __val)\n",
      "\u001b[0;1;32m  ^\n",
      "\u001b[0m\u001b[1m/home/lh/anaconda3/envs/cpp/bin/../lib/gcc/x86_64-conda-linux-gnu/9.3.0/../../../../x86_64-conda-linux-gnu/include/c++/9.3.0/bits/basic_string.h:6598:3: \u001b[0m\u001b[0;1;30mnote: \u001b[0mcandidate function not viable: no known conversion from 'Test' to 'long double' for 1st\n",
      "      argument\u001b[0m\n",
      "  to_string(long double __val)\n",
      "\u001b[0;1;32m  ^\n",
      "\u001b[0m\u001b[1m/opt/libtorch/include/c10/util/C++17.h:317:20: \u001b[0m\u001b[0;1;30mnote: \u001b[0mcandidate function not viable: no known conversion from 'Test' to\n",
      "      'c10::guts::detail::DummyClassForToString' for 1st argument\u001b[0m\n",
      "inline std::string to_string(c10::guts::detail::DummyClassForToString) { return \"\"; }\n",
      "\u001b[0;1;32m                   ^\n",
      "\u001b[0m"
     ]
    },
    {
     "ename": "Interpreter Error",
     "evalue": "",
     "output_type": "error",
     "traceback": [
      "Interpreter Error: "
     ]
    }
   ],
   "source": [
    "class Test final {};\n",
    "\n",
    "Test test;\n",
    "\n",
    "std::cout << std::to_string(test) << std::endl;"
   ]
  },
  {
   "cell_type": "code",
   "execution_count": null,
   "id": "regulated-surprise",
   "metadata": {},
   "outputs": [],
   "source": []
  }
 ],
 "metadata": {
  "kernelspec": {
   "display_name": "C++14",
   "language": "C++14",
   "name": "xcpp14"
  },
  "language_info": {
   "codemirror_mode": "text/x-c++src",
   "file_extension": ".cpp",
   "mimetype": "text/x-c++src",
   "name": "c++",
   "version": "14"
  }
 },
 "nbformat": 4,
 "nbformat_minor": 5
}
