{
 "cells": [
  {
   "cell_type": "code",
   "execution_count": 1,
   "id": "surface-citation",
   "metadata": {},
   "outputs": [],
   "source": [
    "#include <iostream>\n",
    "\n",
    "/*a workaround to solve cling issue*/\n",
    "#include \"../inc/macos_cling_workaround.hpp\"\n",
    "/*set libtorch path, load libs*/\n",
    "#include \"../inc/load_libtorch.hpp\"\n",
    "/*import custom defined macros*/\n",
    "#include \"../inc/custom_def.hpp\"\n",
    "/*import matplotlibcpp*/\n",
    "#include \"../inc/load_matplotlibcpp.hpp\"\n",
    "/*import opencv*/\n",
    "#include \"../inc/load_opencv.hpp\"\n",
    "\n",
    "/*import libtorch header file*/\n",
    "#include <torch/torch.h>\n",
    "#include <opencv2/opencv.hpp>\n",
    "#include <cmath>\n",
    "\n",
    "// Use (void) to silent unused warnings.\n",
    "#define assertm(exp, msg) assert(((void)msg, exp))"
   ]
  },
  {
   "cell_type": "code",
   "execution_count": 2,
   "id": "apart-culture",
   "metadata": {},
   "outputs": [],
   "source": [
    "#define VAR_NAME(Variable) (#Variable)\n",
    "\n",
    "void print_tensor_size(std::string name, torch::Tensor t)\n",
    "{\n",
    "    int dims = t.dim();\n",
    "    std::cout << name << \" dims is (\";\n",
    "    for (int i = 0; i < dims; i++) {\n",
    "        std::cout << t.size(i);\n",
    "        if (i < (dims - 1)) std::cout << \" x \";\n",
    "    }\n",
    "    std::cout << \")\" << std::endl;\n",
    "}"
   ]
  },
  {
   "cell_type": "markdown",
   "id": "exterior-petersburg",
   "metadata": {},
   "source": [
    "# 填充和步幅"
   ]
  },
  {
   "cell_type": "markdown",
   "id": "desperate-particular",
   "metadata": {},
   "source": [
    "**在所有侧边填充1个像素**"
   ]
  },
  {
   "cell_type": "code",
   "execution_count": 3,
   "id": "broad-horizontal",
   "metadata": {},
   "outputs": [],
   "source": [
    "// def comp_conv2d(conv2d, X):\n",
    "//     X = X.reshape((1, 1) + X.shape)\n",
    "//     Y = conv2d(X)\n",
    "//     return Y.reshape(Y.shape[2:])\n",
    "\n",
    "// conv2d = nn.Conv2d(1, 1, kernel_size=3, padding=1)\n",
    "// X = torch.rand(size=(8, 8))\n",
    "// comp_conv2d(conv2d, X).shape"
   ]
  },
  {
   "cell_type": "code",
   "execution_count": 4,
   "id": "anticipated-karaoke",
   "metadata": {},
   "outputs": [],
   "source": [
    "torch::Tensor comp_conv2d(torch::nn::Sequential conv2d, torch::Tensor X)\n",
    "{\n",
    "//     auto s = X.sizes(); //c10::IntArrayRef\n",
    "//     X = X.reshape({s[0]+1, s[1]+1});\n",
    "    X = torch::constant_pad_nd(X, at::IntArrayRef({0,1}));\n",
    "    printT(X.sizes());\n",
    "    auto Y = conv2d->forward(X);\n",
    "    printT(Y.sizes());\n",
    "    return Y.reshape(at::IntArrayRef({Y.size(2), Y.size(3)}));\n",
    "}"
   ]
  },
  {
   "cell_type": "code",
   "execution_count": 5,
   "id": "valid-maximum",
   "metadata": {},
   "outputs": [
    {
     "name": "stdout",
     "output_type": "stream",
     "text": [
      "X.sizes() = \n",
      "[8, 9]\n",
      "<<--->>\n",
      "\n"
     ]
    },
    {
     "ename": "Standard Exception",
     "evalue": "Expected 4-dimensional input for 4-dimensional weight [1, 1, 3, 3], but got 2-dimensional input of size [8, 9] instead\nException raised from check_shape_forward at /home/lh/github/libtorch/pytorch/aten/src/ATen/native/Convolution.cpp:454 (most recent call first):\nframe #0: c10::Error::Error(c10::SourceLocation, std::__cxx11::basic_string<char, std::char_traits<char>, std::allocator<char> >) + 0x69 (0x7fef789c1fd9 in /opt/libtorch/lib/libc10.so)\nframe #1: at::native::_convolution(at::Tensor const&, at::Tensor const&, at::Tensor const&, c10::ArrayRef<long>, c10::ArrayRef<long>, c10::ArrayRef<long>, bool, c10::ArrayRef<long>, long, bool, bool, bool, bool) + 0x1fad (0x7fef6583f2ed in /opt/libtorch/lib/libtorch_cpu.so)\nframe #2: <unknown function> + 0x12f3087 (0x7fef660ad087 in /opt/libtorch/lib/libtorch_cpu.so)\nframe #3: <unknown function> + 0x1354222 (0x7fef6610e222 in /opt/libtorch/lib/libtorch_cpu.so)\nframe #4: <unknown function> + 0x8db1d5 (0x7fef656951d5 in /opt/libtorch/lib/libtorch_cpu.so)\nframe #5: <unknown function> + 0x12493f8 (0x7fef660033f8 in /opt/libtorch/lib/libtorch_cpu.so)\nframe #6: at::_convolution(at::Tensor const&, at::Tensor const&, c10::optional<at::Tensor> const&, c10::ArrayRef<long>, c10::ArrayRef<long>, c10::ArrayRef<long>, bool, c10::ArrayRef<long>, long, bool, bool, bool, bool) + 0x212 (0x7fef65f0d172 in /opt/libtorch/lib/libtorch_cpu.so)\nframe #7: at::native::convolution(at::Tensor const&, at::Tensor const&, at::Tensor const&, c10::ArrayRef<long>, c10::ArrayRef<long>, c10::ArrayRef<long>, bool, c10::ArrayRef<long>, long) + 0xe8 (0x7fef65839078 in /opt/libtorch/lib/libtorch_cpu.so)\nframe #8: <unknown function> + 0x12f2d00 (0x7fef660acd00 in /opt/libtorch/lib/libtorch_cpu.so)\nframe #9: <unknown function> + 0x1354085 (0x7fef6610e085 in /opt/libtorch/lib/libtorch_cpu.so)\nframe #10: <unknown function> + 0x8db406 (0x7fef65695406 in /opt/libtorch/lib/libtorch_cpu.so)\nframe #11: <unknown function> + 0x1248620 (0x7fef66002620 in /opt/libtorch/lib/libtorch_cpu.so)\nframe #12: at::convolution(at::Tensor const&, at::Tensor const&, c10::optional<at::Tensor> const&, c10::ArrayRef<long>, c10::ArrayRef<long>, c10::ArrayRef<long>, bool, c10::ArrayRef<long>, long) + 0x193 (0x7fef65f0c933 in /opt/libtorch/lib/libtorch_cpu.so)\nframe #13: at::native::conv2d(at::Tensor const&, at::Tensor const&, at::Tensor const&, c10::ArrayRef<long>, c10::ArrayRef<long>, c10::ArrayRef<long>, long) + 0x78 (0x7fef65838c38 in /opt/libtorch/lib/libtorch_cpu.so)\nframe #14: <unknown function> + 0x12f365f (0x7fef660ad65f in /opt/libtorch/lib/libtorch_cpu.so)\nframe #15: <unknown function> + 0x13546d8 (0x7fef6610e6d8 in /opt/libtorch/lib/libtorch_cpu.so)\nframe #16: <unknown function> + 0x8db2c6 (0x7fef656952c6 in /opt/libtorch/lib/libtorch_cpu.so)\nframe #17: <unknown function> + 0x124b067 (0x7fef66005067 in /opt/libtorch/lib/libtorch_cpu.so)\nframe #18: at::conv2d(at::Tensor const&, at::Tensor const&, c10::optional<at::Tensor> const&, c10::ArrayRef<long>, c10::ArrayRef<long>, c10::ArrayRef<long>, long) + 0x13b (0x7fef65f0e6fb in /opt/libtorch/lib/libtorch_cpu.so)\nframe #19: torch::nn::Conv2dImpl::_conv_forward(at::Tensor const&, at::Tensor const&) + 0xe7 (0x7fef67f1e707 in /opt/libtorch/lib/libtorch_cpu.so)\nframe #20: torch::nn::Conv2dImpl::forward(at::Tensor const&) + 0x24 (0x7fef67f1e964 in /opt/libtorch/lib/libtorch_cpu.so)\nframe #21: [0x7fef805fc07e]\nframe #22: [0x7fef805fe7ed]\nframe #23: [0x7fef805fe774]\nframe #24: [0x7fef805fcc3f]\nframe #25: [0x7fef805ece55]\nframe #26: [0x7fef805ebf13]\nframe #27: [0x7fef805eb2ac]\nframe #28: [0x7fef805f230c]\nframe #29: [0x7fef805f23f8]\nframe #30: cling::IncrementalExecutor::runStaticInitializersOnce(cling::Transaction const&) const + 0x5ae (0x7fef843a586e in /home/lh/anaconda3/envs/cpp/bin/../lib/libxeus-cling.so.0)\nframe #31: cling::Interpreter::executeTransaction(cling::Transaction&) + 0xb3 (0x7fef84309b63 in /home/lh/anaconda3/envs/cpp/bin/../lib/libxeus-cling.so.0)\nframe #32: cling::IncrementalParser::commitTransaction(llvm::PointerIntPair<cling::Transaction*, 2u, cling::IncrementalParser::EParseResult, llvm::PointerLikeTypeTraits<cling::Transaction*>, llvm::PointerIntPairInfo<cling::Transaction*, 2u, llvm::PointerLikeTypeTraits<cling::Transaction*> > >&, bool) + 0x37e (0x7fef843b5b4e in /home/lh/anaconda3/envs/cpp/bin/../lib/libxeus-cling.so.0)\nframe #33: cling::IncrementalParser::Compile(llvm::StringRef, cling::CompilationOptions const&) + 0x6a (0x7fef843b5daa in /home/lh/anaconda3/envs/cpp/bin/../lib/libxeus-cling.so.0)\nframe #34: cling::Interpreter::EvaluateInternal(std::__cxx11::basic_string<char, std::char_traits<char>, std::allocator<char> > const&, cling::CompilationOptions, cling::Value*, cling::Transaction**, unsigned long) + 0x8e (0x7fef843078de in /home/lh/anaconda3/envs/cpp/bin/../lib/libxeus-cling.so.0)\nframe #35: cling::Interpreter::process(std::__cxx11::basic_string<char, std::char_traits<char>, std::allocator<char> > const&, cling::Value*, cling::Transaction**, bool) + 0x15b (0x7fef84307d3b in /home/lh/anaconda3/envs/cpp/bin/../lib/libxeus-cling.so.0)\nframe #36: xcpp::interpreter::execute_request_impl(int, std::__cxx11::basic_string<char, std::char_traits<char>, std::allocator<char> > const&, bool, bool, nlohmann::basic_json<std::map, std::vector, std::__cxx11::basic_string<char, std::char_traits<char>, std::allocator<char> >, bool, long, unsigned long, double, std::allocator, nlohmann::adl_serializer, std::vector<unsigned char, std::allocator<unsigned char> > >, bool) + 0x2d4 (0x7fef842ad904 in /home/lh/anaconda3/envs/cpp/bin/../lib/libxeus-cling.so.0)\nframe #37: xeus::xinterpreter::execute_request(std::__cxx11::basic_string<char, std::char_traits<char>, std::allocator<char> > const&, bool, bool, nlohmann::basic_json<std::map, std::vector, std::__cxx11::basic_string<char, std::char_traits<char>, std::allocator<char> >, bool, long, unsigned long, double, std::allocator, nlohmann::adl_serializer, std::vector<unsigned char, std::allocator<unsigned char> > >, bool) + 0x135 (0x7fef88814b25 in /home/lh/anaconda3/envs/cpp/bin/../lib/libxeus.so.1)\nframe #38: xeus::xkernel_core::execute_request(xeus::xmessage const&, xeus::channel) + 0x4df (0x7fef88825dcf in /home/lh/anaconda3/envs/cpp/bin/../lib/libxeus.so.1)\nframe #39: xeus::xkernel_core::dispatch(zmq::multipart_t&, xeus::channel) + 0x1e6 (0x7fef88827586 in /home/lh/anaconda3/envs/cpp/bin/../lib/libxeus.so.1)\nframe #40: xeus::xserver_zmq::poll(long) + 0x3e6 (0x7fef8883d1e6 in /home/lh/anaconda3/envs/cpp/bin/../lib/libxeus.so.1)\nframe #41: xeus::xserver_zmq::start_impl(zmq::multipart_t&) + 0x50 (0x7fef8883d640 in /home/lh/anaconda3/envs/cpp/bin/../lib/libxeus.so.1)\nframe #42: xeus::xkernel::start() + 0x4c (0x7fef88816aac in /home/lh/anaconda3/envs/cpp/bin/../lib/libxeus.so.1)\nframe #43: main + 0x234 (0x55eac4d3a674 in /home/lh/anaconda3/envs/cpp/bin/xcpp)\nframe #44: __libc_start_main + 0xf0 (0x7fef83376840 in /lib/x86_64-linux-gnu/libc.so.6)\nframe #45: <unknown function> + 0xdea5 (0x55eac4d3aea5 in /home/lh/anaconda3/envs/cpp/bin/xcpp)\n",
     "output_type": "error",
     "traceback": [
      "Standard Exception: Expected 4-dimensional input for 4-dimensional weight [1, 1, 3, 3], but got 2-dimensional input of size [8, 9] instead\nException raised from check_shape_forward at /home/lh/github/libtorch/pytorch/aten/src/ATen/native/Convolution.cpp:454 (most recent call first):\nframe #0: c10::Error::Error(c10::SourceLocation, std::__cxx11::basic_string<char, std::char_traits<char>, std::allocator<char> >) + 0x69 (0x7fef789c1fd9 in /opt/libtorch/lib/libc10.so)\nframe #1: at::native::_convolution(at::Tensor const&, at::Tensor const&, at::Tensor const&, c10::ArrayRef<long>, c10::ArrayRef<long>, c10::ArrayRef<long>, bool, c10::ArrayRef<long>, long, bool, bool, bool, bool) + 0x1fad (0x7fef6583f2ed in /opt/libtorch/lib/libtorch_cpu.so)\nframe #2: <unknown function> + 0x12f3087 (0x7fef660ad087 in /opt/libtorch/lib/libtorch_cpu.so)\nframe #3: <unknown function> + 0x1354222 (0x7fef6610e222 in /opt/libtorch/lib/libtorch_cpu.so)\nframe #4: <unknown function> + 0x8db1d5 (0x7fef656951d5 in /opt/libtorch/lib/libtorch_cpu.so)\nframe #5: <unknown function> + 0x12493f8 (0x7fef660033f8 in /opt/libtorch/lib/libtorch_cpu.so)\nframe #6: at::_convolution(at::Tensor const&, at::Tensor const&, c10::optional<at::Tensor> const&, c10::ArrayRef<long>, c10::ArrayRef<long>, c10::ArrayRef<long>, bool, c10::ArrayRef<long>, long, bool, bool, bool, bool) + 0x212 (0x7fef65f0d172 in /opt/libtorch/lib/libtorch_cpu.so)\nframe #7: at::native::convolution(at::Tensor const&, at::Tensor const&, at::Tensor const&, c10::ArrayRef<long>, c10::ArrayRef<long>, c10::ArrayRef<long>, bool, c10::ArrayRef<long>, long) + 0xe8 (0x7fef65839078 in /opt/libtorch/lib/libtorch_cpu.so)\nframe #8: <unknown function> + 0x12f2d00 (0x7fef660acd00 in /opt/libtorch/lib/libtorch_cpu.so)\nframe #9: <unknown function> + 0x1354085 (0x7fef6610e085 in /opt/libtorch/lib/libtorch_cpu.so)\nframe #10: <unknown function> + 0x8db406 (0x7fef65695406 in /opt/libtorch/lib/libtorch_cpu.so)\nframe #11: <unknown function> + 0x1248620 (0x7fef66002620 in /opt/libtorch/lib/libtorch_cpu.so)\nframe #12: at::convolution(at::Tensor const&, at::Tensor const&, c10::optional<at::Tensor> const&, c10::ArrayRef<long>, c10::ArrayRef<long>, c10::ArrayRef<long>, bool, c10::ArrayRef<long>, long) + 0x193 (0x7fef65f0c933 in /opt/libtorch/lib/libtorch_cpu.so)\nframe #13: at::native::conv2d(at::Tensor const&, at::Tensor const&, at::Tensor const&, c10::ArrayRef<long>, c10::ArrayRef<long>, c10::ArrayRef<long>, long) + 0x78 (0x7fef65838c38 in /opt/libtorch/lib/libtorch_cpu.so)\nframe #14: <unknown function> + 0x12f365f (0x7fef660ad65f in /opt/libtorch/lib/libtorch_cpu.so)\nframe #15: <unknown function> + 0x13546d8 (0x7fef6610e6d8 in /opt/libtorch/lib/libtorch_cpu.so)\nframe #16: <unknown function> + 0x8db2c6 (0x7fef656952c6 in /opt/libtorch/lib/libtorch_cpu.so)\nframe #17: <unknown function> + 0x124b067 (0x7fef66005067 in /opt/libtorch/lib/libtorch_cpu.so)\nframe #18: at::conv2d(at::Tensor const&, at::Tensor const&, c10::optional<at::Tensor> const&, c10::ArrayRef<long>, c10::ArrayRef<long>, c10::ArrayRef<long>, long) + 0x13b (0x7fef65f0e6fb in /opt/libtorch/lib/libtorch_cpu.so)\nframe #19: torch::nn::Conv2dImpl::_conv_forward(at::Tensor const&, at::Tensor const&) + 0xe7 (0x7fef67f1e707 in /opt/libtorch/lib/libtorch_cpu.so)\nframe #20: torch::nn::Conv2dImpl::forward(at::Tensor const&) + 0x24 (0x7fef67f1e964 in /opt/libtorch/lib/libtorch_cpu.so)\nframe #21: [0x7fef805fc07e]\nframe #22: [0x7fef805fe7ed]\nframe #23: [0x7fef805fe774]\nframe #24: [0x7fef805fcc3f]\nframe #25: [0x7fef805ece55]\nframe #26: [0x7fef805ebf13]\nframe #27: [0x7fef805eb2ac]\nframe #28: [0x7fef805f230c]\nframe #29: [0x7fef805f23f8]\nframe #30: cling::IncrementalExecutor::runStaticInitializersOnce(cling::Transaction const&) const + 0x5ae (0x7fef843a586e in /home/lh/anaconda3/envs/cpp/bin/../lib/libxeus-cling.so.0)\nframe #31: cling::Interpreter::executeTransaction(cling::Transaction&) + 0xb3 (0x7fef84309b63 in /home/lh/anaconda3/envs/cpp/bin/../lib/libxeus-cling.so.0)\nframe #32: cling::IncrementalParser::commitTransaction(llvm::PointerIntPair<cling::Transaction*, 2u, cling::IncrementalParser::EParseResult, llvm::PointerLikeTypeTraits<cling::Transaction*>, llvm::PointerIntPairInfo<cling::Transaction*, 2u, llvm::PointerLikeTypeTraits<cling::Transaction*> > >&, bool) + 0x37e (0x7fef843b5b4e in /home/lh/anaconda3/envs/cpp/bin/../lib/libxeus-cling.so.0)\nframe #33: cling::IncrementalParser::Compile(llvm::StringRef, cling::CompilationOptions const&) + 0x6a (0x7fef843b5daa in /home/lh/anaconda3/envs/cpp/bin/../lib/libxeus-cling.so.0)\nframe #34: cling::Interpreter::EvaluateInternal(std::__cxx11::basic_string<char, std::char_traits<char>, std::allocator<char> > const&, cling::CompilationOptions, cling::Value*, cling::Transaction**, unsigned long) + 0x8e (0x7fef843078de in /home/lh/anaconda3/envs/cpp/bin/../lib/libxeus-cling.so.0)\nframe #35: cling::Interpreter::process(std::__cxx11::basic_string<char, std::char_traits<char>, std::allocator<char> > const&, cling::Value*, cling::Transaction**, bool) + 0x15b (0x7fef84307d3b in /home/lh/anaconda3/envs/cpp/bin/../lib/libxeus-cling.so.0)\nframe #36: xcpp::interpreter::execute_request_impl(int, std::__cxx11::basic_string<char, std::char_traits<char>, std::allocator<char> > const&, bool, bool, nlohmann::basic_json<std::map, std::vector, std::__cxx11::basic_string<char, std::char_traits<char>, std::allocator<char> >, bool, long, unsigned long, double, std::allocator, nlohmann::adl_serializer, std::vector<unsigned char, std::allocator<unsigned char> > >, bool) + 0x2d4 (0x7fef842ad904 in /home/lh/anaconda3/envs/cpp/bin/../lib/libxeus-cling.so.0)\nframe #37: xeus::xinterpreter::execute_request(std::__cxx11::basic_string<char, std::char_traits<char>, std::allocator<char> > const&, bool, bool, nlohmann::basic_json<std::map, std::vector, std::__cxx11::basic_string<char, std::char_traits<char>, std::allocator<char> >, bool, long, unsigned long, double, std::allocator, nlohmann::adl_serializer, std::vector<unsigned char, std::allocator<unsigned char> > >, bool) + 0x135 (0x7fef88814b25 in /home/lh/anaconda3/envs/cpp/bin/../lib/libxeus.so.1)\nframe #38: xeus::xkernel_core::execute_request(xeus::xmessage const&, xeus::channel) + 0x4df (0x7fef88825dcf in /home/lh/anaconda3/envs/cpp/bin/../lib/libxeus.so.1)\nframe #39: xeus::xkernel_core::dispatch(zmq::multipart_t&, xeus::channel) + 0x1e6 (0x7fef88827586 in /home/lh/anaconda3/envs/cpp/bin/../lib/libxeus.so.1)\nframe #40: xeus::xserver_zmq::poll(long) + 0x3e6 (0x7fef8883d1e6 in /home/lh/anaconda3/envs/cpp/bin/../lib/libxeus.so.1)\nframe #41: xeus::xserver_zmq::start_impl(zmq::multipart_t&) + 0x50 (0x7fef8883d640 in /home/lh/anaconda3/envs/cpp/bin/../lib/libxeus.so.1)\nframe #42: xeus::xkernel::start() + 0x4c (0x7fef88816aac in /home/lh/anaconda3/envs/cpp/bin/../lib/libxeus.so.1)\nframe #43: main + 0x234 (0x55eac4d3a674 in /home/lh/anaconda3/envs/cpp/bin/xcpp)\nframe #44: __libc_start_main + 0xf0 (0x7fef83376840 in /lib/x86_64-linux-gnu/libc.so.6)\nframe #45: <unknown function> + 0xdea5 (0x55eac4d3aea5 in /home/lh/anaconda3/envs/cpp/bin/xcpp)\n"
     ]
    }
   ],
   "source": [
    "torch::nn::Sequential conv2d{torch::nn::Conv2d(torch::nn::Conv2dOptions(1, 1, {3, 3}).stride(1).padding(1).bias(false))};\n",
    "auto X = torch::rand({8, 8});\n",
    "auto Z = comp_conv2d(conv2d, X);\n",
    "printT(Z.sizes());"
   ]
  },
  {
   "cell_type": "code",
   "execution_count": null,
   "id": "consolidated-folks",
   "metadata": {},
   "outputs": [],
   "source": []
  },
  {
   "cell_type": "code",
   "execution_count": null,
   "id": "periodic-relative",
   "metadata": {},
   "outputs": [],
   "source": []
  },
  {
   "cell_type": "code",
   "execution_count": null,
   "id": "affecting-passage",
   "metadata": {},
   "outputs": [],
   "source": []
  },
  {
   "cell_type": "code",
   "execution_count": null,
   "id": "dental-feeding",
   "metadata": {},
   "outputs": [],
   "source": []
  },
  {
   "cell_type": "code",
   "execution_count": null,
   "id": "proper-florence",
   "metadata": {},
   "outputs": [],
   "source": []
  },
  {
   "cell_type": "code",
   "execution_count": null,
   "id": "presidential-dining",
   "metadata": {},
   "outputs": [],
   "source": []
  },
  {
   "cell_type": "code",
   "execution_count": null,
   "id": "lesser-lithuania",
   "metadata": {},
   "outputs": [],
   "source": []
  },
  {
   "cell_type": "code",
   "execution_count": null,
   "id": "renewable-humidity",
   "metadata": {},
   "outputs": [],
   "source": []
  },
  {
   "cell_type": "code",
   "execution_count": null,
   "id": "manual-apparel",
   "metadata": {},
   "outputs": [],
   "source": []
  },
  {
   "cell_type": "code",
   "execution_count": null,
   "id": "chemical-personal",
   "metadata": {},
   "outputs": [],
   "source": []
  },
  {
   "cell_type": "code",
   "execution_count": null,
   "id": "complex-convenience",
   "metadata": {},
   "outputs": [],
   "source": []
  },
  {
   "cell_type": "code",
   "execution_count": null,
   "id": "recorded-adolescent",
   "metadata": {},
   "outputs": [],
   "source": []
  }
 ],
 "metadata": {
  "kernelspec": {
   "display_name": "C++17",
   "language": "C++17",
   "name": "xcpp17"
  },
  "language_info": {
   "codemirror_mode": "text/x-c++src",
   "file_extension": ".cpp",
   "mimetype": "text/x-c++src",
   "name": "c++",
   "version": "17"
  }
 },
 "nbformat": 4,
 "nbformat_minor": 5
}
