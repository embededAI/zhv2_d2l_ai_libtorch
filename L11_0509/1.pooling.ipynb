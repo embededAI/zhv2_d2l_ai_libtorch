{
 "cells": [
  {
   "cell_type": "code",
   "execution_count": 1,
   "id": "surface-citation",
   "metadata": {},
   "outputs": [],
   "source": [
    "#include <iostream>\n",
    "\n",
    "/*a workaround to solve cling issue*/\n",
    "#include \"../inc/macos_cling_workaround.hpp\"\n",
    "/*set libtorch path, load libs*/\n",
    "#include \"../inc/load_libtorch.hpp\"\n",
    "/*import custom defined macros*/\n",
    "#include \"../inc/custom_def.hpp\"\n",
    "/*import matplotlibcpp*/\n",
    "#include \"../inc/load_matplotlibcpp.hpp\"\n",
    "/*import opencv*/\n",
    "#include \"../inc/load_opencv.hpp\"\n",
    "\n",
    "/*import libtorch header file*/\n",
    "#include <torch/torch.h>\n",
    "#include <opencv2/opencv.hpp>\n",
    "#include <cmath>\n",
    "\n",
    "// Use (void) to silent unused warnings.\n",
    "#define assertm(exp, msg) assert(((void)msg, exp))"
   ]
  },
  {
   "cell_type": "code",
   "execution_count": 2,
   "id": "apart-culture",
   "metadata": {},
   "outputs": [],
   "source": [
    "#define VAR_NAME(Variable) (#Variable)\n",
    "\n",
    "void print_tensor_size(std::string name, torch::Tensor t)\n",
    "{\n",
    "    int dims = t.dim();\n",
    "    std::cout << name << \" dims is (\";\n",
    "    for (int i = 0; i < dims; i++) {\n",
    "        std::cout << t.size(i);\n",
    "        if (i < (dims - 1)) std::cout << \" x \";\n",
    "    }\n",
    "    std::cout << \")\" << std::endl;\n",
    "}"
   ]
  },
  {
   "cell_type": "markdown",
   "id": "innovative-danish",
   "metadata": {},
   "source": [
    "# 池化层"
   ]
  },
  {
   "cell_type": "markdown",
   "id": "incorporate-reform",
   "metadata": {},
   "source": [
    "**实现池化层的正向传播**"
   ]
  },
  {
   "cell_type": "code",
   "execution_count": 3,
   "id": "announced-chance",
   "metadata": {},
   "outputs": [],
   "source": [
    "// def pool2d(X, pool_size, mode='max'):\n",
    "//     p_h, p_w = pool_size\n",
    "//     Y = torch.zeros((X.shape[0] - p_h + 1, X.shape[1] - p_w + 1))\n",
    "//     for i in range(Y.shape[0]):\n",
    "//         for j in range(Y.shape[1]):\n",
    "//             if mode == 'max':\n",
    "//                 Y[i, j] = X[i:i + p_h, j:j + p_w].max()\n",
    "//             elif mode == 'avg':\n",
    "//                 Y[i, j] = X[i:i + p_h, j:j + p_w].mean()\n",
    "//     return Y"
   ]
  },
  {
   "cell_type": "code",
   "execution_count": 4,
   "id": "lonely-premiere",
   "metadata": {},
   "outputs": [],
   "source": [
    "using Slice = torch::indexing::Slice;\n"
   ]
  },
  {
   "cell_type": "code",
   "execution_count": 5,
   "id": "electric-riverside",
   "metadata": {},
   "outputs": [],
   "source": [
    "torch::Tensor pool2d(torch::Tensor X, at::IntArrayRef pool_size, std::string mode=\"max\")\n",
    "{\n",
    "    int p_h = pool_size[0];\n",
    "    int p_w = pool_size[1];\n",
    "    \n",
    "    auto Y = torch::zeros({X.size(0) - p_h + 1, X.size(1) - p_w + 1});\n",
    "    for (int i = 0; i < Y.size(0); i++) {\n",
    "        for (int j = 0; j < Y.size(1); j++) {\n",
    "            if (mode == \"max\") {\n",
    "                Y[i][j] = X.index({Slice(i, i+p_h), Slice(j, j+p_w)}).max();\n",
    "            } else if (mode == \"avg\") {\n",
    "                Y[i][j] = X.index({Slice(i, i+p_h), Slice(j, j+p_w)}).mean();\n",
    "            }\n",
    "        }\n",
    "    }\n",
    "    \n",
    "    return Y;\n",
    "}"
   ]
  },
  {
   "cell_type": "markdown",
   "id": "drawn-calculation",
   "metadata": {},
   "source": [
    "**验证二维最大池化层的输出**"
   ]
  },
  {
   "cell_type": "code",
   "execution_count": 6,
   "id": "requested-hawaiian",
   "metadata": {},
   "outputs": [
    {
     "name": "stdout",
     "output_type": "stream",
     "text": [
      "pool2d(X, {2, 2}) = \n",
      " 4  5\n",
      " 7  8\n",
      "[ CPUFloatType{2,2} ]\n",
      "<<--->>\n",
      "\n"
     ]
    }
   ],
   "source": [
    "// X = torch.tensor([[0.0, 1.0, 2.0], [3.0, 4.0, 5.0], [6.0, 7.0, 8.0]])\n",
    "// pool2d(X, (2, 2))\n",
    "\n",
    "\n",
    "auto X = torch::tensor(at::ArrayRef<float>({0.0, 1.0, 2.0, 3.0, 4.0, 5.0, 6.0, 7.0, 8.0}));\n",
    "X = X.reshape({3, 3});\n",
    "\n",
    "printT(pool2d(X, {2, 2}));"
   ]
  },
  {
   "cell_type": "markdown",
   "id": "seasonal-beijing",
   "metadata": {},
   "source": [
    "**验证平均池化层**"
   ]
  },
  {
   "cell_type": "code",
   "execution_count": 7,
   "id": "contemporary-essay",
   "metadata": {},
   "outputs": [
    {
     "name": "stdout",
     "output_type": "stream",
     "text": [
      "pool2d(X, {2, 2}, \"avg\") = \n",
      " 2  3\n",
      " 5  6\n",
      "[ CPUFloatType{2,2} ]\n",
      "<<--->>\n",
      "\n"
     ]
    }
   ],
   "source": [
    "// pool2d(X, (2, 2), 'avg')\n",
    "\n",
    "printT(pool2d(X, {2, 2}, \"avg\"));"
   ]
  },
  {
   "cell_type": "markdown",
   "id": "israeli-andrews",
   "metadata": {},
   "source": [
    "**填充和步幅**"
   ]
  },
  {
   "cell_type": "code",
   "execution_count": 8,
   "id": "incorrect-drama",
   "metadata": {},
   "outputs": [
    {
     "name": "stdout",
     "output_type": "stream",
     "text": [
      "X1 = \n",
      "(1,1,.,.) = \n",
      "   0   1   2   3\n",
      "   4   5   6   7\n",
      "   8   9  10  11\n",
      "  12  13  14  15\n",
      "[ CPUFloatType{1,1,4,4} ]\n",
      "<<--->>\n",
      "\n"
     ]
    }
   ],
   "source": [
    "// X = torch.arange(16, dtype=torch.float32).reshape((1, 1, 4, 4))\n",
    "// X\n",
    "\n",
    "auto X1 = torch::arange(16, torch::kFloat).reshape({1, 1, 4, 4});\n",
    "printT(X1);"
   ]
  },
  {
   "cell_type": "markdown",
   "id": "figured-alliance",
   "metadata": {},
   "source": [
    "**深度学习框架中的步幅与池化窗口的大小相同**"
   ]
  },
  {
   "cell_type": "code",
   "execution_count": 9,
   "id": "round-fashion",
   "metadata": {},
   "outputs": [
    {
     "name": "stdout",
     "output_type": "stream",
     "text": [
      "torch::nn::MaxPool2d(3) = \n",
      "torch::nn::MaxPool2d(kernel_size=[3, 3], stride=[3, 3], padding=[0, 0], dilation=[1, 1], ceil_mode=false)\n",
      "<<--->>\n",
      "\n",
      "max_pool->forward(X1) = \n",
      "(1,1,.,.) = \n",
      "  10\n",
      "[ CPUFloatType{1,1,1,1} ]\n",
      "<<--->>\n",
      "\n"
     ]
    }
   ],
   "source": [
    "// pool2d = nn.MaxPool2d(3)\n",
    "// pool2d(X)\n",
    "\n",
    "printT(torch::nn::MaxPool2d(3));\n",
    "\n",
    "torch::nn::Sequential max_pool(torch::nn::MaxPool2d(3));\n",
    "printT(max_pool->forward(X1));"
   ]
  },
  {
   "cell_type": "markdown",
   "id": "floating-rental",
   "metadata": {},
   "source": [
    "**填充和步幅可以手动设定**"
   ]
  },
  {
   "cell_type": "code",
   "execution_count": 10,
   "id": "infrared-wyoming",
   "metadata": {},
   "outputs": [
    {
     "name": "stdout",
     "output_type": "stream",
     "text": [
      "max_pool1->forward(X1) = \n",
      "(1,1,.,.) = \n",
      "   5   7\n",
      "  13  15\n",
      "[ CPUFloatType{1,1,2,2} ]\n",
      "<<--->>\n",
      "\n"
     ]
    }
   ],
   "source": [
    "// pool2d = nn.MaxPool2d(3, padding=1, stride=2)\n",
    "// pool2d(X)\n",
    "using namespace torch::nn;\n",
    "\n",
    "torch::nn::Sequential max_pool1(torch::nn::MaxPool2d(MaxPool2dOptions(3).padding(1).stride({2, 2})));\n",
    "printT(max_pool1->forward(X1));"
   ]
  },
  {
   "cell_type": "markdown",
   "id": "injured-cursor",
   "metadata": {},
   "source": [
    "**设定一个任意大小的矩形池化窗口，并分别设定填充和步幅的高度和宽度**"
   ]
  },
  {
   "cell_type": "code",
   "execution_count": 11,
   "id": "connected-torture",
   "metadata": {},
   "outputs": [
    {
     "name": "stdout",
     "output_type": "stream",
     "text": [
      "max_pool2->forward(X1) = \n",
      "(1,1,.,.) = \n",
      "   1   3\n",
      "   9  11\n",
      "  13  15\n",
      "[ CPUFloatType{1,1,3,2} ]\n",
      "<<--->>\n",
      "\n"
     ]
    }
   ],
   "source": [
    "// pool2d = nn.MaxPool2d((2, 3), padding=(1, 1), stride=(2, 3))\n",
    "// pool2d(X)\n",
    "\n",
    "torch::nn::Sequential max_pool2(torch::nn::MaxPool2d(MaxPool2dOptions({2, 3}).padding({1, 1}).stride({2, 3})));\n",
    "printT(max_pool2->forward(X1));"
   ]
  },
  {
   "cell_type": "markdown",
   "id": "activated-deputy",
   "metadata": {},
   "source": [
    "**池化层在每个输入通道上单独运算**"
   ]
  },
  {
   "cell_type": "code",
   "execution_count": 12,
   "id": "romantic-matrix",
   "metadata": {},
   "outputs": [
    {
     "name": "stdout",
     "output_type": "stream",
     "text": [
      "X1 = \n",
      "(1,1,.,.) = \n",
      "   0   1   2   3\n",
      "   4   5   6   7\n",
      "   8   9  10  11\n",
      "  12  13  14  15\n",
      "\n",
      "(1,2,.,.) = \n",
      "   1   2   3   4\n",
      "   5   6   7   8\n",
      "   9  10  11  12\n",
      "  13  14  15  16\n",
      "[ CPUFloatType{1,2,4,4} ]\n",
      "<<--->>\n",
      "\n"
     ]
    }
   ],
   "source": [
    "// X = torch.cat((X, X + 1), 1)\n",
    "// X\n",
    "\n",
    "X1 = torch::cat({X1, X1+1}, 1);\n",
    "printT(X1);"
   ]
  },
  {
   "cell_type": "code",
   "execution_count": 13,
   "id": "immune-fight",
   "metadata": {},
   "outputs": [
    {
     "name": "stdout",
     "output_type": "stream",
     "text": [
      "max_pool3->forward(X1) = \n",
      "(1,1,.,.) = \n",
      "   5   7\n",
      "  13  15\n",
      "\n",
      "(1,2,.,.) = \n",
      "   6   8\n",
      "  14  16\n",
      "[ CPUFloatType{1,2,2,2} ]\n",
      "<<--->>\n",
      "\n"
     ]
    }
   ],
   "source": [
    "// pool2d = nn.MaxPool2d(3, padding=1, stride=2)\n",
    "// pool2d(X)\n",
    "\n",
    "torch::nn::Sequential max_pool3(torch::nn::MaxPool2d(MaxPool2dOptions(3).padding(1).stride(2)));\n",
    "printT(max_pool3->forward(X1));"
   ]
  },
  {
   "cell_type": "code",
   "execution_count": null,
   "id": "cubic-thailand",
   "metadata": {},
   "outputs": [],
   "source": []
  }
 ],
 "metadata": {
  "kernelspec": {
   "display_name": "C++17",
   "language": "C++17",
   "name": "xcpp17"
  },
  "language_info": {
   "codemirror_mode": "text/x-c++src",
   "file_extension": ".cpp",
   "mimetype": "text/x-c++src",
   "name": "c++",
   "version": "17"
  }
 },
 "nbformat": 4,
 "nbformat_minor": 5
}
