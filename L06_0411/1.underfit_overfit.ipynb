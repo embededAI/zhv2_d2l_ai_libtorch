{
 "cells": [
  {
   "cell_type": "markdown",
   "id": "round-dinner",
   "metadata": {},
   "source": [
    "# 使用前，需要先导入需要的头文件"
   ]
  },
  {
   "cell_type": "code",
   "execution_count": 1,
   "id": "cheap-algorithm",
   "metadata": {},
   "outputs": [],
   "source": [
    "#include <iostream>\n",
    "\n",
    "/*a workaround to solve cling issue*/\n",
    "#include \"../inc/macos_cling_workaround.hpp\"\n",
    "/*set libtorch path, load libs*/\n",
    "#include \"../inc/load_libtorch.hpp\"\n",
    "/*import custom defined macros*/\n",
    "#include \"../inc/custom_def.hpp\"\n",
    "/*import matplotlibcpp*/\n",
    "#include \"../inc/load_matplotlibcpp.hpp\"\n",
    "/*import opencv*/\n",
    "#include \"../inc/load_opencv.hpp\"\n",
    "\n",
    "/*import libtorch header file*/\n",
    "#include <torch/torch.h>\n",
    "#include <opencv2/opencv.hpp>\n",
    "#include <cmath>\n",
    "\n",
    "// Use (void) to silent unused warnings.\n",
    "#define assertm(exp, msg) assert(((void)msg, exp))"
   ]
  },
  {
   "cell_type": "code",
   "execution_count": 2,
   "id": "suited-perfume",
   "metadata": {},
   "outputs": [],
   "source": [
    "class MyDataset : public torch::data::Dataset<MyDataset>\n",
    "{\n",
    "    private:\n",
    "        torch::Tensor states_, labels_;\n",
    "\n",
    "    public:\n",
    "        explicit MyDataset(torch::Tensor states, torch::Tensor labels) \n",
    "            : states_(states),\n",
    "              labels_(labels) {   };\n",
    "\n",
    "        torch::data::Example<> get(size_t index) override {\n",
    "            return {states_[index], labels_[index]};\n",
    "        };\n",
    "\n",
    "        torch::optional<size_t> size() const override {\n",
    "            return states_.size(0);\n",
    "        };\n",
    "};"
   ]
  },
  {
   "cell_type": "markdown",
   "id": "environmental-cursor",
   "metadata": {},
   "source": [
    "# 模型选择、欠拟合和过拟合"
   ]
  },
  {
   "cell_type": "markdown",
   "id": "persistent-semiconductor",
   "metadata": {},
   "source": [
    "### 使用以下三阶多项式来生成训练和测试数据的标签\n",
    "\n",
    "$y = 5 + 1.2x - 3.4 \\frac{x^2}{2!} + 5.6 \\frac{x^3}{3!} + \\epsilon \\quad where \\quad\\epsilon \\sim \\mathcal{N} (0,0.01^2)$"
   ]
  },
  {
   "cell_type": "code",
   "execution_count": 3,
   "id": "civil-singer",
   "metadata": {},
   "outputs": [
    {
     "name": "stdout",
     "output_type": "stream",
     "text": [
      "true_w = \n",
      " 5.0000\n",
      " 1.2000\n",
      "-3.4000\n",
      " 5.6000\n",
      " 0.0000\n",
      " 0.0000\n",
      " 0.0000\n",
      " 0.0000\n",
      " 0.0000\n",
      " 0.0000\n",
      " 0.0000\n",
      " 0.0000\n",
      " 0.0000\n",
      " 0.0000\n",
      " 0.0000\n",
      " 0.0000\n",
      " 0.0000\n",
      " 0.0000\n",
      " 0.0000\n",
      " 0.0000\n",
      "[ CPUFloatType{20,1} ]\n",
      "<<--->>\n",
      "\n"
     ]
    }
   ],
   "source": [
    "constexpr int max_degree = 20;\n",
    "constexpr int n_train = 100;\n",
    "constexpr int n_test = 100;\n",
    "\n",
    "//多项式系数\n",
    "torch::Tensor true_w = torch::zeros(max_degree);\n",
    "float temp[] = {5.0, 1.2, -3.4, 5.6};\n",
    "memcpy(true_w.data_ptr(), temp, sizeof(temp));\n",
    "\n",
    "//准备输入\n",
    "torch::Tensor features = torch::randn({n_train + n_test, 1});\n",
    "torch::Tensor poly_features = features.pow(torch::arange(max_degree)+1);\n",
    "\n",
    "//生成输出\n",
    "true_w = true_w.reshape({max_degree, 1});\n",
    "printT(true_w);\n",
    "torch::Tensor labels = poly_features.mm(true_w);\n",
    "labels += torch::rand_like(labels) * 0.1;"
   ]
  },
  {
   "cell_type": "code",
   "execution_count": 4,
   "id": "unknown-kelly",
   "metadata": {},
   "outputs": [
    {
     "name": "stdout",
     "output_type": "stream",
     "text": [
      "features.index({torch::indexing::Slice(torch::indexing::None, 2, torch::indexing::None)}) = \n",
      " 0.7540\n",
      "-1.2295\n",
      "[ CPUFloatType{2,1} ]\n",
      "<<--->>\n",
      "\n",
      "poly_features.index({torch::indexing::Slice(torch::indexing::None, 2, torch::indexing::None)}) = \n",
      "Columns 1 to 8  0.7540   0.5686   0.4287   0.3233   0.2438   0.1838   0.1386   0.1045\n",
      " -1.2295   1.5118  -1.8587   2.2854  -2.8100   3.4549  -4.2480   5.2230\n",
      "\n",
      "Columns 9 to 16  0.0788   0.0594   0.0448   0.0338   0.0255   0.0192   0.0145   0.0109\n",
      " -6.4219   7.8959  -9.7083  11.9367 -14.6765  18.0453 -22.1873  27.2800\n",
      "\n",
      "Columns 17 to 20  0.0082   0.0062   0.0047   0.0035\n",
      "-33.5417  41.2406 -50.7067  62.3455\n",
      "[ CPUFloatType{2,20} ]\n",
      "<<--->>\n",
      "\n",
      "labels.index({torch::indexing::Slice(torch::indexing::None, 2, torch::indexing::None)}) = \n",
      "  4.9044\n",
      " 14.8287\n",
      "[ CPUFloatType{2,1} ]\n",
      "<<--->>\n",
      "\n"
     ]
    }
   ],
   "source": [
    "printT(features.index({torch::indexing::Slice(torch::indexing::None, 2, torch::indexing::None)}));    \n",
    "  \n",
    "printT(poly_features.index({torch::indexing::Slice(torch::indexing::None, 2, torch::indexing::None)}));    \n",
    "\n",
    "printT(labels.index({torch::indexing::Slice(torch::indexing::None, 2, torch::indexing::None)}));    "
   ]
  },
  {
   "cell_type": "markdown",
   "id": "cubic-equivalent",
   "metadata": {},
   "source": [
    "### 定义训练函数"
   ]
  },
  {
   "cell_type": "code",
   "execution_count": 5,
   "id": "exotic-trail",
   "metadata": {},
   "outputs": [],
   "source": [
    "std::vector<int> x;\n",
    "std::vector<double> y;\n",
    "std::vector<double> y_hat;"
   ]
  },
  {
   "cell_type": "code",
   "execution_count": 6,
   "id": "hairy-offering",
   "metadata": {},
   "outputs": [],
   "source": [
    "torch::Tensor train(torch::Tensor train_features, \n",
    "           torch::Tensor test_features, \n",
    "           torch::Tensor train_labels, \n",
    "           torch::Tensor test_labels,\n",
    "           int num_epochs = 400,\n",
    "           int batch_size = 10)\n",
    "{\n",
    "    assertm(train_features.dim() == 2, \"train_features should have 2 dims\");\n",
    "    assertm(test_features.dim() == 2, \"test_features should have 2 dims\");\n",
    "    \n",
    "    auto train_data_set = MyDataset(train_features, train_labels).map(torch::data::transforms::Stack<>());\n",
    "    auto test_data_set = MyDataset(test_features, test_labels).map(torch::data::transforms::Stack<>());\n",
    "\n",
    "    auto train_data_loader = torch::data::make_data_loader<torch::data::samplers::RandomSampler>(\n",
    "                                    std::move(train_data_set), \n",
    "                                    batch_size);\n",
    "\n",
    "    auto test_data_loader = torch::data::make_data_loader<torch::data::samplers::RandomSampler>(\n",
    "                                    std::move(test_data_set), \n",
    "                                    batch_size);\n",
    "\n",
    "    int input_shape = train_features.size(1);\n",
    "    torch::nn::Sequential net({{\"fc\", torch::nn::Linear(torch::nn::LinearOptions(input_shape, 1).bias(false))}});\n",
    "    \n",
    "//     net[0]->weight.data = torch::randn({input_shape, 1});\n",
    "//     net->weight.normal_(0.0, 0.2);\n",
    "    \n",
    "    auto optimizer = torch::optim::SGD(net->parameters(), /*lr*/0.01);\n",
    "    \n",
    "        \n",
    "    for (int epoch = 0; epoch < num_epochs; epoch++) \n",
    "    {\n",
    "        torch::Tensor loss_values;\n",
    "        if (epoch % 10 == 0) x.push_back(epoch);\n",
    "        \n",
    "        for (auto& batch : *train_data_loader) {\n",
    "            auto data = batch.data;\n",
    "            auto labels = batch.target;\n",
    "\n",
    "//             optimizer.zero_grad();\n",
    "            net->zero_grad();\n",
    "            auto training_prediction = net->forward(data);\n",
    "            loss_values = torch::mse_loss(training_prediction, labels);\n",
    "            loss_values = loss_values.sum() / training_prediction.size(0);\n",
    "            loss_values.backward(); \n",
    "            optimizer.step();\n",
    "        }\n",
    "        if (epoch % 10 == 0) \n",
    "//             y.push_back(loss_values.max().item<double>());\n",
    "            y.push_back(loss_values.sum().item<double>());\n",
    "        \n",
    "        auto test_prediction = net->forward(test_features);\n",
    "        auto test_loss_values = torch::mse_loss(test_prediction, test_labels);\n",
    "        if (epoch % 10 == 0) \n",
    "//             y_hat.push_back(test_loss_values.max().item<double>());        \n",
    "            y_hat.push_back(torch::sum(test_loss_values).item<double>() / test_prediction.size(0));        \n",
    "        \n",
    "        if (epoch % (num_epochs/10) == 0) {\n",
    "        // Report the error with respect to y_training. \n",
    "        double max_loss = loss_values.max().item<double>();\n",
    "        std::cout << \"Epoch \" << epoch \n",
    "            << \", max(loss_values) = \" << max_loss << std::endl;\n",
    "        }\n",
    "    }\n",
    "    \n",
    "    std::cout << net->parameters() << std::endl;\n",
    "    return net->parameters()[0];\n",
    "}"
   ]
  },
  {
   "cell_type": "code",
   "execution_count": 7,
   "id": "ceramic-operator",
   "metadata": {
    "scrolled": true
   },
   "outputs": [
    {
     "name": "stdout",
     "output_type": "stream",
     "text": [
      "train_data.size(0) = \n",
      "100\n",
      "<<--->>\n",
      "\n",
      "train_data.index({torch::indexing::Slice(torch::indexing::None, 2, torch::indexing::None)}) = \n",
      "-1.2326e-01  1.5194e-02 -1.8728e-03  2.3085e-04\n",
      " 1.8846e-02  3.5516e-04  6.6933e-06  1.2614e-07\n",
      "[ CPUFloatType{2,4} ]\n",
      "<<--->>\n",
      "\n",
      "train_label.index({torch::indexing::Slice(torch::indexing::None, 2, torch::indexing::None)}) = \n",
      "-0.5059\n",
      " 0.1390\n",
      "[ CPUFloatType{2,1} ]\n",
      "<<--->>\n",
      "\n"
     ]
    }
   ],
   "source": [
    "auto train_data = \n",
    "    poly_features.index({torch::indexing::Slice(0, n_train, torch::indexing::None),\n",
    "                         torch::indexing::Slice(0, 4, torch::indexing::None)});\n",
    "auto train_label = \n",
    "    labels.index({torch::indexing::Slice(0, n_train, torch::indexing::None),\n",
    "                         torch::indexing::Slice(0, 4, torch::indexing::None)});\n",
    "\n",
    "auto test_data = \n",
    "    poly_features.index({torch::indexing::Slice(n_train, torch::indexing::None, torch::indexing::None),\n",
    "                         torch::indexing::Slice(0, 4, torch::indexing::None)});\n",
    "auto test_label = \n",
    "    labels.index({torch::indexing::Slice(n_train, torch::indexing::None, torch::indexing::None),\n",
    "                         torch::indexing::Slice(0, 4, torch::indexing::None)});\n",
    "\n",
    "\n",
    "printT(train_data.size(0));\n",
    "printT(train_data.index({torch::indexing::Slice(torch::indexing::None, 2, torch::indexing::None)}));    \n",
    "printT(train_label.index({torch::indexing::Slice(torch::indexing::None, 2, torch::indexing::None)}));    "
   ]
  },
  {
   "cell_type": "markdown",
   "id": "understanding-attraction",
   "metadata": {},
   "source": [
    "### 训练并验证"
   ]
  },
  {
   "cell_type": "code",
   "execution_count": 8,
   "id": "english-scientist",
   "metadata": {},
   "outputs": [
    {
     "name": "stdout",
     "output_type": "stream",
     "text": [
      "Epoch 0, max(loss_values) = 33.3615\n",
      "Epoch 40, max(loss_values) = 2.58064e+16\n",
      "Epoch 80, max(loss_values) = 3.13807e+28\n",
      "Epoch 120, max(loss_values) = inf\n",
      "Epoch 160, max(loss_values) = inf\n",
      "Epoch 200, max(loss_values) = inf\n",
      "Epoch 240, max(loss_values) = inf\n",
      "Epoch 280, max(loss_values) = inf\n",
      "Epoch 320, max(loss_values) = nan\n",
      "Epoch 360, max(loss_values) = nan\n",
      "-nan -nan -nan -nan\n",
      "[ CPUFloatType{1,4} ]\n"
     ]
    }
   ],
   "source": [
    "auto w = train(train_data, test_data, train_label, test_label);"
   ]
  },
  {
   "cell_type": "code",
   "execution_count": 9,
   "id": "hundred-temperature",
   "metadata": {},
   "outputs": [
    {
     "name": "stdout",
     "output_type": "stream",
     "text": [
      "train_label[0] = \n",
      " 5.4560\n",
      "[ CPUFloatType{1} ]\n",
      "<<--->>\n",
      "\n",
      "train_data[0].reshape({1,4}).mm(w) = \n",
      " 5.0456\n",
      "[ CPUFloatType{1,1} ]\n",
      "<<--->>\n",
      "\n",
      "test_label[3] = \n",
      "-1.3893\n",
      "[ CPUFloatType{1} ]\n",
      "<<--->>\n",
      "\n",
      "test_data[3].reshape({1,4}).mm(w) = \n",
      "-1.2793\n",
      "[ CPUFloatType{1,1} ]\n",
      "<<--->>\n",
      "\n"
     ]
    }
   ],
   "source": [
    "//true_w\n",
    "// = {5.0, 1.2, -3.4, 5.6};\n",
    "\n",
    "w = w.reshape({4,1});\n",
    "printT(train_label[0]);\n",
    "printT(train_data[0].reshape({1,4}).mm(w));\n",
    "\n",
    "printT(test_label[3]);\n",
    "printT(test_data[3].reshape({1,4}).mm(w));"
   ]
  },
  {
   "cell_type": "markdown",
   "id": "czech-hours",
   "metadata": {},
   "source": [
    "### 训练结果可视化"
   ]
  },
  {
   "cell_type": "code",
   "execution_count": 10,
   "id": "mounted-julian",
   "metadata": {},
   "outputs": [],
   "source": [
    "plt::semilogy(x, y, \"b\");\n",
    "plt::semilogy(x, y_hat, \"r\");\n",
    "\n",
    "plt::title(\"loss(r:test  b:train)\");\n",
    "plt::legend();\n",
    "plt::save(\"./loss.png\"); \n",
    "plt::show();"
   ]
  },
  {
   "cell_type": "code",
   "execution_count": 11,
   "id": "exclusive-fault",
   "metadata": {},
   "outputs": [
    {
     "data": {
      "image/png": "[encoded data removed]"
     },
     "execution_count": 11,
     "metadata": {},
     "output_type": "execute_result"
    }
   ],
   "source": [
    "auto img1 = im::image(\"./loss.png\");\n",
    "img1  "
   ]
  },
  {
   "cell_type": "markdown",
   "id": "dirty-accountability",
   "metadata": {},
   "source": [
    "# 欠拟合"
   ]
  },
  {
   "cell_type": "code",
   "execution_count": 12,
   "id": "identical-portugal",
   "metadata": {},
   "outputs": [
    {
     "name": "stdout",
     "output_type": "stream",
     "text": [
      "train_data.size(0) = \n",
      "100\n",
      "<<--->>\n",
      "\n",
      "train_data.index({torch::indexing::Slice(torch::indexing::None, 2, torch::indexing::None)}) = \n",
      " 0.8101  0.6562\n",
      "-1.2146  1.4752\n",
      "[ CPUFloatType{2,2} ]\n",
      "<<--->>\n",
      "\n",
      "train_label.index({torch::indexing::Slice(torch::indexing::None, 2, torch::indexing::None)}) = \n",
      "  5.4560\n",
      " 14.0353\n",
      "[ CPUFloatType{2,1} ]\n",
      "<<--->>\n",
      "\n"
     ]
    }
   ],
   "source": [
    "auto train_data = \n",
    "    poly_features.index({torch::indexing::Slice(0, n_train, torch::indexing::None),\n",
    "                         torch::indexing::Slice(0, 2, torch::indexing::None)});\n",
    "auto train_label = \n",
    "    labels.index({torch::indexing::Slice(0, n_train, torch::indexing::None),\n",
    "                         torch::indexing::Slice(0, 2, torch::indexing::None)});\n",
    "\n",
    "auto test_data = \n",
    "    poly_features.index({torch::indexing::Slice(n_train, torch::indexing::None, torch::indexing::None),\n",
    "                         torch::indexing::Slice(0, 2, torch::indexing::None)});\n",
    "auto test_label = \n",
    "    labels.index({torch::indexing::Slice(n_train, torch::indexing::None, torch::indexing::None),\n",
    "                         torch::indexing::Slice(0, 2, torch::indexing::None)});\n",
    "\n",
    "\n",
    "printT(train_data.size(0));\n",
    "printT(train_data.index({torch::indexing::Slice(torch::indexing::None, 2, torch::indexing::None)}));    \n",
    "printT(train_label.index({torch::indexing::Slice(torch::indexing::None, 2, torch::indexing::None)}));    "
   ]
  },
  {
   "cell_type": "code",
   "execution_count": 13,
   "id": "accredited-backing",
   "metadata": {},
   "outputs": [
    {
     "name": "stdout",
     "output_type": "stream",
     "text": [
      "Epoch 0, max(loss_values) = 53.1338\n",
      "Epoch 40, max(loss_values) = 21.3282\n",
      "Epoch 80, max(loss_values) = 197.99\n",
      "Epoch 120, max(loss_values) = 11.5253\n",
      "Epoch 160, max(loss_values) = 202.93\n",
      "Epoch 200, max(loss_values) = 21.1204\n",
      "Epoch 240, max(loss_values) = 24.6509\n",
      "Epoch 280, max(loss_values) = 17.1833\n",
      "Epoch 320, max(loss_values) = 30.9816\n",
      "Epoch 360, max(loss_values) = 22.1492\n",
      " -6.1948  24.7249\n",
      "[ CPUFloatType{1,2} ]\n"
     ]
    }
   ],
   "source": [
    "std::vector <int>().swap(x);\n",
    "std::vector <double>().swap(y);\n",
    "std::vector <double>().swap(y_hat);\n",
    "\n",
    "auto w = train(train_data, test_data, train_label, test_label);"
   ]
  },
  {
   "cell_type": "code",
   "execution_count": 14,
   "id": "personal-illinois",
   "metadata": {},
   "outputs": [
    {
     "name": "stdout",
     "output_type": "stream",
     "text": [
      "train_label[0] = \n",
      " 5.4560\n",
      "[ CPUFloatType{1} ]\n",
      "<<--->>\n",
      "\n",
      "train_data[0].reshape({1,2}).mm(w) = \n",
      " 11.2067\n",
      "[ CPUFloatType{1,1} ]\n",
      "<<--->>\n",
      "\n",
      "test_label[3] = \n",
      "-1.3893\n",
      "[ CPUFloatType{1} ]\n",
      "<<--->>\n",
      "\n",
      "test_data[3].reshape({1,2}).mm(w) = \n",
      " 6.5931\n",
      "[ CPUFloatType{1,1} ]\n",
      "<<--->>\n",
      "\n"
     ]
    }
   ],
   "source": [
    "//true_w\n",
    "// = {5.0, 1.2, -3.4, 5.6};\n",
    "\n",
    "w = w.reshape({2,1});\n",
    "printT(train_label[0]);\n",
    "printT(train_data[0].reshape({1,2}).mm(w));\n",
    "\n",
    "printT(test_label[3]);\n",
    "printT(test_data[3].reshape({1,2}).mm(w));"
   ]
  },
  {
   "cell_type": "code",
   "execution_count": 15,
   "id": "ahead-hybrid",
   "metadata": {},
   "outputs": [],
   "source": [
    "plt::semilogy(x, y, \"b\");\n",
    "plt::semilogy(x, y_hat, \"r\");\n",
    "\n",
    "plt::title(\"loss(r:test  b:train)\");\n",
    "plt::legend();\n",
    "plt::save(\"./loss_underfit.png\"); \n",
    "plt::show();"
   ]
  },
  {
   "cell_type": "code",
   "execution_count": 16,
   "id": "communist-material",
   "metadata": {},
   "outputs": [
    {
     "data": {
      "image/png": "[encoded data removed]"
     },
     "execution_count": 16,
     "metadata": {},
     "output_type": "execute_result"
    }
   ],
   "source": [
    "auto img2 = im::image(\"./loss_underfit.png\");\n",
    "img2"
   ]
  },
  {
   "cell_type": "markdown",
   "id": "compact-allen",
   "metadata": {},
   "source": [
    "# 过拟合"
   ]
  },
  {
   "cell_type": "code",
   "execution_count": 17,
   "id": "controlling-virus",
   "metadata": {},
   "outputs": [
    {
     "name": "stdout",
     "output_type": "stream",
     "text": [
      "train_data.size(0) = \n",
      "100\n",
      "<<--->>\n",
      "\n",
      "train_data.index({torch::indexing::Slice(torch::indexing::None, 2, torch::indexing::None)}) = \n",
      "Columns 1 to 8  0.8101   0.6562   0.5316   0.4306   0.3488   0.2826   0.2289   0.1854\n",
      " -1.2146   1.4752  -1.7917   2.1762  -2.6431   3.2103  -3.8992   4.7358\n",
      "\n",
      "Columns 9 to 16  0.1502   0.1217   0.0986   0.0799   0.0647   0.0524   0.0424   0.0344\n",
      " -5.7520   6.9862  -8.4853  10.3061 -12.5175  15.2034 -18.4657  22.4280\n",
      "\n",
      "Columns 17 to 20  0.0279   0.0226   0.0183   0.0148\n",
      "-27.2404  33.0856 -40.1849  48.8076\n",
      "[ CPUFloatType{2,20} ]\n",
      "<<--->>\n",
      "\n",
      "train_label.index({torch::indexing::Slice(torch::indexing::None, 2, torch::indexing::None)}) = \n",
      "  5.4560\n",
      " 14.0353\n",
      "[ CPUFloatType{2,1} ]\n",
      "<<--->>\n",
      "\n"
     ]
    }
   ],
   "source": [
    "auto train_data = \n",
    "    poly_features.index({torch::indexing::Slice(0, n_train, torch::indexing::None),\n",
    "                         torch::indexing::Slice(0, max_degree, torch::indexing::None)});\n",
    "auto train_label = \n",
    "    labels.index({torch::indexing::Slice(0, n_train, torch::indexing::None),\n",
    "                         torch::indexing::Slice(0, max_degree, torch::indexing::None)});\n",
    "\n",
    "auto test_data = \n",
    "    poly_features.index({torch::indexing::Slice(n_train, torch::indexing::None, torch::indexing::None),\n",
    "                         torch::indexing::Slice(0, max_degree, torch::indexing::None)});\n",
    "auto test_label = \n",
    "    labels.index({torch::indexing::Slice(n_train, torch::indexing::None, torch::indexing::None),\n",
    "                         torch::indexing::Slice(0, max_degree, torch::indexing::None)});\n",
    "\n",
    "\n",
    "printT(train_data.size(0));\n",
    "printT(train_data.index({torch::indexing::Slice(torch::indexing::None, 2, torch::indexing::None)}));    \n",
    "printT(train_label.index({torch::indexing::Slice(torch::indexing::None, 2, torch::indexing::None)}));    "
   ]
  },
  {
   "cell_type": "code",
   "execution_count": 18,
   "id": "ordinary-handling",
   "metadata": {},
   "outputs": [
    {
     "name": "stdout",
     "output_type": "stream",
     "text": [
      "Epoch 0, max(loss_values) = nan\n",
      "Epoch 40, max(loss_values) = nan\n",
      "Epoch 80, max(loss_values) = nan\n",
      "Epoch 120, max(loss_values) = nan\n",
      "Epoch 160, max(loss_values) = nan\n",
      "Epoch 200, max(loss_values) = nan\n",
      "Epoch 240, max(loss_values) = nan\n",
      "Epoch 280, max(loss_values) = nan\n",
      "Epoch 320, max(loss_values) = nan\n",
      "Epoch 360, max(loss_values) = nan\n",
      "-nan -nan -nan -nan -nan -nan -nan -nan -nan -nan -nan -nan -nan -nan -nan -nan -nan -nan -nan -nan\n",
      "[ CPUFloatType{1,20} ]\n"
     ]
    }
   ],
   "source": [
    "std::vector <int>().swap(x);\n",
    "std::vector <double>().swap(y);\n",
    "std::vector <double>().swap(y_hat);\n",
    "\n",
    "auto w = train(train_data, test_data, train_label, test_label);"
   ]
  },
  {
   "cell_type": "code",
   "execution_count": 19,
   "id": "instrumental-morgan",
   "metadata": {},
   "outputs": [
    {
     "name": "stdout",
     "output_type": "stream",
     "text": [
      "train_label[0] = \n",
      " 5.4560\n",
      "[ CPUFloatType{1} ]\n",
      "<<--->>\n",
      "\n",
      "train_data[0].reshape({1,max_degree}).mm(w) = \n",
      "-nan\n",
      "[ CPUFloatType{1,1} ]\n",
      "<<--->>\n",
      "\n",
      "test_label[3] = \n",
      "-1.3893\n",
      "[ CPUFloatType{1} ]\n",
      "<<--->>\n",
      "\n",
      "test_data[3].reshape({1,max_degree}).mm(w) = \n",
      "-nan\n",
      "[ CPUFloatType{1,1} ]\n",
      "<<--->>\n",
      "\n"
     ]
    }
   ],
   "source": [
    "//true_w\n",
    "// = {5.0, 1.2, -3.4, 5.6};\n",
    "\n",
    "w = w.reshape({max_degree,1});\n",
    "printT(train_label[0]);\n",
    "printT(train_data[0].reshape({1,max_degree}).mm(w));\n",
    "\n",
    "printT(test_label[3]);\n",
    "printT(test_data[3].reshape({1,max_degree}).mm(w));"
   ]
  },
  {
   "cell_type": "code",
   "execution_count": 20,
   "id": "breeding-beijing",
   "metadata": {},
   "outputs": [],
   "source": [
    "plt::semilogy(x, y, \"b\");\n",
    "plt::semilogy(x, y_hat, \"r\");\n",
    "\n",
    "plt::title(\"loss_overfit(r:test  b:train)\");\n",
    "plt::legend();\n",
    "plt::save(\"./loss_overfit.png\"); \n",
    "plt::show();"
   ]
  },
  {
   "cell_type": "code",
   "execution_count": 21,
   "id": "conservative-crawford",
   "metadata": {},
   "outputs": [
    {
     "data": {
      "image/png": "[encoded data removed]"
     },
     "execution_count": 21,
     "metadata": {},
     "output_type": "execute_result"
    }
   ],
   "source": [
    "auto img2 = im::image(\"./loss_overfit.png\");\n",
    "img2"
   ]
  },
  {
   "cell_type": "code",
   "execution_count": null,
   "id": "magnetic-surface",
   "metadata": {},
   "outputs": [],
   "source": []
  }
 ],
 "metadata": {
  "kernelspec": {
   "display_name": "C++17",
   "language": "C++17",
   "name": "xcpp17"
  },
  "language_info": {
   "codemirror_mode": "text/x-c++src",
   "file_extension": ".cpp",
   "mimetype": "text/x-c++src",
   "name": "c++",
   "version": "17"
  }
 },
 "nbformat": 4,
 "nbformat_minor": 5
}
