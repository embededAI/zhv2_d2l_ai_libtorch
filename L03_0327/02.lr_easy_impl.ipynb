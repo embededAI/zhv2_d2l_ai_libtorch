{
 "cells": [
  {
   "cell_type": "code",
   "execution_count": 1,
   "id": "ready-shadow",
   "metadata": {},
   "outputs": [],
   "source": [
    "#include <iostream>\n",
    "\n",
    "/*a workaround to solve cling issue*/\n",
    "#include \"../inc/macos_cling_workaround.hpp\"\n",
    "/*set libtorch path, load libs*/\n",
    "#include \"../inc/load_libtorch.hpp\"\n",
    "/*import custom defined macros*/\n",
    "#include \"../inc/custom_def.hpp\"\n",
    "/*import matplotlibcpp*/\n",
    "#include \"../inc/load_matplotlibcpp.hpp\"\n",
    "\n",
    "/*import libtorch header file*/\n",
    "#include <torch/torch.h>"
   ]
  },
  {
   "cell_type": "markdown",
   "id": "selective-redhead",
   "metadata": {},
   "source": [
    "# 线性回归的简单实现：使用libtorch API"
   ]
  },
  {
   "cell_type": "code",
   "execution_count": 2,
   "id": "final-spray",
   "metadata": {},
   "outputs": [],
   "source": [
    "constexpr int num_example = 500;\n",
    "constexpr int batch_size = 10;\n",
    "\n",
    "torch::Tensor true_w = torch::tensor(at::ArrayRef<float>({2.0, -3.4}));\n",
    "torch::Tensor true_b = torch::tensor(at::ArrayRef<float>({4.2}));\n",
    "\n",
    "torch::Tensor X = torch::normal(0.0, 1.0, {num_example, true_w.size(0)}); \n",
    "torch::Tensor y = X.matmul(true_w) + true_b;\n",
    "y = y + torch::normal(0.0, 0.1, y.sizes());\n",
    "y = torch::reshape(y, {num_example, 1});\n",
    "\n",
    "torch::Tensor train_data = torch::cat({X, y}, 1);\n",
    "// printT(train_data);\n",
    "\n",
    "auto data_set = torch::data::datasets::TensorDataset(train_data);\n",
    "auto data_loader = torch::data::make_data_loader<torch::data::samplers::RandomSampler>\n",
    "                    (std::move(data_set), batch_size);"
   ]
  },
  {
   "cell_type": "code",
   "execution_count": 3,
   "id": "advised-timing",
   "metadata": {},
   "outputs": [
    {
     "name": "stdout",
     "output_type": "stream",
     "text": [
      "std::get<0>(sample_t) = \n",
      " 0.9136 -1.3414\n",
      "-0.6682  0.2977\n",
      " 0.2865  0.9406\n",
      " 2.0507 -0.1301\n",
      "-1.2409 -1.5614\n",
      " 1.3365 -0.3666\n",
      "-1.8163  1.4520\n",
      " 0.8634  0.9690\n",
      "-2.2789  1.5065\n",
      "-0.6701 -2.5495\n",
      "[ CPUFloatType{10,2} ]\n",
      "<<--->>\n",
      "\n",
      "std::get<1>(sample_t) = \n",
      " 10.5357\n",
      "  1.8761\n",
      "  1.6894\n",
      "  8.8734\n",
      "  7.0857\n",
      "  8.1169\n",
      " -4.3689\n",
      "  2.4858\n",
      " -5.3991\n",
      " 11.6323\n",
      "[ CPUFloatType{10,1} ]\n",
      "<<--->>\n",
      "\n"
     ]
    }
   ],
   "source": [
    "std::tuple<torch::Tensor, torch::Tensor> cat_batch(std::vector<torch::data::Example<at::Tensor, void>> &e, int batch_size)\n",
    "{\n",
    "    torch::Tensor data  = torch::zeros({batch_size, true_w.size(0)});\n",
    "    torch::Tensor label = torch::zeros({batch_size, true_b.size(0)});\n",
    "    \n",
    "    for (int i = 0; i < batch_size; i++) {\n",
    "        auto t = e[i].data;\n",
    "        for (int j = 0; j < true_w.size(0); j++) {\n",
    "            data[i][j] = t[j];\n",
    "        }\n",
    "        label[i]   = t[true_w.size(0)];\n",
    "    }\n",
    "        \n",
    "    return std::make_tuple(data, label);\n",
    "}\n",
    "\n",
    "int idx = 0;\n",
    "for (auto& batch : *data_loader) {\n",
    "    /**\n",
    "     *   here in our test case,\n",
    "     *   batch is `std::vector<torch::data::Example<at::Tensor, void>>`\n",
    "     *   notice:\n",
    "     *   here for this torch::data::Example, we only have data, no target\n",
    "     *\n",
    "     */\n",
    "    idx++;\n",
    "//     auto raw = batch[0].data;\n",
    "//     printT(raw);\n",
    "    auto sample_t = cat_batch(batch, batch_size);\n",
    "    if (idx == 2) {\n",
    "        printT(std::get<0>(sample_t));\n",
    "        printT(std::get<1>(sample_t));\n",
    "    }\n",
    "}"
   ]
  },
  {
   "cell_type": "code",
   "execution_count": 5,
   "id": "ongoing-relief",
   "metadata": {},
   "outputs": [],
   "source": [
    "/**\n",
    " *   ref libtorch official tutorial\n",
    " *   (https://pytorch.org/cppdocs/frontend.html)\n",
    " */\n",
    "\n",
    "// Define a new Module.\n",
    "struct Net : torch::nn::Module {\n",
    "  Net() {\n",
    "    // Construct and register two Linear submodules.\n",
    "    fc1 = register_module(\"fc1\", torch::nn::Linear(2, 1));\n",
    "  }\n",
    "\n",
    "  // Implement the Net's algorithm.\n",
    "  torch::Tensor forward(torch::Tensor x) {\n",
    "    x = fc1->forward(x);\n",
    "    return x;\n",
    "  }\n",
    "\n",
    "  torch::nn::Linear fc1{nullptr};\n",
    "};"
   ]
  },
  {
   "cell_type": "code",
   "execution_count": 6,
   "id": "raised-vault",
   "metadata": {},
   "outputs": [],
   "source": [
    "auto net = std::make_shared<Net>();\n",
    "torch::optim::SGD optimizer(net->parameters(), /*lr=*/0.01);"
   ]
  },
  {
   "cell_type": "code",
   "execution_count": 9,
   "id": "occasional-cycle",
   "metadata": {},
   "outputs": [
    {
     "name": "stdout",
     "output_type": "stream",
     "text": [
      "Epoch: 1 | Batch: 10 | Loss: 0.223734\n",
      "Epoch: 1 | Batch: 20 | Loss: 0.232118\n",
      "Epoch: 1 | Batch: 30 | Loss: 0.408283\n",
      "Epoch: 1 | Batch: 40 | Loss: 0.125268\n",
      "Epoch: 1 | Batch: 50 | Loss: 0.155616\n",
      "Epoch: 2 | Batch: 10 | Loss: 0.0488156\n",
      "Epoch: 2 | Batch: 20 | Loss: 0.0696044\n",
      "Epoch: 2 | Batch: 30 | Loss: 0.0156382\n",
      "Epoch: 2 | Batch: 40 | Loss: 0.0286981\n",
      "Epoch: 2 | Batch: 50 | Loss: 0.0130505\n",
      "Epoch: 3 | Batch: 10 | Loss: 0.0136231\n",
      "Epoch: 3 | Batch: 20 | Loss: 0.0115919\n",
      "Epoch: 3 | Batch: 30 | Loss: 0.00965719\n",
      "Epoch: 3 | Batch: 40 | Loss: 0.00685044\n",
      "Epoch: 3 | Batch: 50 | Loss: 0.0116952\n",
      "Epoch: 4 | Batch: 10 | Loss: 0.0134756\n",
      "Epoch: 4 | Batch: 20 | Loss: 0.00559405\n",
      "Epoch: 4 | Batch: 30 | Loss: 0.00240321\n",
      "Epoch: 4 | Batch: 40 | Loss: 0.00883842\n",
      "Epoch: 4 | Batch: 50 | Loss: 0.0038392\n",
      "Epoch: 5 | Batch: 10 | Loss: 0.0163589\n",
      "Epoch: 5 | Batch: 20 | Loss: 0.0136825\n",
      "Epoch: 5 | Batch: 30 | Loss: 0.0116613\n",
      "Epoch: 5 | Batch: 40 | Loss: 0.008173\n",
      "Epoch: 5 | Batch: 50 | Loss: 0.0147786\n",
      "Epoch: 6 | Batch: 10 | Loss: 0.00347898\n",
      "Epoch: 6 | Batch: 20 | Loss: 0.0117579\n",
      "Epoch: 6 | Batch: 30 | Loss: 0.00503584\n",
      "Epoch: 6 | Batch: 40 | Loss: 0.0147144\n",
      "Epoch: 6 | Batch: 50 | Loss: 0.00998805\n",
      "Epoch: 7 | Batch: 10 | Loss: 0.00708305\n",
      "Epoch: 7 | Batch: 20 | Loss: 0.010789\n",
      "Epoch: 7 | Batch: 30 | Loss: 0.00749076\n",
      "Epoch: 7 | Batch: 40 | Loss: 0.00985476\n",
      "Epoch: 7 | Batch: 50 | Loss: 0.0212744\n",
      "Epoch: 8 | Batch: 10 | Loss: 0.00220061\n",
      "Epoch: 8 | Batch: 20 | Loss: 0.00609122\n",
      "Epoch: 8 | Batch: 30 | Loss: 0.0079303\n",
      "Epoch: 8 | Batch: 40 | Loss: 0.00569005\n",
      "Epoch: 8 | Batch: 50 | Loss: 0.0134617\n",
      "Epoch: 9 | Batch: 10 | Loss: 0.0141201\n",
      "Epoch: 9 | Batch: 20 | Loss: 0.00540968\n",
      "Epoch: 9 | Batch: 30 | Loss: 0.010651\n",
      "Epoch: 9 | Batch: 40 | Loss: 0.0102227\n",
      "Epoch: 9 | Batch: 50 | Loss: 0.0106266\n",
      "Epoch: 10 | Batch: 10 | Loss: 0.00935953\n",
      "Epoch: 10 | Batch: 20 | Loss: 0.00734454\n",
      "Epoch: 10 | Batch: 30 | Loss: 0.0085028\n",
      "Epoch: 10 | Batch: 40 | Loss: 0.00395037\n",
      "Epoch: 10 | Batch: 50 | Loss: 0.00926143\n"
     ]
    }
   ],
   "source": [
    "for (size_t epoch = 1; epoch <= 10; ++epoch) {\n",
    "    size_t batch_index = 0;\n",
    "    // Iterate the data loader to yield batches from the dataset.\n",
    "    for (auto& batch : *data_loader) {\n",
    "        auto sample_t = cat_batch(batch, batch_size);\n",
    "        auto data   = std::get<0>(sample_t);\n",
    "        auto target = std::get<1>(sample_t);\n",
    "        // Reset gradients.\n",
    "        optimizer.zero_grad();\n",
    "        // Execute the model on the input data.\n",
    "        torch::Tensor prediction = net->forward(data);\n",
    "        // Compute a loss value to judge the prediction of our model.\n",
    "        torch::Tensor loss = torch::mse_loss(prediction, target);\n",
    "        // Compute gradients of the loss w.r.t. the parameters of our model.\n",
    "        loss.backward();\n",
    "        // Update the parameters based on the calculated gradients.\n",
    "        optimizer.step();\n",
    "        // Output the loss and checkpoint every 100 batches.\n",
    "        if (++batch_index % 10 == 0) {\n",
    "        std::cout << \"Epoch: \" << epoch << \" | Batch: \" << batch_index\n",
    "                  << \" | Loss: \" << loss.item<float>() << std::endl;\n",
    "        // Serialize your model periodically as a checkpoint.\n",
    "        //torch::save(net, \"net.pt\");\n",
    "        }\n",
    "    }\n",
    "}"
   ]
  },
  {
   "cell_type": "code",
   "execution_count": 10,
   "id": "small-configuration",
   "metadata": {},
   "outputs": [
    {
     "name": "stdout",
     "output_type": "stream",
     "text": [
      "net->parameters() = \n",
      " 1.9995 -3.3978\n",
      "[ CPUFloatType{1,2} ]  4.2011\n",
      "[ CPUFloatType{1} ]\n",
      "<<--->>\n",
      "\n"
     ]
    }
   ],
   "source": [
    "printT(net->parameters());"
   ]
  },
  {
   "cell_type": "code",
   "execution_count": null,
   "id": "bridal-mission",
   "metadata": {},
   "outputs": [],
   "source": []
  }
 ],
 "metadata": {
  "kernelspec": {
   "display_name": "C++17",
   "language": "C++17",
   "name": "xcpp17"
  },
  "language_info": {
   "codemirror_mode": "text/x-c++src",
   "file_extension": ".cpp",
   "mimetype": "text/x-c++src",
   "name": "c++",
   "version": "17"
  }
 },
 "nbformat": 4,
 "nbformat_minor": 5
}
