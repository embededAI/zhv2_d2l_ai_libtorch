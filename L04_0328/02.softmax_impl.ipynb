{
 "cells": [
  {
   "cell_type": "code",
   "execution_count": 1,
   "id": "under-investigator",
   "metadata": {},
   "outputs": [],
   "source": [
    "#include <iostream>\n",
    "\n",
    "/*a workaround to solve cling issue*/\n",
    "#include \"../inc/macos_cling_workaround.hpp\"\n",
    "/*set libtorch path, load libs*/\n",
    "#include \"../inc/load_libtorch.hpp\"\n",
    "/*import custom defined macros*/\n",
    "#include \"../inc/custom_def.hpp\"\n",
    "/*import matplotlibcpp*/\n",
    "#include \"../inc/load_matplotlibcpp.hpp\"\n",
    "/*import opencv*/\n",
    "#include \"../inc/load_opencv.hpp\"\n",
    "\n",
    "/*import libtorch header file*/\n",
    "#include <torch/torch.h>\n",
    "#include <opencv2/opencv.hpp>"
   ]
  },
  {
   "cell_type": "code",
   "execution_count": 2,
   "id": "accredited-trance",
   "metadata": {},
   "outputs": [],
   "source": [
    "int num_inputs = 784;\n",
    "int num_outputs = 10;\n",
    "\n",
    "auto W = torch::normal(0, 0.01, {num_inputs, num_outputs}, c10::nullopt, torch::requires_grad(true));\n",
    "auto b = torch::zeros({num_outputs}, torch::requires_grad(true));"
   ]
  },
  {
   "cell_type": "markdown",
   "id": "sound-storm",
   "metadata": {},
   "source": [
    "# softmax回归的从零开始实现"
   ]
  },
  {
   "cell_type": "markdown",
   "id": "worldwide-fabric",
   "metadata": {},
   "source": [
    "实现softmax\n",
    "$$\\mathrm{softmax}(\\mathbf{X})_{ij} = \\frac{\\exp(\\mathbf{X}_{ij})}{\\sum_k \\exp(\\mathbf{X}_{ik})}$$"
   ]
  },
  {
   "cell_type": "code",
   "execution_count": 3,
   "id": "organic-adrian",
   "metadata": {},
   "outputs": [],
   "source": [
    "torch::Tensor softmax(torch::Tensor X)\n",
    "{\n",
    "    torch::Tensor X_exp = torch::exp(X);\n",
    "    auto partition = X_exp.sum(1, true);\n",
    "    return X_exp / partition;\n",
    "}"
   ]
  },
  {
   "cell_type": "code",
   "execution_count": 4,
   "id": "stylish-quest",
   "metadata": {
    "scrolled": true
   },
   "outputs": [
    {
     "name": "stdout",
     "output_type": "stream",
     "text": [
      "X_prob = \n",
      " 0.1398  0.2593  0.3644  0.1745  0.0620\n",
      " 0.2893  0.0977  0.2180  0.2187  0.1763\n",
      "[ CPUFloatType{2,5} ]\n",
      "<<--->>\n",
      "\n",
      "X_prob.sum(1) = \n",
      " 1.0000\n",
      " 1.0000\n",
      "[ CPUFloatType{2} ]\n",
      "<<--->>\n",
      "\n"
     ]
    }
   ],
   "source": [
    "torch::Tensor X = torch::normal(0, 1, {2, 5});\n",
    "torch::Tensor X_prob = softmax(X);\n",
    "printT(X_prob);\n",
    "printT(X_prob.sum(1));"
   ]
  },
  {
   "cell_type": "markdown",
   "id": "checked-packet",
   "metadata": {},
   "source": [
    "实现softmax回归模型"
   ]
  },
  {
   "cell_type": "code",
   "execution_count": 5,
   "id": "banner-encyclopedia",
   "metadata": {},
   "outputs": [],
   "source": [
    "torch::Tensor net(torch::Tensor X)\n",
    "{   \n",
    "    return softmax(torch::mm(X.reshape({-1, W.size(0)}), W) + b);\n",
    "}"
   ]
  },
  {
   "cell_type": "code",
   "execution_count": 6,
   "id": "dominant-greeting",
   "metadata": {},
   "outputs": [
    {
     "name": "stdout",
     "output_type": "stream",
     "text": [
      "y_hat = \n",
      " 0.1000  0.3000  0.6000\n",
      " 0.3000  0.2000  0.5000\n",
      "[ CPUFloatType{2,3} ]\n",
      "<<--->>\n",
      "\n",
      "t = \n",
      " 0.1000\n",
      " 0.5000\n",
      "[ CPUFloatType{2} ]\n",
      "<<--->>\n",
      "\n"
     ]
    }
   ],
   "source": [
    "//创建一个数据y_hat，其中包含2个样本在3个类别的预测概率， \n",
    "//使用y作为y_hat中概率的索引\n",
    "torch::Tensor y = torch::tensor(at::ArrayRef<int>({0, 2}));\n",
    "torch::Tensor y_hat = torch::tensor(at::ArrayRef<float>({0.1, 0.3, 0.6, 0.3, 0.2, 0.5}));\n",
    "\n",
    "y_hat = y_hat.reshape({2,3});\n",
    "printT(y_hat);\n",
    "//test\n",
    "auto t = y_hat.index({torch::tensor(at::ArrayRef<int>({0, 1})), y});\n",
    "printT(t);"
   ]
  },
  {
   "cell_type": "code",
   "execution_count": 7,
   "id": "green-begin",
   "metadata": {},
   "outputs": [
    {
     "name": "stdout",
     "output_type": "stream",
     "text": [
      "t = \n",
      " 2.3026\n",
      " 0.6931\n",
      "[ CPUFloatType{2} ]\n",
      "<<--->>\n",
      "\n"
     ]
    }
   ],
   "source": [
    "//实现交叉熵损失函数\n",
    "//in PyTorch, len(tensor)是去取tensor第一维的长度\n",
    "\n",
    "torch::Tensor cross_entropy(torch::Tensor y_hat, torch::Tensor y)\n",
    "{\n",
    "    return -torch::log(y_hat.index({torch::arange(y_hat.size(0)), y}));\n",
    "}\n",
    "\n",
    "\n",
    "auto t = cross_entropy(y_hat, y);\n",
    "printT(t);"
   ]
  },
  {
   "cell_type": "code",
   "execution_count": 8,
   "id": "automatic-elements",
   "metadata": {
    "scrolled": true
   },
   "outputs": [
    {
     "name": "stdout",
     "output_type": "stream",
     "text": [
      "accuracy(y_hat, y) / y.size(0) = \n",
      "0.5\n",
      "<<--->>\n",
      "\n"
     ]
    }
   ],
   "source": [
    "//将预测类别与真实 y 元素进行比较\n",
    "float accuracy(torch::Tensor y_hat, torch::Tensor y)\n",
    "{\n",
    "    if (y_hat.dim() > 1 && y_hat.size(1) >1) {\n",
    "        y_hat = torch::argmax(y_hat, 1);\n",
    "    }\n",
    "    \n",
    "    torch::Tensor cmp = (y_hat.to(y.dtype()) == y);\n",
    "    return (cmp.to(y.dtype()).sum()).item<float>();\n",
    "}\n",
    "\n",
    "printT(accuracy(y_hat, y) / y.size(0));"
   ]
  },
  {
   "cell_type": "code",
   "execution_count": 9,
   "id": "elect-threshold",
   "metadata": {},
   "outputs": [],
   "source": [
    "//Accumulator 实例中创建了 2 个变量，用于分别存储正确预测的数量和预测的总数量\n",
    "class Accumulator {\n",
    "public:\n",
    "    //\"\"\"在`n`个变量上累加。\"\"\"\n",
    "    Accumulator(int n) { data = torch::zeros({n}, torch::kFloat);}\n",
    "    \n",
    "//     void add(float b) { data += b; }\n",
    "\n",
    "    void reset(void) { data = torch::zeros({data.size(0)}, torch::kFloat); }\n",
    "   \n",
    "    float __getitem__(int idx) { return data[idx].item<float>(); }\n",
    "\n",
    "private:\n",
    "    torch::Tensor data;\n",
    "}"
   ]
  },
  {
   "cell_type": "code",
   "execution_count": null,
   "id": "central-subscription",
   "metadata": {},
   "outputs": [],
   "source": []
  },
  {
   "cell_type": "code",
   "execution_count": null,
   "id": "right-service",
   "metadata": {},
   "outputs": [],
   "source": []
  },
  {
   "cell_type": "code",
   "execution_count": null,
   "id": "german-nurse",
   "metadata": {},
   "outputs": [],
   "source": []
  },
  {
   "cell_type": "code",
   "execution_count": null,
   "id": "excessive-framework",
   "metadata": {},
   "outputs": [],
   "source": []
  },
  {
   "cell_type": "code",
   "execution_count": null,
   "id": "another-entity",
   "metadata": {},
   "outputs": [],
   "source": []
  },
  {
   "cell_type": "code",
   "execution_count": null,
   "id": "distant-truth",
   "metadata": {},
   "outputs": [],
   "source": []
  },
  {
   "cell_type": "code",
   "execution_count": null,
   "id": "portable-account",
   "metadata": {},
   "outputs": [],
   "source": []
  },
  {
   "cell_type": "code",
   "execution_count": null,
   "id": "polar-recycling",
   "metadata": {},
   "outputs": [],
   "source": []
  },
  {
   "cell_type": "code",
   "execution_count": null,
   "id": "searching-orlando",
   "metadata": {},
   "outputs": [],
   "source": []
  },
  {
   "cell_type": "code",
   "execution_count": null,
   "id": "british-peeing",
   "metadata": {},
   "outputs": [],
   "source": []
  },
  {
   "cell_type": "code",
   "execution_count": null,
   "id": "catholic-trinidad",
   "metadata": {},
   "outputs": [],
   "source": []
  }
 ],
 "metadata": {
  "kernelspec": {
   "display_name": "C++17",
   "language": "C++17",
   "name": "xcpp17"
  },
  "language_info": {
   "codemirror_mode": "text/x-c++src",
   "file_extension": ".cpp",
   "mimetype": "text/x-c++src",
   "name": "c++",
   "version": "17"
  }
 },
 "nbformat": 4,
 "nbformat_minor": 5
}
