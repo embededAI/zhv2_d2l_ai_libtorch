{
 "cells": [
  {
   "cell_type": "code",
   "execution_count": 1,
   "id": "surface-citation",
   "metadata": {},
   "outputs": [],
   "source": [
    "#include <iostream>\n",
    "\n",
    "/*a workaround to solve cling issue*/\n",
    "#include \"../inc/macos_cling_workaround.hpp\"\n",
    "/*set libtorch path, load libs*/\n",
    "#include \"../inc/load_libtorch.hpp\"\n",
    "/*import custom defined macros*/\n",
    "#include \"../inc/custom_def.hpp\"\n",
    "/*import matplotlibcpp*/\n",
    "#include \"../inc/load_matplotlibcpp.hpp\"\n",
    "/*import opencv*/\n",
    "#include \"../inc/load_opencv.hpp\"\n",
    "\n",
    "/*import libtorch header file*/\n",
    "#include <torch/torch.h>\n",
    "#include <opencv2/opencv.hpp>\n",
    "#include <cmath>\n",
    "\n",
    "// Use (void) to silent unused warnings.\n",
    "#define assertm(exp, msg) assert(((void)msg, exp))"
   ]
  },
  {
   "cell_type": "code",
   "execution_count": 2,
   "id": "apart-culture",
   "metadata": {},
   "outputs": [],
   "source": [
    "#define VAR_NAME(Variable) (#Variable)\n",
    "\n",
    "void print_tensor_size(std::string name, torch::Tensor t)\n",
    "{\n",
    "    int dims = t.dim();\n",
    "    std::cout << name << \" dims is (\";\n",
    "    for (int i = 0; i < dims; i++) {\n",
    "        std::cout << t.size(i);\n",
    "        if (i < (dims - 1)) std::cout << \" x \";\n",
    "    }\n",
    "    std::cout << \")\" << std::endl;\n",
    "}"
   ]
  },
  {
   "cell_type": "markdown",
   "id": "indie-variation",
   "metadata": {},
   "source": [
    "# 参数管理\n",
    "\n",
    "我们首先关注具有单隐藏层的多层感知机"
   ]
  },
  {
   "cell_type": "code",
   "execution_count": 3,
   "id": "empty-allowance",
   "metadata": {
    "scrolled": true
   },
   "outputs": [
    {
     "name": "stdout",
     "output_type": "stream",
     "text": [
      "X = \n",
      " 0.8977  0.9492  0.2640  0.6172\n",
      " 0.6931  0.3670  0.9472  0.1460\n",
      "[ CPUFloatType{2,4} ]\n",
      "<<--->>\n",
      "\n",
      "net->forward(X) = \n",
      "-0.4400\n",
      "-0.1426\n",
      "[ CPUFloatType{2,1} ]\n",
      "<<--->>\n",
      "\n"
     ]
    }
   ],
   "source": [
    "torch::nn::Sequential net(torch::nn::Linear(4, 8),\n",
    "                          torch::nn::ReLU(),\n",
    "                          torch::nn::Linear(8, 1)\n",
    "                         );\n",
    "\n",
    "\n",
    "auto X = torch::rand({2, 4});\n",
    "printT(X);\n",
    "\n",
    "printT(net->forward(X));"
   ]
  },
  {
   "cell_type": "markdown",
   "id": "divided-glenn",
   "metadata": {},
   "source": [
    "参数访问"
   ]
  },
  {
   "cell_type": "code",
   "execution_count": 4,
   "id": "identical-reminder",
   "metadata": {},
   "outputs": [
    {
     "name": "stdout",
     "output_type": "stream",
     "text": [
      "net[2]->parameters() = \n",
      "-0.2337  0.3503 -0.1338 -0.3453  0.0732  0.3135  0.2123  0.2527\n",
      "[ CPUFloatType{1,8} ] -0.3481\n",
      "[ CPUFloatType{1} ]\n",
      "<<--->>\n",
      "\n",
      "net[2]->name() = \n",
      "torch::nn::LinearImpl\n",
      "<<--->>\n",
      "\n",
      "weight = \n",
      "-0.2337  0.3503 -0.1338 -0.3453  0.0732  0.3135  0.2123  0.2527\n",
      "[ CPUFloatType{1,8} ]\n",
      "<<<--->>>\n",
      "\n",
      "bias = \n",
      "-0.3481\n",
      "[ CPUFloatType{1} ]\n",
      "<<<--->>>\n",
      "\n"
     ]
    }
   ],
   "source": [
    "printT(net[2]->parameters());\n",
    "\n",
    "// or \n",
    "\n",
    "printT(net[2]->name());\n",
    "\n",
    "auto od = net[2]->named_parameters();\n",
    "\n",
    "for(auto iter = od.begin(); iter != od.end(); iter++) {\n",
    "    std::cout << iter->key() << \" = \" << std::endl;\n",
    "    std::cout << iter->value() << std::endl;\n",
    "    std::cout << \"<<<--->>>\" << std::endl << std::endl;\n",
    "}"
   ]
  },
  {
   "cell_type": "markdown",
   "id": "stunning-lesson",
   "metadata": {},
   "source": [
    "目标参数"
   ]
  },
  {
   "cell_type": "code",
   "execution_count": 5,
   "id": "latest-extraction",
   "metadata": {},
   "outputs": [
    {
     "name": "stdout",
     "output_type": "stream",
     "text": [
      "b->options() = \n",
      "TensorOptions(dtype=float, device=cpu, layout=Strided, requires_grad=false (default), pinned_memory=false (default), memory_format=(nullopt))\n",
      "<<--->>\n",
      "\n",
      "*b = \n",
      "-0.3481\n",
      "[ CPUFloatType{1} ]\n",
      "<<--->>\n",
      "\n",
      "b->data() = \n",
      "-0.3481\n",
      "[ CPUFloatType{1} ]\n",
      "<<--->>\n",
      "\n"
     ]
    }
   ],
   "source": [
    "//*** 原教程代码\n",
    "// print(type(net[2].bias))\n",
    "// print(net[2].bias)\n",
    "// print(net[2].bias.data)\n",
    "    \n",
    "auto b = od.find(\"bias\");\n",
    "if(b != nullptr) {\n",
    "    printT(b->options());\n",
    "    printT(*b);\n",
    "    printT(b->data());\n",
    "}"
   ]
  },
  {
   "cell_type": "code",
   "execution_count": 6,
   "id": "prescription-grant",
   "metadata": {},
   "outputs": [
    {
     "name": "stdout",
     "output_type": "stream",
     "text": [
      "w->options() = \n",
      "TensorOptions(dtype=float, device=cpu, layout=Strided, requires_grad=false (default), pinned_memory=false (default), memory_format=(nullopt))\n",
      "<<--->>\n",
      "\n",
      "w->grad() = \n",
      "[ Tensor (undefined) ]\n",
      "<<--->>\n",
      "\n"
     ]
    }
   ],
   "source": [
    "auto w = od.find(\"weight\");\n",
    "\n",
    "if(w != nullptr) {\n",
    "    printT(w->options());\n",
    "    printT(w->grad());\n",
    "}"
   ]
  },
  {
   "cell_type": "markdown",
   "id": "acoustic-protein",
   "metadata": {},
   "source": [
    "一次性访问所有参数(同上)"
   ]
  },
  {
   "cell_type": "code",
   "execution_count": 7,
   "id": "twelve-tomato",
   "metadata": {},
   "outputs": [
    {
     "name": "stdout",
     "output_type": "stream",
     "text": [
      "0.weight = \n",
      "-0.0865  0.0004 -0.0283 -0.3699\n",
      " 0.1496  0.3299 -0.3751 -0.2932\n",
      " 0.4911  0.2212  0.0100  0.1815\n",
      " 0.3170  0.2273 -0.4936  0.4463\n",
      "-0.0703  0.1112  0.1605  0.1676\n",
      " 0.3138  0.4383  0.3995 -0.1057\n",
      " 0.4003 -0.1541 -0.0448  0.1465\n",
      "-0.3959  0.4331  0.3080 -0.0293\n",
      "[ CPUFloatType{8,4} ]\n",
      "<<<--->>>\n",
      "\n",
      "0.bias = \n",
      "-0.4599\n",
      "-0.1276\n",
      " 0.2174\n",
      " 0.4324\n",
      " 0.0921\n",
      " 0.1287\n",
      "-0.3005\n",
      " 0.2993\n",
      "[ CPUFloatType{8} ]\n",
      "<<<--->>>\n",
      "\n",
      "2.weight = \n",
      "-0.2337  0.3503 -0.1338 -0.3453  0.0732  0.3135  0.2123  0.2527\n",
      "[ CPUFloatType{1,8} ]\n",
      "<<<--->>>\n",
      "\n",
      "2.bias = \n",
      "-0.3481\n",
      "[ CPUFloatType{1} ]\n",
      "<<<--->>>\n",
      "\n"
     ]
    }
   ],
   "source": [
    "auto od1 = net->named_parameters();\n",
    "\n",
    "for(auto iter = od1.begin(); iter != od1.end(); iter++) {\n",
    "    std::cout << iter->key() << \" = \" << std::endl;\n",
    "    std::cout << iter->value() << std::endl;\n",
    "    std::cout << \"<<<--->>>\" << std::endl << std::endl;\n",
    "}"
   ]
  },
  {
   "cell_type": "code",
   "execution_count": 8,
   "id": "danish-mason",
   "metadata": {},
   "outputs": [
    {
     "name": "stdout",
     "output_type": "stream",
     "text": [
      "od1[\"2.bias\"] = \n",
      "-0.3481\n",
      "[ CPUFloatType{1} ]\n",
      "<<--->>\n",
      "\n"
     ]
    }
   ],
   "source": [
    "printT(od1[\"2.bias\"]);"
   ]
  },
  {
   "cell_type": "markdown",
   "id": "roman-annotation",
   "metadata": {},
   "source": [
    "从嵌套块收集参数"
   ]
  },
  {
   "cell_type": "code",
   "execution_count": 9,
   "id": "dynamic-floor",
   "metadata": {},
   "outputs": [],
   "source": [
    "/*design a net*/\n",
    "struct block1 : torch::nn::Module {\n",
    "    block1() {\n",
    "        net = torch::nn::Sequential(torch::nn::Linear(4, 8),\n",
    "                                    torch::nn::ReLU(),\n",
    "                                    torch::nn::Linear(8, 4),\n",
    "                                    torch::nn::ReLU());\n",
    "    }\n",
    "\n",
    "    // Implement the Net's algorithm.\n",
    "    torch::Tensor forward(torch::Tensor x) {\n",
    "        x = net->forward(x);\n",
    "        return x;\n",
    "    }\n",
    "\n",
    "    // Use one of many \"standard library\" modules.\n",
    "    torch::nn::Sequential net{nullptr};\n",
    "};"
   ]
  },
  {
   "cell_type": "code",
   "execution_count": 10,
   "id": "medical-access",
   "metadata": {},
   "outputs": [],
   "source": [
    "struct block2 : torch::nn::Module {\n",
    "    block2() {\n",
    "        net = torch::nn::Sequential(block1(),\n",
    "                                    block1(),\n",
    "                                    block1(),\n",
    "                                    block1()\n",
    "                                   );\n",
    "    }\n",
    "\n",
    "    // Implement the Net's algorithm.\n",
    "    torch::Tensor forward(torch::Tensor x) {\n",
    "        x = net->forward(x);\n",
    "        return x;\n",
    "    }\n",
    "\n",
    "    // Use one of many \"standard library\" modules.\n",
    "    torch::nn::Sequential net{nullptr};\n",
    "};"
   ]
  },
  {
   "cell_type": "code",
   "execution_count": 11,
   "id": "regular-success",
   "metadata": {},
   "outputs": [
    {
     "name": "stdout",
     "output_type": "stream",
     "text": [
      "rgnet->forward(X) = \n",
      "-0.5016\n",
      "-0.5015\n",
      "[ CPUFloatType{2,1} ]\n",
      "<<--->>\n",
      "\n"
     ]
    }
   ],
   "source": [
    "torch::nn::Sequential rgnet(block2(), torch::nn::Linear(4, 1));\n",
    "printT(rgnet->forward(X));"
   ]
  },
  {
   "cell_type": "code",
   "execution_count": 13,
   "id": "functional-wrestling",
   "metadata": {},
   "outputs": [
    {
     "name": "stdout",
     "output_type": "stream",
     "text": [
      "torch::nn::Sequential(\n",
      "  (0): __cling_N510::block2\n",
      "  (1): torch::nn::Linear(in_features=4, out_features=1, bias=true)\n",
      ")\n"
     ]
    }
   ],
   "source": [
    "std::cout << rgnet << std::endl;"
   ]
  },
  {
   "cell_type": "code",
   "execution_count": 15,
   "id": "medieval-needle",
   "metadata": {},
   "outputs": [
    {
     "name": "stdout",
     "output_type": "stream",
     "text": [
      "rgnet[i]->name() = \n",
      "__cling_N510::block2\n",
      "<<--->>\n",
      "\n",
      "rgnet[i]->name() = \n",
      "torch::nn::LinearImpl\n",
      "<<--->>\n",
      "\n"
     ]
    }
   ],
   "source": [
    "for (int i = 0; i < rgnet->size(); i++) {\n",
    "   printT(rgnet[i]->name()); \n",
    "}"
   ]
  },
  {
   "cell_type": "markdown",
   "id": "trained-tourist",
   "metadata": {},
   "source": [
    "对某些块应用不同的初始化方法"
   ]
  },
  {
   "cell_type": "code",
   "execution_count": null,
   "id": "designed-backing",
   "metadata": {},
   "outputs": [],
   "source": [
    "def xavier(m):\n",
    "    if type(m) == nn.Linear:\n",
    "        nn.init.xavier_uniform_(m.weight)\n",
    "\n",
    "def init_42(m):\n",
    "    if type(m) == nn.Linear:\n",
    "        nn.init.constant_(m.weight, 42)\n",
    "\n",
    "net[0].apply(xavier)\n",
    "net[2].apply(init_42)\n",
    "print(net[0].weight.data[0])\n",
    "print(net[2].weight.data)"
   ]
  },
  {
   "cell_type": "code",
   "execution_count": null,
   "id": "tropical-theme",
   "metadata": {},
   "outputs": [],
   "source": []
  },
  {
   "cell_type": "code",
   "execution_count": null,
   "id": "following-sherman",
   "metadata": {},
   "outputs": [],
   "source": []
  },
  {
   "cell_type": "code",
   "execution_count": null,
   "id": "exact-couple",
   "metadata": {},
   "outputs": [],
   "source": []
  },
  {
   "cell_type": "code",
   "execution_count": null,
   "id": "variable-personality",
   "metadata": {},
   "outputs": [],
   "source": []
  },
  {
   "cell_type": "code",
   "execution_count": null,
   "id": "crazy-ridge",
   "metadata": {},
   "outputs": [],
   "source": []
  },
  {
   "cell_type": "code",
   "execution_count": null,
   "id": "fallen-plaintiff",
   "metadata": {},
   "outputs": [],
   "source": []
  },
  {
   "cell_type": "code",
   "execution_count": null,
   "id": "disciplinary-prescription",
   "metadata": {},
   "outputs": [],
   "source": []
  },
  {
   "cell_type": "code",
   "execution_count": null,
   "id": "turkish-davis",
   "metadata": {},
   "outputs": [],
   "source": []
  },
  {
   "cell_type": "code",
   "execution_count": null,
   "id": "ordered-royalty",
   "metadata": {},
   "outputs": [],
   "source": []
  },
  {
   "cell_type": "code",
   "execution_count": null,
   "id": "confirmed-spanking",
   "metadata": {},
   "outputs": [],
   "source": []
  },
  {
   "cell_type": "code",
   "execution_count": null,
   "id": "identical-waterproof",
   "metadata": {},
   "outputs": [],
   "source": []
  },
  {
   "cell_type": "code",
   "execution_count": null,
   "id": "continent-annual",
   "metadata": {},
   "outputs": [],
   "source": []
  },
  {
   "cell_type": "code",
   "execution_count": null,
   "id": "incomplete-figure",
   "metadata": {},
   "outputs": [],
   "source": []
  },
  {
   "cell_type": "code",
   "execution_count": 18,
   "id": "invalid-trainer",
   "metadata": {},
   "outputs": [
    {
     "name": "stdout",
     "output_type": "stream",
     "text": [
      "net->parameters() = \n",
      "-0.0865  0.0004 -0.0283 -0.3699\n",
      " 0.1496  0.3299 -0.3751 -0.2932\n",
      " 0.4911  0.2212  0.0100  0.1815\n",
      " 0.3170  0.2273 -0.4936  0.4463\n",
      "-0.0703  0.1112  0.1605  0.1676\n",
      " 0.3138  0.4383  0.3995 -0.1057\n",
      " 0.4003 -0.1541 -0.0448  0.1465\n",
      "-0.3959  0.4331  0.3080 -0.0293\n",
      "[ CPUFloatType{8,4} ] -0.4599\n",
      "-0.1276\n",
      " 0.2174\n",
      " 0.4324\n",
      " 0.0921\n",
      " 0.1287\n",
      "-0.3005\n",
      " 0.2993\n",
      "[ CPUFloatType{8} ] -0.2337  0.3503 -0.1338 -0.3453  0.0732  0.3135  0.2123  0.2527\n",
      "[ CPUFloatType{1,8} ] -0.3481\n",
      "[ CPUFloatType{1} ]\n",
      "<<--->>\n",
      "\n"
     ]
    }
   ],
   "source": [
    "void init_weights(torch::nn::Module& m)\n",
    "{\n",
    "//     if ((typeid(m) == typeid(torch::nn::LinearImpl)) || (typeid(m) == typeid(torch::nn::Linear))) {\n",
    "    if (typeid(m) == typeid(torch::nn::Linear)) {\n",
    "        auto p = m.named_parameters(false);\n",
    "        auto w = p.find(\"weight\");\n",
    "        auto b = p.find(\"bias\");\n",
    "\n",
    "//         if (w != nullptr) torch::nn::init::xavier_uniform_(*w);\n",
    "        if (w != nullptr) torch::nn::init::ones_(*w);\n",
    "        if (b != nullptr) torch::nn::init::constant_(*b, 0.01);\n",
    "    }\n",
    "}\n",
    "\n",
    "net->apply(init_weights);\n",
    "\n",
    "printT(net->parameters());"
   ]
  },
  {
   "cell_type": "code",
   "execution_count": null,
   "id": "noticed-reputation",
   "metadata": {},
   "outputs": [],
   "source": []
  },
  {
   "cell_type": "code",
   "execution_count": null,
   "id": "minute-dodge",
   "metadata": {},
   "outputs": [],
   "source": []
  },
  {
   "cell_type": "code",
   "execution_count": null,
   "id": "medieval-wisconsin",
   "metadata": {},
   "outputs": [],
   "source": []
  },
  {
   "cell_type": "markdown",
   "id": "interpreted-principal",
   "metadata": {},
   "source": [
    "引申一点，看看net的参数，以及如何为net的参数做初始化："
   ]
  },
  {
   "cell_type": "code",
   "execution_count": null,
   "id": "ideal-spice",
   "metadata": {},
   "outputs": [],
   "source": [
    "torch::nn::Sequential net1(torch::nn::Linear(4, 8),\n",
    "                          torch::nn::ReLU(),\n",
    "                          torch::nn::Linear(8, 1)\n",
    "                         );\n",
    "\n",
    "printT(net1->parameters());"
   ]
  },
  {
   "cell_type": "code",
   "execution_count": null,
   "id": "labeled-china",
   "metadata": {},
   "outputs": [],
   "source": []
  },
  {
   "cell_type": "code",
   "execution_count": null,
   "id": "smooth-forward",
   "metadata": {},
   "outputs": [],
   "source": []
  }
 ],
 "metadata": {
  "kernelspec": {
   "display_name": "C++17",
   "language": "C++17",
   "name": "xcpp17"
  },
  "language_info": {
   "codemirror_mode": "text/x-c++src",
   "file_extension": ".cpp",
   "mimetype": "text/x-c++src",
   "name": "c++",
   "version": "17"
  }
 },
 "nbformat": 4,
 "nbformat_minor": 5
}
