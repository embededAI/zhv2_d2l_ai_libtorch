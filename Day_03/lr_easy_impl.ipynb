{
 "cells": [
  {
   "cell_type": "code",
   "execution_count": 1,
   "id": "ready-shadow",
   "metadata": {},
   "outputs": [],
   "source": [
    "#include <iostream>\n",
    "\n",
    "/*a workaround to solve cling issue*/\n",
    "#include \"../inc/macos_cling_workaround.hpp\"\n",
    "/*set libtorch path, load libs*/\n",
    "#include \"../inc/load_libtorch.hpp\"\n",
    "/*import custom defined macros*/\n",
    "#include \"../inc/custom_def.hpp\"\n",
    "/*import matplotlibcpp*/\n",
    "#include \"../inc/load_matplotlibcpp.hpp\"\n",
    "\n",
    "/*import libtorch header file*/\n",
    "#include <torch/torch.h>"
   ]
  },
  {
   "cell_type": "markdown",
   "id": "selective-redhead",
   "metadata": {},
   "source": [
    "# 线性回归的简单实现：使用libtorch API"
   ]
  },
  {
   "cell_type": "code",
   "execution_count": 2,
   "id": "entertaining-creation",
   "metadata": {},
   "outputs": [],
   "source": [
    "typedef std::tuple<torch::Tensor, torch::Tensor> sample_set;"
   ]
  },
  {
   "cell_type": "code",
   "execution_count": 3,
   "id": "established-pierre",
   "metadata": {},
   "outputs": [],
   "source": [
    "sample_set synthetic_data(torch::Tensor w, torch::Tensor b, int num_example)\n",
    "{\n",
    "    torch::Tensor X = torch::normal(0.0, 1.0, {num_example, w.size(0)}); \n",
    "    torch::Tensor y = X.matmul(w) + b;\n",
    "    y = y + torch::normal(0.0, 0.1, y.sizes());\n",
    "    \n",
    "    return std::make_tuple(X, y);\n",
    "}"
   ]
  },
  {
   "cell_type": "code",
   "execution_count": null,
   "id": "criminal-pathology",
   "metadata": {},
   "outputs": [],
   "source": [
    "true_w = torch.tensor([2, -3.4])\n",
    "true_b = 4.2\n",
    "features, labels = d2l.synthetic_data(true_w, true_b, 1000)\n",
    "    \n",
    "    def load_array(data_arrays, batch_size, is_train=True):  \n",
    "    \"\"\"构造一个PyTorch数据迭代器。\"\"\"\n",
    "    dataset = data.TensorDataset(*data_arrays)\n",
    "    return data.DataLoader(dataset, batch_size, shuffle=is_train)\n",
    "\n",
    "batch_size = 10\n",
    "data_iter = load_array((features, labels), batch_size)\n",
    "\n",
    "next(iter(data_iter))"
   ]
  },
  {
   "cell_type": "code",
   "execution_count": null,
   "id": "final-spray",
   "metadata": {},
   "outputs": [
    {
     "name": "stderr",
     "output_type": "stream",
     "text": [
      "\u001b[1minput_line_21:15:57: \u001b[0m\u001b[0;1;31merror: \u001b[0m\u001b[1muse of undeclared identifier 'w'\u001b[0m\n",
      "torch::Tensor X = torch::normal(0.0, 1.0, {num_example, w.size(0)}); \n",
      "\u001b[0;1;32m                                                        ^\n",
      "\u001b[0m\u001b[1minput_line_21:16:28: \u001b[0m\u001b[0;1;31merror: \u001b[0m\u001b[1muse of undeclared identifier 'w'\u001b[0m\n",
      "torch::Tensor y = X.matmul(w) + b;\n",
      "\u001b[0;1;32m                           ^\n",
      "\u001b[0m\u001b[1minput_line_21:16:33: \u001b[0m\u001b[0;1;31merror: \u001b[0m\u001b[1muse of undeclared identifier 'b'\u001b[0m\n",
      "torch::Tensor y = X.matmul(w) + b;\n",
      "\u001b[0;1;32m                                ^\n",
      "\u001b[0m\u001b[1minput_line_21:26:23: \u001b[0m\u001b[0;1;31merror: \u001b[0m\u001b[1mreference to non-static member function must be called; did you mean\n",
      "      to call it with no arguments?\u001b[0m\n",
      "    auto data = batch.data;\n",
      "\u001b[0;1;32m                ~~~~~~^~~~\n",
      "\u001b[0m\u001b[0;32m                          ()\n",
      "\u001b[0m\u001b[1m/Users/liuhang/anaconda3/envs/mycpp/include/c++/v1/vector:696:23: \u001b[0m\u001b[0;1;30mnote: \u001b[0mpossible target for call\u001b[0m\n",
      "    value_type*       data() _NOEXCEPT\n",
      "\u001b[0;1;32m                      ^\n",
      "\u001b[0m\u001b[1m/Users/liuhang/anaconda3/envs/mycpp/include/c++/v1/vector:699:23: \u001b[0m\u001b[0;1;30mnote: \u001b[0mpossible target for call\u001b[0m\n",
      "    const value_type* data() const _NOEXCEPT\n",
      "\u001b[0;1;32m                      ^\n",
      "\u001b[0m\u001b[1minput_line_21:26:23: \u001b[0m\u001b[0;1;31merror: \u001b[0m\u001b[1mreference to non-static member function must be called; did you mean\n",
      "      to call it with no arguments?\u001b[0m\n",
      "    auto data = batch.data;\n",
      "\u001b[0;1;32m                ~~~~~~^~~~\n",
      "\u001b[0m\u001b[0;32m                          ()\n",
      "\u001b[0m\u001b[1m/Users/liuhang/anaconda3/envs/mycpp/include/c++/v1/vector:696:23: \u001b[0m\u001b[0;1;30mnote: \u001b[0mpossible target for call\u001b[0m\n",
      "    value_type*       data() _NOEXCEPT\n",
      "\u001b[0;1;32m                      ^\n",
      "\u001b[0m\u001b[1m/Users/liuhang/anaconda3/envs/mycpp/include/c++/v1/vector:699:23: \u001b[0m\u001b[0;1;30mnote: \u001b[0mpossible target for call\u001b[0m\n",
      "    const value_type* data() const _NOEXCEPT\n",
      "\u001b[0;1;32m                      ^\n",
      "\u001b[0m\u001b[1minput_line_21:27:25: \u001b[0m\u001b[0;1;31merror: \u001b[0m\u001b[1mno member named 'target' in\n",
      "      'std::__1::vector<torch::data::Example<at::Tensor, void>,\n",
      "      std::__1::allocator<torch::data::Example<at::Tensor, void> > >'\u001b[0m\n",
      "    auto labels = batch.target;\n",
      "\u001b[0;1;32m                  ~~~~~ ^\n",
      "\u001b[0m"
     ]
    }
   ],
   "source": [
    "float coe[] = {2.0, 3.4};\n",
    "float bias[] = {4.2};\n",
    "int num_example = 20;\n",
    "int batch_size = 4;\n",
    "/** calling 'from_blob(...)' may cause compile error with my\n",
    " *  xeus-clilng enviroment, so here I changed it with another\n",
    " *  way; but maybe you can try it in your pc;\n",
    " */\n",
    "// torch::Tensor true_w = torch::from_blob(coe, {2, 1});\n",
    "// torch::Tensor true_b = torch::from_blob(bias, {1});\n",
    "\n",
    "torch::Tensor true_w = torch::tensor(at::ArrayRef<float>({2.0, -3.4}));\n",
    "torch::Tensor true_b = torch::tensor(at::ArrayRef<float>({4.2}));\n",
    "// sample_set data = synthetic_data(true_w, true_b, 1000);\n",
    "\n",
    "torch::Tensor X = torch::normal(0.0, 1.0, {num_example, w.size(0)}); \n",
    "torch::Tensor y = X.matmul(w) + b;\n",
    "y = y + torch::normal(0.0, 0.1, y.sizes());\n",
    "\n",
    "std::vector<torch::Tensor> tlist;\n",
    "tlist.push_back(X);\n",
    "tlist.push_back(y);\n",
    "\n",
    "auto dataset = torch::data::datasets::TensorDataset(tlist);\n",
    "auto data_loader = torch::data::make_data_loader<torch::data::samplers::RandomSampler>(\n",
    "    std::move(dataset), \n",
    "    batch_size);\n",
    "for (auto& batch : *data_loader) {\n",
    "    auto data = batch.data;\n",
    "    auto labels = batch.target;\n",
    "    // do your usual stuff\n",
    "    printT(data);\n",
    "}"
   ]
  },
  {
   "cell_type": "code",
   "execution_count": null,
   "id": "arctic-klein",
   "metadata": {},
   "outputs": [],
   "source": [
    "xxx load_array(data_arrays, batch_size, is_train=True)\n",
    "{\n",
    "    torch::data::datasets::TensorDataset dataset = torch::data::datasets::TensorDataset(*data_arrays)\n",
    "    return data.DataLoader(dataset, batch_size, shuffle=is_train)    \n",
    "}"
   ]
  }
 ],
 "metadata": {
  "kernelspec": {
   "display_name": "C++17",
   "language": "C++17",
   "name": "xcpp17"
  },
  "language_info": {
   "codemirror_mode": "text/x-c++src",
   "file_extension": ".cpp",
   "mimetype": "text/x-c++src",
   "name": "c++",
   "version": "17"
  }
 },
 "nbformat": 4,
 "nbformat_minor": 5
}
