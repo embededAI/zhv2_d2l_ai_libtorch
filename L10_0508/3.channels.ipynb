{
 "cells": [
  {
   "cell_type": "code",
   "execution_count": 1,
   "id": "surface-citation",
   "metadata": {},
   "outputs": [],
   "source": [
    "#include <iostream>\n",
    "\n",
    "/*a workaround to solve cling issue*/\n",
    "#include \"../inc/macos_cling_workaround.hpp\"\n",
    "/*set libtorch path, load libs*/\n",
    "#include \"../inc/load_libtorch.hpp\"\n",
    "/*import custom defined macros*/\n",
    "#include \"../inc/custom_def.hpp\"\n",
    "/*import matplotlibcpp*/\n",
    "#include \"../inc/load_matplotlibcpp.hpp\"\n",
    "/*import opencv*/\n",
    "#include \"../inc/load_opencv.hpp\"\n",
    "\n",
    "/*import libtorch header file*/\n",
    "#include <torch/torch.h>\n",
    "#include <opencv2/opencv.hpp>\n",
    "#include <cmath>\n",
    "\n",
    "// Use (void) to silent unused warnings.\n",
    "#define assertm(exp, msg) assert(((void)msg, exp))"
   ]
  },
  {
   "cell_type": "code",
   "execution_count": 2,
   "id": "apart-culture",
   "metadata": {},
   "outputs": [],
   "source": [
    "#define VAR_NAME(Variable) (#Variable)\n",
    "\n",
    "void print_tensor_size(std::string name, torch::Tensor t)\n",
    "{\n",
    "    int dims = t.dim();\n",
    "    std::cout << name << \" dims is (\";\n",
    "    for (int i = 0; i < dims; i++) {\n",
    "        std::cout << t.size(i);\n",
    "        if (i < (dims - 1)) std::cout << \" x \";\n",
    "    }\n",
    "    std::cout << \")\" << std::endl;\n",
    "}"
   ]
  },
  {
   "cell_type": "markdown",
   "id": "accurate-compromise",
   "metadata": {},
   "source": [
    "# 多输入多输出通道"
   ]
  },
  {
   "cell_type": "markdown",
   "id": "second-safety",
   "metadata": {},
   "source": [
    "**实现一下多输入通道互相关运算**"
   ]
  },
  {
   "cell_type": "code",
   "execution_count": 3,
   "id": "static-breach",
   "metadata": {},
   "outputs": [],
   "source": [
    "// def corr2d_multi_in(X, K):\n",
    "//     return sum(d2l.corr2d(x, k) for x, k in zip(X, K))"
   ]
  },
  {
   "cell_type": "code",
   "execution_count": 4,
   "id": "false-nepal",
   "metadata": {},
   "outputs": [],
   "source": [
    "torch::Tensor corr2d(torch::Tensor X, torch::Tensor K)\n",
    "{\n",
    "    int h = K.size(0);\n",
    "    int w = K.size(1);\n",
    "    \n",
    "    torch::Tensor Y = torch::zeros({X.size(0) - h + 1, X.size(1) - w + 1});\n",
    "    for (int i = 0; i < Y.size(0); i++) {\n",
    "        for (int j = 0; j < Y.size(1); j++) {\n",
    "            Y[i][j] = (X.index({torch::indexing::Slice(i, i+h), torch::indexing::Slice(j, j+w)}) * K).sum();\n",
    "//             printT(Y[i][j]);\n",
    "        }        \n",
    "    }\n",
    "    \n",
    "    return Y;\n",
    "}"
   ]
  },
  {
   "cell_type": "code",
   "execution_count": 5,
   "id": "executive-uruguay",
   "metadata": {},
   "outputs": [],
   "source": [
    "torch::Tensor corr2d_multi_in(torch::Tensor X, torch::Tensor K)\n",
    "{\n",
    "    assert(X.dim() == K.dim());\n",
    "    int chan = X.size(0);\n",
    "    torch::Tensor Y;\n",
    "    for (int i = 0; i < chan; i++) {\n",
    "        if (Y.numel() == 0) {\n",
    "            Y = corr2d(X[i], K[i]);\n",
    "        } else {\n",
    "            Y += corr2d(X[i], K[i]);\n",
    "        }\n",
    "    }\n",
    "    return Y;\n",
    "}"
   ]
  },
  {
   "cell_type": "markdown",
   "id": "premium-entertainment",
   "metadata": {},
   "source": [
    "**验证互相关运算的输出**"
   ]
  },
  {
   "cell_type": "code",
   "execution_count": 6,
   "id": "amazing-pregnancy",
   "metadata": {},
   "outputs": [],
   "source": [
    "// X = torch.tensor([[[0.0, 1.0, 2.0], [3.0, 4.0, 5.0], [6.0, 7.0, 8.0]],\n",
    "//                   [[1.0, 2.0, 3.0], [4.0, 5.0, 6.0], [7.0, 8.0, 9.0]]])\n",
    "// K = torch.tensor([[[0.0, 1.0], [2.0, 3.0]], [[1.0, 2.0], [3.0, 4.0]]])\n",
    "\n",
    "// corr2d_multi_in(X, K)"
   ]
  },
  {
   "cell_type": "code",
   "execution_count": 7,
   "id": "cultural-sitting",
   "metadata": {},
   "outputs": [
    {
     "name": "stdout",
     "output_type": "stream",
     "text": [
      "Z = \n",
      "  56   72\n",
      " 104  120\n",
      "[ CPUFloatType{2,2} ]\n",
      "<<--->>\n",
      "\n"
     ]
    }
   ],
   "source": [
    "auto X = torch::tensor(at::ArrayRef<float>({0.0, 1.0, 2.0, 3.0, 4.0, 5.0, 6.0, 7.0, 8.0, \n",
    "                                       1.0, 2.0, 3.0, 4.0, 5.0, 6.0, 7.0, 8.0, 9.0}));\n",
    "X = X.reshape({2, 3, 3});\n",
    "\n",
    "auto K = torch::tensor(at::ArrayRef<float>({0.0, 1.0, 2.0, 3.0, 1.0, 2.0, 3.0, 4.0}));\n",
    "\n",
    "K = K.reshape({2, 2, 2});\n",
    "\n",
    "auto Z = corr2d_multi_in(X, K);\n",
    "\n",
    "printT(Z);"
   ]
  },
  {
   "cell_type": "markdown",
   "id": "unique-crazy",
   "metadata": {},
   "source": [
    "**计算多个通道的输出的互相关函数**"
   ]
  },
  {
   "cell_type": "code",
   "execution_count": 8,
   "id": "challenging-transaction",
   "metadata": {},
   "outputs": [],
   "source": [
    "// def corr2d_multi_in_out(X, K):\n",
    "//     return torch.stack([corr2d_multi_in(X, k) for k in K], 0)\n",
    "\n",
    "// K = torch.stack((K, K + 1, K + 2), 0)\n",
    "// K.shape"
   ]
  },
  {
   "cell_type": "code",
   "execution_count": 9,
   "id": "experimental-edgar",
   "metadata": {},
   "outputs": [],
   "source": [
    "torch::Tensor corr2d_multi_in_out(torch::Tensor X, torch::Tensor K)\n",
    "{\n",
    "    int chan = K.size(0);\n",
    "    std::vector<torch::Tensor> Y;\n",
    "    for (int i = 0; i < chan; i++) {\n",
    "        Y.push_back(corr2d_multi_in(X, K[i]));\n",
    "    }\n",
    "    \n",
    "    return torch::stack(at::TensorList(Y));\n",
    "}"
   ]
  },
  {
   "cell_type": "code",
   "execution_count": 10,
   "id": "practical-check",
   "metadata": {},
   "outputs": [
    {
     "name": "stdout",
     "output_type": "stream",
     "text": [
      "K.sizes() = \n",
      "[3, 2, 2, 2]\n",
      "<<--->>\n",
      "\n"
     ]
    }
   ],
   "source": [
    "K = torch::stack({K, K+1, K+2}, 0);\n",
    "printT(K.sizes());"
   ]
  },
  {
   "cell_type": "code",
   "execution_count": 11,
   "id": "prime-clearance",
   "metadata": {},
   "outputs": [
    {
     "name": "stdout",
     "output_type": "stream",
     "text": [
      "corr2d_multi_in_out(X, K) = \n",
      "(1,.,.) = \n",
      "   56   72\n",
      "  104  120\n",
      "\n",
      "(2,.,.) = \n",
      "   76  100\n",
      "  148  172\n",
      "\n",
      "(3,.,.) = \n",
      "   96  128\n",
      "  192  224\n",
      "[ CPUFloatType{3,2,2} ]\n",
      "<<--->>\n",
      "\n"
     ]
    }
   ],
   "source": [
    "printT(corr2d_multi_in_out(X, K));"
   ]
  },
  {
   "cell_type": "markdown",
   "id": "promotional-integrity",
   "metadata": {},
   "source": [
    "**1x1卷积**"
   ]
  },
  {
   "cell_type": "code",
   "execution_count": 12,
   "id": "expired-window",
   "metadata": {},
   "outputs": [],
   "source": [
    "// def corr2d_multi_in_out_1x1(X, K):\n",
    "//     c_i, h, w = X.shape\n",
    "//     c_o = K.shape[0]\n",
    "//     X = X.reshape((c_i, h * w))\n",
    "//     K = K.reshape((c_o, c_i))\n",
    "//     Y = torch.matmul(K, X)\n",
    "//     return Y.reshape((c_o, h, w))\n",
    "\n",
    "// X = torch.normal(0, 1, (3, 3, 3))\n",
    "// K = torch.normal(0, 1, (2, 3, 1, 1))\n",
    "\n",
    "// Y1 = corr2d_multi_in_out_1x1(X, K)\n",
    "// Y2 = corr2d_multi_in_out(X, K)\n",
    "// assert float(torch.abs(Y1 - Y2).sum()) < 1e-6"
   ]
  },
  {
   "cell_type": "code",
   "execution_count": 13,
   "id": "smooth-camcorder",
   "metadata": {},
   "outputs": [],
   "source": [
    "torch::Tensor corr2d_multi_in_out_1x1(torch::Tensor X, torch::Tensor K)\n",
    "{\n",
    "    assert(X.dim() == K.dim());\n",
    "    int c_i = X.size(0);\n",
    "    int h   = X.size(1);\n",
    "    int w   = X.size(2);\n",
    "    int c_o = K.size(0);\n",
    "    X = X.reshape({c_i, h*w});\n",
    "    K = K.reshape({c_o, c_i});\n",
    "    auto Y = torch::matmul(K, X);\n",
    "    return Y.reshape({c_o, h, w});\n",
    "}"
   ]
  },
  {
   "cell_type": "code",
   "execution_count": 14,
   "id": "secondary-lexington",
   "metadata": {},
   "outputs": [
    {
     "name": "stdout",
     "output_type": "stream",
     "text": [
      "Y1 = \n",
      "(1,.,.) = \n",
      "  0.0736  1.2673 -0.6003\n",
      " -1.1960 -1.8473  1.6022\n",
      " -0.7439  0.8201 -0.2694\n",
      "\n",
      "(2,.,.) = \n",
      "  0.6711 -0.8463  1.3777\n",
      " -0.1810 -0.9293 -1.3548\n",
      " -0.2085  0.6384 -0.7410\n",
      "[ CPUFloatType{2,3,3} ]\n",
      "<<--->>\n",
      "\n",
      "Y2 = \n",
      "(1,.,.) = \n",
      "  0.0736  1.2673 -0.6003\n",
      " -1.1960 -1.8473  1.6022\n",
      " -0.7439  0.8201 -0.2694\n",
      "\n",
      "(2,.,.) = \n",
      "  0.6711 -0.8463  1.3777\n",
      " -0.1810 -0.9293 -1.3548\n",
      " -0.2085  0.6384 -0.7410\n",
      "[ CPUFloatType{2,3,3} ]\n",
      "<<--->>\n",
      "\n"
     ]
    }
   ],
   "source": [
    "auto X1 = torch::normal(0, 1, {3, 3, 3});\n",
    "auto K1 = torch::normal(0, 1, {2, 3, 1, 1});\n",
    "auto Y1 = corr2d_multi_in_out_1x1(X1, K1);\n",
    "auto Y2 = corr2d_multi_in_out(X1, K1);\n",
    "printT(Y1);\n",
    "printT(Y2);"
   ]
  },
  {
   "cell_type": "code",
   "execution_count": 15,
   "id": "prostate-compensation",
   "metadata": {},
   "outputs": [
    {
     "name": "stdout",
     "output_type": "stream",
     "text": [
      "(torch::abs(Y1 - Y2).sum()) = \n",
      "1.56462e-07\n",
      "[ CPUFloatType{} ]\n",
      "<<--->>\n",
      "\n"
     ]
    }
   ],
   "source": [
    "printT((torch::abs(Y1 - Y2).sum()));"
   ]
  },
  {
   "cell_type": "code",
   "execution_count": null,
   "id": "abroad-bernard",
   "metadata": {},
   "outputs": [],
   "source": []
  }
 ],
 "metadata": {
  "kernelspec": {
   "display_name": "C++17",
   "language": "C++17",
   "name": "xcpp17"
  },
  "language_info": {
   "codemirror_mode": "text/x-c++src",
   "file_extension": ".cpp",
   "mimetype": "text/x-c++src",
   "name": "c++",
   "version": "17"
  }
 },
 "nbformat": 4,
 "nbformat_minor": 5
}
