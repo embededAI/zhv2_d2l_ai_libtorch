{
 "cells": [
  {
   "cell_type": "code",
   "execution_count": 1,
   "id": "surface-citation",
   "metadata": {},
   "outputs": [],
   "source": [
    "#include <iostream>\n",
    "\n",
    "/*a workaround to solve cling issue*/\n",
    "#include \"../inc/macos_cling_workaround.hpp\"\n",
    "/*set libtorch path, load libs*/\n",
    "#include \"../inc/load_libtorch.hpp\"\n",
    "/*import custom defined macros*/\n",
    "#include \"../inc/custom_def.hpp\"\n",
    "/*import matplotlibcpp*/\n",
    "#include \"../inc/load_matplotlibcpp.hpp\"\n",
    "/*import opencv*/\n",
    "#include \"../inc/load_opencv.hpp\"\n",
    "\n",
    "/*import libtorch header file*/\n",
    "#include <torch/torch.h>\n",
    "#include <opencv2/opencv.hpp>\n",
    "#include <cmath>\n",
    "\n",
    "// Use (void) to silent unused warnings.\n",
    "#define assertm(exp, msg) assert(((void)msg, exp))"
   ]
  },
  {
   "cell_type": "code",
   "execution_count": 2,
   "id": "apart-culture",
   "metadata": {},
   "outputs": [],
   "source": [
    "#define VAR_NAME(Variable) (#Variable)\n",
    "\n",
    "void print_tensor_size(std::string name, torch::Tensor t)\n",
    "{\n",
    "    int dims = t.dim();\n",
    "    std::cout << name << \" dims is (\";\n",
    "    for (int i = 0; i < dims; i++) {\n",
    "        std::cout << t.size(i);\n",
    "        if (i < (dims - 1)) std::cout << \" x \";\n",
    "    }\n",
    "    std::cout << \")\" << std::endl;\n",
    "}"
   ]
  },
  {
   "cell_type": "markdown",
   "id": "offensive-rochester",
   "metadata": {},
   "source": [
    "# 卷积神经网络（LeNet）"
   ]
  },
  {
   "cell_type": "markdown",
   "id": "improving-comment",
   "metadata": {},
   "source": [
    "**LeNet（LeNet-5）由两个部分组成： 卷积编码器和全连接层密集块**"
   ]
  },
  {
   "cell_type": "code",
   "execution_count": 3,
   "id": "after-chorus",
   "metadata": {},
   "outputs": [],
   "source": [
    "// class Reshape(torch.nn.Module):\n",
    "//     def forward(self, x):\n",
    "//         return x.view(-1, 1, 28, 28)\n",
    "\n",
    "// net = torch.nn.Sequential(Reshape(), nn.Conv2d(1, 6, kernel_size=5,\n",
    "//                                                padding=2), nn.Sigmoid(),\n",
    "//                           nn.AvgPool2d(kernel_size=2, stride=2),\n",
    "//                           nn.Conv2d(6, 16, kernel_size=5), nn.Sigmoid(),\n",
    "//                           nn.AvgPool2d(kernel_size=2, stride=2), nn.Flatten(),\n",
    "//                           nn.Linear(16 * 5 * 5, 120), nn.Sigmoid(),\n",
    "//                           nn.Linear(120, 84), nn.Sigmoid(), nn.Linear(84, 10))"
   ]
  },
  {
   "cell_type": "code",
   "execution_count": 4,
   "id": "narrow-wallace",
   "metadata": {},
   "outputs": [],
   "source": [
    "struct Reshape : torch::nn::Module {\n",
    "  torch::Tensor forward(torch::Tensor X) {\n",
    "    return X.view({-1, 1, 28, 28});\n",
    "  }\n",
    "};"
   ]
  },
  {
   "cell_type": "code",
   "execution_count": 5,
   "id": "hazardous-diagnosis",
   "metadata": {},
   "outputs": [],
   "source": [
    "torch::nn::Sequential net(Reshape(),\n",
    "                          torch::nn::Conv2d(torch::nn::Conv2dOptions(1, 6, 5).padding(2).bias(false)),\n",
    "                          torch::nn::Sigmoid(),\n",
    "                          torch::nn::AvgPool2d(torch::nn::AvgPool2dOptions(2).stride(2)),\n",
    "                          torch::nn::Conv2d(torch::nn::Conv2dOptions(6, 16, 5).bias(false)),\n",
    "                          torch::nn::Sigmoid(),\n",
    "                          torch::nn::AvgPool2d(torch::nn::AvgPool2dOptions(2).stride(2)),\n",
    "                          torch::nn::Flatten(),\n",
    "                          torch::nn::Linear(16 * 5 * 5, 120),\n",
    "                          torch::nn::Sigmoid(),\n",
    "                          torch::nn::Linear(120, 84),\n",
    "                          torch::nn::Sigmoid(),\n",
    "                          torch::nn::Linear(84, 10)\n",
    "                         );"
   ]
  },
  {
   "cell_type": "markdown",
   "id": "according-yacht",
   "metadata": {},
   "source": [
    "**检查模型**"
   ]
  },
  {
   "cell_type": "code",
   "execution_count": 6,
   "id": "sexual-writing",
   "metadata": {},
   "outputs": [],
   "source": [
    "// X = torch.rand(size=(1, 1, 28, 28), dtype=torch.float32)\n",
    "// for layer in net:\n",
    "//     X = layer(X)\n",
    "//     print(layer.__class__.__name__, 'output shape: \\t', X.shape)"
   ]
  },
  {
   "cell_type": "code",
   "execution_count": 7,
   "id": "backed-bowling",
   "metadata": {},
   "outputs": [
    {
     "name": "stdout",
     "output_type": "stream",
     "text": [
      "__cling_N53::Reshape\n",
      "output shape: \t[1, 1, 28, 28]\n",
      "torch::nn::Conv2dImpl\n",
      "output shape: \t[1, 6, 28, 28]\n",
      "torch::nn::SigmoidImpl\n",
      "output shape: \t[1, 6, 28, 28]\n",
      "torch::nn::AvgPool2dImpl\n",
      "output shape: \t[1, 6, 14, 14]\n",
      "torch::nn::Conv2dImpl\n",
      "output shape: \t[1, 16, 10, 10]\n",
      "torch::nn::SigmoidImpl\n",
      "output shape: \t[1, 16, 10, 10]\n",
      "torch::nn::AvgPool2dImpl\n",
      "output shape: \t[1, 16, 5, 5]\n",
      "torch::nn::FlattenImpl\n",
      "output shape: \t[1, 400]\n",
      "torch::nn::LinearImpl\n",
      "output shape: \t[1, 120]\n",
      "torch::nn::SigmoidImpl\n",
      "output shape: \t[1, 120]\n",
      "torch::nn::LinearImpl\n",
      "output shape: \t[1, 84]\n",
      "torch::nn::SigmoidImpl\n",
      "output shape: \t[1, 84]\n",
      "torch::nn::LinearImpl\n",
      "output shape: \t[1, 10]\n"
     ]
    }
   ],
   "source": [
    "auto X = torch::rand({1, 1, 28, 28}, torch::kFloat);\n",
    "\n",
    "auto& model_ref = *net; \n",
    "\n",
    "for (auto module : model_ref)\n",
    "{\n",
    "    std::cout << module.ptr()->name() << std::endl;\n",
    "    X = module.forward(X);\n",
    "    std::cout << \"output shape: \\t\" << X.sizes() << std::endl;\n",
    "//     std::cout << module.ptr()->parameters() << std::endl;\n",
    "}"
   ]
  },
  {
   "cell_type": "markdown",
   "id": "loose-greeting",
   "metadata": {},
   "source": [
    "**LeNet在Fashion-MNIST数据集上的表现**"
   ]
  },
  {
   "cell_type": "code",
   "execution_count": 8,
   "id": "spread-notification",
   "metadata": {},
   "outputs": [],
   "source": [
    "// batch_size = 256\n",
    "// train_iter, test_iter = d2l.load_data_fashion_mnist(batch_size=batch_size)"
   ]
  },
  {
   "cell_type": "code",
   "execution_count": 9,
   "id": "thousand-short",
   "metadata": {},
   "outputs": [],
   "source": [
    "constexpr uint32_t batch_size = 256;\n",
    "\n",
    "// Create a multi-threaded data loader for the MNIST dataset.\n",
    "auto data_loader = torch::data::make_data_loader(\n",
    "  torch::data::datasets::MNIST(\"../dataset/fashion_mnist\").map(\n",
    "      torch::data::transforms::Stack<>()),\n",
    "  /*batch size=*/batch_size);"
   ]
  },
  {
   "cell_type": "markdown",
   "id": "periodic-force",
   "metadata": {},
   "source": [
    "**对 evaluate_accuracy函数进行轻微的修改**"
   ]
  },
  {
   "cell_type": "code",
   "execution_count": 10,
   "id": "gross-prairie",
   "metadata": {},
   "outputs": [],
   "source": [
    "// def evaluate_accuracy_gpu(net, data_iter, device=None):  \n",
    "//     \"\"\"使用GPU计算模型在数据集上的精度。\"\"\"\n",
    "//     if isinstance(net, torch.nn.Module):\n",
    "//         net.eval()\n",
    "//         if not device:\n",
    "//             device = next(iter(net.parameters())).device\n",
    "//     metric = d2l.Accumulator(2)\n",
    "//     for X, y in data_iter:\n",
    "//         if isinstance(X, list):\n",
    "//             X = [x.to(device) for x in X]\n",
    "//         else:\n",
    "//             X = X.to(device)\n",
    "//         y = y.to(device)\n",
    "//         metric.add(d2l.accuracy(net(X), y), y.numel())\n",
    "//     return metric[0] / metric[1]"
   ]
  },
  {
   "cell_type": "code",
   "execution_count": 13,
   "id": "executive-phone",
   "metadata": {},
   "outputs": [
    {
     "name": "stderr",
     "output_type": "stream",
     "text": [
      "\u001b[1minput_line_32:1:34: \u001b[0m\u001b[0;1;31merror: \u001b[0m\u001b[1muse of undeclared identifier 'data_iter'\u001b[0m\n",
      "float evaluate_accuracy_gpu(net, data_iter, device=None)\n",
      "\u001b[0;1;32m                                 ^\n",
      "\u001b[0m\u001b[1minput_line_32:1:45: \u001b[0m\u001b[0;1;31merror: \u001b[0m\u001b[1muse of undeclared identifier 'device'\u001b[0m\n",
      "float evaluate_accuracy_gpu(net, data_iter, device=None)\n",
      "\u001b[0;1;32m                                            ^\n",
      "\u001b[0m\u001b[1minput_line_32:1:52: \u001b[0m\u001b[0;1;31merror: \u001b[0m\u001b[1muse of undeclared identifier 'None'\u001b[0m\n",
      "float evaluate_accuracy_gpu(net, data_iter, device=None)\n",
      "\u001b[0;1;32m                                                   ^\n",
      "\u001b[0m\u001b[1minput_line_32:1:57: \u001b[0m\u001b[0;1;31merror: \u001b[0m\u001b[1mexpected ';' after top level declarator\u001b[0m\n",
      "float evaluate_accuracy_gpu(net, data_iter, device=None)\n",
      "\u001b[0;1;32m                                                        ^\n",
      "\u001b[0m\u001b[0;32m                                                        ;\n",
      "\u001b[0m"
     ]
    },
    {
     "ename": "Interpreter Error",
     "evalue": "",
     "output_type": "error",
     "traceback": [
      "Interpreter Error: "
     ]
    }
   ],
   "source": [
    "float evaluate_accuracy_gpu(torch::nn::Sequential net, std::string dataset_path, torch::Device device)\n",
    "{\n",
    "    \n",
    "    \n",
    "    \n",
    "    return 0.0;\n",
    "}"
   ]
  },
  {
   "cell_type": "markdown",
   "id": "beautiful-honor",
   "metadata": {},
   "source": [
    "**为了使用 GPU，我们还需要一点小改动**"
   ]
  },
  {
   "cell_type": "code",
   "execution_count": 11,
   "id": "specified-edition",
   "metadata": {},
   "outputs": [],
   "source": [
    "// def train_ch6(net, train_iter, test_iter, num_epochs, lr, device):\n",
    "//     \"\"\"Train a model with a GPU (defined in Chapter 6).\"\"\"\n",
    "//     def init_weights(m):\n",
    "//         if type(m) == nn.Linear or type(m) == nn.Conv2d:\n",
    "//             nn.init.xavier_uniform_(m.weight)\n",
    "\n",
    "//     net.apply(init_weights)\n",
    "//     print('training on', device)\n",
    "//     net.to(device)\n",
    "//     optimizer = torch.optim.SGD(net.parameters(), lr=lr)\n",
    "//     loss = nn.CrossEntropyLoss()\n",
    "//     animator = d2l.Animator(xlabel='epoch', xlim=[1, num_epochs],\n",
    "//                             legend=['train loss', 'train acc', 'test acc'])\n",
    "//     timer, num_batches = d2l.Timer(), len(train_iter)\n",
    "//     for epoch in range(num_epochs):\n",
    "//         metric = d2l.Accumulator(3)\n",
    "//         net.train()\n",
    "//         for i, (X, y) in enumerate(train_iter):\n",
    "//             timer.start()\n",
    "//             optimizer.zero_grad()\n",
    "//             X, y = X.to(device), y.to(device)\n",
    "//             y_hat = net(X)\n",
    "//             l = loss(y_hat, y)\n",
    "//             l.backward()\n",
    "//             optimizer.step()\n",
    "//             with torch.no_grad():\n",
    "//                 metric.add(l * X.shape[0], d2l.accuracy(y_hat, y), X.shape[0])\n",
    "//             timer.stop()\n",
    "//             train_l = metric[0] / metric[2]\n",
    "//             train_acc = metric[1] / metric[2]\n",
    "//             if (i + 1) % (num_batches // 5) == 0 or i == num_batches - 1:\n",
    "//                 animator.add(epoch + (i + 1) / num_batches,\n",
    "//                              (train_l, train_acc, None))\n",
    "//         test_acc = evaluate_accuracy_gpu(net, test_iter)\n",
    "//         animator.add(epoch + 1, (None, None, test_acc))\n",
    "//     print(f'loss {train_l:.3f}, train acc {train_acc:.3f}, '"
   ]
  },
  {
   "cell_type": "markdown",
   "id": "cubic-month",
   "metadata": {},
   "source": [
    "**训练和评估LeNet-5模型**"
   ]
  },
  {
   "cell_type": "code",
   "execution_count": 12,
   "id": "outer-therapist",
   "metadata": {},
   "outputs": [],
   "source": [
    "// lr, num_epochs = 0.9, 10\n",
    "// train_ch6(net, train_iter, test_iter, num_epochs, lr, d2l.try_gpu())"
   ]
  },
  {
   "cell_type": "code",
   "execution_count": null,
   "id": "behavioral-answer",
   "metadata": {},
   "outputs": [],
   "source": []
  },
  {
   "cell_type": "code",
   "execution_count": null,
   "id": "sought-pottery",
   "metadata": {},
   "outputs": [],
   "source": []
  },
  {
   "cell_type": "code",
   "execution_count": null,
   "id": "accredited-alabama",
   "metadata": {},
   "outputs": [],
   "source": []
  },
  {
   "cell_type": "code",
   "execution_count": null,
   "id": "published-progressive",
   "metadata": {},
   "outputs": [],
   "source": []
  },
  {
   "cell_type": "code",
   "execution_count": null,
   "id": "brief-scotland",
   "metadata": {},
   "outputs": [],
   "source": []
  },
  {
   "cell_type": "code",
   "execution_count": null,
   "id": "polyphonic-maintenance",
   "metadata": {},
   "outputs": [],
   "source": []
  },
  {
   "cell_type": "code",
   "execution_count": null,
   "id": "southern-board",
   "metadata": {},
   "outputs": [],
   "source": []
  }
 ],
 "metadata": {
  "kernelspec": {
   "display_name": "C++17",
   "language": "C++17",
   "name": "xcpp17"
  },
  "language_info": {
   "codemirror_mode": "text/x-c++src",
   "file_extension": ".cpp",
   "mimetype": "text/x-c++src",
   "name": "c++",
   "version": "17"
  }
 },
 "nbformat": 4,
 "nbformat_minor": 5
}
