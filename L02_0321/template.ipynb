{
 "cells": [
  {
   "cell_type": "markdown",
   "id": "round-dinner",
   "metadata": {},
   "source": [
    "# 使用前，需要先导入需要的头文件"
   ]
  },
  {
   "cell_type": "code",
   "execution_count": 2,
   "id": "cheap-algorithm",
   "metadata": {},
   "outputs": [],
   "source": [
    "#include <iostream>\n",
    "\n",
    "/*a workaround to solve cling issue*/\n",
    "#include \"./inc/macos_cling_workaround.hpp\"\n",
    "/*set libtorch path, load libs*/\n",
    "#include \"./inc/load_libtorch.hpp\"\n",
    "/*import custom defined macros*/\n",
    "#include \"./inc/custom_def.hpp\"\n",
    "/*import libtorch header file*/\n",
    "#include <torch/torch.h>"
   ]
  },
  {
   "cell_type": "code",
   "execution_count": 3,
   "id": "available-brazilian",
   "metadata": {},
   "outputs": [
    {
     "name": "stdout",
     "output_type": "stream",
     "text": [
      "t = \n",
      "-0.0867  0.2350 -0.5122  0.2788\n",
      "-1.4199  0.0911 -0.8633 -0.6753\n",
      " 0.2581  1.5811  0.5073 -0.1169\n",
      "[ CPUHalfType{3,4} ]\n",
      "<<--->>\n",
      "\n"
     ]
    }
   ],
   "source": [
    "//简单测试一下效果\n",
    "\n",
    "torch::Tensor t = torch::randn({3,4}, torch::kFloat16);\n",
    "\n",
    "printT(t);"
   ]
  },
  {
   "cell_type": "code",
   "execution_count": null,
   "id": "tropical-marina",
   "metadata": {},
   "outputs": [],
   "source": []
  }
 ],
 "metadata": {
  "kernelspec": {
   "display_name": "C++14",
   "language": "C++14",
   "name": "xcpp14"
  },
  "language_info": {
   "codemirror_mode": "text/x-c++src",
   "file_extension": ".cpp",
   "mimetype": "text/x-c++src",
   "name": "c++",
   "version": "14"
  }
 },
 "nbformat": 4,
 "nbformat_minor": 5
}
