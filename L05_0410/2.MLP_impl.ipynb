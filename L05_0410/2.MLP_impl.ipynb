{
 "cells": [
  {
   "cell_type": "markdown",
   "id": "round-dinner",
   "metadata": {},
   "source": [
    "# 使用前，需要先导入需要的头文件"
   ]
  },
  {
   "cell_type": "code",
   "execution_count": 1,
   "id": "cheap-algorithm",
   "metadata": {},
   "outputs": [],
   "source": [
    "#include <iostream>\n",
    "\n",
    "/*a workaround to solve cling issue*/\n",
    "#include \"../inc/macos_cling_workaround.hpp\"\n",
    "/*set libtorch path, load libs*/\n",
    "#include \"../inc/load_libtorch.hpp\"\n",
    "/*import custom defined macros*/\n",
    "#include \"../inc/custom_def.hpp\"\n",
    "/*import matplotlibcpp*/\n",
    "#include \"../inc/load_matplotlibcpp.hpp\"\n",
    "/*import opencv*/\n",
    "#include \"../inc/load_opencv.hpp\"\n",
    "\n",
    "/*import libtorch header file*/\n",
    "#include <torch/torch.h>\n",
    "#include <opencv2/opencv.hpp>"
   ]
  },
  {
   "cell_type": "markdown",
   "id": "optimum-channel",
   "metadata": {},
   "source": [
    "# MLP从零实现"
   ]
  },
  {
   "cell_type": "markdown",
   "id": "active-latvia",
   "metadata": {},
   "source": [
    "## 初始化MLP的参数"
   ]
  },
  {
   "cell_type": "code",
   "execution_count": 2,
   "id": "eight-rogers",
   "metadata": {},
   "outputs": [],
   "source": [
    "/** input of mnist dataset, 28*28 pixels */\n",
    "int num_inputs = 784;\n",
    "/** output of classes, totally 10 classes */\n",
    "int num_outputs = 10;\n",
    "/** hidden layers */\n",
    "int num_hiddens = 256;\n",
    "\n",
    "torch::Tensor W1 = torch::randn({num_inputs, num_hiddens}, torch::requires_grad(true));\n",
    "torch::Tensor b1 = torch::zeros({num_hiddens}, torch::requires_grad(true));\n",
    "\n",
    "torch::Tensor W2 = torch::randn({num_hiddens, num_outputs}, torch::requires_grad(true));\n",
    "torch::Tensor b2 = torch::zeros({num_outputs}, torch::requires_grad(true));\n",
    "\n",
    "std::vector<torch::Tensor> params = {W1, b1, W2, b2};"
   ]
  },
  {
   "cell_type": "markdown",
   "id": "proved-prisoner",
   "metadata": {},
   "source": [
    "## 定义relu和mlp函数"
   ]
  },
  {
   "cell_type": "code",
   "execution_count": 3,
   "id": "invisible-customs",
   "metadata": {},
   "outputs": [],
   "source": [
    "torch::Tensor relu(torch::Tensor X)\n",
    "{\n",
    "    torch::Tensor a = torch::zeros_like(X);\n",
    "    return torch::max(X, a);\n",
    "}"
   ]
  },
  {
   "cell_type": "code",
   "execution_count": 4,
   "id": "german-attraction",
   "metadata": {},
   "outputs": [],
   "source": [
    "torch::Tensor net(torch::Tensor X)\n",
    "{\n",
    "    X = X.reshape({X.size(0), num_inputs});\n",
    "    torch::Tensor H = torch::relu(torch::mm(X, W1) + b1);\n",
    "    torch::Tensor y = torch::log_softmax((torch::mm(H, W2)+b2), 1);\n",
    "    return y;\n",
    "}"
   ]
  },
  {
   "cell_type": "markdown",
   "id": "chemical-student",
   "metadata": {},
   "source": [
    "## 训练"
   ]
  },
  {
   "cell_type": "code",
   "execution_count": 5,
   "id": "false-prediction",
   "metadata": {
    "scrolled": true
   },
   "outputs": [
    {
     "name": "stdout",
     "output_type": "stream",
     "text": [
      "Epoch: 1 | Batch: 300 | Loss: 14.2126\n",
      "Epoch: 1 | Batch: 600 | Loss: 6.97919\n",
      "Epoch: 2 | Batch: 300 | Loss: 7.21341\n",
      "Epoch: 2 | Batch: 600 | Loss: 6.43654\n",
      "Epoch: 3 | Batch: 300 | Loss: 7.51612\n",
      "Epoch: 3 | Batch: 600 | Loss: 4.39334\n",
      "Epoch: 4 | Batch: 300 | Loss: 2.7415\n",
      "Epoch: 4 | Batch: 600 | Loss: 5.02633\n",
      "Epoch: 5 | Batch: 300 | Loss: 3.70099\n",
      "Epoch: 5 | Batch: 600 | Loss: 3.67502\n",
      "Epoch: 6 | Batch: 300 | Loss: 3.88901\n",
      "Epoch: 6 | Batch: 600 | Loss: 3.06439\n",
      "Epoch: 7 | Batch: 300 | Loss: 3.32941\n",
      "Epoch: 7 | Batch: 600 | Loss: 3.55017\n",
      "Epoch: 8 | Batch: 300 | Loss: 4.19023\n",
      "Epoch: 8 | Batch: 600 | Loss: 3.20952\n",
      "Epoch: 9 | Batch: 300 | Loss: 4.04659\n",
      "Epoch: 9 | Batch: 600 | Loss: 2.65753\n",
      "Epoch: 10 | Batch: 300 | Loss: 2.64565\n",
      "Epoch: 10 | Batch: 600 | Loss: 2.78295\n",
      "Epoch: 11 | Batch: 300 | Loss: 2.11727\n",
      "Epoch: 11 | Batch: 600 | Loss: 2.66847\n",
      "Epoch: 12 | Batch: 300 | Loss: 1.87772\n",
      "Epoch: 12 | Batch: 600 | Loss: 2.54007\n",
      "Epoch: 13 | Batch: 300 | Loss: 2.27242\n",
      "Epoch: 13 | Batch: 600 | Loss: 2.86207\n",
      "Epoch: 14 | Batch: 300 | Loss: 2.54754\n",
      "Epoch: 14 | Batch: 600 | Loss: 2.6382\n",
      "Epoch: 15 | Batch: 300 | Loss: 1.99593\n",
      "Epoch: 15 | Batch: 600 | Loss: 1.75373\n",
      "Epoch: 16 | Batch: 300 | Loss: 1.7861\n",
      "Epoch: 16 | Batch: 600 | Loss: 1.34112\n",
      "Epoch: 17 | Batch: 300 | Loss: 1.46735\n",
      "Epoch: 17 | Batch: 600 | Loss: 1.3587\n",
      "Epoch: 18 | Batch: 300 | Loss: 2.05789\n",
      "Epoch: 18 | Batch: 600 | Loss: 0.888117\n",
      "Epoch: 19 | Batch: 300 | Loss: 1.84308\n",
      "Epoch: 19 | Batch: 600 | Loss: 1.55353\n",
      "Epoch: 20 | Batch: 300 | Loss: 1.05011\n",
      "Epoch: 20 | Batch: 600 | Loss: 1.46171\n",
      "Epoch: 21 | Batch: 300 | Loss: 1.74517\n",
      "Epoch: 21 | Batch: 600 | Loss: 1.32229\n",
      "Epoch: 22 | Batch: 300 | Loss: 0.799781\n",
      "Epoch: 22 | Batch: 600 | Loss: 1.78163\n",
      "Epoch: 23 | Batch: 300 | Loss: 1.86618\n",
      "Epoch: 23 | Batch: 600 | Loss: 1.17789\n",
      "Epoch: 24 | Batch: 300 | Loss: 1.31572\n",
      "Epoch: 24 | Batch: 600 | Loss: 1.97916\n",
      "Epoch: 25 | Batch: 300 | Loss: 1.07434\n",
      "Epoch: 25 | Batch: 600 | Loss: 0.933233\n",
      "Epoch: 26 | Batch: 300 | Loss: 1.16615\n",
      "Epoch: 26 | Batch: 600 | Loss: 1.2077\n",
      "Epoch: 27 | Batch: 300 | Loss: 1.59698\n",
      "Epoch: 27 | Batch: 600 | Loss: 1.00397\n",
      "Epoch: 28 | Batch: 300 | Loss: 1.28431\n",
      "Epoch: 28 | Batch: 600 | Loss: 1.53914\n",
      "Epoch: 29 | Batch: 300 | Loss: 1.38853\n",
      "Epoch: 29 | Batch: 600 | Loss: 0.788709\n",
      "Epoch: 30 | Batch: 300 | Loss: 1.2192\n",
      "Epoch: 30 | Batch: 600 | Loss: 1.24774\n",
      "\n",
      "\n",
      "Training finished!\n",
      "\n"
     ]
    }
   ],
   "source": [
    "/** max number of epoch */\n",
    "constexpr int EPOCH_MAX = 30;\n",
    "/** learning rate */\n",
    "constexpr float lr = 0.01;\n",
    "\n",
    "// Instantiate loss handler\n",
    "torch::nn::CrossEntropyLoss Loss;\n",
    "\n",
    "// Instantiate an SGD optimization algorithm to update our Net's parameters.\n",
    "torch::optim::SGD optimizer(params, /*lr=*/0.01);\n",
    "\n",
    "// Create a multi-threaded data loader for the MNIST dataset.\n",
    "auto data_loader = torch::data::make_data_loader(\n",
    "  torch::data::datasets::MNIST(\"../dataset/fashion_mnist\").map(\n",
    "      torch::data::transforms::Stack<>()),\n",
    "  /*batch_size=*/100);\n",
    "\n",
    "\n",
    "\n",
    "for (size_t epoch = 1; epoch <= EPOCH_MAX; ++epoch) {\n",
    "    size_t batch_index = 0;\n",
    "    // Iterate the data loader to yield batches from the dataset.\n",
    "    for (auto& batch : *data_loader) {\n",
    "        // Reset gradients.\n",
    "        optimizer.zero_grad();\n",
    "        // Execute the model on the input data.\n",
    "        torch::Tensor prediction = net(batch.data);\n",
    "        // Compute a loss value to judge the prediction of our model.\n",
    "        torch::Tensor loss = Loss(prediction, batch.target);\n",
    "//         torch::Tensor loss = torch::nll_loss(prediction, batch.target);\n",
    "        // Compute gradients of the loss w.r.t. the parameters of our model.\n",
    "        loss.backward();\n",
    "        // Update the parameters based on the calculated gradients.\n",
    "        optimizer.step();\n",
    "        // Output the loss and checkpoint every 100 batches.\n",
    "        if (++batch_index % 300 == 0) {\n",
    "        std::cout << \"Epoch: \" << epoch << \" | Batch: \" << batch_index\n",
    "                  << \" | Loss: \" << loss.item<float>() << std::endl;\n",
    "        }\n",
    "    }    \n",
    "}\n",
    "\n",
    "std::cout << std::endl << \"\\r\\nTraining finished!\\r\\n\" << std::endl;"
   ]
  },
  {
   "cell_type": "markdown",
   "id": "nearby-importance",
   "metadata": {},
   "source": [
    "## 验证"
   ]
  },
  {
   "cell_type": "code",
   "execution_count": 6,
   "id": "yellow-calvin",
   "metadata": {},
   "outputs": [],
   "source": [
    "void show_images(std::vector<torch::Tensor> images, std::vector<torch::Tensor> labels, std::string labeltxt[])\n",
    "{\n",
    "    auto a = images;\n",
    "    auto b = labels;\n",
    "\n",
    "    torch::Tensor image1, image2, label;\n",
    "    std::string s1, s2;\n",
    "    for (int i = 0; i < a.size()/2; i++) {\n",
    "        torch::Tensor t1 = a[i].squeeze();\n",
    "        torch::Tensor t2 = a[i+1].squeeze();\n",
    "        if (image1.numel() == 0) {\n",
    "            image1 = t1.clone();\n",
    "            s1 = labeltxt[b[i].item<int>()] + \"\\t\\t\";\n",
    "        } else {\n",
    "            image1 = torch::cat({image1, t1}, 1);\n",
    "            s1 += labeltxt[b[i].item<int>()];\n",
    "            s1 += \"\\t\\t\";\n",
    "        }\n",
    "\n",
    "        if (image2.numel() == 0) {\n",
    "            image2 = t2.clone();\n",
    "            s2 = labeltxt[b[i+1].item<int>()] + \"\\t\\t\";\n",
    "        } else {\n",
    "            image2 = torch::cat({image2, t2}, 1);\n",
    "            s2 += labeltxt[b[i+1].item<int>()];\n",
    "            s2 += \"\\t\\t\";\n",
    "        }\n",
    "    }\n",
    "    \n",
    "//     for (int i = 0; i < b.size()/2; i++) {\n",
    "//         int idx = b[i * 2].item<int>();\n",
    "//         std::cout << labeltxt[idx] << \"\\t\";\n",
    "//     }\n",
    "//     std::cout << std::endl;\n",
    "    \n",
    "//     for (int i = 0; i < b.size()/2; i++) {\n",
    "//         int idx = b[i * 2 + 1].item<int>();\n",
    "//         std::cout << labeltxt[idx] << \"\\t\";\n",
    "//     }\n",
    "//     std::cout << std::endl;\n",
    "    \n",
    "    std::cout << s1 << std::endl;\n",
    "    std::cout << s2 << std::endl;\n",
    "    torch::Tensor image = torch::cat({image1, image2}, 0);\n",
    "    image *= 255;\n",
    "    image = torch::clamp(image, 0, 255);\n",
    "    // 原数据类型为float，为适应cv Mat的数据类型（CV_8UC1），需要转换为unsigned char;\n",
    "    image = image.to(torch::kU8);\n",
    "    cv::Mat img(image.size(0), image.size(1), CV_8UC1);\n",
    "    std::memcpy((void*)img.data, image.data_ptr(), sizeof(torch::kU8)*image.numel());\n",
    "    cv::imwrite(\"test.png\", img);\n",
    "}"
   ]
  },
  {
   "cell_type": "code",
   "execution_count": 7,
   "id": "valid-intensity",
   "metadata": {
    "scrolled": true
   },
   "outputs": [
    {
     "name": "stdout",
     "output_type": "stream",
     "text": [
      "images0.sizes() = \n",
      "[12, 1, 28, 28]\n",
      "<<--->>\n",
      "\n",
      "labels0.sizes() = \n",
      "[12]\n",
      "<<--->>\n",
      "\n"
     ]
    }
   ],
   "source": [
    "std::string text_labels[10] = { \"t-shirt\", \"trouser\", \n",
    "                                \"pullover\", \"dress\", \n",
    "                                \"coat\", \"sandal\", \n",
    "                                \"shirt\", \"sneaker\", \n",
    "                                \"bag\", \"ankle boot\"\n",
    "                               };\n",
    "\n",
    "auto data_loader_test = torch::data::make_data_loader(\n",
    "  torch::data::datasets::MNIST(\"../dataset/fashion_mnist\").map(\n",
    "      torch::data::transforms::Stack<>()),\n",
    "  /*batch_size=*/12);\n",
    "\n",
    "auto batch_iter = data_loader_test->begin();\n",
    "auto images0 = (*batch_iter).data;\n",
    "auto labels0 = (*batch_iter).target;\n",
    "\n",
    "/*看一下每个batch的大小*/\n",
    "printT(images0.sizes());\n",
    "printT(labels0.sizes());"
   ]
  },
  {
   "cell_type": "code",
   "execution_count": 8,
   "id": "dramatic-train",
   "metadata": {},
   "outputs": [
    {
     "name": "stdout",
     "output_type": "stream",
     "text": [
      "sneaker\t\tsandal\t\tsandal\t\tdress\t\tt-shirt\t\tbag\t\t\n",
      "sandal\t\tsandal\t\tdress\t\tt-shirt\t\tbag\t\tbag\t\t\n"
     ]
    },
    {
     "data": {
      "image/png": "[encoded data removed]"
     },
     "execution_count": 8,
     "metadata": {},
     "output_type": "execute_result"
    }
   ],
   "source": [
    "/* **\n",
    " * images0是batch tensor，是一个四维tensor，其大小为batch_size x channel x height x width\n",
    " * 使用chunk()将其拆散为batch_size个独立tensor，每个tensor是一幅独立图片，然后将这些tensor再组合\n",
    " * 成一个vector<torch::Tensor>;\n",
    " */\n",
    "auto a = torch::chunk(images0, images0.size(0));\n",
    "auto b = torch::chunk(labels0, labels0.size(0));\n",
    "\n",
    "// 取出其中第一幅图像，其大小为 1 x 28 x 28，其中1是通道数\n",
    "auto image = a[0].clone();\n",
    "auto label = b[0].clone();\n",
    "\n",
    "// printT(image.sizes());\n",
    "// 使用squeeze()去除那些大小为1的维度，这里，会把图片的通道维度消除掉，仅剩下长、宽；\n",
    "// permute()函数用于交换不同维度的顺序，这里用不到，如果是3通道图像，tensor的格式为\n",
    "// C X H X W，此时需要借助permute()将其变为 H X W X C;\n",
    "image = image.squeeze();//.permute({1,2,0});\n",
    "// 因为在处理前对cvmat中的值做了归一化，所以现在要*255恢复，同时对于不在0-255范围内的数据，需要做限制\n",
    "image *= 255;\n",
    "image = torch::clamp(image, 0, 255);\n",
    "// 原数据类型为float，为适应cv Mat的数据类型（CV_8UC1），需要转换为unsigned char;\n",
    "image = image.to(torch::kU8);\n",
    "\n",
    "// printT(image);\n",
    "show_images(a, b, text_labels);\n",
    "auto simg = im::image(\"test.png\");\n",
    "simg"
   ]
  },
  {
   "cell_type": "code",
   "execution_count": 9,
   "id": "mature-kidney",
   "metadata": {},
   "outputs": [
    {
     "name": "stdout",
     "output_type": "stream",
     "text": [
      "sneaker\t\tsandal\t\tsandal\t\tdress\t\tt-shirt\t\tbag\t\t\n",
      "sandal\t\tsandal\t\tdress\t\tt-shirt\t\tbag\t\tpullover\t\t\n"
     ]
    },
    {
     "data": {
      "image/png": "[encoded data removed]"
     },
     "execution_count": 9,
     "metadata": {},
     "output_type": "execute_result"
    }
   ],
   "source": [
    "auto result = net(images0);\n",
    "\n",
    "auto tt = result.max(1);\n",
    "auto aa = std::get<0>(tt);\n",
    "auto bb = std::get<1>(tt); //index\n",
    "\n",
    "// printT(aa.dim());\n",
    "// printT(bb.dim());\n",
    "// printT(aa);\n",
    "// printT(bb);\n",
    "\n",
    "auto c = torch::chunk(images0, images0.size(0));\n",
    "auto d = torch::chunk(bb, bb.size(0));\n",
    "show_images(c, d, text_labels);\n",
    "auto simg = im::image(\"test.png\");\n",
    "simg\n",
    "\n",
    "/* \n",
    " * 经过30个轮次的训练，识别结果还是有个别错误\n",
    " */"
   ]
  },
  {
   "cell_type": "code",
   "execution_count": null,
   "id": "demographic-oxford",
   "metadata": {},
   "outputs": [],
   "source": []
  },
  {
   "cell_type": "code",
   "execution_count": null,
   "id": "unknown-advocacy",
   "metadata": {},
   "outputs": [],
   "source": []
  },
  {
   "cell_type": "code",
   "execution_count": null,
   "id": "limiting-marsh",
   "metadata": {},
   "outputs": [],
   "source": []
  },
  {
   "cell_type": "code",
   "execution_count": null,
   "id": "improving-statistics",
   "metadata": {},
   "outputs": [],
   "source": []
  },
  {
   "cell_type": "code",
   "execution_count": null,
   "id": "welcome-bridges",
   "metadata": {},
   "outputs": [],
   "source": []
  },
  {
   "cell_type": "code",
   "execution_count": null,
   "id": "unlike-messenger",
   "metadata": {},
   "outputs": [],
   "source": []
  },
  {
   "cell_type": "code",
   "execution_count": null,
   "id": "solar-agriculture",
   "metadata": {},
   "outputs": [],
   "source": []
  }
 ],
 "metadata": {
  "kernelspec": {
   "display_name": "C++17",
   "language": "C++17",
   "name": "xcpp17"
  },
  "language_info": {
   "codemirror_mode": "text/x-c++src",
   "file_extension": ".cpp",
   "mimetype": "text/x-c++src",
   "name": "c++",
   "version": "17"
  }
 },
 "nbformat": 4,
 "nbformat_minor": 5
}
