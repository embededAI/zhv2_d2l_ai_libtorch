{
 "cells": [
  {
   "cell_type": "markdown",
   "id": "round-dinner",
   "metadata": {},
   "source": [
    "# 使用前，需要先导入需要的头文件"
   ]
  },
  {
   "cell_type": "code",
   "execution_count": 2,
   "id": "cheap-algorithm",
   "metadata": {},
   "outputs": [],
   "source": [
    "#include <iostream>\n",
    "\n",
    "/*a workaround to solve cling issue*/\n",
    "#include \"../inc/macos_cling_workaround.hpp\"\n",
    "/*set libtorch path, load libs*/\n",
    "#include \"../inc/load_libtorch.hpp\"\n",
    "/*import custom defined macros*/\n",
    "#include \"../inc/custom_def.hpp\"\n",
    "/*import matplotlibcpp*/\n",
    "#include \"../inc/load_matplotlibcpp.hpp\"\n",
    "/*import opencv*/\n",
    "#include \"../inc/load_opencv.hpp\"\n",
    "\n",
    "/*import libtorch header file*/\n",
    "#include <torch/torch.h>\n",
    "#include <opencv2/opencv.hpp>\n",
    "#include <cmath>\n",
    "\n",
    "// Use (void) to silent unused warnings.\n",
    "#define assertm(exp, msg) assert(((void)msg, exp))"
   ]
  },
  {
   "cell_type": "code",
   "execution_count": 3,
   "id": "suited-perfume",
   "metadata": {},
   "outputs": [],
   "source": [
    "class MyDataset : public torch::data::Dataset<MyDataset>\n",
    "{\n",
    "    private:\n",
    "        torch::Tensor states_, labels_;\n",
    "\n",
    "    public:\n",
    "        explicit MyDataset(torch::Tensor states, torch::Tensor labels) \n",
    "            : states_(states),\n",
    "              labels_(labels) {   };\n",
    "\n",
    "        torch::data::Example<> get(size_t index) override {\n",
    "            return {states_[index], labels_[index]};\n",
    "        };\n",
    "\n",
    "        torch::optional<size_t> size() const override {\n",
    "            return states_.size(0);\n",
    "        };\n",
    "};"
   ]
  },
  {
   "cell_type": "markdown",
   "id": "environmental-cursor",
   "metadata": {},
   "source": [
    "# 模型选择、欠拟合和过拟合"
   ]
  },
  {
   "cell_type": "markdown",
   "id": "persistent-semiconductor",
   "metadata": {},
   "source": [
    "### 使用以下三阶多项式来生成训练和测试数据的标签\n",
    "\n",
    "$y = 5 + 1.2x - 3.4 \\frac{x^2}{2!} + 5.6 \\frac{x^3}{3!} + \\epsilon \\quad where \\quad\\epsilon \\sim \\mathcal{N} (0,0.01^2)$"
   ]
  },
  {
   "cell_type": "code",
   "execution_count": 4,
   "id": "civil-singer",
   "metadata": {},
   "outputs": [],
   "source": [
    "constexpr int max_degree = 4;\n",
    "constexpr int n_train = 3000;\n",
    "constexpr int n_test = 3000;\n",
    "\n",
    "//多项式系数\n",
    "torch::Tensor true_w = torch::zeros(max_degree);\n",
    "float temp[] = {5.0, 1.2, -3.4, 5.6};\n",
    "memcpy(true_w.data_ptr(), temp, sizeof(temp));\n",
    "\n",
    "//准备输入\n",
    "torch::Tensor features = torch::randn({n_train + n_test, 1});\n",
    "// features *= 10.0;\n",
    "torch::Tensor poly_features = features.pow(torch::arange(max_degree)+1);\n",
    "// poly_features *= 10.0;\n",
    "\n",
    "//生成输出\n",
    "true_w = true_w.reshape({max_degree, 1});\n",
    "torch::Tensor labels = poly_features.mm(true_w);\n",
    "labels += torch::rand_like(labels) * 0.1;"
   ]
  },
  {
   "cell_type": "code",
   "execution_count": 5,
   "id": "unknown-kelly",
   "metadata": {},
   "outputs": [
    {
     "name": "stdout",
     "output_type": "stream",
     "text": [
      "features.index({torch::indexing::Slice(torch::indexing::None, 2, torch::indexing::None)}) = \n",
      " 0.5346\n",
      " 2.1823\n",
      "[ CPUFloatType{2,1} ]\n",
      "<<--->>\n",
      "\n",
      "poly_features.index({torch::indexing::Slice(torch::indexing::None, 2, torch::indexing::None)}) = \n",
      "  0.5346   0.2858   0.1528   0.0817\n",
      "  2.1823   4.7624  10.3930  22.6806\n",
      "[ CPUFloatType{2,4} ]\n",
      "<<--->>\n",
      "\n",
      "labels.index({torch::indexing::Slice(torch::indexing::None, 2, torch::indexing::None)}) = \n",
      "   2.9713\n",
      " 108.3969\n",
      "[ CPUFloatType{2,1} ]\n",
      "<<--->>\n",
      "\n"
     ]
    }
   ],
   "source": [
    "printT(features.index({torch::indexing::Slice(torch::indexing::None, 2, torch::indexing::None)}));    \n",
    "  \n",
    "printT(poly_features.index({torch::indexing::Slice(torch::indexing::None, 2, torch::indexing::None)}));    \n",
    "\n",
    "printT(labels.index({torch::indexing::Slice(torch::indexing::None, 2, torch::indexing::None)}));    "
   ]
  },
  {
   "cell_type": "markdown",
   "id": "directed-sponsorship",
   "metadata": {},
   "source": [
    "### 定义训练函数"
   ]
  },
  {
   "cell_type": "code",
   "execution_count": 16,
   "id": "hairy-offering",
   "metadata": {},
   "outputs": [],
   "source": [
    "torch::Tensor train(torch::Tensor train_features, \n",
    "           torch::Tensor test_features, \n",
    "           torch::Tensor train_labels, \n",
    "           torch::Tensor test_labels,\n",
    "           int num_epochs = 400,\n",
    "           int batch_size = 10)\n",
    "{\n",
    "    assertm(train_features.dim() == 2, \"train_features should have 2 dims\");\n",
    "    assertm(test_features.dim() == 2, \"test_features should have 2 dims\");\n",
    "    \n",
    "    auto train_data_set = MyDataset(train_features, train_labels).map(torch::data::transforms::Stack<>());\n",
    "    auto test_data_set = MyDataset(test_features, test_labels).map(torch::data::transforms::Stack<>());\n",
    "\n",
    "    auto train_data_loader = torch::data::make_data_loader<torch::data::samplers::RandomSampler>(\n",
    "                                    std::move(train_data_set), \n",
    "                                    batch_size);\n",
    "\n",
    "    auto test_data_loader = torch::data::make_data_loader<torch::data::samplers::RandomSampler>(\n",
    "                                    std::move(test_data_set), \n",
    "                                    batch_size);\n",
    "\n",
    "    int input_shape = train_features.size(1);\n",
    "    torch::nn::Sequential net({{\"fc\", torch::nn::Linear(torch::nn::LinearOptions(input_shape, 1).bias(false))}});\n",
    "    auto optimizer = torch::optim::SGD(net->parameters(), /*lr*/0.01);\n",
    "        \n",
    "    for (int epoch = 0; epoch < num_epochs; epoch++) \n",
    "    {\n",
    "        torch::Tensor loss_values;\n",
    "        for (auto& batch : *train_data_loader) {\n",
    "            auto data = batch.data;\n",
    "            auto labels = batch.target;\n",
    "\n",
    "            optimizer.zero_grad();\n",
    "            auto training_prediction = net->forward(data);\n",
    "            loss_values = torch::mse_loss(training_prediction, labels);\n",
    "            loss_values = loss_values / training_prediction.size(0);\n",
    "            loss_values.backward(); \n",
    "            optimizer.step();\n",
    "        }\n",
    "        \n",
    "        if (epoch % (num_epochs/10) == 0) {\n",
    "        // Report the error with respect to y_training. \n",
    "        double max_loss = loss_values.max().item<double>();\n",
    "        std::cout << \"Epoch \" << epoch \n",
    "            << \", max(loss_values) = \" << max_loss << std::endl;\n",
    "        }\n",
    "    }\n",
    "    \n",
    "    std::cout << net->parameters() << std::endl;\n",
    "    return net->parameters()[0];\n",
    "}"
   ]
  },
  {
   "cell_type": "code",
   "execution_count": 17,
   "id": "ceramic-operator",
   "metadata": {
    "scrolled": true
   },
   "outputs": [
    {
     "name": "stdout",
     "output_type": "stream",
     "text": [
      "train_data.size(0) = \n",
      "3000\n",
      "<<--->>\n",
      "\n",
      "train_data.index({torch::indexing::Slice(torch::indexing::None, 2, torch::indexing::None)}) = \n",
      "  0.5346   0.2858   0.1528   0.0817\n",
      "  2.1823   4.7624  10.3930  22.6806\n",
      "[ CPUFloatType{2,4} ]\n",
      "<<--->>\n",
      "\n",
      "train_label.index({torch::indexing::Slice(torch::indexing::None, 2, torch::indexing::None)}) = \n",
      "   2.9713\n",
      " 108.3969\n",
      "[ CPUFloatType{2,1} ]\n",
      "<<--->>\n",
      "\n"
     ]
    }
   ],
   "source": [
    "auto train_data = \n",
    "    poly_features.index({torch::indexing::Slice(0, n_train, torch::indexing::None),\n",
    "                         torch::indexing::Slice(0, 4, torch::indexing::None)});\n",
    "auto train_label = \n",
    "    labels.index({torch::indexing::Slice(0, n_train, torch::indexing::None),\n",
    "                         torch::indexing::Slice(0, 4, torch::indexing::None)});\n",
    "\n",
    "auto test_data = \n",
    "    poly_features.index({torch::indexing::Slice(n_train, torch::indexing::None, torch::indexing::None),\n",
    "                         torch::indexing::Slice(0, 4, torch::indexing::None)});\n",
    "auto test_label = \n",
    "    labels.index({torch::indexing::Slice(n_train, torch::indexing::None, torch::indexing::None),\n",
    "                         torch::indexing::Slice(0, 4, torch::indexing::None)});\n",
    "\n",
    "\n",
    "printT(train_data.size(0));\n",
    "printT(train_data.index({torch::indexing::Slice(torch::indexing::None, 2, torch::indexing::None)}));    \n",
    "printT(train_label.index({torch::indexing::Slice(torch::indexing::None, 2, torch::indexing::None)}));    "
   ]
  },
  {
   "cell_type": "markdown",
   "id": "thrown-mapping",
   "metadata": {},
   "source": [
    "### 训练并验证"
   ]
  },
  {
   "cell_type": "code",
   "execution_count": 18,
   "id": "english-scientist",
   "metadata": {},
   "outputs": [
    {
     "name": "stdout",
     "output_type": "stream",
     "text": [
      "Epoch 0, max(loss_values) = 23.3123\n",
      "Epoch 500, max(loss_values) = 0.00941941\n",
      "Epoch 1000, max(loss_values) = 0.000827137\n",
      "Epoch 1500, max(loss_values) = 8.66645e-05\n",
      "Epoch 2000, max(loss_values) = 2.79792e-05\n",
      "Epoch 2500, max(loss_values) = 1.75266e-05\n",
      "Epoch 3000, max(loss_values) = 2.01352e-05\n",
      "Epoch 3500, max(loss_values) = 2.2832e-05\n",
      "Epoch 4000, max(loss_values) = 1.98986e-05\n",
      "Epoch 4500, max(loss_values) = 3.32396e-05\n",
      " 5.0003  1.2318 -3.4000  5.5970\n",
      "[ CPUFloatType{1,4} ]\n"
     ]
    }
   ],
   "source": [
    "auto w = train(train_data, test_data, train_label, test_label, 5000, 100);"
   ]
  },
  {
   "cell_type": "code",
   "execution_count": 19,
   "id": "hundred-temperature",
   "metadata": {},
   "outputs": [
    {
     "name": "stdout",
     "output_type": "stream",
     "text": [
      "train_label[0] = \n",
      " 2.9713\n",
      "[ CPUFloatType{1} ]\n",
      "<<--->>\n",
      "\n",
      "train_data[0].reshape({1,4}).mm(w) = \n",
      " 2.9632\n",
      "[ CPUFloatType{1,1} ]\n",
      "<<--->>\n",
      "\n",
      "test_label[3] = \n",
      "-1.4345\n",
      "[ CPUFloatType{1} ]\n",
      "<<--->>\n",
      "\n",
      "test_data[3].reshape({1,4}).mm(w) = \n",
      "-1.4618\n",
      "[ CPUFloatType{1,1} ]\n",
      "<<--->>\n",
      "\n"
     ]
    }
   ],
   "source": [
    "//true_w\n",
    "// = {5.0, 1.2, -3.4, 5.6};\n",
    "\n",
    "w = w.reshape({4,1});\n",
    "printT(train_label[0]);\n",
    "printT(train_data[0].reshape({1,4}).mm(w));\n",
    "\n",
    "printT(test_label[3]);\n",
    "printT(test_data[3].reshape({1,4}).mm(w));"
   ]
  },
  {
   "cell_type": "markdown",
   "id": "classical-knowing",
   "metadata": {},
   "source": [
    "### 训练结果可视化"
   ]
  },
  {
   "cell_type": "code",
   "execution_count": null,
   "id": "mounted-julian",
   "metadata": {},
   "outputs": [],
   "source": []
  },
  {
   "cell_type": "code",
   "execution_count": null,
   "id": "constant-frank",
   "metadata": {},
   "outputs": [],
   "source": []
  },
  {
   "cell_type": "code",
   "execution_count": null,
   "id": "systematic-emperor",
   "metadata": {},
   "outputs": [],
   "source": []
  },
  {
   "cell_type": "markdown",
   "id": "accredited-vanilla",
   "metadata": {},
   "source": [
    "# 欠拟合"
   ]
  },
  {
   "cell_type": "code",
   "execution_count": null,
   "id": "identical-portugal",
   "metadata": {},
   "outputs": [],
   "source": []
  },
  {
   "cell_type": "code",
   "execution_count": null,
   "id": "agricultural-hudson",
   "metadata": {},
   "outputs": [],
   "source": []
  },
  {
   "cell_type": "code",
   "execution_count": null,
   "id": "concrete-karen",
   "metadata": {},
   "outputs": [],
   "source": []
  },
  {
   "cell_type": "code",
   "execution_count": null,
   "id": "exciting-beads",
   "metadata": {},
   "outputs": [],
   "source": []
  },
  {
   "cell_type": "markdown",
   "id": "funky-optimization",
   "metadata": {},
   "source": [
    "# 过拟合"
   ]
  },
  {
   "cell_type": "code",
   "execution_count": null,
   "id": "freelance-approach",
   "metadata": {},
   "outputs": [],
   "source": []
  }
 ],
 "metadata": {
  "kernelspec": {
   "display_name": "C++17",
   "language": "C++17",
   "name": "xcpp17"
  },
  "language_info": {
   "codemirror_mode": "text/x-c++src",
   "file_extension": ".cpp",
   "mimetype": "text/x-c++src",
   "name": "c++",
   "version": "17"
  }
 },
 "nbformat": 4,
 "nbformat_minor": 5
}
