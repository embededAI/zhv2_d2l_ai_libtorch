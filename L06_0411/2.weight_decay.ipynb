{
 "cells": [
  {
   "cell_type": "markdown",
   "id": "round-dinner",
   "metadata": {},
   "source": [
    "# 使用前，需要先导入需要的头文件"
   ]
  },
  {
   "cell_type": "code",
   "execution_count": 1,
   "id": "cheap-algorithm",
   "metadata": {},
   "outputs": [],
   "source": [
    "#include <iostream>\n",
    "\n",
    "/*a workaround to solve cling issue*/\n",
    "#include \"../inc/macos_cling_workaround.hpp\"\n",
    "/*set libtorch path, load libs*/\n",
    "#include \"../inc/load_libtorch.hpp\"\n",
    "/*import custom defined macros*/\n",
    "#include \"../inc/custom_def.hpp\"\n",
    "/*import matplotlibcpp*/\n",
    "#include \"../inc/load_matplotlibcpp.hpp\"\n",
    "/*import opencv*/\n",
    "#include \"../inc/load_opencv.hpp\"\n",
    "\n",
    "/*import libtorch header file*/\n",
    "#include <torch/torch.h>\n",
    "#include <opencv2/opencv.hpp>\n",
    "#include <cmath>\n",
    "\n",
    "// Use (void) to silent unused warnings.\n",
    "#define assertm(exp, msg) assert(((void)msg, exp))"
   ]
  },
  {
   "cell_type": "code",
   "execution_count": 2,
   "id": "suited-perfume",
   "metadata": {},
   "outputs": [],
   "source": [
    "class MyDataset : public torch::data::Dataset<MyDataset>\n",
    "{\n",
    "    private:\n",
    "        torch::Tensor states_, labels_;\n",
    "\n",
    "    public:\n",
    "        explicit MyDataset(torch::Tensor states, torch::Tensor labels) \n",
    "            : states_(states),\n",
    "              labels_(labels) {   };\n",
    "\n",
    "        torch::data::Example<> get(size_t index) override {\n",
    "            return {states_[index], labels_[index]};\n",
    "        };\n",
    "\n",
    "        torch::optional<size_t> size() const override {\n",
    "            return states_.size(0);\n",
    "        };\n",
    "};"
   ]
  },
  {
   "cell_type": "code",
   "execution_count": null,
   "id": "alternative-native",
   "metadata": {},
   "outputs": [],
   "source": [
    "def synthetic_data(w, b, num_examples):  \n",
    "    \"\"\"生成 y = Xw + b + 噪声。\"\"\"\n",
    "    X = torch.normal(0, 1, (num_examples, len(w)))\n",
    "    y = torch.matmul(X, w) + b\n",
    "    y += torch.normal(0, 0.01, y.shape)\n",
    "    return X, y.reshape((-1, 1))\n",
    "\n",
    "true_w = torch.tensor([2, -3.4])\n",
    "true_b = 4.2\n",
    "features, labels = synthetic_data(true_w, true_b, 1000)"
   ]
  },
  {
   "cell_type": "code",
   "execution_count": null,
   "id": "sitting-september",
   "metadata": {},
   "outputs": [],
   "source": [
    "def load_array(data_arrays, batch_size, is_train=True):  \n",
    "    \"\"\"构造一个PyTorch数据迭代器。\"\"\"\n",
    "    dataset = data.TensorDataset(*data_arrays)\n",
    "    return data.DataLoader(dataset, batch_size, shuffle=is_train)\n",
    "\n",
    "batch_size = 10\n",
    "data_iter = load_array((features, labels), batch_size)\n",
    "\n",
    "next(iter(data_iter))"
   ]
  },
  {
   "cell_type": "markdown",
   "id": "environmental-cursor",
   "metadata": {},
   "source": [
    "# 权重衰减（L2正则化）"
   ]
  },
  {
   "cell_type": "markdown",
   "id": "persistent-semiconductor",
   "metadata": {},
   "source": [
    "### 使用以下多项式来生成训练和测试数据\n",
    "\n",
    "$y = 0.05 + \\sum\\limits_{i=1}^{d}0.01 x_i + \\epsilon \\quad where \\quad\\epsilon \\sim \\mathcal{N} (0,0.01^2)$"
   ]
  },
  {
   "cell_type": "code",
   "execution_count": 3,
   "id": "civil-singer",
   "metadata": {},
   "outputs": [],
   "source": [
    "constexpr int n_train = 20;\n",
    "constexpr int n_test = 80;\n",
    "constexpr int num_inputs = 200;\n",
    "constexpr int batch_size = 5;\n",
    "\n",
    "//多项式系数\n",
    "torch::Tensor true_w = torch::ones({num_inputs, 1}) * 0.01;\n",
    "float true_b = 0.05;\n",
    "\n",
    "train_features = torch::randn({n_train, true_w.size(0)});\n",
    "train_labels   = train_features.mm(true_w) + true_b;\n",
    "auto t = torch::randn({train_labels.size[0], train_labels.size[1]});\n",
    "t = t * 0.01;\n",
    "train_labels += t.reshape({t.size[0] ,1});\n",
    "\n",
    "\n",
    "train_features = torch::randn({n_train, true_w.size(0)});\n",
    "train_labels   = train_features.mm(true_w) + true_b;\n",
    "auto t = torch::randn_like(train_labels) * 0.01;\n",
    "train_labels += t.reshape({t.size[0] ,1});\n",
    "\n",
    "\n",
    "test_features = torch::randn({n_test, true_w.size(0)});\n",
    "test_labels   = test_features.mm(true_w) + true_b;\n",
    "auto u = torch::randn_like(test_labels) * 0.01;\n",
    "test_labels += u.reshape({u.size[0] ,1});"
   ]
  },
  {
   "cell_type": "code",
   "execution_count": 4,
   "id": "unknown-kelly",
   "metadata": {},
   "outputs": [
    {
     "name": "stdout",
     "output_type": "stream",
     "text": [
      "features.index({torch::indexing::Slice(torch::indexing::None, 2, torch::indexing::None)}) = \n",
      " 0.3411\n",
      "-0.6781\n",
      "[ CPUFloatType{2,1} ]\n",
      "<<--->>\n",
      "\n",
      "poly_features.index({torch::indexing::Slice(torch::indexing::None, 1, torch::indexing::None)}) = \n",
      "Columns 1 to 6 1.0000e+00  3.4114e-01  1.1638e-01  1.9850e-02  2.2572e-03  1.9251e-04\n",
      "\n",
      "Columns 7 to 12 1.3135e-05  7.4782e-07  3.6401e-08  1.5520e-09  5.8825e-11  2.0068e-12\n",
      "\n",
      "Columns 13 to 18 6.2235e-14  1.7692e-15 -1.3463e-16 -4.5926e-17 -1.5667e-17 -5.3447e-18\n",
      "\n",
      "Columns 19 to 20-1.8233e-18 -6.2200e-19\n",
      "[ CPUFloatType{1,20} ]\n",
      "<<--->>\n",
      "\n",
      "labels.index({torch::indexing::Slice(torch::indexing::None, 2, torch::indexing::None)}) = \n",
      " 5.2098\n",
      " 1.7689\n",
      "[ CPUFloatType{2,1} ]\n",
      "<<--->>\n",
      "\n"
     ]
    }
   ],
   "source": [
    "printT(features.index({torch::indexing::Slice(torch::indexing::None, 2, torch::indexing::None)}));    \n",
    "  \n",
    "printT(poly_features.index({torch::indexing::Slice(torch::indexing::None, 1, torch::indexing::None)}));    \n",
    "\n",
    "printT(labels.index({torch::indexing::Slice(torch::indexing::None, 2, torch::indexing::None)}));    "
   ]
  },
  {
   "cell_type": "markdown",
   "id": "cubic-equivalent",
   "metadata": {},
   "source": [
    "### 定义训练函数"
   ]
  },
  {
   "cell_type": "code",
   "execution_count": 5,
   "id": "exotic-trail",
   "metadata": {},
   "outputs": [],
   "source": [
    "std::vector<int> x;\n",
    "std::vector<double> y;\n",
    "std::vector<double> y_hat;"
   ]
  },
  {
   "cell_type": "code",
   "execution_count": 6,
   "id": "hairy-offering",
   "metadata": {},
   "outputs": [],
   "source": [
    "torch::Tensor train(torch::Tensor train_features, \n",
    "           torch::Tensor test_features, \n",
    "           torch::Tensor train_labels, \n",
    "           torch::Tensor test_labels,\n",
    "           int num_epochs = 400,\n",
    "           int batch_size = 10)\n",
    "{\n",
    "    assertm(train_features.dim() == 2, \"train_features should have 2 dims\");\n",
    "    assertm(test_features.dim() == 2, \"test_features should have 2 dims\");\n",
    "    \n",
    "    auto train_data_set = MyDataset(train_features, train_labels)\n",
    "//                                     .map(torch::data::transforms::Normalize<>(0, 0.5))\n",
    "                                    .map(torch::data::transforms::Stack<>());\n",
    "    auto test_data_set = MyDataset(test_features, test_labels)\n",
    "//                                     .map(torch::data::transforms::Normalize<>(0, 0.5))\n",
    "                                    .map(torch::data::transforms::Stack<>());\n",
    "\n",
    "    auto train_data_loader = torch::data::make_data_loader<torch::data::samplers::RandomSampler>(\n",
    "                                    std::move(train_data_set), \n",
    "                                    batch_size);\n",
    "\n",
    "    auto test_data_loader = torch::data::make_data_loader<torch::data::samplers::RandomSampler>(\n",
    "                                    std::move(test_data_set), \n",
    "                                    batch_size);\n",
    "\n",
    "    int input_shape = train_features.size(1);\n",
    "    torch::nn::Sequential net({{\"fc\", torch::nn::Linear(torch::nn::LinearOptions(input_shape, 1).bias(false))}});\n",
    "    \n",
    "//     auto p = net->named_parameters(false);\n",
    "//     auto w = p.find(\"weight\");\n",
    "//     auto b = p.find(\"bias\");   \n",
    "    \n",
    "//     //if (w != nullptr) torch::nn::init::xavier_uniform_(*w);\n",
    "//     if (w != nullptr) torch::nn::init::uniform_(*w, -1, 1);\n",
    "//     //if (w != nullptr) torch::nn::init::normal_(*w);\n",
    "//     if (b != nullptr) torch::nn::init::constant_(*b, 0.01);\n",
    "    \n",
    "//     auto optimizer = torch::optim::SGD(net->parameters(), torch::optim::SGDOptions(0.01).momentum(0.5));\n",
    "    auto optimizer = torch::optim::SGD(net->parameters(), /*lr*/0.01);\n",
    "    \n",
    "        \n",
    "    for (int epoch = 0; epoch < num_epochs; epoch++) \n",
    "    {\n",
    "        torch::Tensor loss_values;\n",
    "        if (epoch % 10 == 0) x.push_back(epoch);\n",
    "        \n",
    "        for (auto& batch : *train_data_loader) {\n",
    "            auto data = batch.data;\n",
    "            auto labels = batch.target;\n",
    "\n",
    "//             optimizer.zero_grad();\n",
    "            net->zero_grad();\n",
    "            auto training_prediction = net->forward(data);\n",
    "            loss_values = torch::mse_loss(training_prediction, labels);\n",
    "            loss_values = loss_values.sum() / training_prediction.size(0);\n",
    "            loss_values.backward(); \n",
    "            optimizer.step();\n",
    "        }\n",
    "        \n",
    "        \n",
    "        auto ntrain_prediction = net->forward(train_features);\n",
    "        auto ntrain_loss_values = torch::mse_loss(ntrain_prediction, train_labels);        \n",
    "        if (epoch % 10 == 0) \n",
    "            y.push_back(ntrain_loss_values.sum().item<double>() / ntrain_prediction.size(0));\n",
    "        \n",
    "        auto test_prediction = net->forward(test_features);\n",
    "        auto test_loss_values = torch::mse_loss(test_prediction, test_labels);\n",
    "        if (epoch % 10 == 0) \n",
    "            y_hat.push_back(torch::sum(test_loss_values).item<double>() / test_prediction.size(0));        \n",
    "        \n",
    "        if (epoch % (num_epochs/10) == 0) {\n",
    "        // Report the error with respect to y_training. \n",
    "        double sum_loss = loss_values.sum().item<double>();\n",
    "        std::cout << \"Epoch \" << epoch \n",
    "            << \", sum(loss_values) = \" << sum_loss << std::endl;\n",
    "        }\n",
    "    }\n",
    "    \n",
    "    std::cout << net->parameters() << std::endl;\n",
    "    return net->parameters()[0];\n",
    "}"
   ]
  },
  {
   "cell_type": "code",
   "execution_count": 7,
   "id": "ceramic-operator",
   "metadata": {
    "scrolled": true
   },
   "outputs": [
    {
     "name": "stdout",
     "output_type": "stream",
     "text": [
      "train_data.size(0) = \n",
      "800\n",
      "<<--->>\n",
      "\n",
      "train_data.index({torch::indexing::Slice(torch::indexing::None, 2, torch::indexing::None)}) = \n",
      " 1.0000  0.3411  0.1164  0.0199\n",
      " 1.0000 -0.6781  0.4599 -0.1559\n",
      "[ CPUFloatType{2,4} ]\n",
      "<<--->>\n",
      "\n",
      "train_label.index({torch::indexing::Slice(torch::indexing::None, 2, torch::indexing::None)}) = \n",
      " 5.2098\n",
      " 1.7689\n",
      "[ CPUFloatType{2,1} ]\n",
      "<<--->>\n",
      "\n"
     ]
    }
   ],
   "source": [
    "auto train_data = \n",
    "    poly_features.index({torch::indexing::Slice(0, n_train, torch::indexing::None),\n",
    "                         torch::indexing::Slice(0, 4, torch::indexing::None)});\n",
    "auto train_label = \n",
    "    labels.index({torch::indexing::Slice(0, n_train, torch::indexing::None),\n",
    "                         torch::indexing::Slice(0, 4, torch::indexing::None)});\n",
    "\n",
    "auto test_data = \n",
    "    poly_features.index({torch::indexing::Slice(n_train, torch::indexing::None, torch::indexing::None),\n",
    "                         torch::indexing::Slice(0, 4, torch::indexing::None)});\n",
    "auto test_label = \n",
    "    labels.index({torch::indexing::Slice(n_train, torch::indexing::None, torch::indexing::None),\n",
    "                         torch::indexing::Slice(0, 4, torch::indexing::None)});\n",
    "\n",
    "\n",
    "printT(train_data.size(0));\n",
    "printT(train_data.index({torch::indexing::Slice(torch::indexing::None, 2, torch::indexing::None)}));    \n",
    "printT(train_label.index({torch::indexing::Slice(torch::indexing::None, 2, torch::indexing::None)}));    "
   ]
  },
  {
   "cell_type": "markdown",
   "id": "understanding-attraction",
   "metadata": {},
   "source": [
    "### 训练并验证"
   ]
  },
  {
   "cell_type": "code",
   "execution_count": 9,
   "id": "english-scientist",
   "metadata": {},
   "outputs": [
    {
     "name": "stdout",
     "output_type": "stream",
     "text": [
      "Epoch 0, sum(loss_values) = 1.83224\n",
      "Epoch 400, sum(loss_values) = 0.00283717\n",
      "Epoch 800, sum(loss_values) = 0.0013042\n",
      "Epoch 1200, sum(loss_values) = 0.00135372\n",
      "Epoch 1600, sum(loss_values) = 0.000686277\n",
      "Epoch 2000, sum(loss_values) = 0.000582217\n",
      "Epoch 2400, sum(loss_values) = 0.000173455\n",
      "Epoch 2800, sum(loss_values) = 8.24038e-05\n",
      "Epoch 3200, sum(loss_values) = 0.000157323\n",
      "Epoch 3600, sum(loss_values) = 0.0001368\n",
      " 5.0486  1.2396 -3.3914  5.4681\n",
      "[ CPUFloatType{1,4} ]\n"
     ]
    }
   ],
   "source": [
    "if(!x.empty()) std::vector <int>().swap(x);\n",
    "if(!y.empty()) std::vector <double>().swap(y);\n",
    "if(!y_hat.empty()) std::vector <double>().swap(y_hat);\n",
    "\n",
    "auto w = train(train_data, test_data, train_label, test_label, 4000);"
   ]
  },
  {
   "cell_type": "code",
   "execution_count": 10,
   "id": "hundred-temperature",
   "metadata": {},
   "outputs": [
    {
     "name": "stdout",
     "output_type": "stream",
     "text": [
      "train_label[0] = \n",
      " 5.2098\n",
      "[ CPUFloatType{1} ]\n",
      "<<--->>\n",
      "\n",
      "train_data[0].reshape({1,4}).mm(w) = \n",
      " 5.1854\n",
      "[ CPUFloatType{1,1} ]\n",
      "<<--->>\n",
      "\n",
      "test_label[3] = \n",
      " 3.9293\n",
      "[ CPUFloatType{1} ]\n",
      "<<--->>\n",
      "\n",
      "test_data[3].reshape({1,4}).mm(w) = \n",
      " 3.9093\n",
      "[ CPUFloatType{1,1} ]\n",
      "<<--->>\n",
      "\n"
     ]
    }
   ],
   "source": [
    "//true_w\n",
    "// = {5.0, 1.2, -3.4, 5.6};\n",
    "\n",
    "w = w.reshape({4,1});\n",
    "printT(train_label[0]);\n",
    "printT(train_data[0].reshape({1,4}).mm(w));\n",
    "\n",
    "printT(test_label[3]);\n",
    "printT(test_data[3].reshape({1,4}).mm(w));"
   ]
  },
  {
   "cell_type": "markdown",
   "id": "czech-hours",
   "metadata": {},
   "source": [
    "### 训练结果可视化"
   ]
  },
  {
   "cell_type": "code",
   "execution_count": 11,
   "id": "mounted-julian",
   "metadata": {},
   "outputs": [],
   "source": [
    "plt::semilogy(x, y, \"b\");\n",
    "plt::semilogy(x, y_hat, \"r\");\n",
    "\n",
    "plt::title(\"loss(r:test  b:train)\");\n",
    "plt::legend();\n",
    "plt::save(\"./loss.png\"); \n",
    "plt::show();"
   ]
  },
  {
   "cell_type": "code",
   "execution_count": 12,
   "id": "exclusive-fault",
   "metadata": {},
   "outputs": [
    {
     "data": {
      "image/png": "[encoded data removed]"
     },
     "execution_count": 12,
     "metadata": {},
     "output_type": "execute_result"
    }
   ],
   "source": [
    "auto img1 = im::image(\"./loss.png\");\n",
    "img1  "
   ]
  },
  {
   "cell_type": "markdown",
   "id": "dirty-accountability",
   "metadata": {},
   "source": [
    "# 欠拟合"
   ]
  },
  {
   "cell_type": "code",
   "execution_count": 13,
   "id": "identical-portugal",
   "metadata": {},
   "outputs": [
    {
     "name": "stdout",
     "output_type": "stream",
     "text": [
      "train_data.size(0) = \n",
      "800\n",
      "<<--->>\n",
      "\n",
      "train_data.index({torch::indexing::Slice(torch::indexing::None, 2, torch::indexing::None)}) = \n",
      " 1.0000  0.3411\n",
      " 1.0000 -0.6781\n",
      "[ CPUFloatType{2,2} ]\n",
      "<<--->>\n",
      "\n",
      "train_label.index({torch::indexing::Slice(torch::indexing::None, 2, torch::indexing::None)}) = \n",
      " 5.2098\n",
      " 1.7689\n",
      "[ CPUFloatType{2,1} ]\n",
      "<<--->>\n",
      "\n"
     ]
    }
   ],
   "source": [
    "auto train_data = \n",
    "    poly_features.index({torch::indexing::Slice(0, n_train, torch::indexing::None),\n",
    "                         torch::indexing::Slice(0, 2, torch::indexing::None)});\n",
    "auto train_label = \n",
    "    labels.index({torch::indexing::Slice(0, n_train, torch::indexing::None),\n",
    "                         torch::indexing::Slice(0, 2, torch::indexing::None)});\n",
    "\n",
    "auto test_data = \n",
    "    poly_features.index({torch::indexing::Slice(n_train, torch::indexing::None, torch::indexing::None),\n",
    "                         torch::indexing::Slice(0, 2, torch::indexing::None)});\n",
    "auto test_label = \n",
    "    labels.index({torch::indexing::Slice(n_train, torch::indexing::None, torch::indexing::None),\n",
    "                         torch::indexing::Slice(0, 2, torch::indexing::None)});\n",
    "\n",
    "\n",
    "printT(train_data.size(0));\n",
    "printT(train_data.index({torch::indexing::Slice(torch::indexing::None, 2, torch::indexing::None)}));    \n",
    "printT(train_label.index({torch::indexing::Slice(torch::indexing::None, 2, torch::indexing::None)}));    "
   ]
  },
  {
   "cell_type": "code",
   "execution_count": 14,
   "id": "accredited-backing",
   "metadata": {},
   "outputs": [
    {
     "name": "stdout",
     "output_type": "stream",
     "text": [
      "Epoch 0, sum(loss_values) = 1.58522\n",
      "Epoch 400, sum(loss_values) = 0.204847\n",
      "Epoch 800, sum(loss_values) = 0.0770118\n",
      "Epoch 1200, sum(loss_values) = 0.0562993\n",
      "Epoch 1600, sum(loss_values) = 0.0552973\n",
      "Epoch 2000, sum(loss_values) = 0.0669602\n",
      "Epoch 2400, sum(loss_values) = 0.0595451\n",
      "Epoch 2800, sum(loss_values) = 0.0993729\n",
      "Epoch 3200, sum(loss_values) = 0.086711\n",
      "Epoch 3600, sum(loss_values) = 0.121367\n",
      " 3.9275  2.7975\n",
      "[ CPUFloatType{1,2} ]\n"
     ]
    }
   ],
   "source": [
    "if(!x.empty()) std::vector <int>().swap(x);\n",
    "if(!y.empty()) std::vector <double>().swap(y);\n",
    "if(!y_hat.empty()) std::vector <double>().swap(y_hat);\n",
    "\n",
    "auto w = train(train_data, test_data, train_label, test_label, 4000);"
   ]
  },
  {
   "cell_type": "code",
   "execution_count": 17,
   "id": "personal-illinois",
   "metadata": {},
   "outputs": [
    {
     "name": "stdout",
     "output_type": "stream",
     "text": [
      "train_label[0] = \n",
      " 5.2098\n",
      "[ CPUFloatType{1} ]\n",
      "<<--->>\n",
      "\n",
      "train_data[0].reshape({1,2}).mm(w) = \n",
      " 4.8818\n",
      "[ CPUFloatType{1,1} ]\n",
      "<<--->>\n",
      "\n",
      "test_label[3] = \n",
      " 3.9293\n",
      "[ CPUFloatType{1} ]\n",
      "<<--->>\n",
      "\n",
      "test_data[3].reshape({1,2}).mm(w) = \n",
      " 2.8486\n",
      "[ CPUFloatType{1,1} ]\n",
      "<<--->>\n",
      "\n"
     ]
    }
   ],
   "source": [
    "//true_w\n",
    "// = {5.0, 1.2, -3.4, 5.6};\n",
    "\n",
    "w = w.reshape({2,1});\n",
    "printT(train_label[0]);\n",
    "printT(train_data[0].reshape({1,2}).mm(w));\n",
    "\n",
    "printT(test_label[3]);\n",
    "printT(test_data[3].reshape({1,2}).mm(w));"
   ]
  },
  {
   "cell_type": "code",
   "execution_count": 18,
   "id": "ahead-hybrid",
   "metadata": {},
   "outputs": [],
   "source": [
    "plt::semilogy(x, y, \"b\");\n",
    "plt::semilogy(x, y_hat, \"r\");\n",
    "\n",
    "plt::title(\"loss_underfit(r:test  b:train)\");\n",
    "plt::legend();\n",
    "plt::save(\"./loss_underfit.png\"); \n",
    "plt::show();"
   ]
  },
  {
   "cell_type": "code",
   "execution_count": 19,
   "id": "communist-material",
   "metadata": {},
   "outputs": [
    {
     "data": {
      "image/png": "[encoded data removed]"
     },
     "execution_count": 19,
     "metadata": {},
     "output_type": "execute_result"
    }
   ],
   "source": [
    "auto img2 = im::image(\"./loss_underfit.png\");\n",
    "img2"
   ]
  },
  {
   "cell_type": "markdown",
   "id": "compact-allen",
   "metadata": {},
   "source": [
    "# 过拟合"
   ]
  },
  {
   "cell_type": "code",
   "execution_count": 20,
   "id": "controlling-virus",
   "metadata": {},
   "outputs": [
    {
     "name": "stdout",
     "output_type": "stream",
     "text": [
      "train_data.size(0) = \n",
      "800\n",
      "<<--->>\n",
      "\n",
      "train_data.index({torch::indexing::Slice(torch::indexing::None, 2, torch::indexing::None)}) = \n",
      "Columns 1 to 6 1.0000e+00  3.4114e-01  1.1638e-01  1.9850e-02  2.2572e-03  1.9251e-04\n",
      " 1.0000e+00 -6.7814e-01  4.5987e-01 -1.5593e-01  3.5247e-02 -5.9757e-03\n",
      "\n",
      "Columns 7 to 12 1.3135e-05  7.4782e-07  3.6401e-08  1.5520e-09  5.8825e-11  2.0068e-12\n",
      " 8.1047e-04 -9.1729e-05  8.8759e-06 -7.5225e-07  5.6680e-08 -3.8437e-09\n",
      "\n",
      "Columns 13 to 18 6.2235e-14  1.7692e-15 -1.3463e-16 -4.5926e-17 -1.5667e-17 -5.3447e-18\n",
      " 2.3696e-10 -1.3391e-11 -2.0255e-12  1.3736e-12 -9.3149e-13  6.3168e-13\n",
      "\n",
      "Columns 19 to 20-1.8233e-18 -6.2200e-19\n",
      "-4.2837e-13  2.9049e-13\n",
      "[ CPUFloatType{2,20} ]\n",
      "<<--->>\n",
      "\n",
      "train_label.index({torch::indexing::Slice(torch::indexing::None, 2, torch::indexing::None)}) = \n",
      " 5.2098\n",
      " 1.7689\n",
      "[ CPUFloatType{2,1} ]\n",
      "<<--->>\n",
      "\n"
     ]
    }
   ],
   "source": [
    "#define W_OVERFIT (20)\n",
    "\n",
    "auto train_data = \n",
    "    poly_features.index({torch::indexing::Slice(0, n_train, torch::indexing::None),\n",
    "                         torch::indexing::Slice(0, W_OVERFIT, torch::indexing::None)});\n",
    "auto train_label = \n",
    "    labels.index({torch::indexing::Slice(0, n_train, torch::indexing::None),\n",
    "                         torch::indexing::Slice(0, W_OVERFIT, torch::indexing::None)});\n",
    "\n",
    "auto test_data = \n",
    "    poly_features.index({torch::indexing::Slice(n_train, torch::indexing::None, torch::indexing::None),\n",
    "                         torch::indexing::Slice(0, W_OVERFIT, torch::indexing::None)});\n",
    "auto test_label = \n",
    "    labels.index({torch::indexing::Slice(n_train, torch::indexing::None, torch::indexing::None),\n",
    "                         torch::indexing::Slice(0, W_OVERFIT, torch::indexing::None)});\n",
    "\n",
    "\n",
    "printT(train_data.size(0));\n",
    "printT(train_data.index({torch::indexing::Slice(torch::indexing::None, 2, torch::indexing::None)}));    \n",
    "printT(train_label.index({torch::indexing::Slice(torch::indexing::None, 2, torch::indexing::None)}));    "
   ]
  },
  {
   "cell_type": "code",
   "execution_count": 21,
   "id": "ordinary-handling",
   "metadata": {},
   "outputs": [
    {
     "name": "stdout",
     "output_type": "stream",
     "text": [
      "Epoch 0, sum(loss_values) = 1.46769\n",
      "Epoch 400, sum(loss_values) = 0.00410306\n",
      "Epoch 800, sum(loss_values) = 0.00202265\n",
      "Epoch 1200, sum(loss_values) = 0.00179682\n",
      "Epoch 1600, sum(loss_values) = 0.000636524\n",
      "Epoch 2000, sum(loss_values) = 0.000518421\n",
      "Epoch 2400, sum(loss_values) = 0.000179291\n",
      "Epoch 2800, sum(loss_values) = 0.00016441\n",
      "Epoch 3200, sum(loss_values) = 0.000121148\n",
      "Epoch 3600, sum(loss_values) = 8.08516e-05\n",
      "Columns 1 to 10 5.0407  1.2497 -3.3163  5.3947 -0.5182  0.7026 -0.0746  0.0528 -0.1945 -0.1657\n",
      "\n",
      "Columns 11 to 20 0.1028  0.0138  0.0791  0.0373  0.0983 -0.0611 -0.1642  0.2056 -0.1613  0.0786\n",
      "[ CPUFloatType{1,20} ]\n"
     ]
    }
   ],
   "source": [
    "if(!x.empty()) std::vector <int>().swap(x);\n",
    "if(!y.empty()) std::vector <double>().swap(y);\n",
    "if(!y_hat.empty()) std::vector <double>().swap(y_hat);\n",
    "\n",
    "auto w = train(train_data, test_data, train_label, test_label, 4000);"
   ]
  },
  {
   "cell_type": "code",
   "execution_count": 22,
   "id": "instrumental-morgan",
   "metadata": {},
   "outputs": [
    {
     "name": "stdout",
     "output_type": "stream",
     "text": [
      "train_label[0] = \n",
      " 5.2098\n",
      "[ CPUFloatType{1} ]\n",
      "<<--->>\n",
      "\n",
      "train_data[0].reshape({1,W_OVERFIT}).mm(w) = \n",
      " 5.1871\n",
      "[ CPUFloatType{1,1} ]\n",
      "<<--->>\n",
      "\n",
      "test_label[3] = \n",
      " 3.9293\n",
      "[ CPUFloatType{1} ]\n",
      "<<--->>\n",
      "\n",
      "test_data[3].reshape({1,W_OVERFIT}).mm(w) = \n",
      " 3.9086\n",
      "[ CPUFloatType{1,1} ]\n",
      "<<--->>\n",
      "\n"
     ]
    }
   ],
   "source": [
    "//true_w\n",
    "// = {5.0, 1.2, -3.4, 5.6};\n",
    "\n",
    "w = w.reshape({W_OVERFIT,1});\n",
    "printT(train_label[0]);\n",
    "printT(train_data[0].reshape({1,W_OVERFIT}).mm(w));\n",
    "\n",
    "printT(test_label[3]);\n",
    "printT(test_data[3].reshape({1,W_OVERFIT}).mm(w));"
   ]
  },
  {
   "cell_type": "code",
   "execution_count": 23,
   "id": "breeding-beijing",
   "metadata": {},
   "outputs": [],
   "source": [
    "plt::semilogy(x, y, \"b\");\n",
    "plt::semilogy(x, y_hat, \"r\");\n",
    "\n",
    "plt::title(\"loss_overfit(r:test  b:train)\");\n",
    "plt::legend();\n",
    "plt::save(\"./loss_overfit.png\"); \n",
    "plt::show();"
   ]
  },
  {
   "cell_type": "code",
   "execution_count": 24,
   "id": "conservative-crawford",
   "metadata": {},
   "outputs": [
    {
     "data": {
      "image/png": "[encoded data removed]"
     },
     "execution_count": 24,
     "metadata": {},
     "output_type": "execute_result"
    }
   ],
   "source": [
    "auto img2 = im::image(\"./loss_overfit.png\");\n",
    "img2"
   ]
  },
  {
   "cell_type": "code",
   "execution_count": null,
   "id": "magnetic-surface",
   "metadata": {},
   "outputs": [],
   "source": []
  }
 ],
 "metadata": {
  "kernelspec": {
   "display_name": "C++17",
   "language": "C++17",
   "name": "xcpp17"
  },
  "language_info": {
   "codemirror_mode": "text/x-c++src",
   "file_extension": ".cpp",
   "mimetype": "text/x-c++src",
   "name": "c++",
   "version": "17"
  }
 },
 "nbformat": 4,
 "nbformat_minor": 5
}
