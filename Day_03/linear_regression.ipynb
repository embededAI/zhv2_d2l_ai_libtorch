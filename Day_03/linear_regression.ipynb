{
 "cells": [
  {
   "cell_type": "markdown",
   "id": "round-dinner",
   "metadata": {},
   "source": [
    "# 使用前，需要先导入需要的头文件"
   ]
  },
  {
   "cell_type": "code",
   "execution_count": 1,
   "id": "cheap-algorithm",
   "metadata": {},
   "outputs": [],
   "source": [
    "#include <iostream>\n",
    "\n",
    "/*a workaround to solve cling issue*/\n",
    "#include \"../inc/macos_cling_workaround.hpp\"\n",
    "/*set libtorch path, load libs*/\n",
    "#include \"../inc/load_libtorch.hpp\"\n",
    "/*import custom defined macros*/\n",
    "#include \"../inc/custom_def.hpp\"\n",
    "/*import matplotlibcpp*/\n",
    "#include \"../inc/load_matplotlibcpp.hpp\"\n",
    "\n",
    "/*import libtorch header file*/\n",
    "#include <torch/torch.h>"
   ]
  },
  {
   "cell_type": "markdown",
   "id": "controlling-protection",
   "metadata": {},
   "source": [
    "---"
   ]
  },
  {
   "cell_type": "markdown",
   "id": "successful-durham",
   "metadata": {},
   "source": [
    "***此处仅为随堂笔记，详情请参考[公开课教程](http://courses.d2l.ai/zh-v2/)***\n",
    "\n",
    "- [2021.03.27 13:05]  \n",
    "    首次直播：北京时间 2021.03.27，13:00 pm  \n",
    "    机器之心首播，B站录播地址随后附上；   \n",
    "    ***[公开课讲义1](http://courses.d2l.ai/zh-v2/assets/pdfs/part-0_8.pdf)***    \n",
    "    ***[公开课讲义2](http://courses.d2l.ai/zh-v2/assets/pdfs/part-0_9.pdf)***"
   ]
  },
  {
   "cell_type": "markdown",
   "id": "allied-thursday",
   "metadata": {},
   "source": [
    "# 1.线性回归介绍"
   ]
  },
  {
   "cell_type": "markdown",
   "id": "extra-electricity",
   "metadata": {},
   "source": [
    "从美国买房谈起；\n",
    "1.看房;\n",
    "2.出价；\n",
    "\n",
    "\n",
    "- 从一个简化模型讲起：  \n",
    "假设1：影响房价的因素有卧室个数，卫生间个数和居住面积，记为$x_1$，$x_2$，$x_3$；  \n",
    "假设2：成交价是影响因素的加权和：$y = w_1*x_1 + w_2*x_2 + w_3*x_3 + b$\n",
    "\n",
    "\n",
    "给定n维输入 $\\large{\\textbf{x}} = {[x_1, x_2, ..., x_n]}^T$；  \n",
    "针对n维权重和一个标量偏差： $\\large{\\textbf{w}} = {[w_1, w_2, ..., w_n]^T,   b}$\n",
    "\n",
    "会得到一个输出$y$：  \n",
    "$y = w_1*x_1 + w_2*x_2 +\\ ...\\ + w_n*x_n + b$    \n",
    "\n",
    "用向量表示就是  \n",
    "$y = \\large{\\textbf{<w,x>}} + b$\n",
    "\n",
    "\n",
    "从上面公式可以得出，已知$\\large{\\textbf{w}}$和$b$，根据$\\large{\\textbf{x}}$，可以很容易估计出房屋价格$y$;"
   ]
  },
  {
   "cell_type": "markdown",
   "id": "daily-rehabilitation",
   "metadata": {},
   "source": [
    "---\n",
    "因为有了$\\large{\\textbf{w}}$和$\\textbf{b}$，我们就可以很容易的去预测房价了。\n",
    "\n",
    "因此现在的首要问题是，已知房屋价格$\\hat{y}$和房价影响因素$\\large{\\textbf{x}}$，如何去求解$\\large{\\textbf{w}}$和$\\textbf{b}$?\n",
    "\n",
    "---"
   ]
  },
  {
   "cell_type": "markdown",
   "id": "engaged-progress",
   "metadata": {},
   "source": [
    "要求得最优$\\large{\\textbf{w}}$和$\\textbf{b}$，则需要定义一个损失函数，使得我们预测的房价和真实房价的差最小（不一定是0）；  \n",
    "\n",
    "定义损失函数$\\mathscr{l(y, \\hat{y})} = {|\\hat{y} - y|^2}$  \n",
    "这叫平方损失函数(且是凸函数，因此可以求得最优解)；(注：下面临时截图相关公式，后续有空再用LaTeX重写)\n",
    "\n",
    "![解析解](./images/01.png)"
   ]
  },
  {
   "cell_type": "markdown",
   "id": "several-promotion",
   "metadata": {},
   "source": [
    "# 2.优化算法"
   ]
  },
  {
   "cell_type": "markdown",
   "id": "dramatic-hybrid",
   "metadata": {},
   "source": [
    "梯度下降：\n",
    "$w_t = w_{t-1} - \\eta * \\frac{\\partial{\\mathscr{l}}}{\\partial{w_{t-1}}}$  \n",
    "即沿着梯度的反方向下降，更新$\\large{w}$，使得损失值，t代表迭代轮次，$\\eta$就是学习率。\n",
    "\n",
    "小批量随机梯度下降；"
   ]
  },
  {
   "cell_type": "markdown",
   "id": "elementary-tender",
   "metadata": {},
   "source": [
    "# 3.线性回归从零开始实现"
   ]
  },
  {
   "cell_type": "markdown",
   "id": "serial-limit",
   "metadata": {},
   "source": [
    "首先构造一个数据集，它是一个线性模型，同时，为了更接近实际情况，还需要加入随机噪声$\\epsilon$：  \n",
    "$y = \\textbf{X*w} + b + \\epsilon$  \n",
    "此处我们假设$\\text{w} = [2.0, -3.4]^T,  b = 4.2$"
   ]
  },
  {
   "cell_type": "code",
   "execution_count": 2,
   "id": "fewer-youth",
   "metadata": {},
   "outputs": [],
   "source": [
    "typedef std::tuple<torch::Tensor, torch::Tensor> sample_set;"
   ]
  },
  {
   "cell_type": "code",
   "execution_count": 3,
   "id": "available-yacht",
   "metadata": {},
   "outputs": [],
   "source": [
    "sample_set synthetic_data(torch::Tensor w, torch::Tensor b, int num_example)\n",
    "{\n",
    "    torch::Tensor X = torch::normal(0.0, 1.0, {num_example, w.size(0)}); \n",
    "    torch::Tensor y = X.matmul(w) + b;\n",
    "    y = y + torch::normal(0.0, 0.1, y.sizes());\n",
    "    \n",
    "    return std::make_tuple(X, y);\n",
    "}"
   ]
  },
  {
   "cell_type": "code",
   "execution_count": 4,
   "id": "willing-hawaiian",
   "metadata": {},
   "outputs": [
    {
     "name": "stdout",
     "output_type": "stream",
     "text": [
      "std::get<0>(data) = \n",
      "-0.0602 -1.0727\n",
      " 1.2110  1.1665\n",
      " 0.6454 -2.6821\n",
      " 0.8474 -2.0747\n",
      " 0.0996 -0.0248\n",
      " 0.6209  2.4431\n",
      " 0.3935  0.8256\n",
      "-1.4985  0.6005\n",
      " 0.1749  1.4557\n",
      " 0.9010  2.4344\n",
      "[ CPUFloatType{10,2} ]\n",
      "<<--->>\n",
      "\n"
     ]
    }
   ],
   "source": [
    "float coe[] = {2.0, 3.4};\n",
    "float bias[] = {4.2};\n",
    "\n",
    "/** calling 'from_blob(...)' may cause compile error with my\n",
    " *  xeus-clilng enviroment, so here I changed it with another\n",
    " *  way; but maybe you can try it in your pc;\n",
    " */\n",
    "// torch::Tensor true_w = torch::from_blob(coe, {2, 1});\n",
    "// torch::Tensor true_b = torch::from_blob(bias, {1});\n",
    "\n",
    "torch::Tensor true_w = torch::tensor(at::ArrayRef<float>({2.0, 3.4}));\n",
    "torch::Tensor true_b = torch::tensor(at::ArrayRef<float>({4.2}));\n",
    "sample_set data = synthetic_data(true_w, true_b, 10);\n",
    "\n",
    "printT(std::get<0>(data));"
   ]
  },
  {
   "cell_type": "code",
   "execution_count": 5,
   "id": "caring-riverside",
   "metadata": {},
   "outputs": [],
   "source": [
    "#define DSIZE 1000\n",
    "sample_set tdata = synthetic_data(true_w, true_b, DSIZE);\n",
    "\n",
    "std::vector<float> x, y, z;\n",
    "torch::Tensor t = std::get<0>(tdata);\n",
    "torch::Tensor r = std::get<1>(tdata);\n",
    "for (int i = 0; i < DSIZE; i++) {\n",
    "  x.push_back(t[i][0].item<float>());\n",
    "  y.push_back(t[i][1].item<float>());\n",
    "  z.push_back(r[i].item<float>());\n",
    "}"
   ]
  },
  {
   "cell_type": "code",
   "execution_count": 6,
   "id": "living-registration",
   "metadata": {},
   "outputs": [],
   "source": [
    "plt::plot(x, z, \"og\");\n",
    "plt::show();\n",
    "// plt::save(\"./test2.png\");\n",
    "// auto img1 = im::image(\"./test2.png\");\n",
    "// img1"
   ]
  },
  {
   "cell_type": "code",
   "execution_count": 7,
   "id": "natural-hunter",
   "metadata": {},
   "outputs": [
    {
     "data": {
      "image/png": "[encoded data removed]"
     },
     "execution_count": 7,
     "metadata": {},
     "output_type": "execute_result"
    }
   ],
   "source": [
    "plt::plot(y, z, \"ob\");\n",
    "// plt::show();\n",
    "plt::save(\"./test3.png\");\n",
    "auto img2 = im::image(\"./test3.png\");\n",
    "img2"
   ]
  },
  {
   "cell_type": "markdown",
   "id": "accepted-stupid",
   "metadata": {},
   "source": [
    "构建一个人造数据集，随机从里面采样一定量的数据用于训练"
   ]
  },
  {
   "cell_type": "code",
   "execution_count": 8,
   "id": "worldwide-assembly",
   "metadata": {},
   "outputs": [],
   "source": [
    "/* st_sample stands for a piece of training data\n",
    " * 1st tensor is data, it can be a image mat, a 1-dim vector;\n",
    " * 2nd tensor is label, it is a 1x1 tensor;\n",
    " */\n",
    "typedef std::tuple<torch::Tensor, torch::Tensor> st_sample;\n",
    "typedef std::vector<sample_set> st_dataset;\n",
    "\n",
    "#define BATCH_SIZE     4\n",
    "#define TOTAL_SAMPLE   20\n",
    "\n",
    "\n",
    "float w1 = 2.0;\n",
    "float w2 = 3.4;\n",
    "float b  = 4.2;\n",
    "\n",
    "torch::Tensor true_w = torch::tensor(at::ArrayRef<float>({w1, w2}));\n",
    "torch::Tensor true_b = torch::tensor(at::ArrayRef<float>({b}));\n",
    "sample_set raw_data = synthetic_data(true_w, true_b, TOTAL_SAMPLE);\n",
    "\n",
    "st_dataset train_;\n",
    "\n",
    "torch::Tensor X_ = std::get<0>(raw_data);\n",
    "torch::Tensor y_ = std::get<1>(raw_data);\n",
    "for (int i = 0; i < TOTAL_SAMPLE; i++) {    \n",
    "    torch::Tensor t1 = X_.slice(0, i, i+1);\n",
    "    torch::Tensor t2 = y_.slice(0, i, i+1);\n",
    "    \n",
    "    train_.push_back(std::make_tuple(t1, t2));\n",
    "}"
   ]
  },
  {
   "cell_type": "markdown",
   "id": "bronze-relations",
   "metadata": {},
   "source": [
    "下面利用torch::data::Dataset来构建一个自己的数据集，且借助其接口来随机选取batch data；"
   ]
  },
  {
   "cell_type": "code",
   "execution_count": 9,
   "id": "renewable-garden",
   "metadata": {},
   "outputs": [],
   "source": [
    "class MyDataset : public torch::data::Dataset<MyDataset>\n",
    "{\n",
    "    private:\n",
    "        torch::Tensor states_, labels_;\n",
    "\n",
    "    public:\n",
    "        explicit MyDataset(torch::Tensor states, torch::Tensor labels) \n",
    "            : states_(states),\n",
    "              labels_(labels) {   };\n",
    "\n",
    "        torch::data::Example<> get(size_t index) override {\n",
    "            return {states_[index], labels_[index]};\n",
    "        };\n",
    "\n",
    "        torch::optional<size_t> size() const override {\n",
    "            return states_.size(0);\n",
    "        };\n",
    "};"
   ]
  },
  {
   "cell_type": "code",
   "execution_count": 10,
   "id": "destroyed-synthesis",
   "metadata": {},
   "outputs": [
    {
     "name": "stdout",
     "output_type": "stream",
     "text": [
      "t = \n",
      " 0.6405 -1.1307\n",
      "-0.0969  0.0417\n",
      "-1.0642 -0.2685\n",
      "-3.2790  0.0311\n",
      "-0.7134  1.2320\n",
      "-0.8513  0.1578\n",
      " 1.3722  1.2081\n",
      "-0.8287 -0.6096\n",
      " 0.8049  2.1723\n",
      "-1.8757  2.2468\n",
      "-0.3690  0.8385\n",
      "-0.6831  0.1598\n",
      "-1.1854 -0.5343\n",
      "-0.8181 -1.6622\n",
      " 0.2306 -0.8093\n",
      "-0.3259 -0.0908\n",
      "-0.3837 -2.0190\n",
      "-0.7970  2.2121\n",
      " 1.4168 -1.4385\n",
      "-0.9955 -0.1106\n",
      "[ CPUFloatType{20,2} ]\n",
      "<<--->>\n",
      "\n",
      "data = \n",
      "-0.3837 -2.0190\n",
      " 1.4168 -1.4385\n",
      "-0.3259 -0.0908\n",
      "-0.6831  0.1598\n",
      "[ CPUFloatType{4,2} ]\n",
      "<<--->>\n",
      "\n",
      "data = \n",
      " 1.3722  1.2081\n",
      "-0.8181 -1.6622\n",
      " 0.2306 -0.8093\n",
      "-0.8287 -0.6096\n",
      "[ CPUFloatType{4,2} ]\n",
      "<<--->>\n",
      "\n",
      "data = \n",
      "-0.0969  0.0417\n",
      "-0.7970  2.2121\n",
      " 0.8049  2.1723\n",
      "-1.8757  2.2468\n",
      "[ CPUFloatType{4,2} ]\n",
      "<<--->>\n",
      "\n",
      "data = \n",
      " 0.6405 -1.1307\n",
      "-3.2790  0.0311\n",
      "-0.3690  0.8385\n",
      "-1.0642 -0.2685\n",
      "[ CPUFloatType{4,2} ]\n",
      "<<--->>\n",
      "\n",
      "data = \n",
      "-1.1854 -0.5343\n",
      "-0.8513  0.1578\n",
      "-0.7134  1.2320\n",
      "-0.9955 -0.1106\n",
      "[ CPUFloatType{4,2} ]\n",
      "<<--->>\n",
      "\n"
     ]
    }
   ],
   "source": [
    "torch::Tensor t = std::get<0>(raw_data);\n",
    "printT(t);\n",
    "\n",
    "auto data_set = MyDataset(std::get<0>(raw_data), std::get<1>(raw_data)).map(torch::data::transforms::Stack<>());\n",
    "\n",
    "/*SequentialSampler是顺序采样， 还可以使用随机采样*/\n",
    "auto data_loader = torch::data::make_data_loader<torch::data::samplers::RandomSampler>(\n",
    "    std::move(data_set), \n",
    "    BATCH_SIZE);\n",
    "\n",
    "/** data_loader前要加*号，否则报错(http://ghostblog.lyq.me/pytorch-cpp/) */\n",
    "for (auto& batch : *data_loader) {\n",
    "    auto data = batch.data;\n",
    "    auto labels = batch.target;\n",
    "    // do your usual stuff\n",
    "    printT(data);\n",
    "}"
   ]
  },
  {
   "cell_type": "markdown",
   "id": "bottom-bargain",
   "metadata": {},
   "source": [
    "下面是另一种构造dataset的方式，跟上面一样，没有区别，只是成员变量的类型变了：\n",
    "\n",
    "```\n",
    "class TestDataset : public torch::data::Dataset<TestDataset>\n",
    "{\n",
    "  private:\n",
    "    //std::list<std::tuple<torch::Tensor/*image*/, torch::Tensor/*label*/>> \n",
    "    st_dataset dataset_;\n",
    "\n",
    "  public:\n",
    "    //file_path 是数据集描述文件，里面存放着图片以及对应label文件的路径\n",
    "    explicit TestDataset(st_dataset dataset)\n",
    "    : dataset_(dataset) {  };\n",
    "\n",
    "    torch::data::Example<> get(size_t index) override {\n",
    "      return {std::get<0>(dataset_[index]), std::get<1>(dataset_[index])};\n",
    "    }\n",
    "    \n",
    "    // Override the size method to infer the size of the data set.\n",
    "    torch::optional<size_t> size() const override {\n",
    "        return dataset_.size();\n",
    "    };\n",
    "}\n",
    "\n",
    "auto dataset = TestDataset(train_).map(torch::data::transforms::Stack<>());\n",
    "int batch_size = 4;\n",
    "\n",
    "// Generate a data loader.\n",
    "auto data_loader = torch::data::make_data_loader<torch::data::samplers::SequentialSampler>(\n",
    "    std::move(dataset), \n",
    "    batch_size);\n",
    "\n",
    "/** data_loader前要加*号，否则报错(http://ghostblog.lyq.me/pytorch-cpp/) */\n",
    "for (auto& batch : *data_loader) {\n",
    "    auto data = batch.data;\n",
    "    auto labels = batch.target;\n",
    "    // do your usual stuff\n",
    "}\n",
    "```"
   ]
  },
  {
   "cell_type": "markdown",
   "id": "heated-favor",
   "metadata": {},
   "source": [
    "准备线性模型、损失函数以及优化算法，并准备训练"
   ]
  },
  {
   "cell_type": "code",
   "execution_count": 17,
   "id": "coordinate-dinner",
   "metadata": {},
   "outputs": [],
   "source": [
    "torch::Tensor w = torch::normal(0.0, 0.01, {2,1}, c10::nullopt, torch::requires_grad(true));\n",
    "torch::Tensor b = torch::zeros({1}, torch::requires_grad(true));"
   ]
  },
  {
   "cell_type": "code",
   "execution_count": 22,
   "id": "annual-impossible",
   "metadata": {},
   "outputs": [],
   "source": [
    "torch::Tensor linreg(torch::Tensor X, torch::Tensor w, torch::Tensor b)\n",
    "{\n",
    "    return torch::mm(X, w) + b;\n",
    "}"
   ]
  },
  {
   "cell_type": "code",
   "execution_count": 23,
   "id": "accessible-preparation",
   "metadata": {},
   "outputs": [],
   "source": [
    "torch::Tensor squared_loss(torch::Tensor y_hat, torch::Tensor y) \n",
    "{\n",
    "    torch::Tensor delta = y_hat - y.reshape(y_hat.sizes());\n",
    "    return (torch::mm(delta, delta) / 2.0);\n",
    "}"
   ]
  },
  {
   "cell_type": "code",
   "execution_count": 24,
   "id": "frozen-plenty",
   "metadata": {},
   "outputs": [],
   "source": [
    "void sgd(std::tuple<torch::Tensor, torch::Tensor> params, float lr, int batch_size)\n",
    "{\n",
    "    {\n",
    "        torch::NoGradGuard no_grad;\n",
    "        torch::Tensor w = std::get<0>(params);\n",
    "        torch::Tensor b = std::get<1>(params);\n",
    "        {\n",
    "            w -= lr * w.grad() / batch_size;\n",
    "            w.grad().zero_();\n",
    "            b -= lr * b.grad() / batch_size;\n",
    "            b.grad().zero_();\n",
    "        }\n",
    "    }  \n",
    "}"
   ]
  },
  {
   "cell_type": "code",
   "execution_count": 25,
   "id": "recent-choice",
   "metadata": {},
   "outputs": [
    {
     "ename": "Standard Exception",
     "evalue": "mat1 and mat2 shapes cannot be multiplied (4x1 and 4x1)\nException raised from addmm_impl_cpu_ at /home/lh/github/libtorch/pytorch/aten/src/ATen/native/LinearAlgebra.cpp:216 (most recent call first):\nframe #0: c10::Error::Error(c10::SourceLocation, std::__cxx11::basic_string<char, std::char_traits<char>, std::allocator<char> >) + 0x69 (0x7f5970a02fd9 in /opt/libtorch/lib/libc10.so)\nframe #1: <unknown function> + 0xb734f4 (0x7f595d92d4f4 in /opt/libtorch/lib/libtorch_cpu.so)\nframe #2: at::native::addmm_cpu_out(at::Tensor&, at::Tensor const&, at::Tensor const&, at::Tensor const&, c10::Scalar, c10::Scalar) + 0x1b6 (0x7f595d92fed6 in /opt/libtorch/lib/libtorch_cpu.so)\nframe #3: at::native::mm_cpu(at::Tensor const&, at::Tensor const&) + 0x125 (0x7f595d930fa5 in /opt/libtorch/lib/libtorch_cpu.so)\nframe #4: <unknown function> + 0x1090a2d (0x7f595de4aa2d in /opt/libtorch/lib/libtorch_cpu.so)\nframe #5: <unknown function> + 0x856e04 (0x7f595d610e04 in /opt/libtorch/lib/libtorch_cpu.so)\nframe #6: at::Tensor c10::Dispatcher::callWithDispatchKey<at::Tensor, at::Tensor const&, at::Tensor const&>(c10::TypedOperatorHandle<at::Tensor (at::Tensor const&, at::Tensor const&)> const&, c10::DispatchKey, at::Tensor const&, at::Tensor const&) const + 0x1ce (0x7f595dff290e in /opt/libtorch/lib/libtorch_cpu.so)\nframe #7: at::mm(at::Tensor const&, at::Tensor const&) + 0xb7 (0x7f595ded9007 in /opt/libtorch/lib/libtorch_cpu.so)\nframe #8: <unknown function> + 0x27cedb4 (0x7f595f588db4 in /opt/libtorch/lib/libtorch_cpu.so)\nframe #9: <unknown function> + 0x856e04 (0x7f595d610e04 in /opt/libtorch/lib/libtorch_cpu.so)\nframe #10: at::Tensor c10::Dispatcher::callWithDispatchKey<at::Tensor, at::Tensor const&, at::Tensor const&>(c10::TypedOperatorHandle<at::Tensor (at::Tensor const&, at::Tensor const&)> const&, c10::DispatchKey, at::Tensor const&, at::Tensor const&) const + 0x1ce (0x7f595dff290e in /opt/libtorch/lib/libtorch_cpu.so)\nframe #11: at::mm(at::Tensor const&, at::Tensor const&) + 0xb7 (0x7f595ded9007 in /opt/libtorch/lib/libtorch_cpu.so)\nframe #12: [0x7f58a730e1f5]\nframe #13: [0x7f58a72ff1ef]\nframe #14: cling::IncrementalExecutor::executeWrapper(llvm::StringRef, cling::Value*) const + 0x348 (0x7f597c388f88 in /home/lh/anaconda3/envs/cpp/bin/../lib/libxeus-cling.so.0)\nframe #15: cling::Interpreter::RunFunction(clang::FunctionDecl const*, cling::Value*) + 0x97 (0x7f597c2ea0d7 in /home/lh/anaconda3/envs/cpp/bin/../lib/libxeus-cling.so.0)\nframe #16: cling::Interpreter::EvaluateInternal(std::__cxx11::basic_string<char, std::char_traits<char>, std::allocator<char> > const&, cling::CompilationOptions, cling::Value*, cling::Transaction**, unsigned long) + 0x1d6 (0x7f597c2eba26 in /home/lh/anaconda3/envs/cpp/bin/../lib/libxeus-cling.so.0)\nframe #17: cling::Interpreter::process(std::__cxx11::basic_string<char, std::char_traits<char>, std::allocator<char> > const&, cling::Value*, cling::Transaction**, bool) + 0x15b (0x7f597c2ebd3b in /home/lh/anaconda3/envs/cpp/bin/../lib/libxeus-cling.so.0)\nframe #18: xcpp::interpreter::execute_request_impl(int, std::__cxx11::basic_string<char, std::char_traits<char>, std::allocator<char> > const&, bool, bool, nlohmann::basic_json<std::map, std::vector, std::__cxx11::basic_string<char, std::char_traits<char>, std::allocator<char> >, bool, long, unsigned long, double, std::allocator, nlohmann::adl_serializer, std::vector<unsigned char, std::allocator<unsigned char> > >, bool) + 0x2d4 (0x7f597c291904 in /home/lh/anaconda3/envs/cpp/bin/../lib/libxeus-cling.so.0)\nframe #19: xeus::xinterpreter::execute_request(std::__cxx11::basic_string<char, std::char_traits<char>, std::allocator<char> > const&, bool, bool, nlohmann::basic_json<std::map, std::vector, std::__cxx11::basic_string<char, std::char_traits<char>, std::allocator<char> >, bool, long, unsigned long, double, std::allocator, nlohmann::adl_serializer, std::vector<unsigned char, std::allocator<unsigned char> > >, bool) + 0x135 (0x7f59807f8b25 in /home/lh/anaconda3/envs/cpp/bin/../lib/libxeus.so.1)\nframe #20: xeus::xkernel_core::execute_request(xeus::xmessage const&, xeus::channel) + 0x4df (0x7f5980809dcf in /home/lh/anaconda3/envs/cpp/bin/../lib/libxeus.so.1)\nframe #21: xeus::xkernel_core::dispatch(zmq::multipart_t&, xeus::channel) + 0x1e6 (0x7f598080b586 in /home/lh/anaconda3/envs/cpp/bin/../lib/libxeus.so.1)\nframe #22: xeus::xserver_zmq::poll(long) + 0x3e6 (0x7f59808211e6 in /home/lh/anaconda3/envs/cpp/bin/../lib/libxeus.so.1)\nframe #23: xeus::xserver_zmq::start_impl(zmq::multipart_t&) + 0x50 (0x7f5980821640 in /home/lh/anaconda3/envs/cpp/bin/../lib/libxeus.so.1)\nframe #24: xeus::xkernel::start() + 0x4c (0x7f59807faaac in /home/lh/anaconda3/envs/cpp/bin/../lib/libxeus.so.1)\nframe #25: main + 0x234 (0x55dd93239674 in /home/lh/anaconda3/envs/cpp/bin/xcpp)\nframe #26: __libc_start_main + 0xf0 (0x7f597b35a840 in /lib/x86_64-linux-gnu/libc.so.6)\nframe #27: <unknown function> + 0xdea5 (0x55dd93239ea5 in /home/lh/anaconda3/envs/cpp/bin/xcpp)\n",
     "output_type": "error",
     "traceback": [
      "Standard Exception: mat1 and mat2 shapes cannot be multiplied (4x1 and 4x1)\nException raised from addmm_impl_cpu_ at /home/lh/github/libtorch/pytorch/aten/src/ATen/native/LinearAlgebra.cpp:216 (most recent call first):\nframe #0: c10::Error::Error(c10::SourceLocation, std::__cxx11::basic_string<char, std::char_traits<char>, std::allocator<char> >) + 0x69 (0x7f5970a02fd9 in /opt/libtorch/lib/libc10.so)\nframe #1: <unknown function> + 0xb734f4 (0x7f595d92d4f4 in /opt/libtorch/lib/libtorch_cpu.so)\nframe #2: at::native::addmm_cpu_out(at::Tensor&, at::Tensor const&, at::Tensor const&, at::Tensor const&, c10::Scalar, c10::Scalar) + 0x1b6 (0x7f595d92fed6 in /opt/libtorch/lib/libtorch_cpu.so)\nframe #3: at::native::mm_cpu(at::Tensor const&, at::Tensor const&) + 0x125 (0x7f595d930fa5 in /opt/libtorch/lib/libtorch_cpu.so)\nframe #4: <unknown function> + 0x1090a2d (0x7f595de4aa2d in /opt/libtorch/lib/libtorch_cpu.so)\nframe #5: <unknown function> + 0x856e04 (0x7f595d610e04 in /opt/libtorch/lib/libtorch_cpu.so)\nframe #6: at::Tensor c10::Dispatcher::callWithDispatchKey<at::Tensor, at::Tensor const&, at::Tensor const&>(c10::TypedOperatorHandle<at::Tensor (at::Tensor const&, at::Tensor const&)> const&, c10::DispatchKey, at::Tensor const&, at::Tensor const&) const + 0x1ce (0x7f595dff290e in /opt/libtorch/lib/libtorch_cpu.so)\nframe #7: at::mm(at::Tensor const&, at::Tensor const&) + 0xb7 (0x7f595ded9007 in /opt/libtorch/lib/libtorch_cpu.so)\nframe #8: <unknown function> + 0x27cedb4 (0x7f595f588db4 in /opt/libtorch/lib/libtorch_cpu.so)\nframe #9: <unknown function> + 0x856e04 (0x7f595d610e04 in /opt/libtorch/lib/libtorch_cpu.so)\nframe #10: at::Tensor c10::Dispatcher::callWithDispatchKey<at::Tensor, at::Tensor const&, at::Tensor const&>(c10::TypedOperatorHandle<at::Tensor (at::Tensor const&, at::Tensor const&)> const&, c10::DispatchKey, at::Tensor const&, at::Tensor const&) const + 0x1ce (0x7f595dff290e in /opt/libtorch/lib/libtorch_cpu.so)\nframe #11: at::mm(at::Tensor const&, at::Tensor const&) + 0xb7 (0x7f595ded9007 in /opt/libtorch/lib/libtorch_cpu.so)\nframe #12: [0x7f58a730e1f5]\nframe #13: [0x7f58a72ff1ef]\nframe #14: cling::IncrementalExecutor::executeWrapper(llvm::StringRef, cling::Value*) const + 0x348 (0x7f597c388f88 in /home/lh/anaconda3/envs/cpp/bin/../lib/libxeus-cling.so.0)\nframe #15: cling::Interpreter::RunFunction(clang::FunctionDecl const*, cling::Value*) + 0x97 (0x7f597c2ea0d7 in /home/lh/anaconda3/envs/cpp/bin/../lib/libxeus-cling.so.0)\nframe #16: cling::Interpreter::EvaluateInternal(std::__cxx11::basic_string<char, std::char_traits<char>, std::allocator<char> > const&, cling::CompilationOptions, cling::Value*, cling::Transaction**, unsigned long) + 0x1d6 (0x7f597c2eba26 in /home/lh/anaconda3/envs/cpp/bin/../lib/libxeus-cling.so.0)\nframe #17: cling::Interpreter::process(std::__cxx11::basic_string<char, std::char_traits<char>, std::allocator<char> > const&, cling::Value*, cling::Transaction**, bool) + 0x15b (0x7f597c2ebd3b in /home/lh/anaconda3/envs/cpp/bin/../lib/libxeus-cling.so.0)\nframe #18: xcpp::interpreter::execute_request_impl(int, std::__cxx11::basic_string<char, std::char_traits<char>, std::allocator<char> > const&, bool, bool, nlohmann::basic_json<std::map, std::vector, std::__cxx11::basic_string<char, std::char_traits<char>, std::allocator<char> >, bool, long, unsigned long, double, std::allocator, nlohmann::adl_serializer, std::vector<unsigned char, std::allocator<unsigned char> > >, bool) + 0x2d4 (0x7f597c291904 in /home/lh/anaconda3/envs/cpp/bin/../lib/libxeus-cling.so.0)\nframe #19: xeus::xinterpreter::execute_request(std::__cxx11::basic_string<char, std::char_traits<char>, std::allocator<char> > const&, bool, bool, nlohmann::basic_json<std::map, std::vector, std::__cxx11::basic_string<char, std::char_traits<char>, std::allocator<char> >, bool, long, unsigned long, double, std::allocator, nlohmann::adl_serializer, std::vector<unsigned char, std::allocator<unsigned char> > >, bool) + 0x135 (0x7f59807f8b25 in /home/lh/anaconda3/envs/cpp/bin/../lib/libxeus.so.1)\nframe #20: xeus::xkernel_core::execute_request(xeus::xmessage const&, xeus::channel) + 0x4df (0x7f5980809dcf in /home/lh/anaconda3/envs/cpp/bin/../lib/libxeus.so.1)\nframe #21: xeus::xkernel_core::dispatch(zmq::multipart_t&, xeus::channel) + 0x1e6 (0x7f598080b586 in /home/lh/anaconda3/envs/cpp/bin/../lib/libxeus.so.1)\nframe #22: xeus::xserver_zmq::poll(long) + 0x3e6 (0x7f59808211e6 in /home/lh/anaconda3/envs/cpp/bin/../lib/libxeus.so.1)\nframe #23: xeus::xserver_zmq::start_impl(zmq::multipart_t&) + 0x50 (0x7f5980821640 in /home/lh/anaconda3/envs/cpp/bin/../lib/libxeus.so.1)\nframe #24: xeus::xkernel::start() + 0x4c (0x7f59807faaac in /home/lh/anaconda3/envs/cpp/bin/../lib/libxeus.so.1)\nframe #25: main + 0x234 (0x55dd93239674 in /home/lh/anaconda3/envs/cpp/bin/xcpp)\nframe #26: __libc_start_main + 0xf0 (0x7f597b35a840 in /lib/x86_64-linux-gnu/libc.so.6)\nframe #27: <unknown function> + 0xdea5 (0x55dd93239ea5 in /home/lh/anaconda3/envs/cpp/bin/xcpp)\n"
     ]
    }
   ],
   "source": [
    "float lr = 0.03;\n",
    "int num_epochs = 3;\n",
    "\n",
    "for (int i = 0; i < num_epochs; i++) {\n",
    "    for (auto& batch : *data_loader) {\n",
    "        auto data = batch.data;\n",
    "        auto labels = batch.target;\n",
    "        // do your usual stuff\n",
    "        torch::Tensor l = squared_loss(linreg(data, w, b), labels);\n",
    "        l.sum().backward();\n",
    "        auto params = std::make_tuple(w, b);        \n",
    "        sgd(params, lr, BATCH_SIZE);\n",
    "    }\n",
    "    {\n",
    "        torch::NoGradGuard no_grad;\n",
    "        torch::Tensor train_l = squared_loss(linreg(std::get<0>(raw_data), w, b), std::get<1>(raw_data));\n",
    "        printT(train_l.mean());\n",
    "    }\n",
    "}            "
   ]
  },
  {
   "cell_type": "code",
   "execution_count": null,
   "id": "arabic-chance",
   "metadata": {},
   "outputs": [],
   "source": []
  },
  {
   "cell_type": "code",
   "execution_count": null,
   "id": "sublime-doctor",
   "metadata": {},
   "outputs": [],
   "source": []
  }
 ],
 "metadata": {
  "kernelspec": {
   "display_name": "C++17",
   "language": "C++17",
   "name": "xcpp17"
  },
  "language_info": {
   "codemirror_mode": "text/x-c++src",
   "file_extension": ".cpp",
   "mimetype": "text/x-c++src",
   "name": "c++",
   "version": "17"
  }
 },
 "nbformat": 4,
 "nbformat_minor": 5
}
