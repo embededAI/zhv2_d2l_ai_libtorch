{
 "cells": [
  {
   "cell_type": "code",
   "execution_count": 1,
   "id": "surface-citation",
   "metadata": {},
   "outputs": [],
   "source": [
    "#include <iostream>\n",
    "\n",
    "/*a workaround to solve cling issue*/\n",
    "#include \"../inc/macos_cling_workaround.hpp\"\n",
    "/*set libtorch path, load libs*/\n",
    "#include \"../inc/load_libtorch.hpp\"\n",
    "/*import custom defined macros*/\n",
    "#include \"../inc/custom_def.hpp\"\n",
    "/*import matplotlibcpp*/\n",
    "#include \"../inc/load_matplotlibcpp.hpp\"\n",
    "/*import opencv*/\n",
    "#include \"../inc/load_opencv.hpp\"\n",
    "\n",
    "/*import libtorch header file*/\n",
    "#include <torch/torch.h>\n",
    "#include <opencv2/opencv.hpp>\n",
    "#include <cmath>\n",
    "\n",
    "// Use (void) to silent unused warnings.\n",
    "#define assertm(exp, msg) assert(((void)msg, exp))"
   ]
  },
  {
   "cell_type": "code",
   "execution_count": 2,
   "id": "apart-culture",
   "metadata": {},
   "outputs": [],
   "source": [
    "#define VAR_NAME(Variable) (#Variable)\n",
    "\n",
    "void print_tensor_size(std::string name, torch::Tensor t)\n",
    "{\n",
    "    int dims = t.dim();\n",
    "    std::cout << name << \" dims is (\";\n",
    "    for (int i = 0; i < dims; i++) {\n",
    "        std::cout << t.size(i);\n",
    "        if (i < (dims - 1)) std::cout << \" x \";\n",
    "    }\n",
    "    std::cout << \")\" << std::endl;\n",
    "}"
   ]
  },
  {
   "cell_type": "markdown",
   "id": "regular-flash",
   "metadata": {},
   "source": [
    "# 图像卷积"
   ]
  },
  {
   "cell_type": "markdown",
   "id": "ethical-cornell",
   "metadata": {},
   "source": [
    "**互相关运算**"
   ]
  },
  {
   "cell_type": "code",
   "execution_count": 3,
   "id": "welcome-soundtrack",
   "metadata": {},
   "outputs": [],
   "source": [
    "////// 原教程代码，python实现\n",
    "// def corr2d(X, K):  \n",
    "//     \"\"\"计算二维互相关运算。\"\"\"\n",
    "//     h, w = K.shape\n",
    "//     Y = torch.zeros((X.shape[0] - h + 1, X.shape[1] - w + 1))\n",
    "//     for i in range(Y.shape[0]):\n",
    "//         for j in range(Y.shape[1]):\n",
    "//             Y[i, j] = (X[i:i + h, j:j + w] * K).sum()\n",
    "//     return Y"
   ]
  },
  {
   "cell_type": "code",
   "execution_count": 4,
   "id": "legislative-football",
   "metadata": {},
   "outputs": [],
   "source": [
    "torch::Tensor corr2d(torch::Tensor X, torch::Tensor K)\n",
    "{\n",
    "    int h = K.size(0);\n",
    "    int w = K.size(1);\n",
    "    \n",
    "    torch::Tensor Y = torch::zeros({X.size(0) - h + 1, X.size(1) - w + 1});\n",
    "    for (int i = 0; i < Y.size(0); i++) {\n",
    "        for (int j = 0; j < Y.size(1); j++) {\n",
    "            Y[i][j] = (X.index({torch::indexing::Slice(i, i+h), torch::indexing::Slice(j, j+w)}) * K).sum();\n",
    "//             printT(Y[i][j]);\n",
    "        }        \n",
    "    }\n",
    "    \n",
    "    return Y;\n",
    "}"
   ]
  },
  {
   "cell_type": "markdown",
   "id": "balanced-listening",
   "metadata": {},
   "source": [
    "**验证上述二维互相关运算的输出**"
   ]
  },
  {
   "cell_type": "code",
   "execution_count": 5,
   "id": "fifteen-overview",
   "metadata": {},
   "outputs": [
    {
     "name": "stdout",
     "output_type": "stream",
     "text": [
      "corr2d(X, K) = \n",
      " 19  25\n",
      " 37  43\n",
      "[ CPUFloatType{2,2} ]\n",
      "<<--->>\n",
      "\n"
     ]
    }
   ],
   "source": [
    "\n",
    "\n",
    "auto X = torch::tensor(at::ArrayRef<float>({0.0, 1.0, 2.0,3.0, 4.0, 5.0,6.0, 7.0, 8.0}));\n",
    "auto K = torch::tensor(at::ArrayRef<float>({0.0, 1.0, 2.0, 3.0}));\n",
    "\n",
    "X = X.view({3,3});\n",
    "K = K.view({2,2});\n",
    "\n",
    "printT(corr2d(X, K));"
   ]
  },
  {
   "cell_type": "markdown",
   "id": "seventh-blind",
   "metadata": {},
   "source": [
    "**实现二维卷积层**"
   ]
  },
  {
   "cell_type": "code",
   "execution_count": 6,
   "id": "treated-surfing",
   "metadata": {},
   "outputs": [],
   "source": [
    "////// 原教程代码，python实现\n",
    "// class Conv2D(nn.Module):\n",
    "//     def __init__(self, kernel_size):\n",
    "//         super().__init__()\n",
    "//         self.weight = nn.Parameter(torch.rand(kernel_size))\n",
    "//         self.bias = nn.Parameter(torch.zeros(1))\n",
    "\n",
    "//     def forward(self, x):\n",
    "//         return corr2d(x, self.weight) + self.bias"
   ]
  },
  {
   "cell_type": "code",
   "execution_count": 7,
   "id": "round-negative",
   "metadata": {},
   "outputs": [],
   "source": [
    "struct Conv2D : torch::nn::Module {\n",
    "  Conv2D(at::IntArrayRef kernel_size) {\n",
    "    weight = register_parameter(\"weight\", torch::randn(kernel_size));\n",
    "    bias   = register_parameter(\"bias\", torch::randn(1));\n",
    "  }\n",
    "  torch::Tensor forward(torch::Tensor X) {\n",
    "    return corr2d(X, weight) + bias;\n",
    "  }\n",
    "  torch::Tensor weight, bias;\n",
    "};"
   ]
  },
  {
   "cell_type": "markdown",
   "id": "concrete-stationery",
   "metadata": {},
   "source": [
    "**卷积层的一个简单应用： 检测图像中不同颜色的边缘**"
   ]
  },
  {
   "cell_type": "code",
   "execution_count": 8,
   "id": "royal-hospital",
   "metadata": {},
   "outputs": [],
   "source": [
    "namespace idx = torch::indexing;\n",
    "using Slice = torch::indexing::Slice;\n",
    "torch::Tensor X1 = torch::ones({6, 8});"
   ]
  },
  {
   "cell_type": "code",
   "execution_count": 9,
   "id": "tribal-camping",
   "metadata": {},
   "outputs": [],
   "source": [
    "X1.index_put_({Slice(idx::None, idx::None), Slice(2, 6)}, 0);"
   ]
  },
  {
   "cell_type": "code",
   "execution_count": 10,
   "id": "dense-imperial",
   "metadata": {},
   "outputs": [
    {
     "name": "stdout",
     "output_type": "stream",
     "text": [
      "X1 = \n",
      " 1  1  0  0  0  0  1  1\n",
      " 1  1  0  0  0  0  1  1\n",
      " 1  1  0  0  0  0  1  1\n",
      " 1  1  0  0  0  0  1  1\n",
      " 1  1  0  0  0  0  1  1\n",
      " 1  1  0  0  0  0  1  1\n",
      "[ CPUFloatType{6,8} ]\n",
      "<<--->>\n",
      "\n"
     ]
    }
   ],
   "source": [
    "printT(X1);"
   ]
  },
  {
   "cell_type": "code",
   "execution_count": 11,
   "id": "entertaining-archive",
   "metadata": {},
   "outputs": [],
   "source": [
    "auto K1 = torch::tensor(at::ArrayRef<float>({1.0, -1.0}));\n",
    "K1 = K1.view({1,2});"
   ]
  },
  {
   "cell_type": "markdown",
   "id": "numerous-accessory",
   "metadata": {},
   "source": [
    "**输出Y中的1代表从白色到黑色的边缘，-1代表从黑色到白色的边缘**"
   ]
  },
  {
   "cell_type": "code",
   "execution_count": 12,
   "id": "trying-things",
   "metadata": {},
   "outputs": [
    {
     "name": "stdout",
     "output_type": "stream",
     "text": [
      "Y1 = \n",
      " 0  1  0  0  0 -1  0\n",
      " 0  1  0  0  0 -1  0\n",
      " 0  1  0  0  0 -1  0\n",
      " 0  1  0  0  0 -1  0\n",
      " 0  1  0  0  0 -1  0\n",
      " 0  1  0  0  0 -1  0\n",
      "[ CPUFloatType{6,7} ]\n",
      "<<--->>\n",
      "\n"
     ]
    }
   ],
   "source": [
    "auto Y1 = corr2d(X1, K1);\n",
    "printT(Y1);"
   ]
  },
  {
   "cell_type": "markdown",
   "id": "featured-court",
   "metadata": {},
   "source": [
    "**卷积核K只可以检测垂直边缘**"
   ]
  },
  {
   "cell_type": "code",
   "execution_count": 13,
   "id": "changing-kansas",
   "metadata": {},
   "outputs": [
    {
     "name": "stdout",
     "output_type": "stream",
     "text": [
      "corr2d(X1.t(), K1) = \n",
      " 0  0  0  0  0\n",
      " 0  0  0  0  0\n",
      " 0  0  0  0  0\n",
      " 0  0  0  0  0\n",
      " 0  0  0  0  0\n",
      " 0  0  0  0  0\n",
      " 0  0  0  0  0\n",
      " 0  0  0  0  0\n",
      "[ CPUFloatType{8,5} ]\n",
      "<<--->>\n",
      "\n"
     ]
    }
   ],
   "source": [
    "printT(corr2d(X1.t(), K1));"
   ]
  },
  {
   "cell_type": "markdown",
   "id": "timely-transformation",
   "metadata": {},
   "source": [
    "**学习由X生成Y的卷积核**"
   ]
  },
  {
   "cell_type": "code",
   "execution_count": 14,
   "id": "commercial-basis",
   "metadata": {},
   "outputs": [],
   "source": [
    "// conv2d = nn.Conv2d(1, 1, kernel_size=(1, 2), bias=False)\n",
    "\n",
    "// X = X.reshape((1, 1, 6, 8))\n",
    "// Y = Y.reshape((1, 1, 6, 7))\n",
    "\n",
    "// for i in range(10):\n",
    "//     Y_hat = conv2d(X)\n",
    "//     l = (Y_hat - Y)**2\n",
    "//     conv2d.zero_grad()\n",
    "//     l.sum().backward()\n",
    "//     conv2d.weight.data[:] -= 3e-2 * conv2d.weight.grad\n",
    "//     if (i + 1) % 2 == 0:\n",
    "//         print(f'batch {i+1}, loss {l.sum():.3f}')"
   ]
  },
  {
   "cell_type": "code",
   "execution_count": 15,
   "id": "disabled-brief",
   "metadata": {},
   "outputs": [],
   "source": [
    "////// python:\n",
    "/// Conv2d. class torch.nn. Conv2d (in_channels, out_channels, kernel_size, stride=1, padding=0, dilation=1, groups=1, bias=True, padding_mode='zeros')\n",
    "\n",
    "////// c++\n",
    "/// ConvOptions(int64_t in_channels, int64_t out_channels, ExpandingArray<D> kernel_size)\n",
    "// torch::nn::Conv2d conv2d(torch::nn::Conv2dOptions(1, 1, {1, 2}).stride(1).bias(false));\n",
    "\n",
    "torch::nn::Sequential conv2d{torch::nn::Conv2d(torch::nn::Conv2dOptions(1, 1, {1, 2}).stride(1).bias(false))};\n",
    "\n",
    "X1 = X1.reshape({1,1,6,8});\n",
    "Y1 = Y1.reshape({1,1,6,7});"
   ]
  },
  {
   "cell_type": "code",
   "execution_count": 16,
   "id": "chicken-power",
   "metadata": {},
   "outputs": [
    {
     "name": "stdout",
     "output_type": "stream",
     "text": [
      "batch 2, loss = 7.84459\n",
      "[ CPUFloatType{} ]\n",
      "batch 4, loss = 2.46581\n",
      "[ CPUFloatType{} ]\n",
      "batch 6, loss = 0.884616\n",
      "[ CPUFloatType{} ]\n",
      "batch 8, loss = 0.341303\n",
      "[ CPUFloatType{} ]\n",
      "batch 10, loss = 0.136269\n",
      "[ CPUFloatType{} ]\n"
     ]
    }
   ],
   "source": [
    "for (int i = 0; i < 10; i++) {\n",
    "    auto Y1_hat = conv2d->forward(X1);\n",
    "    auto l = (Y1_hat - Y1).mul((Y1_hat - Y1));\n",
    "    conv2d->zero_grad();\n",
    "    l.sum().backward();\n",
    "    conv2d[0]->named_parameters()[\"weight\"].data() -= 0.03 * conv2d[0]->named_parameters()[\"weight\"].grad();\n",
    "    if ((i+1) % 2 == 0) {\n",
    "        std::cout << \"batch \" << i+1 << \", loss = \" << l.sum().data() << std::endl;\n",
    "    }\n",
    "}"
   ]
  },
  {
   "cell_type": "markdown",
   "id": "weekly-gamma",
   "metadata": {},
   "source": [
    "**所学的卷积核的权重张量**"
   ]
  },
  {
   "cell_type": "code",
   "execution_count": 17,
   "id": "through-evans",
   "metadata": {},
   "outputs": [
    {
     "name": "stdout",
     "output_type": "stream",
     "text": [
      "conv2d[0]->named_parameters()[\"weight\"].data().reshape({1,2}) = \n",
      " 1.0286 -0.9531\n",
      "[ CPUFloatType{1,2} ]\n",
      "<<--->>\n",
      "\n"
     ]
    }
   ],
   "source": [
    "printT(conv2d[0]->named_parameters()[\"weight\"].data().reshape({1,2}));"
   ]
  },
  {
   "cell_type": "code",
   "execution_count": null,
   "id": "mighty-messaging",
   "metadata": {},
   "outputs": [],
   "source": []
  }
 ],
 "metadata": {
  "kernelspec": {
   "display_name": "C++17",
   "language": "C++17",
   "name": "xcpp17"
  },
  "language_info": {
   "codemirror_mode": "text/x-c++src",
   "file_extension": ".cpp",
   "mimetype": "text/x-c++src",
   "name": "c++",
   "version": "17"
  }
 },
 "nbformat": 4,
 "nbformat_minor": 5
}
