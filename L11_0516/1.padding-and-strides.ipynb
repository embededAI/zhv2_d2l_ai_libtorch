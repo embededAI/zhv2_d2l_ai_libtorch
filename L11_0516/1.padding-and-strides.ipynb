{
 "cells": [
  {
   "cell_type": "code",
   "execution_count": 1,
   "id": "surface-citation",
   "metadata": {},
   "outputs": [],
   "source": [
    "#include <iostream>\n",
    "\n",
    "/*a workaround to solve cling issue*/\n",
    "#include \"../inc/macos_cling_workaround.hpp\"\n",
    "/*set libtorch path, load libs*/\n",
    "#include \"../inc/load_libtorch.hpp\"\n",
    "/*import custom defined macros*/\n",
    "#include \"../inc/custom_def.hpp\"\n",
    "/*import matplotlibcpp*/\n",
    "#include \"../inc/load_matplotlibcpp.hpp\"\n",
    "/*import opencv*/\n",
    "#include \"../inc/load_opencv.hpp\"\n",
    "\n",
    "/*import libtorch header file*/\n",
    "#include <torch/torch.h>\n",
    "#include <opencv2/opencv.hpp>\n",
    "#include <cmath>\n",
    "\n",
    "// Use (void) to silent unused warnings.\n",
    "#define assertm(exp, msg) assert(((void)msg, exp))"
   ]
  },
  {
   "cell_type": "code",
   "execution_count": 2,
   "id": "apart-culture",
   "metadata": {},
   "outputs": [],
   "source": [
    "#define VAR_NAME(Variable) (#Variable)\n",
    "\n",
    "void print_tensor_size(std::string name, torch::Tensor t)\n",
    "{\n",
    "    int dims = t.dim();\n",
    "    std::cout << name << \" dims is (\";\n",
    "    for (int i = 0; i < dims; i++) {\n",
    "        std::cout << t.size(i);\n",
    "        if (i < (dims - 1)) std::cout << \" x \";\n",
    "    }\n",
    "    std::cout << \")\" << std::endl;\n",
    "}"
   ]
  },
  {
   "cell_type": "markdown",
   "id": "exterior-petersburg",
   "metadata": {},
   "source": [
    "# 填充和步幅"
   ]
  },
  {
   "cell_type": "markdown",
   "id": "desperate-particular",
   "metadata": {},
   "source": [
    "**在所有侧边填充1个像素**"
   ]
  },
  {
   "cell_type": "code",
   "execution_count": 3,
   "id": "broad-horizontal",
   "metadata": {},
   "outputs": [],
   "source": [
    "// def comp_conv2d(conv2d, X):\n",
    "//     X = X.reshape((1, 1) + X.shape)\n",
    "//     Y = conv2d(X)\n",
    "//     return Y.reshape(Y.shape[2:])\n",
    "\n",
    "// conv2d = nn.Conv2d(1, 1, kernel_size=3, padding=1)\n",
    "// X = torch.rand(size=(8, 8))\n",
    "// comp_conv2d(conv2d, X).shape"
   ]
  },
  {
   "cell_type": "code",
   "execution_count": 4,
   "id": "anticipated-karaoke",
   "metadata": {},
   "outputs": [],
   "source": [
    "torch::Tensor comp_conv2d(torch::nn::Sequential conv2d, torch::Tensor X)\n",
    "{\n",
    "    X = torch::constant_pad_nd(X, at::IntArrayRef({0, 1, 0, 1}));\n",
    "    auto Y = conv2d->forward(X);\n",
    "    return Y.reshape(at::IntArrayRef({Y.size(2), Y.size(3)}));\n",
    "}"
   ]
  },
  {
   "cell_type": "code",
   "execution_count": 5,
   "id": "valid-maximum",
   "metadata": {},
   "outputs": [
    {
     "name": "stdout",
     "output_type": "stream",
     "text": [
      "Z.sizes() = \n",
      "[9, 9]\n",
      "<<--->>\n",
      "\n"
     ]
    }
   ],
   "source": [
    "torch::nn::Sequential conv2d{torch::nn::Conv2d(torch::nn::Conv2dOptions(1, 1, {3, 3}).stride(1).padding(1).bias(false))};\n",
    "auto X = torch::rand({8, 8});\n",
    "X = X.reshape({1,1,8,8});\n",
    "auto Z = comp_conv2d(conv2d, X);\n",
    "printT(Z.sizes());"
   ]
  },
  {
   "cell_type": "markdown",
   "id": "alert-fourth",
   "metadata": {},
   "source": [
    "**填充不同的高度和宽度**"
   ]
  },
  {
   "cell_type": "code",
   "execution_count": 6,
   "id": "affecting-passage",
   "metadata": {},
   "outputs": [
    {
     "name": "stdout",
     "output_type": "stream",
     "text": [
      "Z.sizes() = \n",
      "[9, 9]\n",
      "<<--->>\n",
      "\n"
     ]
    }
   ],
   "source": [
    "torch::nn::Sequential conv2d_1{torch::nn::Conv2d(torch::nn::Conv2dOptions(1, 1, {5, 3}).stride(1).padding({2, 1}).bias(false))};\n",
    "Z = comp_conv2d(conv2d_1, X);\n",
    "printT(Z.sizes());"
   ]
  },
  {
   "cell_type": "markdown",
   "id": "absolute-territory",
   "metadata": {},
   "source": [
    "**将高度和宽度的步幅设置为2**"
   ]
  },
  {
   "cell_type": "code",
   "execution_count": 7,
   "id": "proper-florence",
   "metadata": {},
   "outputs": [
    {
     "name": "stdout",
     "output_type": "stream",
     "text": [
      "Z.sizes() = \n",
      "[5, 5]\n",
      "<<--->>\n",
      "\n"
     ]
    }
   ],
   "source": [
    "torch::nn::Sequential conv2d_2{torch::nn::Conv2d(torch::nn::Conv2dOptions(1, 1, {3, 3}).stride({2, 2}).padding(1).bias(false))};\n",
    "Z = comp_conv2d(conv2d_2, X);\n",
    "printT(Z.sizes());"
   ]
  },
  {
   "cell_type": "markdown",
   "id": "controlling-subject",
   "metadata": {},
   "source": [
    "**一个稍微复杂的例子**"
   ]
  },
  {
   "cell_type": "code",
   "execution_count": 8,
   "id": "lesser-lithuania",
   "metadata": {},
   "outputs": [
    {
     "name": "stdout",
     "output_type": "stream",
     "text": [
      "Z.sizes() = \n",
      "[3, 2]\n",
      "<<--->>\n",
      "\n"
     ]
    }
   ],
   "source": [
    "// conv2d = nn.Conv2d(1, 1, kernel_size=(3, 5), padding=(0, 1), stride=(3, 4))\n",
    "torch::nn::Sequential conv2d_2{torch::nn::Conv2d(torch::nn::Conv2dOptions(1, 1, {3, 5}).stride({3, 4}).padding({0, 1}).bias(false))};\n",
    "Z = comp_conv2d(conv2d_2, X);\n",
    "printT(Z.sizes());"
   ]
  },
  {
   "cell_type": "code",
   "execution_count": null,
   "id": "renewable-humidity",
   "metadata": {},
   "outputs": [],
   "source": []
  }
 ],
 "metadata": {
  "kernelspec": {
   "display_name": "C++17",
   "language": "C++17",
   "name": "xcpp17"
  },
  "language_info": {
   "codemirror_mode": "text/x-c++src",
   "file_extension": ".cpp",
   "mimetype": "text/x-c++src",
   "name": "c++",
   "version": "17"
  }
 },
 "nbformat": 4,
 "nbformat_minor": 5
}
