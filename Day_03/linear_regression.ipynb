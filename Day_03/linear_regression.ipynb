{
 "cells": [
  {
   "cell_type": "markdown",
   "id": "round-dinner",
   "metadata": {},
   "source": [
    "# 使用前，需要先导入需要的头文件"
   ]
  },
  {
   "cell_type": "code",
   "execution_count": 12,
   "id": "cheap-algorithm",
   "metadata": {},
   "outputs": [],
   "source": [
    "#include <iostream>\n",
    "\n",
    "/*a workaround to solve cling issue*/\n",
    "#include \"../inc/macos_cling_workaround.hpp\"\n",
    "/*set libtorch path, load libs*/\n",
    "#include \"../inc/load_libtorch.hpp\"\n",
    "/*import custom defined macros*/\n",
    "#include \"../inc/custom_def.hpp\"\n",
    "/*import libtorch header file*/\n",
    "#include <torch/torch.h>"
   ]
  },
  {
   "cell_type": "markdown",
   "id": "controlling-protection",
   "metadata": {},
   "source": [
    "---"
   ]
  },
  {
   "cell_type": "markdown",
   "id": "successful-durham",
   "metadata": {},
   "source": [
    "***此处仅为随堂笔记，详情请参考[公开课教程](http://courses.d2l.ai/zh-v2/)***\n",
    "\n",
    "- [2021.03.27 13:05]  \n",
    "    首次直播：北京时间 2021.03.27，13:00 pm  \n",
    "    机器之心首播，B站录播地址随后附上；   \n",
    "    ***[公开课讲义1](http://courses.d2l.ai/zh-v2/assets/pdfs/part-0_8.pdf)***    \n",
    "    ***[公开课讲义2](http://courses.d2l.ai/zh-v2/assets/pdfs/part-0_9.pdf)***"
   ]
  },
  {
   "cell_type": "markdown",
   "id": "allied-thursday",
   "metadata": {},
   "source": [
    "# 1.线性回归介绍"
   ]
  },
  {
   "cell_type": "markdown",
   "id": "extra-electricity",
   "metadata": {},
   "source": [
    "从美国买房谈起；\n",
    "1.看房;\n",
    "2.出价；\n",
    "\n",
    "\n",
    "- 从一个简化模型讲起：  \n",
    "假设1：影响房价的因素有卧室个数，卫生间个数和居住面积，记为$x_1$，$x_2$，$x_3$；  \n",
    "假设2：成交价是影响因素的加权和：$y = w_1*x_1 + w_2*x_2 + w_3*x_3 + b$\n",
    "\n",
    "\n",
    "给定n维输入 $\\large{\\textbf{x}} = {[x_1, x_2, ..., x_n]}^T$；  \n",
    "针对n维权重和一个标量偏差： $\\large{\\textbf{w}} = {[w_1, w_2, ..., w_n]^T,   b}$\n",
    "\n",
    "会得到一个输出$y$：  \n",
    "$y = w_1*x_1 + w_2*x_2 +\\ ...\\ + w_n*x_n + b$    \n",
    "\n",
    "用向量表示就是  \n",
    "$y = \\large{\\textbf{<w,x>}} + b$\n",
    "\n",
    "\n",
    "从上面公式可以得出，已知$\\large{\\textbf{w}}$和$b$，根据$\\large{\\textbf{x}}$，可以很容易估计出房屋价格$y$;"
   ]
  },
  {
   "cell_type": "markdown",
   "id": "daily-rehabilitation",
   "metadata": {},
   "source": [
    "---\n",
    "因为有了$\\large{\\textbf{w}}$和$\\textbf{b}$，我们就可以很容易的去预测房价了。\n",
    "\n",
    "因此现在的首要问题是，已知房屋价格$\\hat{y}$和房价影响因素$\\large{\\textbf{x}}$，如何去求解$\\large{\\textbf{w}}$和$\\textbf{b}$?\n",
    "\n",
    "---"
   ]
  },
  {
   "cell_type": "markdown",
   "id": "engaged-progress",
   "metadata": {},
   "source": [
    "要求得最优$\\large{\\textbf{w}}$和$\\textbf{b}$，则需要定义一个损失函数，使得我们预测的房价和真实房价的差最小（不一定是0）；  \n",
    "\n",
    "定义损失函数$\\mathscr{l(y, \\hat{y})} = {|\\hat{y} - y|^2}$  \n",
    "这叫平方损失函数(且是凸函数，因此可以求得最优解)；(注：下面临时截图相关公式，后续有空再用LaTeX重写)\n",
    "\n",
    "![解析解](./images/01.png)"
   ]
  },
  {
   "cell_type": "markdown",
   "id": "several-promotion",
   "metadata": {},
   "source": [
    "# 2.优化算法"
   ]
  },
  {
   "cell_type": "markdown",
   "id": "dramatic-hybrid",
   "metadata": {},
   "source": [
    "梯度下降：\n",
    "$w_t = w_{t-1} - \\eta * \\frac{\\partial{\\mathscr{l}}}{\\partial{w_{t-1}}}$  \n",
    "即沿着梯度的反方向下降，更新$\\large{w}$，使得损失值，t代表迭代轮次，$\\eta$就是学习率。\n",
    "\n",
    "小批量随机梯度下降；"
   ]
  },
  {
   "cell_type": "markdown",
   "id": "elementary-tender",
   "metadata": {},
   "source": [
    "# 3.线性回归从零开始实现"
   ]
  },
  {
   "cell_type": "markdown",
   "id": "serial-limit",
   "metadata": {},
   "source": [
    "首先构造一个数据集，它是一个线性模型，同时，为了更接近实际情况，还需要加入随机噪声$\\epsilon$：  \n",
    "$y = \\textbf{X*w} + b + \\epsilon$  \n",
    "此处我们假设$\\text{w} = [2.0, -3.4]^T,  b = 4.2$"
   ]
  },
  {
   "cell_type": "code",
   "execution_count": null,
   "id": "cosmetic-sister",
   "metadata": {},
   "outputs": [],
   "source": [
    "def synthetic_data(w, b, num_examples):  \n",
    "    \"\"\"生成 y = Xw + b + 噪声。\"\"\"\n",
    "    X = torch.normal(0, 1, (num_examples, len(w)))\n",
    "    y = torch.matmul(X, w) + b\n",
    "    y += torch.normal(0, 0.01, y.shape)\n",
    "    return X, y.reshape((-1, 1))\n",
    "\n",
    "true_w = torch.tensor([2, -3.4])\n",
    "true_b = 4.2\n",
    "features, labels = synthetic_data(true_w, true_b, 1000)\n",
    "\n",
    "        "
   ]
  },
  {
   "cell_type": "code",
   "execution_count": 2,
   "id": "fewer-youth",
   "metadata": {},
   "outputs": [],
   "source": [
    "typedef std::tuple<torch::Tensor, torch::Tensor> sample_set;"
   ]
  },
  {
   "cell_type": "code",
   "execution_count": 4,
   "id": "available-yacht",
   "metadata": {},
   "outputs": [],
   "source": [
    "sample_set synthetic_data(torch::Tensor w, torch::Tensor b, int num_example)\n",
    "{\n",
    "    torch::Tensor X = torch::normal(0.0, 1.0, {num_example, w.size(0)}); \n",
    "    torch::Tensor y = X.matmul(w) + b;\n",
    "    y = y + torch::normal(0.0, 0.1, y.sizes());\n",
    "    \n",
    "    return std::make_tuple(X, y);\n",
    "}"
   ]
  },
  {
   "cell_type": "code",
   "execution_count": 11,
   "id": "willing-hawaiian",
   "metadata": {},
   "outputs": [
    {
     "name": "stdout",
     "output_type": "stream",
     "text": [
      "std::get<0>(data) = \n",
      "-1.0100  0.6329\n",
      "-1.2156  1.9217\n",
      "-0.3515 -2.2502\n",
      "-1.3354  0.9508\n",
      "-1.9243 -1.1991\n",
      " 1.0333 -1.9812\n",
      "-0.4453 -0.0163\n",
      "-0.0996 -0.6070\n",
      " 0.8616  2.0777\n",
      "-0.5419 -0.1179\n",
      "[ CPUFloatType{10,2} ]\n",
      "<<--->>\n",
      "\n"
     ]
    }
   ],
   "source": [
    "float coe[] = {2.0, 3.4};\n",
    "float bias[] = {4.2};\n",
    "torch::Tensor true_w = torch::from_blob(coe, {2, 1});\n",
    "torch::Tensor true_b = torch::from_blob(bias, {1});\n",
    "sample_set data = synthetic_data(true_w, true_b, 10);\n",
    "\n",
    "\n",
    "printT(std::get<0>(data));"
   ]
  },
  {
   "cell_type": "code",
   "execution_count": null,
   "id": "critical-process",
   "metadata": {},
   "outputs": [],
   "source": []
  },
  {
   "cell_type": "code",
   "execution_count": null,
   "id": "desperate-index",
   "metadata": {},
   "outputs": [],
   "source": []
  },
  {
   "cell_type": "code",
   "execution_count": null,
   "id": "caring-riverside",
   "metadata": {},
   "outputs": [],
   "source": []
  },
  {
   "cell_type": "code",
   "execution_count": null,
   "id": "ahead-trial",
   "metadata": {},
   "outputs": [],
   "source": []
  },
  {
   "cell_type": "code",
   "execution_count": null,
   "id": "western-skill",
   "metadata": {},
   "outputs": [],
   "source": []
  },
  {
   "cell_type": "code",
   "execution_count": null,
   "id": "forward-processing",
   "metadata": {},
   "outputs": [],
   "source": []
  }
 ],
 "metadata": {
  "kernelspec": {
   "display_name": "C++14",
   "language": "C++14",
   "name": "xcpp14"
  },
  "language_info": {
   "codemirror_mode": "text/x-c++src",
   "file_extension": ".cpp",
   "mimetype": "text/x-c++src",
   "name": "c++",
   "version": "14"
  }
 },
 "nbformat": 4,
 "nbformat_minor": 5
}
