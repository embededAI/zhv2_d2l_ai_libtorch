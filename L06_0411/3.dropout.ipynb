{
 "cells": [
  {
   "cell_type": "markdown",
   "id": "round-dinner",
   "metadata": {},
   "source": [
    "# 使用前，需要先导入需要的头文件"
   ]
  },
  {
   "cell_type": "code",
   "execution_count": 1,
   "id": "cheap-algorithm",
   "metadata": {},
   "outputs": [],
   "source": [
    "#include <iostream>\n",
    "\n",
    "/*a workaround to solve cling issue*/\n",
    "#include \"../inc/macos_cling_workaround.hpp\"\n",
    "/*set libtorch path, load libs*/\n",
    "#include \"../inc/load_libtorch.hpp\"\n",
    "/*import custom defined macros*/\n",
    "#include \"../inc/custom_def.hpp\"\n",
    "/*import matplotlibcpp*/\n",
    "#include \"../inc/load_matplotlibcpp.hpp\"\n",
    "/*import opencv*/\n",
    "#include \"../inc/load_opencv.hpp\"\n",
    "\n",
    "/*import libtorch header file*/\n",
    "#include <torch/torch.h>\n",
    "#include <opencv2/opencv.hpp>\n",
    "#include <cmath>\n",
    "\n",
    "// Use (void) to silent unused warnings.\n",
    "#define assertm(exp, msg) assert(((void)msg, exp))"
   ]
  },
  {
   "cell_type": "code",
   "execution_count": 2,
   "id": "desirable-society",
   "metadata": {},
   "outputs": [],
   "source": [
    "#define VAR_NAME(Variable) (#Variable)\n",
    "\n",
    "void print_tensor_size(std::string name, torch::Tensor t)\n",
    "{\n",
    "    int dims = t.dim();\n",
    "    std::cout << name << \" dims is (\";\n",
    "    for (int i = 0; i < dims; i++) {\n",
    "        std::cout << t.size(i);\n",
    "        if (i < (dims - 1)) std::cout << \" x \";\n",
    "    }\n",
    "    std::cout << \")\" << std::endl;\n",
    "}"
   ]
  },
  {
   "cell_type": "markdown",
   "id": "environmental-cursor",
   "metadata": {},
   "source": [
    "# Dropout"
   ]
  },
  {
   "cell_type": "markdown",
   "id": "persistent-semiconductor",
   "metadata": {},
   "source": [
    "### 我们实现 dropout_layer 函数，该函数以dropout的概率丢弃张量输入X中的元素"
   ]
  },
  {
   "cell_type": "code",
   "execution_count": 3,
   "id": "transparent-radio",
   "metadata": {},
   "outputs": [],
   "source": [
    "torch::Tensor dropout_layer(torch::Tensor X, float dropout)\n",
    "{\n",
    "    assert(dropout >= 0.0 && dropout <= 1.0);\n",
    "    if (dropout == 1) {\n",
    "        return torch::zeros_like(X);\n",
    "    } else if (dropout == 0) {\n",
    "        return X;\n",
    "    } else {\n",
    "        torch::Tensor mask_ = torch::randn({X.size(0), X.size(1)});\n",
    "        mask_.index_put_({mask_ > dropout}, 0);\n",
    "        return mask_;\n",
    "    }\n",
    "}"
   ]
  },
  {
   "cell_type": "markdown",
   "id": "cubic-financing",
   "metadata": {},
   "source": [
    "### 测试dropout_layer函数"
   ]
  },
  {
   "cell_type": "code",
   "execution_count": 4,
   "id": "corrected-moscow",
   "metadata": {
    "scrolled": false
   },
   "outputs": [
    {
     "name": "stdout",
     "output_type": "stream",
     "text": [
      "X = \n",
      "  0   1   2   3   4   5   6   7\n",
      "  8   9  10  11  12  13  14  15\n",
      "[ CPULongType{2,8} ]\n",
      "<<--->>\n",
      "\n",
      "dropout_layer(X, 0.0) = \n",
      "  0   1   2   3   4   5   6   7\n",
      "  8   9  10  11  12  13  14  15\n",
      "[ CPULongType{2,8} ]\n",
      "<<--->>\n",
      "\n",
      "dropout_layer(X, 1.0) = \n",
      " 0  0  0  0  0  0  0  0\n",
      " 0  0  0  0  0  0  0  0\n",
      "[ CPULongType{2,8} ]\n",
      "<<--->>\n",
      "\n",
      "dropout_layer(X, 0.6) = \n",
      " 0.2872  0.0000  0.0000  0.0000  0.3094 -1.1510 -0.4300 -0.4006\n",
      " 0.0000 -0.8416 -0.0948  0.0000  0.0000 -0.5203 -0.0316  0.2025\n",
      "[ CPUFloatType{2,8} ]\n",
      "<<--->>\n",
      "\n"
     ]
    }
   ],
   "source": [
    "torch::Tensor X = torch::arange(16).reshape({2, 8});\n",
    "printT(X)\n",
    "printT(dropout_layer(X, 0.0));\n",
    "printT(dropout_layer(X, 1.0));\n",
    "printT(dropout_layer(X, 0.6));"
   ]
  },
  {
   "cell_type": "markdown",
   "id": "cooked-indian",
   "metadata": {},
   "source": [
    "### 简洁实现"
   ]
  },
  {
   "cell_type": "code",
   "execution_count": 5,
   "id": "collective-discussion",
   "metadata": {},
   "outputs": [],
   "source": [
    "// Define a new Module.\n",
    "struct Net : torch::nn::Module {\n",
    "  Net() {\n",
    "    // Construct and register two Linear submodules.\n",
    "    fc1 = register_module(\"fc1\", torch::nn::Linear(784, 64));\n",
    "    fc2 = register_module(\"fc2\", torch::nn::Linear(64, 32));\n",
    "    fc3 = register_module(\"fc3\", torch::nn::Linear(32, 10));\n",
    "  }\n",
    "\n",
    "  // Implement the Net's algorithm.\n",
    "  torch::Tensor forward(torch::Tensor x) {\n",
    "    // Use one of many tensor manipulation functions.\n",
    "    x = torch::relu(fc1->forward(x.reshape({x.size(0), 784})));\n",
    "    x = torch::dropout(x, /*p=*/0.5, /*train=*/is_training());\n",
    "    x = torch::relu(fc2->forward(x));\n",
    "    x = torch::dropout(x, /*p=*/0.5, /*train=*/is_training());\n",
    "    x = torch::log_softmax(fc3->forward(x), 1);\n",
    "    return x;\n",
    "  }\n",
    "\n",
    "  // Use one of many \"standard library\" modules.\n",
    "  torch::nn::Linear fc1{nullptr}, fc2{nullptr}, fc3{nullptr};\n",
    "};"
   ]
  },
  {
   "cell_type": "code",
   "execution_count": 6,
   "id": "careful-grounds",
   "metadata": {},
   "outputs": [],
   "source": [
    "std::vector<int> x;\n",
    "std::vector<double> y;\n",
    "std::vector<double> y_hat;"
   ]
  },
  {
   "cell_type": "code",
   "execution_count": 7,
   "id": "sealed-moment",
   "metadata": {},
   "outputs": [
    {
     "name": "stdout",
     "output_type": "stream",
     "text": [
      "Epoch: 1 | Batch: 100 | Loss: 2.29209\n",
      "Epoch: 1 | Batch: 200 | Loss: 2.26181\n",
      "Epoch: 1 | Batch: 300 | Loss: 2.22536\n",
      "Epoch: 1 | Batch: 400 | Loss: 2.18674\n",
      "Epoch: 1 | Batch: 500 | Loss: 2.15605\n",
      "Epoch: 1 | Batch: 600 | Loss: 2.12583\n",
      "Epoch: 1 | Batch: 700 | Loss: 2.00124\n",
      "Epoch: 1 | Batch: 800 | Loss: 1.83538\n",
      "Epoch: 1 | Batch: 900 | Loss: 1.66231\n",
      "Epoch: 2 | Batch: 100 | Loss: 1.57729\n",
      "Epoch: 2 | Batch: 200 | Loss: 1.47831\n",
      "Epoch: 2 | Batch: 300 | Loss: 1.38752\n",
      "Epoch: 2 | Batch: 400 | Loss: 1.35678\n",
      "Epoch: 2 | Batch: 500 | Loss: 1.41215\n",
      "Epoch: 2 | Batch: 600 | Loss: 1.15877\n",
      "Epoch: 2 | Batch: 700 | Loss: 1.08967\n",
      "Epoch: 2 | Batch: 800 | Loss: 1.39\n",
      "Epoch: 2 | Batch: 900 | Loss: 1.12012\n",
      "Epoch: 3 | Batch: 100 | Loss: 1.21465\n",
      "Epoch: 3 | Batch: 200 | Loss: 0.898953\n",
      "Epoch: 3 | Batch: 300 | Loss: 1.05611\n",
      "Epoch: 3 | Batch: 400 | Loss: 0.965709\n",
      "Epoch: 3 | Batch: 500 | Loss: 1.06464\n",
      "Epoch: 3 | Batch: 600 | Loss: 1.17864\n",
      "Epoch: 3 | Batch: 700 | Loss: 0.906102\n",
      "Epoch: 3 | Batch: 800 | Loss: 0.91018\n",
      "Epoch: 3 | Batch: 900 | Loss: 1.12221\n",
      "Epoch: 4 | Batch: 100 | Loss: 1.20005\n",
      "Epoch: 4 | Batch: 200 | Loss: 0.702088\n",
      "Epoch: 4 | Batch: 300 | Loss: 0.85468\n",
      "Epoch: 4 | Batch: 400 | Loss: 0.9505\n",
      "Epoch: 4 | Batch: 500 | Loss: 0.75097\n",
      "Epoch: 4 | Batch: 600 | Loss: 0.974287\n",
      "Epoch: 4 | Batch: 700 | Loss: 0.777233\n",
      "Epoch: 4 | Batch: 800 | Loss: 0.861155\n",
      "Epoch: 4 | Batch: 900 | Loss: 0.867205\n",
      "Epoch: 5 | Batch: 100 | Loss: 0.987471\n",
      "Epoch: 5 | Batch: 200 | Loss: 1.07895\n",
      "Epoch: 5 | Batch: 300 | Loss: 0.594644\n",
      "Epoch: 5 | Batch: 400 | Loss: 0.54973\n",
      "Epoch: 5 | Batch: 500 | Loss: 0.827984\n",
      "Epoch: 5 | Batch: 600 | Loss: 0.90012\n",
      "Epoch: 5 | Batch: 700 | Loss: 0.74275\n",
      "Epoch: 5 | Batch: 800 | Loss: 0.909967\n",
      "Epoch: 5 | Batch: 900 | Loss: 0.536567\n",
      "Epoch: 6 | Batch: 100 | Loss: 0.87235\n",
      "Epoch: 6 | Batch: 200 | Loss: 0.78788\n",
      "Epoch: 6 | Batch: 300 | Loss: 0.952911\n",
      "Epoch: 6 | Batch: 400 | Loss: 0.774767\n",
      "Epoch: 6 | Batch: 500 | Loss: 0.958852\n",
      "Epoch: 6 | Batch: 600 | Loss: 0.631597\n",
      "Epoch: 6 | Batch: 700 | Loss: 0.766874\n",
      "Epoch: 6 | Batch: 800 | Loss: 0.730648\n",
      "Epoch: 6 | Batch: 900 | Loss: 0.834994\n",
      "Epoch: 7 | Batch: 100 | Loss: 0.660959\n",
      "Epoch: 7 | Batch: 200 | Loss: 0.532506\n",
      "Epoch: 7 | Batch: 300 | Loss: 0.756181\n",
      "Epoch: 7 | Batch: 400 | Loss: 0.744165\n",
      "Epoch: 7 | Batch: 500 | Loss: 0.554719\n",
      "Epoch: 7 | Batch: 600 | Loss: 0.712771\n",
      "Epoch: 7 | Batch: 700 | Loss: 0.662058\n",
      "Epoch: 7 | Batch: 800 | Loss: 0.842536\n",
      "Epoch: 7 | Batch: 900 | Loss: 0.543317\n",
      "Epoch: 8 | Batch: 100 | Loss: 0.506326\n",
      "Epoch: 8 | Batch: 200 | Loss: 0.597408\n",
      "Epoch: 8 | Batch: 300 | Loss: 0.849972\n",
      "Epoch: 8 | Batch: 400 | Loss: 0.571602\n",
      "Epoch: 8 | Batch: 500 | Loss: 0.924548\n",
      "Epoch: 8 | Batch: 600 | Loss: 0.596178\n",
      "Epoch: 8 | Batch: 700 | Loss: 0.604707\n",
      "Epoch: 8 | Batch: 800 | Loss: 0.555722\n",
      "Epoch: 8 | Batch: 900 | Loss: 0.409481\n",
      "Epoch: 9 | Batch: 100 | Loss: 0.679869\n",
      "Epoch: 9 | Batch: 200 | Loss: 0.779096\n",
      "Epoch: 9 | Batch: 300 | Loss: 0.662044\n",
      "Epoch: 9 | Batch: 400 | Loss: 0.566513\n",
      "Epoch: 9 | Batch: 500 | Loss: 0.662875\n",
      "Epoch: 9 | Batch: 600 | Loss: 0.507572\n",
      "Epoch: 9 | Batch: 700 | Loss: 0.618172\n",
      "Epoch: 9 | Batch: 800 | Loss: 0.357592\n",
      "Epoch: 9 | Batch: 900 | Loss: 0.70946\n",
      "Epoch: 10 | Batch: 100 | Loss: 0.764946\n",
      "Epoch: 10 | Batch: 200 | Loss: 0.6089\n",
      "Epoch: 10 | Batch: 300 | Loss: 0.658479\n",
      "Epoch: 10 | Batch: 400 | Loss: 0.659712\n",
      "Epoch: 10 | Batch: 500 | Loss: 0.409872\n",
      "Epoch: 10 | Batch: 600 | Loss: 0.506578\n",
      "Epoch: 10 | Batch: 700 | Loss: 0.943085\n",
      "Epoch: 10 | Batch: 800 | Loss: 0.425593\n",
      "Epoch: 10 | Batch: 900 | Loss: 0.520043\n"
     ]
    }
   ],
   "source": [
    "// Create a new Net.\n",
    "auto net = std::make_shared<Net>();\n",
    "\n",
    "// Create a multi-threaded data loader for the MNIST dataset.\n",
    "auto data_loader = torch::data::make_data_loader(\n",
    "                              torch::data::datasets::MNIST(\"../dataset/mnist\").map(\n",
    "                              torch::data::transforms::Stack<>()),\n",
    "                              /*batch_size=*/64);\n",
    "\n",
    "auto test_data_loader = torch::data::make_data_loader(\n",
    "                              torch::data::datasets::MNIST(\"../dataset/mnist\", torch::data::datasets::MNIST::Mode::kTrain).map(\n",
    "                              torch::data::transforms::Stack<>()),\n",
    "                              /*batch_size=*/64);\n",
    "\n",
    "// Instantiate an SGD optimization algorithm to update our Net's parameters.\n",
    "torch::optim::SGD optimizer(net->parameters(), /*lr=*/0.01);\n",
    "\n",
    "for (size_t epoch = 1; epoch <= 10; ++epoch) {\n",
    "    size_t batch_index = 0;\n",
    "    x.push_back(epoch);\n",
    "    \n",
    "    torch::Tensor train_loss = torch::zeros(1);\n",
    "    torch::Tensor test_loss = torch::zeros(1);\n",
    "    // Iterate the data loader to yield batches from the dataset.\n",
    "    for (auto& batch : *data_loader) {\n",
    "        // Reset gradients.\n",
    "        optimizer.zero_grad();\n",
    "        // Execute the model on the input data.\n",
    "        torch::Tensor prediction = net->forward(batch.data);\n",
    "        // Compute a loss value to judge the prediction of our model.\n",
    "        torch::Tensor loss = torch::nll_loss(prediction, batch.target);\n",
    "        train_loss += loss;\n",
    "        // Compute gradients of the loss w.r.t. the parameters of our model.\n",
    "        loss.backward();\n",
    "        // Update the parameters based on the calculated gradients.\n",
    "        optimizer.step();\n",
    "        // Output the loss and checkpoint every 100 batches.\n",
    "        if (++batch_index % 100 == 0) {\n",
    "        std::cout << \"Epoch: \" << epoch << \" | Batch: \" << batch_index\n",
    "                  << \" | Loss: \" << loss.item<float>() << std::endl;\n",
    "        // Serialize your model periodically as a checkpoint.\n",
    "        //torch::save(net, \"net.pt\");\n",
    "        }\n",
    "    }\n",
    "    \n",
    "    y.push_back(train_loss.sum().item<double>());\n",
    "\n",
    "    for (auto& batch : *test_data_loader) {\n",
    "        // Execute the model on the input data.\n",
    "        torch::Tensor prediction = net->forward(batch.data);\n",
    "        // Compute a loss value to judge the prediction of our model.\n",
    "        torch::Tensor loss = torch::nll_loss(prediction, batch.target);\n",
    "        test_loss += loss;\n",
    "    }    \n",
    "    \n",
    "    y_hat.push_back(test_loss.sum().item<double>());\n",
    "\n",
    "}"
   ]
  },
  {
   "cell_type": "code",
   "execution_count": 8,
   "id": "geographic-discussion",
   "metadata": {},
   "outputs": [],
   "source": [
    "plt::semilogy(x, y, \"b\");\n",
    "plt::semilogy(x, y_hat, \"r\");\n",
    "\n",
    "plt::title(\"loss(r:test  b:train)\");\n",
    "plt::legend();\n",
    "plt::save(\"./loss_3.png\"); \n",
    "plt::show();"
   ]
  },
  {
   "cell_type": "code",
   "execution_count": 10,
   "id": "welsh-signature",
   "metadata": {},
   "outputs": [
    {
     "data": {
      "image/png": "[encoded data removed]"
     },
     "execution_count": 10,
     "metadata": {},
     "output_type": "execute_result"
    }
   ],
   "source": [
    "auto img2 = im::image(\"./loss_3.png\");\n",
    "img2"
   ]
  },
  {
   "cell_type": "code",
   "execution_count": null,
   "id": "false-kelly",
   "metadata": {},
   "outputs": [],
   "source": []
  }
 ],
 "metadata": {
  "kernelspec": {
   "display_name": "C++17",
   "language": "C++17",
   "name": "xcpp17"
  },
  "language_info": {
   "codemirror_mode": "text/x-c++src",
   "file_extension": ".cpp",
   "mimetype": "text/x-c++src",
   "name": "c++",
   "version": "17"
  }
 },
 "nbformat": 4,
 "nbformat_minor": 5
}
