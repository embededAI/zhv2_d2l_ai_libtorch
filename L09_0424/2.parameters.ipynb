{
 "cells": [
  {
   "cell_type": "code",
   "execution_count": null,
   "id": "surface-citation",
   "metadata": {},
   "outputs": [],
   "source": [
    "#include <iostream>\n",
    "\n",
    "/*a workaround to solve cling issue*/\n",
    "#include \"../inc/macos_cling_workaround.hpp\"\n",
    "/*set libtorch path, load libs*/\n",
    "#include \"../inc/load_libtorch.hpp\"\n",
    "/*import custom defined macros*/\n",
    "#include \"../inc/custom_def.hpp\"\n",
    "/*import matplotlibcpp*/\n",
    "#include \"../inc/load_matplotlibcpp.hpp\"\n",
    "/*import opencv*/\n",
    "#include \"../inc/load_opencv.hpp\"\n",
    "\n",
    "/*import libtorch header file*/\n",
    "#include <torch/torch.h>\n",
    "#include <opencv2/opencv.hpp>\n",
    "#include <cmath>\n",
    "\n",
    "// Use (void) to silent unused warnings.\n",
    "#define assertm(exp, msg) assert(((void)msg, exp))"
   ]
  },
  {
   "cell_type": "code",
   "execution_count": null,
   "id": "apart-culture",
   "metadata": {},
   "outputs": [],
   "source": [
    "#define VAR_NAME(Variable) (#Variable)\n",
    "\n",
    "void print_tensor_size(std::string name, torch::Tensor t)\n",
    "{\n",
    "    int dims = t.dim();\n",
    "    std::cout << name << \" dims is (\";\n",
    "    for (int i = 0; i < dims; i++) {\n",
    "        std::cout << t.size(i);\n",
    "        if (i < (dims - 1)) std::cout << \" x \";\n",
    "    }\n",
    "    std::cout << \")\" << std::endl;\n",
    "}"
   ]
  },
  {
   "cell_type": "markdown",
   "id": "indie-variation",
   "metadata": {},
   "source": [
    "# 参数管理\n",
    "\n",
    "我们首先关注具有单隐藏层的多层感知机"
   ]
  },
  {
   "cell_type": "code",
   "execution_count": null,
   "id": "empty-allowance",
   "metadata": {
    "scrolled": true
   },
   "outputs": [],
   "source": [
    "torch::nn::Sequential net(torch::nn::Linear(4, 8),\n",
    "                          torch::nn::ReLU(),\n",
    "                          torch::nn::Linear(8, 1)\n",
    "                         );\n",
    "\n",
    "\n",
    "auto X = torch::rand({2, 4});\n",
    "printT(X);\n",
    "\n",
    "printT(net->forward(X));"
   ]
  },
  {
   "cell_type": "markdown",
   "id": "divided-glenn",
   "metadata": {},
   "source": [
    "参数访问"
   ]
  },
  {
   "cell_type": "code",
   "execution_count": null,
   "id": "identical-reminder",
   "metadata": {},
   "outputs": [],
   "source": [
    "printT(net[2]->parameters());\n",
    "\n",
    "// or \n",
    "\n",
    "printT(net[2]->name());\n",
    "\n",
    "auto od = net[2]->named_parameters();\n",
    "\n",
    "for(auto iter = od.begin(); iter != od.end(); iter++) {\n",
    "    std::cout << iter->key() << \" = \" << std::endl;\n",
    "    std::cout << iter->value() << std::endl;\n",
    "    std::cout << \"<<<--->>>\" << std::endl << std::endl;\n",
    "}"
   ]
  },
  {
   "cell_type": "markdown",
   "id": "stunning-lesson",
   "metadata": {},
   "source": [
    "目标参数"
   ]
  },
  {
   "cell_type": "code",
   "execution_count": null,
   "id": "latest-extraction",
   "metadata": {},
   "outputs": [],
   "source": [
    "//*** 原教程代码\n",
    "// print(type(net[2].bias))\n",
    "// print(net[2].bias)\n",
    "// print(net[2].bias.data)\n",
    "    \n",
    "auto b = od.find(\"bias\");\n",
    "if(b != nullptr) {\n",
    "    printT(b->options());\n",
    "    printT(*b);\n",
    "    printT(b->data());\n",
    "}"
   ]
  },
  {
   "cell_type": "code",
   "execution_count": null,
   "id": "prescription-grant",
   "metadata": {},
   "outputs": [],
   "source": [
    "auto w = od.find(\"weight\");\n",
    "\n",
    "if(w != nullptr) {\n",
    "    printT(w->options());\n",
    "    printT(w->grad());\n",
    "}"
   ]
  },
  {
   "cell_type": "markdown",
   "id": "acoustic-protein",
   "metadata": {},
   "source": [
    "一次性访问所有参数(同上)"
   ]
  },
  {
   "cell_type": "code",
   "execution_count": null,
   "id": "twelve-tomato",
   "metadata": {},
   "outputs": [],
   "source": [
    "auto od1 = net->named_parameters();\n",
    "\n",
    "for(auto iter = od1.begin(); iter != od1.end(); iter++) {\n",
    "    std::cout << iter->key() << \" = \" << std::endl;\n",
    "    std::cout << iter->value() << std::endl;\n",
    "    std::cout << \"<<<--->>>\" << std::endl << std::endl;\n",
    "}"
   ]
  },
  {
   "cell_type": "code",
   "execution_count": null,
   "id": "danish-mason",
   "metadata": {},
   "outputs": [],
   "source": [
    "printT(od1[\"2.bias\"]);"
   ]
  },
  {
   "cell_type": "markdown",
   "id": "roman-annotation",
   "metadata": {},
   "source": [
    "从嵌套块收集参数"
   ]
  },
  {
   "cell_type": "code",
   "execution_count": null,
   "id": "dynamic-floor",
   "metadata": {},
   "outputs": [],
   "source": [
    "/*design a net*/\n",
    "struct block1 : torch::nn::Module {\n",
    "    block1() {\n",
    "        net = torch::nn::Sequential(torch::nn::Linear(4, 8),\n",
    "                                    torch::nn::ReLU(),\n",
    "                                    torch::nn::Linear(8, 4),\n",
    "                                    torch::nn::ReLU());\n",
    "    }\n",
    "\n",
    "    // Implement the Net's algorithm.\n",
    "    torch::Tensor forward(torch::Tensor x) {\n",
    "        x = net->forward(x);\n",
    "        return x;\n",
    "    }\n",
    "\n",
    "    // Use one of many \"standard library\" modules.\n",
    "    torch::nn::Sequential net{nullptr};\n",
    "};"
   ]
  },
  {
   "cell_type": "code",
   "execution_count": null,
   "id": "medical-access",
   "metadata": {},
   "outputs": [],
   "source": [
    "struct block2 : torch::nn::Module {\n",
    "    block2() {\n",
    "        net = torch::nn::Sequential(block1(),\n",
    "                                    block1(),\n",
    "                                    block1(),\n",
    "                                    block1()\n",
    "                                   );\n",
    "    }\n",
    "\n",
    "    // Implement the Net's algorithm.\n",
    "    torch::Tensor forward(torch::Tensor x) {\n",
    "        x = net->forward(x);\n",
    "        return x;\n",
    "    }\n",
    "\n",
    "    // Use one of many \"standard library\" modules.\n",
    "    torch::nn::Sequential net{nullptr};\n",
    "};"
   ]
  },
  {
   "cell_type": "code",
   "execution_count": null,
   "id": "regular-success",
   "metadata": {},
   "outputs": [],
   "source": [
    "torch::nn::Sequential rgnet(block2(), torch::nn::Linear(4, 1));\n",
    "printT(rgnet->forward(X));"
   ]
  },
  {
   "cell_type": "code",
   "execution_count": null,
   "id": "functional-wrestling",
   "metadata": {},
   "outputs": [],
   "source": [
    "std::cout << rgnet << std::endl;"
   ]
  },
  {
   "cell_type": "code",
   "execution_count": null,
   "id": "medieval-needle",
   "metadata": {},
   "outputs": [],
   "source": [
    "for (int i = 0; i < rgnet->size(); i++) {\n",
    "   printT(rgnet[i]->name()); \n",
    "}"
   ]
  },
  {
   "cell_type": "markdown",
   "id": "trained-tourist",
   "metadata": {},
   "source": [
    "对某些块应用不同的初始化方法"
   ]
  },
  {
   "cell_type": "code",
   "execution_count": null,
   "id": "tropical-theme",
   "metadata": {},
   "outputs": [],
   "source": [
    "void xavier(torch::nn::Module& m)\n",
    "{\n",
    "    if (typeid(m) == typeid(torch::nn::Linear)) {\n",
    "        auto p = m.named_parameters(false);\n",
    "        auto w = p.find(\"weight\");\n",
    "        if (w != nullptr) torch::nn::init::xavier_uniform_(*w);\n",
    "    }\n",
    "}"
   ]
  },
  {
   "cell_type": "code",
   "execution_count": null,
   "id": "following-sherman",
   "metadata": {},
   "outputs": [],
   "source": [
    "void init_42(torch::nn::Module& m)\n",
    "{\n",
    "    if (typeid(m) == typeid(torch::nn::Linear)) {\n",
    "        auto p = m.named_parameters(false);\n",
    "        auto b = p.find(\"bias\");        \n",
    "        if (b != nullptr) torch::nn::init::constant_(*b, 42);\n",
    "    }\n",
    "}     "
   ]
  },
  {
   "cell_type": "code",
   "execution_count": null,
   "id": "exact-couple",
   "metadata": {},
   "outputs": [],
   "source": [
    "net[0]->apply(xavier);\n",
    "net[2]->apply(init_42);"
   ]
  },
  {
   "cell_type": "code",
   "execution_count": null,
   "id": "variable-personality",
   "metadata": {},
   "outputs": [],
   "source": [
    "auto od3 = net[0]->named_parameters();\n",
    "auto od4 = net[2]->named_parameters();\n",
    "\n",
    "printT(od3[\"weight\"]);\n",
    "printT(od4[\"bias\"]);\n"
   ]
  },
  {
   "cell_type": "markdown",
   "id": "gentle-dialogue",
   "metadata": {},
   "source": [
    "自定义初始化"
   ]
  },
  {
   "cell_type": "code",
   "execution_count": null,
   "id": "disciplinary-prescription",
   "metadata": {},
   "outputs": [],
   "source": [
    "void my_init(torch::nn::Module& m)\n",
    "{\n",
    "    if (typeid(m) == typeid(torch::nn::Linear)) {\n",
    "        auto p = m.named_parameters(false);\n",
    "        auto w = p.find(\"weight\");\n",
    "        if (w != nullptr) torch::nn::init::uniform_(*w, -10, 10);\n",
    "        auto temp = w->data().abs() >= 5;\n",
    "        temp.to(torch::kFloat);\n",
    "        w->data().mm(temp);\n",
    "    }\n",
    "}     "
   ]
  },
  {
   "cell_type": "code",
   "execution_count": null,
   "id": "turkish-davis",
   "metadata": {},
   "outputs": [],
   "source": [
    "// net[0].weight.data[:] += 1\n",
    "// net[0].weight.data[0, 0] = 42\n",
    "// net[0].weight.data[0]\n",
    "\n",
    "auto od5 = net[0]->named_parameters();\n",
    "auto w = od5.find(\"weight\");\n",
    "if (w != nullptr) {\n",
    "    w->data() += 1;\n",
    "    w->data()[0][0] = 42;\n",
    "    printT(*w);\n",
    "}"
   ]
  },
  {
   "cell_type": "markdown",
   "id": "palestinian-knight",
   "metadata": {},
   "source": [
    "参数绑定"
   ]
  },
  {
   "cell_type": "code",
   "execution_count": null,
   "id": "confirmed-spanking",
   "metadata": {},
   "outputs": [],
   "source": [
    "auto shared = torch::nn::Linear(8, 8);\n",
    "torch::nn::Sequential net2(torch::nn::Linear(4, 8), \n",
    "                           torch::nn::ReLU(), \n",
    "                           shared, \n",
    "                           torch::nn::ReLU(), \n",
    "                           shared,\n",
    "                           torch::nn::ReLU(), \n",
    "                           torch::nn::Linear(8, 1)\n",
    "                          );\n",
    "net2->forward(X);"
   ]
  },
  {
   "cell_type": "code",
   "execution_count": null,
   "id": "identical-waterproof",
   "metadata": {},
   "outputs": [],
   "source": [
    "// print(net[2].weight.data[0] == net[4].weight.data[0])\n",
    "// net[2].weight.data[0, 0] = 100\n",
    "// print(net[2].weight.data[0] == net[4].weight.data[0])\n",
    "\n",
    "auto od6 = net2[2]->named_parameters();\n",
    "auto od7 = net2[4]->named_parameters();\n",
    "auto w1 = od6.find(\"weight\");\n",
    "auto w2 = od7.find(\"weight\");\n",
    "\n",
    "if (w1->data().equal(w2->data())) {\n",
    "    std::cout << \"net[2].weight.data[0] == net[4].weight.data[0]\" << std::endl;\n",
    "}\n",
    "\n",
    "w1->data()[0][0] = 100;\n",
    "\n",
    "if (w1->data().equal(w2->data())) {\n",
    "    std::cout << \"net[2].weight.data[0] == net[4].weight.data[0]\" << std::endl;\n",
    "}"
   ]
  },
  {
   "cell_type": "code",
   "execution_count": null,
   "id": "continent-annual",
   "metadata": {},
   "outputs": [],
   "source": []
  }
 ],
 "metadata": {
  "kernelspec": {
   "display_name": "C++17",
   "language": "C++17",
   "name": "xcpp17"
  },
  "language_info": {
   "codemirror_mode": "text/x-c++src",
   "file_extension": ".cpp",
   "mimetype": "text/x-c++src",
   "name": "c++",
   "version": "17"
  }
 },
 "nbformat": 4,
 "nbformat_minor": 5
}
