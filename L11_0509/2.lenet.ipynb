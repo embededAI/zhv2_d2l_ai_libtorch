{
 "cells": [
  {
   "cell_type": "code",
   "execution_count": 1,
   "id": "surface-citation",
   "metadata": {},
   "outputs": [],
   "source": [
    "#include <iostream>\n",
    "\n",
    "/*a workaround to solve cling issue*/\n",
    "#include \"../inc/macos_cling_workaround.hpp\"\n",
    "/*set libtorch path, load libs*/\n",
    "#include \"../inc/load_libtorch.hpp\"\n",
    "/*import custom defined macros*/\n",
    "#include \"../inc/custom_def.hpp\"\n",
    "/*import matplotlibcpp*/\n",
    "#include \"../inc/load_matplotlibcpp.hpp\"\n",
    "/*import opencv*/\n",
    "#include \"../inc/load_opencv.hpp\"\n",
    "\n",
    "/*import libtorch header file*/\n",
    "#include <torch/torch.h>\n",
    "#include <opencv2/opencv.hpp>\n",
    "#include <cmath>\n",
    "\n",
    "// Use (void) to silent unused warnings.\n",
    "#define assertm(exp, msg) assert(((void)msg, exp))"
   ]
  },
  {
   "cell_type": "code",
   "execution_count": 2,
   "id": "apart-culture",
   "metadata": {},
   "outputs": [],
   "source": [
    "#define VAR_NAME(Variable) (#Variable)\n",
    "\n",
    "void print_tensor_size(std::string name, torch::Tensor t)\n",
    "{\n",
    "    int dims = t.dim();\n",
    "    std::cout << name << \" dims is (\";\n",
    "    for (int i = 0; i < dims; i++) {\n",
    "        std::cout << t.size(i);\n",
    "        if (i < (dims - 1)) std::cout << \" x \";\n",
    "    }\n",
    "    std::cout << \")\" << std::endl;\n",
    "}"
   ]
  },
  {
   "cell_type": "markdown",
   "id": "offensive-rochester",
   "metadata": {},
   "source": [
    "# 卷积神经网络（LeNet）"
   ]
  },
  {
   "cell_type": "markdown",
   "id": "improving-comment",
   "metadata": {},
   "source": [
    "**LeNet（LeNet-5）由两个部分组成： 卷积编码器和全连接层密集块**"
   ]
  },
  {
   "cell_type": "code",
   "execution_count": 3,
   "id": "after-chorus",
   "metadata": {},
   "outputs": [],
   "source": [
    "// class Reshape(torch.nn.Module):\n",
    "//     def forward(self, x):\n",
    "//         return x.view(-1, 1, 28, 28)\n",
    "\n",
    "// net = torch.nn.Sequential(Reshape(), nn.Conv2d(1, 6, kernel_size=5,\n",
    "//                                                padding=2), nn.Sigmoid(),\n",
    "//                           nn.AvgPool2d(kernel_size=2, stride=2),\n",
    "//                           nn.Conv2d(6, 16, kernel_size=5), nn.Sigmoid(),\n",
    "//                           nn.AvgPool2d(kernel_size=2, stride=2), nn.Flatten(),\n",
    "//                           nn.Linear(16 * 5 * 5, 120), nn.Sigmoid(),\n",
    "//                           nn.Linear(120, 84), nn.Sigmoid(), nn.Linear(84, 10))"
   ]
  },
  {
   "cell_type": "code",
   "execution_count": 4,
   "id": "narrow-wallace",
   "metadata": {},
   "outputs": [],
   "source": [
    "struct Reshape : torch::nn::Module {\n",
    "  torch::Tensor forward(torch::Tensor X) {\n",
    "    return X.view({-1, 1, 28, 28});\n",
    "  }\n",
    "};"
   ]
  },
  {
   "cell_type": "code",
   "execution_count": 5,
   "id": "hazardous-diagnosis",
   "metadata": {},
   "outputs": [],
   "source": [
    "torch::nn::Sequential net(Reshape(),\n",
    "                          torch::nn::Conv2d(torch::nn::Conv2dOptions(1, 6, 5).padding(2).bias(false)),\n",
    "                          torch::nn::Sigmoid(),\n",
    "                          torch::nn::AvgPool2d(torch::nn::AvgPool2dOptions(2).stride(2)),\n",
    "                          torch::nn::Conv2d(torch::nn::Conv2dOptions(6, 16, 5).bias(false)),\n",
    "                          torch::nn::Sigmoid(),\n",
    "                          torch::nn::AvgPool2d(torch::nn::AvgPool2dOptions(2).stride(2)),\n",
    "                          torch::nn::Flatten(),\n",
    "                          torch::nn::Linear(16 * 5 * 5, 120),\n",
    "                          torch::nn::Sigmoid(),\n",
    "                          torch::nn::Linear(120, 84),\n",
    "                          torch::nn::Sigmoid(),\n",
    "                          torch::nn::Linear(84, 10)\n",
    "                         );"
   ]
  },
  {
   "cell_type": "markdown",
   "id": "according-yacht",
   "metadata": {},
   "source": [
    "**检查模型**"
   ]
  },
  {
   "cell_type": "code",
   "execution_count": 6,
   "id": "sexual-writing",
   "metadata": {},
   "outputs": [],
   "source": [
    "// X = torch.rand(size=(1, 1, 28, 28), dtype=torch.float32)\n",
    "// for layer in net:\n",
    "//     X = layer(X)\n",
    "//     print(layer.__class__.__name__, 'output shape: \\t', X.shape)"
   ]
  },
  {
   "cell_type": "code",
   "execution_count": 7,
   "id": "backed-bowling",
   "metadata": {},
   "outputs": [
    {
     "name": "stdout",
     "output_type": "stream",
     "text": [
      "__cling_N53::Reshape\n",
      "output shape: \t[1, 1, 28, 28]\n",
      "torch::nn::Conv2dImpl\n",
      "output shape: \t[1, 6, 28, 28]\n",
      "torch::nn::SigmoidImpl\n",
      "output shape: \t[1, 6, 28, 28]\n",
      "torch::nn::AvgPool2dImpl\n",
      "output shape: \t[1, 6, 14, 14]\n",
      "torch::nn::Conv2dImpl\n",
      "output shape: \t[1, 16, 10, 10]\n",
      "torch::nn::SigmoidImpl\n",
      "output shape: \t[1, 16, 10, 10]\n",
      "torch::nn::AvgPool2dImpl\n",
      "output shape: \t[1, 16, 5, 5]\n",
      "torch::nn::FlattenImpl\n",
      "output shape: \t[1, 400]\n",
      "torch::nn::LinearImpl\n",
      "output shape: \t[1, 120]\n",
      "torch::nn::SigmoidImpl\n",
      "output shape: \t[1, 120]\n",
      "torch::nn::LinearImpl\n",
      "output shape: \t[1, 84]\n",
      "torch::nn::SigmoidImpl\n",
      "output shape: \t[1, 84]\n",
      "torch::nn::LinearImpl\n",
      "output shape: \t[1, 10]\n"
     ]
    }
   ],
   "source": [
    "auto X = torch::rand({1, 1, 28, 28}, torch::kFloat);\n",
    "\n",
    "auto& model_ref = *net; \n",
    "\n",
    "for (auto module : model_ref)\n",
    "{\n",
    "    std::cout << module.ptr()->name() << std::endl;\n",
    "    X = module.forward(X);\n",
    "    std::cout << \"output shape: \\t\" << X.sizes() << std::endl;\n",
    "//     std::cout << module.ptr()->parameters() << std::endl;\n",
    "}"
   ]
  },
  {
   "cell_type": "markdown",
   "id": "loose-greeting",
   "metadata": {},
   "source": [
    "**LeNet在Fashion-MNIST数据集上的表现**"
   ]
  },
  {
   "cell_type": "code",
   "execution_count": null,
   "id": "spread-notification",
   "metadata": {},
   "outputs": [],
   "source": []
  }
 ],
 "metadata": {
  "kernelspec": {
   "display_name": "C++17",
   "language": "C++17",
   "name": "xcpp17"
  },
  "language_info": {
   "codemirror_mode": "text/x-c++src",
   "file_extension": ".cpp",
   "mimetype": "text/x-c++src",
   "name": "c++",
   "version": "17"
  }
 },
 "nbformat": 4,
 "nbformat_minor": 5
}
